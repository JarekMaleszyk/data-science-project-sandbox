{
  "nbformat": 4,
  "nbformat_minor": 0,
  "metadata": {
    "colab": {
      "provenance": [],
      "authorship_tag": "ABX9TyOh71D/WYoUzzkFoC6Oc7en",
      "include_colab_link": true
    },
    "kernelspec": {
      "name": "python3",
      "display_name": "Python 3"
    },
    "language_info": {
      "name": "python"
    }
  },
  "cells": [
    {
      "cell_type": "markdown",
      "metadata": {
        "id": "view-in-github",
        "colab_type": "text"
      },
      "source": [
        "<a href=\"https://colab.research.google.com/github/JarekMaleszyk/data-science-project-sandbox/blob/main/apache_spark_lrex.ipynb\" target=\"_parent\"><img src=\"https://colab.research.google.com/assets/colab-badge.svg\" alt=\"Open In Colab\"/></a>"
      ]
    },
    {
      "cell_type": "code",
      "execution_count": 1,
      "metadata": {
        "id": "VYd9aXg-BARc"
      },
      "outputs": [],
      "source": [
        "try:\n",
        "  import pyspark\n",
        "except:\n",
        "  !pip install pyspark -q\n",
        "  import pyspark\n",
        "finally:\n",
        "  from pyspark.sql import SparkSession"
      ]
    },
    {
      "cell_type": "code",
      "source": [
        "sparkSession = SparkSession.builder.appName(\"lrex\").getOrCreate()"
      ],
      "metadata": {
        "id": "3_spVL7IPbNa"
      },
      "execution_count": 2,
      "outputs": []
    },
    {
      "cell_type": "code",
      "source": [
        "import os.path\n",
        "FILE_PATH1 = \"/content/csvdata1/Ecommerce_Customers.csv\"\n",
        "\n",
        "if not os.path.isfile(FILE_PATH1):\n",
        "  !rm -rf /content/csvdata1\n",
        "  !wget -P \"/content/csvdata1/\" \"https://raw.githubusercontent.com/JarekMaleszyk/data-science-project-sandbox/refs/heads/main/Ecommerce_Customers.csv\""
      ],
      "metadata": {
        "id": "lNkiEDzlXqwC",
        "colab": {
          "base_uri": "https://localhost:8080/"
        },
        "outputId": "6040ecad-6026-4911-9240-67d99559643d"
      },
      "execution_count": 3,
      "outputs": [
        {
          "output_type": "stream",
          "name": "stdout",
          "text": [
            "--2024-11-04 11:01:46--  https://raw.githubusercontent.com/JarekMaleszyk/data-science-project-sandbox/refs/heads/main/Ecommerce_Customers.csv\n",
            "Resolving raw.githubusercontent.com (raw.githubusercontent.com)... 185.199.108.133, 185.199.109.133, 185.199.110.133, ...\n",
            "Connecting to raw.githubusercontent.com (raw.githubusercontent.com)|185.199.108.133|:443... connected.\n",
            "HTTP request sent, awaiting response... 200 OK\n",
            "Length: 86871 (85K) [text/plain]\n",
            "Saving to: ‘/content/csvdata1/Ecommerce_Customers.csv’\n",
            "\n",
            "Ecommerce_Customers 100%[===================>]  84.83K  --.-KB/s    in 0.02s   \n",
            "\n",
            "2024-11-04 11:01:46 (3.32 MB/s) - ‘/content/csvdata1/Ecommerce_Customers.csv’ saved [86871/86871]\n",
            "\n"
          ]
        }
      ]
    },
    {
      "cell_type": "code",
      "source": [
        "from pyspark.ml.regression import LinearRegression"
      ],
      "metadata": {
        "id": "2ktqDgnpPfzU"
      },
      "execution_count": 4,
      "outputs": []
    },
    {
      "cell_type": "code",
      "source": [
        "data = sparkSession.read.csv(FILE_PATH1, sep=\",\", header=True, inferSchema=True)"
      ],
      "metadata": {
        "id": "T4BEJbPjPf8B"
      },
      "execution_count": 5,
      "outputs": []
    },
    {
      "cell_type": "code",
      "source": [
        "data.printSchema()"
      ],
      "metadata": {
        "id": "aGsWc3cSPf-N",
        "colab": {
          "base_uri": "https://localhost:8080/"
        },
        "outputId": "ce3ec7e3-4921-482f-902a-3236aff0bf13"
      },
      "execution_count": 6,
      "outputs": [
        {
          "output_type": "stream",
          "name": "stdout",
          "text": [
            "root\n",
            " |-- Email: string (nullable = true)\n",
            " |-- Address: string (nullable = true)\n",
            " |-- Avatar: string (nullable = true)\n",
            " |-- Avg Session Length: double (nullable = true)\n",
            " |-- Time on App: double (nullable = true)\n",
            " |-- Time on Website: double (nullable = true)\n",
            " |-- Length of Membership: double (nullable = true)\n",
            " |-- Yearly Amount Spent: double (nullable = true)\n",
            "\n"
          ]
        }
      ]
    },
    {
      "cell_type": "code",
      "source": [
        "from pyspark.ml.linalg import Vectors\n",
        "from pyspark.ml.feature import VectorAssembler"
      ],
      "metadata": {
        "id": "f_VtiiI4PgCt"
      },
      "execution_count": 7,
      "outputs": []
    },
    {
      "cell_type": "code",
      "source": [
        "assembler = VectorAssembler(\n",
        "    inputCols=['Avg Session Length',\n",
        "               'Time on App',\n",
        "               'Time on Website',\n",
        "               'Length of Membership'],\n",
        "    outputCol=\"features\"\n",
        ")"
      ],
      "metadata": {
        "id": "Lhqfk8-tBX9_"
      },
      "execution_count": 8,
      "outputs": []
    },
    {
      "cell_type": "code",
      "source": [
        "output = assembler.transform(data)"
      ],
      "metadata": {
        "id": "c-kOqWx5BYAv"
      },
      "execution_count": 9,
      "outputs": []
    },
    {
      "cell_type": "code",
      "source": [
        "output.printSchema()"
      ],
      "metadata": {
        "colab": {
          "base_uri": "https://localhost:8080/"
        },
        "id": "PA5x4IBkBYGA",
        "outputId": "52ecd1ac-1d31-44e6-eb26-2315571a75ab"
      },
      "execution_count": 10,
      "outputs": [
        {
          "output_type": "stream",
          "name": "stdout",
          "text": [
            "root\n",
            " |-- Email: string (nullable = true)\n",
            " |-- Address: string (nullable = true)\n",
            " |-- Avatar: string (nullable = true)\n",
            " |-- Avg Session Length: double (nullable = true)\n",
            " |-- Time on App: double (nullable = true)\n",
            " |-- Time on Website: double (nullable = true)\n",
            " |-- Length of Membership: double (nullable = true)\n",
            " |-- Yearly Amount Spent: double (nullable = true)\n",
            " |-- features: vector (nullable = true)\n",
            "\n"
          ]
        }
      ]
    },
    {
      "cell_type": "code",
      "source": [
        "output.show(1)"
      ],
      "metadata": {
        "colab": {
          "base_uri": "https://localhost:8080/"
        },
        "id": "RJvfVJutBYId",
        "outputId": "4afc515a-e658-47b6-de57-d73e0b5cac58"
      },
      "execution_count": 11,
      "outputs": [
        {
          "output_type": "stream",
          "name": "stdout",
          "text": [
            "+--------------------+--------------------+------+------------------+-----------------+-----------------+--------------------+-------------------+--------------------+\n",
            "|               Email|             Address|Avatar|Avg Session Length|      Time on App|  Time on Website|Length of Membership|Yearly Amount Spent|            features|\n",
            "+--------------------+--------------------+------+------------------+-----------------+-----------------+--------------------+-------------------+--------------------+\n",
            "|mstephenson@ferna...|835 Frank TunnelW...|Violet| 34.49726772511229|12.65565114916675|39.57766801952616|  4.0826206329529615|  587.9510539684005|[34.4972677251122...|\n",
            "+--------------------+--------------------+------+------------------+-----------------+-----------------+--------------------+-------------------+--------------------+\n",
            "only showing top 1 row\n",
            "\n"
          ]
        }
      ]
    },
    {
      "cell_type": "code",
      "source": [
        "final_data = output.select(\"features\", \"Yearly Amount Spent\")"
      ],
      "metadata": {
        "id": "i95jBkq7BYLA"
      },
      "execution_count": 12,
      "outputs": []
    },
    {
      "cell_type": "code",
      "source": [
        "train_data, test_data = final_data.randomSplit([0.7, 0.3])"
      ],
      "metadata": {
        "id": "0M2LYlLtBYNv"
      },
      "execution_count": 13,
      "outputs": []
    },
    {
      "cell_type": "code",
      "source": [
        "lr = LinearRegression(labelCol=\"Yearly Amount Spent\")"
      ],
      "metadata": {
        "id": "jrV0MaMRBYQL"
      },
      "execution_count": 14,
      "outputs": []
    },
    {
      "cell_type": "code",
      "source": [
        "lr_model = lr.fit(train_data)"
      ],
      "metadata": {
        "id": "iYqT-pvqBYVe"
      },
      "execution_count": 15,
      "outputs": []
    },
    {
      "cell_type": "code",
      "source": [
        "test_result = lr_model.evaluate(test_data)"
      ],
      "metadata": {
        "id": "HibkrzeeBYXn"
      },
      "execution_count": 16,
      "outputs": []
    },
    {
      "cell_type": "code",
      "source": [
        "test_result.residuals.show()"
      ],
      "metadata": {
        "colab": {
          "base_uri": "https://localhost:8080/"
        },
        "id": "NL8pmSD0M9KM",
        "outputId": "6760df86-4dc2-47ac-c78c-e9d31b6c7e84"
      },
      "execution_count": 17,
      "outputs": [
        {
          "output_type": "stream",
          "name": "stdout",
          "text": [
            "+--------------------+\n",
            "|           residuals|\n",
            "+--------------------+\n",
            "|   9.522088035573233|\n",
            "|-0.44017872444698014|\n",
            "| -7.9902137857459365|\n",
            "| -1.1945799854214556|\n",
            "|   3.338698344073805|\n",
            "| -6.8340439912199145|\n",
            "|  -9.960096291199932|\n",
            "| -17.747140088436026|\n",
            "| -14.577422485223678|\n",
            "|   6.001196613443142|\n",
            "| -1.1152558259062744|\n",
            "| -1.9832262223521298|\n",
            "|  -17.90060555423844|\n",
            "|  0.7178587774976677|\n",
            "|   8.375464074109061|\n",
            "| -10.601064533619478|\n",
            "|  -9.476178644060553|\n",
            "| -17.476975234261147|\n",
            "|  -5.979095278624186|\n",
            "|   7.825250904926065|\n",
            "+--------------------+\n",
            "only showing top 20 rows\n",
            "\n"
          ]
        }
      ]
    },
    {
      "cell_type": "code",
      "source": [
        "test_result.rootMeanSquaredError"
      ],
      "metadata": {
        "colab": {
          "base_uri": "https://localhost:8080/"
        },
        "id": "WTPsWN30M9NW",
        "outputId": "465eb461-5415-4c72-ce9b-a6b70b793d0d"
      },
      "execution_count": 18,
      "outputs": [
        {
          "output_type": "execute_result",
          "data": {
            "text/plain": [
              "9.910401194790387"
            ]
          },
          "metadata": {},
          "execution_count": 18
        }
      ]
    },
    {
      "cell_type": "code",
      "source": [
        "test_result.r2"
      ],
      "metadata": {
        "colab": {
          "base_uri": "https://localhost:8080/"
        },
        "id": "lSqyQn4iM9QL",
        "outputId": "b062045f-8e31-495e-8aaa-2ef832222d0c"
      },
      "execution_count": 19,
      "outputs": [
        {
          "output_type": "execute_result",
          "data": {
            "text/plain": [
              "0.9812751993030568"
            ]
          },
          "metadata": {},
          "execution_count": 19
        }
      ]
    },
    {
      "cell_type": "code",
      "source": [
        "import os.path\n",
        "FILE_PATH2 = \"/content/csvdata2/cruise_ship_info.csv\"\n",
        "\n",
        "if not os.path.isfile(FILE_PATH2):\n",
        "  !rm -rf /content/csvdata2\n",
        "  !wget -P \"/content/csvdata2/\" \"https://raw.githubusercontent.com/LeondraJames/Hyundai-Cruise-Ship-Crew-Prediction/refs/heads/master/cruise_ship_info.csv\""
      ],
      "metadata": {
        "id": "dLQu2tsBM9SR",
        "colab": {
          "base_uri": "https://localhost:8080/"
        },
        "outputId": "4fae13c2-78de-4c89-f979-92d424dd44c9"
      },
      "execution_count": 20,
      "outputs": [
        {
          "output_type": "stream",
          "name": "stdout",
          "text": [
            "--2024-11-04 11:02:10--  https://raw.githubusercontent.com/LeondraJames/Hyundai-Cruise-Ship-Crew-Prediction/refs/heads/master/cruise_ship_info.csv\n",
            "Resolving raw.githubusercontent.com (raw.githubusercontent.com)... 185.199.109.133, 185.199.111.133, 185.199.110.133, ...\n",
            "Connecting to raw.githubusercontent.com (raw.githubusercontent.com)|185.199.109.133|:443... connected.\n",
            "HTTP request sent, awaiting response... 200 OK\n",
            "Length: 8734 (8.5K) [text/plain]\n",
            "Saving to: ‘/content/csvdata2/cruise_ship_info.csv’\n",
            "\n",
            "\rcruise_ship_info.cs   0%[                    ]       0  --.-KB/s               \rcruise_ship_info.cs 100%[===================>]   8.53K  --.-KB/s    in 0s      \n",
            "\n",
            "2024-11-04 11:02:10 (41.9 MB/s) - ‘/content/csvdata2/cruise_ship_info.csv’ saved [8734/8734]\n",
            "\n"
          ]
        }
      ]
    },
    {
      "cell_type": "code",
      "source": [
        "cruise_ship_data = sparkSession.read.csv(FILE_PATH2, sep=\",\", header=True, inferSchema=True)"
      ],
      "metadata": {
        "id": "rjV0P1FgPgE1"
      },
      "execution_count": 21,
      "outputs": []
    },
    {
      "cell_type": "code",
      "source": [
        "cruise_ship_data.printSchema()"
      ],
      "metadata": {
        "colab": {
          "base_uri": "https://localhost:8080/"
        },
        "id": "qQRnRfpNSGXD",
        "outputId": "9d416f4f-2a0d-417a-b9b1-042c8fbf602e"
      },
      "execution_count": 22,
      "outputs": [
        {
          "output_type": "stream",
          "name": "stdout",
          "text": [
            "root\n",
            " |-- Ship_name: string (nullable = true)\n",
            " |-- Cruise_line: string (nullable = true)\n",
            " |-- Age: integer (nullable = true)\n",
            " |-- Tonnage: double (nullable = true)\n",
            " |-- passengers: double (nullable = true)\n",
            " |-- length: double (nullable = true)\n",
            " |-- cabins: double (nullable = true)\n",
            " |-- passenger_density: double (nullable = true)\n",
            " |-- crew: double (nullable = true)\n",
            "\n"
          ]
        }
      ]
    },
    {
      "cell_type": "code",
      "source": [
        "cruise_ship_data.groupBy(\"Cruise_line\").count().show()"
      ],
      "metadata": {
        "colab": {
          "base_uri": "https://localhost:8080/"
        },
        "id": "Be_xrMuJSGdU",
        "outputId": "c76af632-10a5-4a67-8ca4-cf451a85b774"
      },
      "execution_count": 23,
      "outputs": [
        {
          "output_type": "stream",
          "name": "stdout",
          "text": [
            "+-----------------+-----+\n",
            "|      Cruise_line|count|\n",
            "+-----------------+-----+\n",
            "|            Costa|   11|\n",
            "|              P&O|    6|\n",
            "|           Cunard|    3|\n",
            "|Regent_Seven_Seas|    5|\n",
            "|              MSC|    8|\n",
            "|         Carnival|   22|\n",
            "|          Crystal|    2|\n",
            "|           Orient|    1|\n",
            "|         Princess|   17|\n",
            "|        Silversea|    4|\n",
            "|         Seabourn|    3|\n",
            "| Holland_American|   14|\n",
            "|         Windstar|    3|\n",
            "|           Disney|    2|\n",
            "|        Norwegian|   13|\n",
            "|          Oceania|    3|\n",
            "|          Azamara|    2|\n",
            "|        Celebrity|   10|\n",
            "|             Star|    6|\n",
            "|  Royal_Caribbean|   23|\n",
            "+-----------------+-----+\n",
            "\n"
          ]
        }
      ]
    },
    {
      "cell_type": "code",
      "source": [
        "from pyspark.ml.feature import StringIndexer"
      ],
      "metadata": {
        "id": "VQW6zWb3SGgJ"
      },
      "execution_count": 24,
      "outputs": []
    },
    {
      "cell_type": "code",
      "source": [
        "indexer = StringIndexer(inputCol=\"Cruise_line\",\n",
        "                        outputCol=\"Cruise_category\")\n",
        "indexed = indexer.fit(cruise_ship_data).transform(cruise_ship_data)\n",
        "indexed.head(3)"
      ],
      "metadata": {
        "colab": {
          "base_uri": "https://localhost:8080/"
        },
        "id": "DJStTAIbSGil",
        "outputId": "d76a62a5-c681-4851-975c-fac88aca8de6"
      },
      "execution_count": 25,
      "outputs": [
        {
          "output_type": "execute_result",
          "data": {
            "text/plain": [
              "[Row(Ship_name='Journey', Cruise_line='Azamara', Age=6, Tonnage=30.276999999999997, passengers=6.94, length=5.94, cabins=3.55, passenger_density=42.64, crew=3.55, Cruise_category=16.0),\n",
              " Row(Ship_name='Quest', Cruise_line='Azamara', Age=6, Tonnage=30.276999999999997, passengers=6.94, length=5.94, cabins=3.55, passenger_density=42.64, crew=3.55, Cruise_category=16.0),\n",
              " Row(Ship_name='Celebration', Cruise_line='Carnival', Age=26, Tonnage=47.262, passengers=14.86, length=7.22, cabins=7.43, passenger_density=31.8, crew=6.7, Cruise_category=1.0)]"
            ]
          },
          "metadata": {},
          "execution_count": 25
        }
      ]
    },
    {
      "cell_type": "code",
      "source": [
        "cruise_assembler = VectorAssembler(inputCols=[ \"Age\",\n",
        "                                               \"Tonnage\",\n",
        "                                               \"passengers\",\n",
        "                                               \"length\",\n",
        "                                               \"cabins\",\n",
        "                                               \"passenger_density\",\n",
        "                                               \"Cruise_category\"],\n",
        "                                   outputCol=\"features\")"
      ],
      "metadata": {
        "id": "5Fnq8IsrSGlF"
      },
      "execution_count": 26,
      "outputs": []
    },
    {
      "cell_type": "code",
      "source": [
        "cruise_output = cruise_assembler.transform(indexed)"
      ],
      "metadata": {
        "id": "s9DEQ4gxe7om"
      },
      "execution_count": 27,
      "outputs": []
    },
    {
      "cell_type": "code",
      "source": [
        "cruise_output.select(\"features\", \"crew\").show()"
      ],
      "metadata": {
        "colab": {
          "base_uri": "https://localhost:8080/"
        },
        "id": "Q6gyUwDbSGng",
        "outputId": "dc1dd3cb-3428-4710-d49d-58f63fc92ea0"
      },
      "execution_count": 28,
      "outputs": [
        {
          "output_type": "stream",
          "name": "stdout",
          "text": [
            "+--------------------+----+\n",
            "|            features|crew|\n",
            "+--------------------+----+\n",
            "|[6.0,30.276999999...|3.55|\n",
            "|[6.0,30.276999999...|3.55|\n",
            "|[26.0,47.262,14.8...| 6.7|\n",
            "|[11.0,110.0,29.74...|19.1|\n",
            "|[17.0,101.353,26....|10.0|\n",
            "|[22.0,70.367,20.5...| 9.2|\n",
            "|[15.0,70.367,20.5...| 9.2|\n",
            "|[23.0,70.367,20.5...| 9.2|\n",
            "|[19.0,70.367,20.5...| 9.2|\n",
            "|[6.0,110.23899999...|11.5|\n",
            "|[10.0,110.0,29.74...|11.6|\n",
            "|[28.0,46.052,14.5...| 6.6|\n",
            "|[18.0,70.367,20.5...| 9.2|\n",
            "|[17.0,70.367,20.5...| 9.2|\n",
            "|[11.0,86.0,21.24,...| 9.3|\n",
            "|[8.0,110.0,29.74,...|11.6|\n",
            "|[9.0,88.5,21.24,9...|10.3|\n",
            "|[15.0,70.367,20.5...| 9.2|\n",
            "|[12.0,88.5,21.24,...| 9.3|\n",
            "|[20.0,70.367,20.5...| 9.2|\n",
            "+--------------------+----+\n",
            "only showing top 20 rows\n",
            "\n"
          ]
        }
      ]
    },
    {
      "cell_type": "code",
      "source": [
        "cruise_final_data = cruise_output.select([\"features\", \"crew\"])\n",
        "cruise_train_data, cruise_test_data = cruise_final_data.randomSplit([0.7, 0.3])"
      ],
      "metadata": {
        "id": "m-GvUwq7SGpm"
      },
      "execution_count": 29,
      "outputs": []
    },
    {
      "cell_type": "code",
      "source": [
        "cruise_lr = LinearRegression(labelCol=\"crew\")\n",
        "cruise_lr_model = cruise_lr.fit(cruise_train_data)"
      ],
      "metadata": {
        "id": "hUByBtfnSGrt"
      },
      "execution_count": 30,
      "outputs": []
    },
    {
      "cell_type": "code",
      "source": [
        "cruise_lr_results = cruise_lr_model.evaluate(cruise_test_data)"
      ],
      "metadata": {
        "id": "y_oOkqXlSGt0"
      },
      "execution_count": 31,
      "outputs": []
    },
    {
      "cell_type": "code",
      "source": [
        "cruise_lr_results.rootMeanSquaredError"
      ],
      "metadata": {
        "colab": {
          "base_uri": "https://localhost:8080/"
        },
        "id": "QbaUEWRBSGwS",
        "outputId": "28439128-cf59-484d-9faa-50a213894f77"
      },
      "execution_count": 32,
      "outputs": [
        {
          "output_type": "execute_result",
          "data": {
            "text/plain": [
              "0.8021584201724185"
            ]
          },
          "metadata": {},
          "execution_count": 32
        }
      ]
    },
    {
      "cell_type": "code",
      "source": [
        "cruise_lr_results.r2"
      ],
      "metadata": {
        "colab": {
          "base_uri": "https://localhost:8080/"
        },
        "id": "gWZmAZR8SGyZ",
        "outputId": "ca436be1-bcd1-4d42-a51f-546c4b76eb46"
      },
      "execution_count": 33,
      "outputs": [
        {
          "output_type": "execute_result",
          "data": {
            "text/plain": [
              "0.9382336303374784"
            ]
          },
          "metadata": {},
          "execution_count": 33
        }
      ]
    },
    {
      "cell_type": "code",
      "source": [
        "cruise_lr_results.meanSquaredError"
      ],
      "metadata": {
        "colab": {
          "base_uri": "https://localhost:8080/"
        },
        "id": "0784Jf4nf8sZ",
        "outputId": "248325a2-e0e9-47bf-c35b-67e9098e29d8"
      },
      "execution_count": 34,
      "outputs": [
        {
          "output_type": "execute_result",
          "data": {
            "text/plain": [
              "0.6434581310535102"
            ]
          },
          "metadata": {},
          "execution_count": 34
        }
      ]
    },
    {
      "cell_type": "code",
      "source": [
        "cruise_lr_results.meanAbsoluteError"
      ],
      "metadata": {
        "colab": {
          "base_uri": "https://localhost:8080/"
        },
        "id": "9A3uFDU2gW7n",
        "outputId": "f50f3a54-d541-415d-c82c-68b94d3ec11a"
      },
      "execution_count": 35,
      "outputs": [
        {
          "output_type": "execute_result",
          "data": {
            "text/plain": [
              "0.6176775745469526"
            ]
          },
          "metadata": {},
          "execution_count": 35
        }
      ]
    },
    {
      "cell_type": "code",
      "source": [
        "from pyspark.sql.functions import corr"
      ],
      "metadata": {
        "id": "WXp5t5UKgZGf"
      },
      "execution_count": 36,
      "outputs": []
    },
    {
      "cell_type": "code",
      "source": [
        "cruise_ship_data.select(corr('crew', 'passengers')).show()"
      ],
      "metadata": {
        "colab": {
          "base_uri": "https://localhost:8080/"
        },
        "id": "wDhq9MX1grlw",
        "outputId": "295e3260-1de3-47b8-8640-f7d643da67ea"
      },
      "execution_count": 37,
      "outputs": [
        {
          "output_type": "stream",
          "name": "stdout",
          "text": [
            "+----------------------+\n",
            "|corr(crew, passengers)|\n",
            "+----------------------+\n",
            "|    0.9152341306065384|\n",
            "+----------------------+\n",
            "\n"
          ]
        }
      ]
    },
    {
      "cell_type": "code",
      "source": [
        "cruise_ship_data.select(corr('crew', 'cabins')).show()"
      ],
      "metadata": {
        "colab": {
          "base_uri": "https://localhost:8080/"
        },
        "id": "AqS6x_FNg-H1",
        "outputId": "469c44b4-1a5e-4984-96dd-a480109df4d0"
      },
      "execution_count": 38,
      "outputs": [
        {
          "output_type": "stream",
          "name": "stdout",
          "text": [
            "+------------------+\n",
            "|corr(crew, cabins)|\n",
            "+------------------+\n",
            "|0.9508226063578497|\n",
            "+------------------+\n",
            "\n"
          ]
        }
      ]
    },
    {
      "cell_type": "code",
      "source": [
        "cruise_ship_data.head(3)"
      ],
      "metadata": {
        "id": "1m-DsPBXhIs8",
        "colab": {
          "base_uri": "https://localhost:8080/"
        },
        "outputId": "0f1e3279-01e0-432d-b2f2-f110671ea259"
      },
      "execution_count": 39,
      "outputs": [
        {
          "output_type": "execute_result",
          "data": {
            "text/plain": [
              "[Row(Ship_name='Journey', Cruise_line='Azamara', Age=6, Tonnage=30.276999999999997, passengers=6.94, length=5.94, cabins=3.55, passenger_density=42.64, crew=3.55),\n",
              " Row(Ship_name='Quest', Cruise_line='Azamara', Age=6, Tonnage=30.276999999999997, passengers=6.94, length=5.94, cabins=3.55, passenger_density=42.64, crew=3.55),\n",
              " Row(Ship_name='Celebration', Cruise_line='Carnival', Age=26, Tonnage=47.262, passengers=14.86, length=7.22, cabins=7.43, passenger_density=31.8, crew=6.7)]"
            ]
          },
          "metadata": {},
          "execution_count": 39
        }
      ]
    }
  ]
}