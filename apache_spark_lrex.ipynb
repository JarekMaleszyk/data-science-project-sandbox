{
  "nbformat": 4,
  "nbformat_minor": 0,
  "metadata": {
    "colab": {
      "provenance": [],
      "authorship_tag": "ABX9TyNRr+SL0n0LSP9MtwyXhR1S",
      "include_colab_link": true
    },
    "kernelspec": {
      "name": "python3",
      "display_name": "Python 3"
    },
    "language_info": {
      "name": "python"
    }
  },
  "cells": [
    {
      "cell_type": "markdown",
      "metadata": {
        "id": "view-in-github",
        "colab_type": "text"
      },
      "source": [
        "<a href=\"https://colab.research.google.com/github/JarekMaleszyk/data-science-project-sandbox/blob/main/apache_spark_lrex.ipynb\" target=\"_parent\"><img src=\"https://colab.research.google.com/assets/colab-badge.svg\" alt=\"Open In Colab\"/></a>"
      ]
    },
    {
      "cell_type": "code",
      "execution_count": 84,
      "metadata": {
        "id": "VYd9aXg-BARc"
      },
      "outputs": [],
      "source": [
        "try:\n",
        "  import pyspark\n",
        "except:\n",
        "  !pip install pyspark -q\n",
        "  import pyspark\n",
        "finally:\n",
        "  from pyspark.sql import SparkSession"
      ]
    },
    {
      "cell_type": "code",
      "source": [
        "sparkSession = SparkSession.builder.appName(\"lrex\").getOrCreate()"
      ],
      "metadata": {
        "id": "3_spVL7IPbNa"
      },
      "execution_count": 85,
      "outputs": []
    },
    {
      "cell_type": "code",
      "source": [
        "import os.path\n",
        "FILE_PATH1 = \"/content/csvdata1/Ecommerce_Customers.csv\"\n",
        "\n",
        "if not os.path.isfile(FILE_PATH1):\n",
        "  !rm -rf /content/csvdata1\n",
        "  !wget -P \"/content/csvdata1/\" \"https://raw.githubusercontent.com/JarekMaleszyk/data-science-project-sandbox/refs/heads/main/Ecommerce_Customers.csv\""
      ],
      "metadata": {
        "id": "lNkiEDzlXqwC"
      },
      "execution_count": 86,
      "outputs": []
    },
    {
      "cell_type": "code",
      "source": [
        "from pyspark.ml.regression import LinearRegression"
      ],
      "metadata": {
        "id": "2ktqDgnpPfzU"
      },
      "execution_count": 87,
      "outputs": []
    },
    {
      "cell_type": "code",
      "source": [
        "data = sparkSession.read.csv(FILE_PATH1, sep=\",\", header=True, inferSchema=True)"
      ],
      "metadata": {
        "id": "T4BEJbPjPf8B"
      },
      "execution_count": 88,
      "outputs": []
    },
    {
      "cell_type": "code",
      "source": [
        "data.printSchema()"
      ],
      "metadata": {
        "id": "aGsWc3cSPf-N",
        "colab": {
          "base_uri": "https://localhost:8080/"
        },
        "outputId": "55105913-a844-44f2-bf44-b164111e4019"
      },
      "execution_count": 89,
      "outputs": [
        {
          "output_type": "stream",
          "name": "stdout",
          "text": [
            "root\n",
            " |-- Email: string (nullable = true)\n",
            " |-- Address: string (nullable = true)\n",
            " |-- Avatar: string (nullable = true)\n",
            " |-- Avg Session Length: double (nullable = true)\n",
            " |-- Time on App: double (nullable = true)\n",
            " |-- Time on Website: double (nullable = true)\n",
            " |-- Length of Membership: double (nullable = true)\n",
            " |-- Yearly Amount Spent: double (nullable = true)\n",
            "\n"
          ]
        }
      ]
    },
    {
      "cell_type": "code",
      "source": [
        "from pyspark.ml.linalg import Vectors\n",
        "from pyspark.ml.feature import VectorAssembler"
      ],
      "metadata": {
        "id": "f_VtiiI4PgCt"
      },
      "execution_count": 90,
      "outputs": []
    },
    {
      "cell_type": "code",
      "source": [
        "assembler = VectorAssembler(\n",
        "    inputCols=['Avg Session Length',\n",
        "               'Time on App',\n",
        "               'Time on Website',\n",
        "               'Length of Membership'],\n",
        "    outputCol=\"features\"\n",
        ")"
      ],
      "metadata": {
        "id": "Lhqfk8-tBX9_"
      },
      "execution_count": 91,
      "outputs": []
    },
    {
      "cell_type": "code",
      "source": [
        "output = assembler.transform(data)"
      ],
      "metadata": {
        "id": "c-kOqWx5BYAv"
      },
      "execution_count": 92,
      "outputs": []
    },
    {
      "cell_type": "code",
      "source": [
        "output.printSchema()"
      ],
      "metadata": {
        "colab": {
          "base_uri": "https://localhost:8080/"
        },
        "id": "PA5x4IBkBYGA",
        "outputId": "93a6ed6a-5479-4d53-9a83-532474cc8403"
      },
      "execution_count": 93,
      "outputs": [
        {
          "output_type": "stream",
          "name": "stdout",
          "text": [
            "root\n",
            " |-- Email: string (nullable = true)\n",
            " |-- Address: string (nullable = true)\n",
            " |-- Avatar: string (nullable = true)\n",
            " |-- Avg Session Length: double (nullable = true)\n",
            " |-- Time on App: double (nullable = true)\n",
            " |-- Time on Website: double (nullable = true)\n",
            " |-- Length of Membership: double (nullable = true)\n",
            " |-- Yearly Amount Spent: double (nullable = true)\n",
            " |-- features: vector (nullable = true)\n",
            "\n"
          ]
        }
      ]
    },
    {
      "cell_type": "code",
      "source": [
        "output.show(1)"
      ],
      "metadata": {
        "colab": {
          "base_uri": "https://localhost:8080/"
        },
        "id": "RJvfVJutBYId",
        "outputId": "dff97059-0676-465b-9b02-37bff7e50d54"
      },
      "execution_count": 94,
      "outputs": [
        {
          "output_type": "stream",
          "name": "stdout",
          "text": [
            "+--------------------+--------------------+------+------------------+-----------------+-----------------+--------------------+-------------------+--------------------+\n",
            "|               Email|             Address|Avatar|Avg Session Length|      Time on App|  Time on Website|Length of Membership|Yearly Amount Spent|            features|\n",
            "+--------------------+--------------------+------+------------------+-----------------+-----------------+--------------------+-------------------+--------------------+\n",
            "|mstephenson@ferna...|835 Frank TunnelW...|Violet| 34.49726772511229|12.65565114916675|39.57766801952616|  4.0826206329529615|  587.9510539684005|[34.4972677251122...|\n",
            "+--------------------+--------------------+------+------------------+-----------------+-----------------+--------------------+-------------------+--------------------+\n",
            "only showing top 1 row\n",
            "\n"
          ]
        }
      ]
    },
    {
      "cell_type": "code",
      "source": [
        "final_data = output.select(\"features\", \"Yearly Amount Spent\")"
      ],
      "metadata": {
        "id": "i95jBkq7BYLA"
      },
      "execution_count": 95,
      "outputs": []
    },
    {
      "cell_type": "code",
      "source": [
        "train_data, test_data = final_data.randomSplit([0.7, 0.3])"
      ],
      "metadata": {
        "id": "0M2LYlLtBYNv"
      },
      "execution_count": 96,
      "outputs": []
    },
    {
      "cell_type": "code",
      "source": [
        "lr = LinearRegression(labelCol=\"Yearly Amount Spent\")"
      ],
      "metadata": {
        "id": "jrV0MaMRBYQL"
      },
      "execution_count": 97,
      "outputs": []
    },
    {
      "cell_type": "code",
      "source": [
        "lr_model = lr.fit(train_data)"
      ],
      "metadata": {
        "id": "iYqT-pvqBYVe"
      },
      "execution_count": 98,
      "outputs": []
    },
    {
      "cell_type": "code",
      "source": [
        "test_result = lr_model.evaluate(test_data)"
      ],
      "metadata": {
        "id": "HibkrzeeBYXn"
      },
      "execution_count": 99,
      "outputs": []
    },
    {
      "cell_type": "code",
      "source": [
        "test_result.residuals.show()"
      ],
      "metadata": {
        "colab": {
          "base_uri": "https://localhost:8080/"
        },
        "id": "NL8pmSD0M9KM",
        "outputId": "b0afd03a-3096-47ef-b8ee-4fea86799409"
      },
      "execution_count": 100,
      "outputs": [
        {
          "output_type": "stream",
          "name": "stdout",
          "text": [
            "+-------------------+\n",
            "|          residuals|\n",
            "+-------------------+\n",
            "|  9.308365276320728|\n",
            "|-12.175875021040952|\n",
            "| 10.342380598011118|\n",
            "|-3.9030317347791765|\n",
            "|   6.20165908235299|\n",
            "| 3.9734410169716057|\n",
            "| -21.86047427467804|\n",
            "|  -4.15775025120638|\n",
            "| -4.778470383110118|\n",
            "| -6.003728323643713|\n",
            "|-1.9077546548932673|\n",
            "| -11.67875905549181|\n",
            "|-4.0588560393305215|\n",
            "|  8.214099183507926|\n",
            "|-2.5257703858601417|\n",
            "|-1.5039731360053565|\n",
            "|-17.308959014176537|\n",
            "| 3.5594850829861002|\n",
            "| 1.4369822839946664|\n",
            "| 22.784562238149476|\n",
            "+-------------------+\n",
            "only showing top 20 rows\n",
            "\n"
          ]
        }
      ]
    },
    {
      "cell_type": "code",
      "source": [
        "test_result.rootMeanSquaredError"
      ],
      "metadata": {
        "colab": {
          "base_uri": "https://localhost:8080/"
        },
        "id": "WTPsWN30M9NW",
        "outputId": "456de6f5-10f0-4eba-ef52-b9b9e2f7882b"
      },
      "execution_count": 101,
      "outputs": [
        {
          "output_type": "execute_result",
          "data": {
            "text/plain": [
              "9.649386467363483"
            ]
          },
          "metadata": {},
          "execution_count": 101
        }
      ]
    },
    {
      "cell_type": "code",
      "source": [
        "test_result.r2"
      ],
      "metadata": {
        "colab": {
          "base_uri": "https://localhost:8080/"
        },
        "id": "lSqyQn4iM9QL",
        "outputId": "89d65e24-74cb-4e3e-8498-812bf284fd2b"
      },
      "execution_count": 102,
      "outputs": [
        {
          "output_type": "execute_result",
          "data": {
            "text/plain": [
              "0.9846659109364552"
            ]
          },
          "metadata": {},
          "execution_count": 102
        }
      ]
    },
    {
      "cell_type": "code",
      "source": [
        "import os.path\n",
        "FILE_PATH2 = \"/content/csvdata2/cruise_ship_info.csv\"\n",
        "\n",
        "if not os.path.isfile(FILE_PATH2):\n",
        "  !rm -rf /content/csvdata2\n",
        "  !wget -P \"/content/csvdata2/\" \"https://raw.githubusercontent.com/LeondraJames/Hyundai-Cruise-Ship-Crew-Prediction/refs/heads/master/cruise_ship_info.csv\""
      ],
      "metadata": {
        "id": "dLQu2tsBM9SR"
      },
      "execution_count": 103,
      "outputs": []
    },
    {
      "cell_type": "code",
      "source": [
        "cruise_ship_data = sparkSession.read.csv(FILE_PATH2, sep=\",\", header=True, inferSchema=True)"
      ],
      "metadata": {
        "id": "rjV0P1FgPgE1"
      },
      "execution_count": 104,
      "outputs": []
    },
    {
      "cell_type": "code",
      "source": [
        "cruise_ship_data.printSchema()"
      ],
      "metadata": {
        "colab": {
          "base_uri": "https://localhost:8080/"
        },
        "id": "qQRnRfpNSGXD",
        "outputId": "b83a9c23-3577-4767-c27c-220c1c80a9bc"
      },
      "execution_count": 105,
      "outputs": [
        {
          "output_type": "stream",
          "name": "stdout",
          "text": [
            "root\n",
            " |-- Ship_name: string (nullable = true)\n",
            " |-- Cruise_line: string (nullable = true)\n",
            " |-- Age: integer (nullable = true)\n",
            " |-- Tonnage: double (nullable = true)\n",
            " |-- passengers: double (nullable = true)\n",
            " |-- length: double (nullable = true)\n",
            " |-- cabins: double (nullable = true)\n",
            " |-- passenger_density: double (nullable = true)\n",
            " |-- crew: double (nullable = true)\n",
            "\n"
          ]
        }
      ]
    },
    {
      "cell_type": "code",
      "source": [
        "cruise_ship_data.groupBy(\"Cruise_line\").count().show()"
      ],
      "metadata": {
        "colab": {
          "base_uri": "https://localhost:8080/"
        },
        "id": "Be_xrMuJSGdU",
        "outputId": "66615da6-bd5b-4fe0-f675-648b8c3b44ad"
      },
      "execution_count": 106,
      "outputs": [
        {
          "output_type": "stream",
          "name": "stdout",
          "text": [
            "+-----------------+-----+\n",
            "|      Cruise_line|count|\n",
            "+-----------------+-----+\n",
            "|            Costa|   11|\n",
            "|              P&O|    6|\n",
            "|           Cunard|    3|\n",
            "|Regent_Seven_Seas|    5|\n",
            "|              MSC|    8|\n",
            "|         Carnival|   22|\n",
            "|          Crystal|    2|\n",
            "|           Orient|    1|\n",
            "|         Princess|   17|\n",
            "|        Silversea|    4|\n",
            "|         Seabourn|    3|\n",
            "| Holland_American|   14|\n",
            "|         Windstar|    3|\n",
            "|           Disney|    2|\n",
            "|        Norwegian|   13|\n",
            "|          Oceania|    3|\n",
            "|          Azamara|    2|\n",
            "|        Celebrity|   10|\n",
            "|             Star|    6|\n",
            "|  Royal_Caribbean|   23|\n",
            "+-----------------+-----+\n",
            "\n"
          ]
        }
      ]
    },
    {
      "cell_type": "code",
      "source": [
        "from pyspark.ml.feature import StringIndexer"
      ],
      "metadata": {
        "id": "VQW6zWb3SGgJ"
      },
      "execution_count": 107,
      "outputs": []
    },
    {
      "cell_type": "code",
      "source": [
        "indexer = StringIndexer(inputCol=\"Cruise_line\",\n",
        "                        outputCol=\"Cruise_category\")\n",
        "indexed = indexer.fit(cruise_ship_data).transform(cruise_ship_data)\n",
        "indexed.head(3)"
      ],
      "metadata": {
        "colab": {
          "base_uri": "https://localhost:8080/"
        },
        "id": "DJStTAIbSGil",
        "outputId": "2b2eb4de-ff3e-44a8-88e1-026ba7153562"
      },
      "execution_count": 111,
      "outputs": [
        {
          "output_type": "execute_result",
          "data": {
            "text/plain": [
              "[Row(Ship_name='Journey', Cruise_line='Azamara', Age=6, Tonnage=30.276999999999997, passengers=6.94, length=5.94, cabins=3.55, passenger_density=42.64, crew=3.55, Cruise_category=16.0),\n",
              " Row(Ship_name='Quest', Cruise_line='Azamara', Age=6, Tonnage=30.276999999999997, passengers=6.94, length=5.94, cabins=3.55, passenger_density=42.64, crew=3.55, Cruise_category=16.0),\n",
              " Row(Ship_name='Celebration', Cruise_line='Carnival', Age=26, Tonnage=47.262, passengers=14.86, length=7.22, cabins=7.43, passenger_density=31.8, crew=6.7, Cruise_category=1.0)]"
            ]
          },
          "metadata": {},
          "execution_count": 111
        }
      ]
    },
    {
      "cell_type": "code",
      "source": [
        "cruise_assembler = VectorAssembler(inputCols=[ \"Age\",\n",
        "                                               \"Tonnage\",\n",
        "                                               \"passengers\",\n",
        "                                               \"length\",\n",
        "                                               \"cabins\",\n",
        "                                               \"passenger_density\",\n",
        "                                               \"Cruise_category\"],\n",
        "                                   outputCol=\"features\")"
      ],
      "metadata": {
        "id": "5Fnq8IsrSGlF"
      },
      "execution_count": 112,
      "outputs": []
    },
    {
      "cell_type": "code",
      "source": [
        "cruise_output = cruise_assembler.transform(indexed)"
      ],
      "metadata": {
        "id": "s9DEQ4gxe7om"
      },
      "execution_count": 113,
      "outputs": []
    },
    {
      "cell_type": "code",
      "source": [
        "cruise_output.select(\"features\", \"crew\").show()"
      ],
      "metadata": {
        "colab": {
          "base_uri": "https://localhost:8080/"
        },
        "id": "Q6gyUwDbSGng",
        "outputId": "ab9e2320-30ba-4819-beae-a6ff53252456"
      },
      "execution_count": 114,
      "outputs": [
        {
          "output_type": "stream",
          "name": "stdout",
          "text": [
            "+--------------------+----+\n",
            "|            features|crew|\n",
            "+--------------------+----+\n",
            "|[6.0,30.276999999...|3.55|\n",
            "|[6.0,30.276999999...|3.55|\n",
            "|[26.0,47.262,14.8...| 6.7|\n",
            "|[11.0,110.0,29.74...|19.1|\n",
            "|[17.0,101.353,26....|10.0|\n",
            "|[22.0,70.367,20.5...| 9.2|\n",
            "|[15.0,70.367,20.5...| 9.2|\n",
            "|[23.0,70.367,20.5...| 9.2|\n",
            "|[19.0,70.367,20.5...| 9.2|\n",
            "|[6.0,110.23899999...|11.5|\n",
            "|[10.0,110.0,29.74...|11.6|\n",
            "|[28.0,46.052,14.5...| 6.6|\n",
            "|[18.0,70.367,20.5...| 9.2|\n",
            "|[17.0,70.367,20.5...| 9.2|\n",
            "|[11.0,86.0,21.24,...| 9.3|\n",
            "|[8.0,110.0,29.74,...|11.6|\n",
            "|[9.0,88.5,21.24,9...|10.3|\n",
            "|[15.0,70.367,20.5...| 9.2|\n",
            "|[12.0,88.5,21.24,...| 9.3|\n",
            "|[20.0,70.367,20.5...| 9.2|\n",
            "+--------------------+----+\n",
            "only showing top 20 rows\n",
            "\n"
          ]
        }
      ]
    },
    {
      "cell_type": "code",
      "source": [
        "cruise_final_data = cruise_output.select([\"features\", \"crew\"])\n",
        "cruise_train_data, cruise_test_data = cruise_final_data.randomSplit([0.7, 0.3])"
      ],
      "metadata": {
        "id": "m-GvUwq7SGpm"
      },
      "execution_count": 115,
      "outputs": []
    },
    {
      "cell_type": "code",
      "source": [
        "cruise_lr = LinearRegression(labelCol=\"crew\")\n",
        "cruise_lr_model = cruise_lr.fit(cruise_train_data)"
      ],
      "metadata": {
        "id": "hUByBtfnSGrt"
      },
      "execution_count": 116,
      "outputs": []
    },
    {
      "cell_type": "code",
      "source": [
        "cruise_lr_results = cruise_lr_model.evaluate(cruise_test_data)"
      ],
      "metadata": {
        "id": "y_oOkqXlSGt0"
      },
      "execution_count": 118,
      "outputs": []
    },
    {
      "cell_type": "code",
      "source": [
        "cruise_lr_results.rootMeanSquaredError"
      ],
      "metadata": {
        "colab": {
          "base_uri": "https://localhost:8080/"
        },
        "id": "QbaUEWRBSGwS",
        "outputId": "b37d78d2-3272-4ca3-8c06-e60a469d6f8c"
      },
      "execution_count": 119,
      "outputs": [
        {
          "output_type": "execute_result",
          "data": {
            "text/plain": [
              "1.0985271404248407"
            ]
          },
          "metadata": {},
          "execution_count": 119
        }
      ]
    },
    {
      "cell_type": "code",
      "source": [
        "cruise_lr_results.r2"
      ],
      "metadata": {
        "colab": {
          "base_uri": "https://localhost:8080/"
        },
        "id": "gWZmAZR8SGyZ",
        "outputId": "842ccf42-a624-49d9-ddc1-6ec09e42ead1"
      },
      "execution_count": 120,
      "outputs": [
        {
          "output_type": "execute_result",
          "data": {
            "text/plain": [
              "0.9050375016981465"
            ]
          },
          "metadata": {},
          "execution_count": 120
        }
      ]
    },
    {
      "cell_type": "code",
      "source": [
        "cruise_lr_results.meanSquaredError"
      ],
      "metadata": {
        "colab": {
          "base_uri": "https://localhost:8080/"
        },
        "id": "0784Jf4nf8sZ",
        "outputId": "a9581bab-b1ae-4c73-a02b-cca3993cbb22"
      },
      "execution_count": 121,
      "outputs": [
        {
          "output_type": "execute_result",
          "data": {
            "text/plain": [
              "1.2067618782499776"
            ]
          },
          "metadata": {},
          "execution_count": 121
        }
      ]
    },
    {
      "cell_type": "code",
      "source": [
        "cruise_lr_results.meanAbsoluteError"
      ],
      "metadata": {
        "colab": {
          "base_uri": "https://localhost:8080/"
        },
        "id": "9A3uFDU2gW7n",
        "outputId": "90b85d0a-3676-4f86-f4d4-76fb8a9dbeac"
      },
      "execution_count": 122,
      "outputs": [
        {
          "output_type": "execute_result",
          "data": {
            "text/plain": [
              "0.756192855999996"
            ]
          },
          "metadata": {},
          "execution_count": 122
        }
      ]
    },
    {
      "cell_type": "code",
      "source": [],
      "metadata": {
        "id": "WXp5t5UKgZGf"
      },
      "execution_count": null,
      "outputs": []
    }
  ]
}