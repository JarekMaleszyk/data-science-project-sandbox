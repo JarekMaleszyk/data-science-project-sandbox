{
  "nbformat": 4,
  "nbformat_minor": 0,
  "metadata": {
    "colab": {
      "provenance": [],
      "authorship_tag": "ABX9TyP3lPLaepn5zFCqLi7G0Cdl",
      "include_colab_link": true
    },
    "kernelspec": {
      "name": "python3",
      "display_name": "Python 3"
    },
    "language_info": {
      "name": "python"
    }
  },
  "cells": [
    {
      "cell_type": "markdown",
      "metadata": {
        "id": "view-in-github",
        "colab_type": "text"
      },
      "source": [
        "<a href=\"https://colab.research.google.com/github/JarekMaleszyk/data-science-project-sandbox/blob/main/apache_spark_with_python_basics.ipynb\" target=\"_parent\"><img src=\"https://colab.research.google.com/assets/colab-badge.svg\" alt=\"Open In Colab\"/></a>"
      ]
    },
    {
      "cell_type": "code",
      "execution_count": 194,
      "metadata": {
        "id": "rnXMHXfNEzRj"
      },
      "outputs": [],
      "source": [
        "try:\n",
        "  import pyspark\n",
        "except:\n",
        "  !pip install pyspark\n",
        "  import pyspark\n",
        "finally:\n",
        "  from pyspark.sql import SparkSession"
      ]
    },
    {
      "cell_type": "markdown",
      "source": [
        "1. Simple json file"
      ],
      "metadata": {
        "id": "R_4_5UoAQUIn"
      }
    },
    {
      "cell_type": "code",
      "source": [
        "import os.path\n",
        "FILE_PATH = \"/content/jsondata/data.json\"\n",
        "\n",
        "if not os.path.isfile(FILE_PATH):\n",
        "  !rm -rf /content/jsondata\n",
        "  !wget -P \"/content/jsondata/\" \"https://raw.githubusercontent.com/JarekMaleszyk/data-science-project-sandbox/refs/heads/main/data.json\""
      ],
      "metadata": {
        "id": "TFX60kVFGEMU"
      },
      "execution_count": 195,
      "outputs": []
    },
    {
      "cell_type": "code",
      "source": [
        "sparkSession = SparkSession.builder.appName('Pratice with pyspark basics').getOrCreate()"
      ],
      "metadata": {
        "id": "0CkKRGoEHQhb"
      },
      "execution_count": 196,
      "outputs": []
    },
    {
      "cell_type": "code",
      "source": [
        "from pyspark.sql.types import (StructType, StructField, StringType, IntegerType,\n",
        "                               ArrayType, DoubleType, BooleanType)\n",
        "\n",
        "schema = StructType(fields=[\n",
        "    StructField(\"id\", IntegerType(), True), # True = nullable\n",
        "    StructField(\"name\", StringType(), True),\n",
        "    StructField(\"category\", StringType(), True),\n",
        "    StructField(\"quantity\", IntegerType(), True),\n",
        "    StructField(\"price\", DoubleType(), True)\n",
        "])"
      ],
      "metadata": {
        "id": "02bDJCl6Mlp3"
      },
      "execution_count": 197,
      "outputs": []
    },
    {
      "cell_type": "code",
      "source": [
        "pyspark_df_products = sparkSession.read\\\n",
        "  .schema(schema)\\\n",
        "  .option(\"multiline\", True)\\\n",
        "  .json(FILE_PATH)"
      ],
      "metadata": {
        "id": "TP1mr1drI4Vu"
      },
      "execution_count": 198,
      "outputs": []
    },
    {
      "cell_type": "code",
      "source": [
        "pyspark_df_products.printSchema()"
      ],
      "metadata": {
        "colab": {
          "base_uri": "https://localhost:8080/"
        },
        "id": "Y4usa704JRhS",
        "outputId": "ee08bc19-aa91-4802-8f9c-fc0e9a7a8f7c"
      },
      "execution_count": 199,
      "outputs": [
        {
          "output_type": "stream",
          "name": "stdout",
          "text": [
            "root\n",
            " |-- id: integer (nullable = true)\n",
            " |-- name: string (nullable = true)\n",
            " |-- category: string (nullable = true)\n",
            " |-- quantity: integer (nullable = true)\n",
            " |-- price: double (nullable = true)\n",
            "\n"
          ]
        }
      ]
    },
    {
      "cell_type": "code",
      "source": [
        "pyspark_df_products.show()"
      ],
      "metadata": {
        "colab": {
          "base_uri": "https://localhost:8080/"
        },
        "id": "iD4Hh3rTJjvF",
        "outputId": "ac99de45-58c5-46ab-fa7c-b2c500923c30"
      },
      "execution_count": 200,
      "outputs": [
        {
          "output_type": "stream",
          "name": "stdout",
          "text": [
            "+---+--------------------+---------------+--------+------+\n",
            "| id|                name|       category|quantity| price|\n",
            "+---+--------------------+---------------+--------+------+\n",
            "|  1|           iPhone 12|    Electronics|      10|899.99|\n",
            "|  2|     Nike Air Max 90|       Clothing|      25|119.99|\n",
            "|  3|KitchenAid Stand ...|Home Appliances|       5|299.99|\n",
            "|  4|    The Great Gatsby|          Books|      50| 12.99|\n",
            "|  5|L'Oreal Paris Mas...|         Beauty|     100|  9.99|\n",
            "|  6|            Yoga Mat|         Sports|      30| 29.99|\n",
            "|  7| Samsung 4K Smart TV|    Electronics|       8|799.99|\n",
            "|  8|        Levi's Jeans|       Clothing|      15| 49.99|\n",
            "|  9|Dyson Vacuum Cleaner|Home Appliances|       3|399.99|\n",
            "| 10| Harry Potter Series|          Books|      20| 15.99|\n",
            "+---+--------------------+---------------+--------+------+\n",
            "\n"
          ]
        }
      ]
    },
    {
      "cell_type": "markdown",
      "source": [
        "2. More complex json file"
      ],
      "metadata": {
        "id": "FgX-DNi-NRHF"
      }
    },
    {
      "cell_type": "code",
      "source": [
        "USER_FILE_PATH = \"/content/jsondata/users.json\"\n",
        "\n",
        "if not os.path.isfile(USER_FILE_PATH):\n",
        "  !rm -f /content/jsondata/users.json\n",
        "  !wget -P \"/content/jsondata/\" \"https://jsonplaceholder.typicode.com/users\"\n",
        "  !mv /content/jsondata/users /content/jsondata/users.json"
      ],
      "metadata": {
        "id": "8pvLsR1bNoc6"
      },
      "execution_count": 201,
      "outputs": []
    },
    {
      "cell_type": "code",
      "source": [
        "pyspark_df_users = sparkSession.read\\\n",
        "  .option(\"inferSchema\", True)\\\n",
        "  .option(\"multiline\", True)\\\n",
        "  .json(USER_FILE_PATH)"
      ],
      "metadata": {
        "id": "fMBR7g7jPwpo"
      },
      "execution_count": 202,
      "outputs": []
    },
    {
      "cell_type": "code",
      "source": [
        "pyspark_df_users.printSchema()"
      ],
      "metadata": {
        "colab": {
          "base_uri": "https://localhost:8080/"
        },
        "id": "549IV3-fPwwo",
        "outputId": "8d1f9394-5621-4907-8196-ce3e18b15153"
      },
      "execution_count": 203,
      "outputs": [
        {
          "output_type": "stream",
          "name": "stdout",
          "text": [
            "root\n",
            " |-- address: struct (nullable = true)\n",
            " |    |-- city: string (nullable = true)\n",
            " |    |-- geo: struct (nullable = true)\n",
            " |    |    |-- lat: string (nullable = true)\n",
            " |    |    |-- lng: string (nullable = true)\n",
            " |    |-- street: string (nullable = true)\n",
            " |    |-- suite: string (nullable = true)\n",
            " |    |-- zipcode: string (nullable = true)\n",
            " |-- company: struct (nullable = true)\n",
            " |    |-- bs: string (nullable = true)\n",
            " |    |-- catchPhrase: string (nullable = true)\n",
            " |    |-- name: string (nullable = true)\n",
            " |-- email: string (nullable = true)\n",
            " |-- id: long (nullable = true)\n",
            " |-- name: string (nullable = true)\n",
            " |-- phone: string (nullable = true)\n",
            " |-- username: string (nullable = true)\n",
            " |-- website: string (nullable = true)\n",
            "\n"
          ]
        }
      ]
    },
    {
      "cell_type": "code",
      "source": [
        "pyspark_df_users.show()"
      ],
      "metadata": {
        "colab": {
          "base_uri": "https://localhost:8080/"
        },
        "id": "bTPhtvsYPwza",
        "outputId": "d157b64f-3ebe-4dcf-ef07-a1d1c9483bfc"
      },
      "execution_count": 204,
      "outputs": [
        {
          "output_type": "stream",
          "name": "stdout",
          "text": [
            "+--------------------+--------------------+--------------------+---+--------------------+--------------------+----------------+-------------+\n",
            "|             address|             company|               email| id|                name|               phone|        username|      website|\n",
            "+--------------------+--------------------+--------------------+---+--------------------+--------------------+----------------+-------------+\n",
            "|{Gwenborough, {-3...|{harness real-tim...|   Sincere@april.biz|  1|       Leanne Graham|1-770-736-8031 x5...|            Bret|hildegard.org|\n",
            "|{Wisokyburgh, {-4...|{synergize scalab...|   Shanna@melissa.tv|  2|        Ervin Howell| 010-692-6593 x09125|       Antonette|anastasia.net|\n",
            "|{McKenziehaven, {...|{e-enable strateg...|  Nathan@yesenia.net|  3|    Clementine Bauch|      1-463-123-4447|        Samantha|  ramiro.info|\n",
            "|{South Elvis, {29...|{transition cutti...|Julianne.OConner@...|  4|    Patricia Lebsack|   493-170-9623 x156|        Karianne|     kale.biz|\n",
            "|{Roscoeview, {-31...|{revolutionize en...|Lucio_Hettinger@a...|  5|    Chelsey Dietrich|       (254)954-1289|          Kamren| demarco.info|\n",
            "|{South Christy, {...|{e-enable innovat...|Karley_Dach@jaspe...|  6|Mrs. Dennis Schulist|1-477-935-8478 x6430|Leopoldo_Corkery|      ola.org|\n",
            "|{Howemouth, {24.8...|{generate enterpr...|Telly.Hoeger@bill...|  7|     Kurtis Weissnat|        210.067.6132|    Elwyn.Skiles|     elvis.io|\n",
            "|{Aliyaview, {-14....|{e-enable extensi...|Sherwood@rosamond.me|  8|Nicholas Runolfsd...|   586.493.6943 x140|   Maxime_Nienow| jacynthe.com|\n",
            "|{Bartholomebury, ...|{aggregate real-t...|Chaim_McDermott@d...|  9|     Glenna Reichert|(775)976-6794 x41206|        Delphine|   conrad.com|\n",
            "|{Lebsackbury, {-3...|{target end-to-en...|Rey.Padberg@karin...| 10|  Clementina DuBuque|        024-648-3804|  Moriah.Stanton|  ambrose.net|\n",
            "+--------------------+--------------------+--------------------+---+--------------------+--------------------+----------------+-------------+\n",
            "\n"
          ]
        }
      ]
    },
    {
      "cell_type": "code",
      "source": [
        "print(pyspark_df_users.columns)\n",
        "print(pyspark_df_users.describe().show())"
      ],
      "metadata": {
        "colab": {
          "base_uri": "https://localhost:8080/"
        },
        "id": "_yt5VXKVPw14",
        "outputId": "73577a10-d4e9-4463-94f0-0570e0f58605"
      },
      "execution_count": 205,
      "outputs": [
        {
          "output_type": "stream",
          "name": "stdout",
          "text": [
            "['address', 'company', 'email', 'id', 'name', 'phone', 'username', 'website']\n",
            "+-------+--------------------+------------------+----------------+-----------------+---------+-----------+\n",
            "|summary|               email|                id|            name|            phone| username|    website|\n",
            "+-------+--------------------+------------------+----------------+-----------------+---------+-----------+\n",
            "|  count|                  10|                10|              10|               10|       10|         10|\n",
            "|   mean|                NULL|               5.5|            NULL|             NULL|     NULL|       NULL|\n",
            "| stddev|                NULL|3.0276503540974917|            NULL|             NULL|     NULL|       NULL|\n",
            "|    min|Chaim_McDermott@d...|                 1|Chelsey Dietrich|    (254)954-1289|Antonette|ambrose.net|\n",
            "|    max|Telly.Hoeger@bill...|                10|Patricia Lebsack|586.493.6943 x140| Samantha|ramiro.info|\n",
            "+-------+--------------------+------------------+----------------+-----------------+---------+-----------+\n",
            "\n",
            "None\n"
          ]
        }
      ]
    },
    {
      "cell_type": "markdown",
      "source": [
        "3. Managing with data"
      ],
      "metadata": {
        "id": "JE5KSTD0Pw4U"
      }
    },
    {
      "cell_type": "code",
      "source": [
        "pyspark_df_users.select(['address', 'id', 'name']).show()"
      ],
      "metadata": {
        "colab": {
          "base_uri": "https://localhost:8080/"
        },
        "id": "izQUTtD7V5OQ",
        "outputId": "6903fc30-7b3d-4dea-94b3-91cb11a6c902"
      },
      "execution_count": 206,
      "outputs": [
        {
          "output_type": "stream",
          "name": "stdout",
          "text": [
            "+--------------------+---+--------------------+\n",
            "|             address| id|                name|\n",
            "+--------------------+---+--------------------+\n",
            "|{Gwenborough, {-3...|  1|       Leanne Graham|\n",
            "|{Wisokyburgh, {-4...|  2|        Ervin Howell|\n",
            "|{McKenziehaven, {...|  3|    Clementine Bauch|\n",
            "|{South Elvis, {29...|  4|    Patricia Lebsack|\n",
            "|{Roscoeview, {-31...|  5|    Chelsey Dietrich|\n",
            "|{South Christy, {...|  6|Mrs. Dennis Schulist|\n",
            "|{Howemouth, {24.8...|  7|     Kurtis Weissnat|\n",
            "|{Aliyaview, {-14....|  8|Nicholas Runolfsd...|\n",
            "|{Bartholomebury, ...|  9|     Glenna Reichert|\n",
            "|{Lebsackbury, {-3...| 10|  Clementina DuBuque|\n",
            "+--------------------+---+--------------------+\n",
            "\n"
          ]
        }
      ]
    },
    {
      "cell_type": "code",
      "source": [
        "pyspark_df_users.head(2)[0] # <= Row object"
      ],
      "metadata": {
        "colab": {
          "base_uri": "https://localhost:8080/"
        },
        "id": "ttPcv4z-V5RB",
        "outputId": "1afc3f60-436d-4fe5-a05d-9986e48b446d"
      },
      "execution_count": 207,
      "outputs": [
        {
          "output_type": "execute_result",
          "data": {
            "text/plain": [
              "Row(address=Row(city='Gwenborough', geo=Row(lat='-37.3159', lng='81.1496'), street='Kulas Light', suite='Apt. 556', zipcode='92998-3874'), company=Row(bs='harness real-time e-markets', catchPhrase='Multi-layered client-server neural-net', name='Romaguera-Crona'), email='Sincere@april.biz', id=1, name='Leanne Graham', phone='1-770-736-8031 x56442', username='Bret', website='hildegard.org')"
            ]
          },
          "metadata": {},
          "execution_count": 207
        }
      ]
    },
    {
      "cell_type": "code",
      "source": [
        "pyspark_df_users.withColumn(\"phone_number\", pyspark_df_users['phone']).show() # new column"
      ],
      "metadata": {
        "colab": {
          "base_uri": "https://localhost:8080/"
        },
        "id": "tZ4PM0lKV5Tg",
        "outputId": "1fad1cd9-5931-4340-9950-b1e9aadde319"
      },
      "execution_count": 208,
      "outputs": [
        {
          "output_type": "stream",
          "name": "stdout",
          "text": [
            "+--------------------+--------------------+--------------------+---+--------------------+--------------------+----------------+-------------+--------------------+\n",
            "|             address|             company|               email| id|                name|               phone|        username|      website|        phone_number|\n",
            "+--------------------+--------------------+--------------------+---+--------------------+--------------------+----------------+-------------+--------------------+\n",
            "|{Gwenborough, {-3...|{harness real-tim...|   Sincere@april.biz|  1|       Leanne Graham|1-770-736-8031 x5...|            Bret|hildegard.org|1-770-736-8031 x5...|\n",
            "|{Wisokyburgh, {-4...|{synergize scalab...|   Shanna@melissa.tv|  2|        Ervin Howell| 010-692-6593 x09125|       Antonette|anastasia.net| 010-692-6593 x09125|\n",
            "|{McKenziehaven, {...|{e-enable strateg...|  Nathan@yesenia.net|  3|    Clementine Bauch|      1-463-123-4447|        Samantha|  ramiro.info|      1-463-123-4447|\n",
            "|{South Elvis, {29...|{transition cutti...|Julianne.OConner@...|  4|    Patricia Lebsack|   493-170-9623 x156|        Karianne|     kale.biz|   493-170-9623 x156|\n",
            "|{Roscoeview, {-31...|{revolutionize en...|Lucio_Hettinger@a...|  5|    Chelsey Dietrich|       (254)954-1289|          Kamren| demarco.info|       (254)954-1289|\n",
            "|{South Christy, {...|{e-enable innovat...|Karley_Dach@jaspe...|  6|Mrs. Dennis Schulist|1-477-935-8478 x6430|Leopoldo_Corkery|      ola.org|1-477-935-8478 x6430|\n",
            "|{Howemouth, {24.8...|{generate enterpr...|Telly.Hoeger@bill...|  7|     Kurtis Weissnat|        210.067.6132|    Elwyn.Skiles|     elvis.io|        210.067.6132|\n",
            "|{Aliyaview, {-14....|{e-enable extensi...|Sherwood@rosamond.me|  8|Nicholas Runolfsd...|   586.493.6943 x140|   Maxime_Nienow| jacynthe.com|   586.493.6943 x140|\n",
            "|{Bartholomebury, ...|{aggregate real-t...|Chaim_McDermott@d...|  9|     Glenna Reichert|(775)976-6794 x41206|        Delphine|   conrad.com|(775)976-6794 x41206|\n",
            "|{Lebsackbury, {-3...|{target end-to-en...|Rey.Padberg@karin...| 10|  Clementina DuBuque|        024-648-3804|  Moriah.Stanton|  ambrose.net|        024-648-3804|\n",
            "+--------------------+--------------------+--------------------+---+--------------------+--------------------+----------------+-------------+--------------------+\n",
            "\n"
          ]
        }
      ]
    },
    {
      "cell_type": "code",
      "source": [
        "pyspark_df_users.withColumnRenamed(\"phone\", \"phone_number\").show() # rename of column"
      ],
      "metadata": {
        "colab": {
          "base_uri": "https://localhost:8080/"
        },
        "id": "f8HCNSi7V5Vk",
        "outputId": "8e2761c8-d438-4a24-dba1-7b7c431731c7"
      },
      "execution_count": 209,
      "outputs": [
        {
          "output_type": "stream",
          "name": "stdout",
          "text": [
            "+--------------------+--------------------+--------------------+---+--------------------+--------------------+----------------+-------------+\n",
            "|             address|             company|               email| id|                name|        phone_number|        username|      website|\n",
            "+--------------------+--------------------+--------------------+---+--------------------+--------------------+----------------+-------------+\n",
            "|{Gwenborough, {-3...|{harness real-tim...|   Sincere@april.biz|  1|       Leanne Graham|1-770-736-8031 x5...|            Bret|hildegard.org|\n",
            "|{Wisokyburgh, {-4...|{synergize scalab...|   Shanna@melissa.tv|  2|        Ervin Howell| 010-692-6593 x09125|       Antonette|anastasia.net|\n",
            "|{McKenziehaven, {...|{e-enable strateg...|  Nathan@yesenia.net|  3|    Clementine Bauch|      1-463-123-4447|        Samantha|  ramiro.info|\n",
            "|{South Elvis, {29...|{transition cutti...|Julianne.OConner@...|  4|    Patricia Lebsack|   493-170-9623 x156|        Karianne|     kale.biz|\n",
            "|{Roscoeview, {-31...|{revolutionize en...|Lucio_Hettinger@a...|  5|    Chelsey Dietrich|       (254)954-1289|          Kamren| demarco.info|\n",
            "|{South Christy, {...|{e-enable innovat...|Karley_Dach@jaspe...|  6|Mrs. Dennis Schulist|1-477-935-8478 x6430|Leopoldo_Corkery|      ola.org|\n",
            "|{Howemouth, {24.8...|{generate enterpr...|Telly.Hoeger@bill...|  7|     Kurtis Weissnat|        210.067.6132|    Elwyn.Skiles|     elvis.io|\n",
            "|{Aliyaview, {-14....|{e-enable extensi...|Sherwood@rosamond.me|  8|Nicholas Runolfsd...|   586.493.6943 x140|   Maxime_Nienow| jacynthe.com|\n",
            "|{Bartholomebury, ...|{aggregate real-t...|Chaim_McDermott@d...|  9|     Glenna Reichert|(775)976-6794 x41206|        Delphine|   conrad.com|\n",
            "|{Lebsackbury, {-3...|{target end-to-en...|Rey.Padberg@karin...| 10|  Clementina DuBuque|        024-648-3804|  Moriah.Stanton|  ambrose.net|\n",
            "+--------------------+--------------------+--------------------+---+--------------------+--------------------+----------------+-------------+\n",
            "\n"
          ]
        }
      ]
    },
    {
      "cell_type": "code",
      "source": [
        "pyspark_df_users.createOrReplaceTempView(\"df_users\")  # create view\n",
        "results = sparkSession.sql( \"\"\"\n",
        "                              SELECT\n",
        "                                 address.city\n",
        "                                ,address.street\n",
        "                                ,email\n",
        "                                ,phone\n",
        "                                ,website\n",
        "                                ,id\n",
        "                              FROM df_users\n",
        "                              WHERE id = 1\n",
        "                            \"\"\")                      # use SQL to query that view"
      ],
      "metadata": {
        "id": "ImYfc4CWX9JI"
      },
      "execution_count": 210,
      "outputs": []
    },
    {
      "cell_type": "code",
      "source": [
        "results.show()"
      ],
      "metadata": {
        "colab": {
          "base_uri": "https://localhost:8080/"
        },
        "id": "0apo3yueYGpV",
        "outputId": "fa7d3892-2daa-4dc9-a6aa-2927968cc849"
      },
      "execution_count": 211,
      "outputs": [
        {
          "output_type": "stream",
          "name": "stdout",
          "text": [
            "+-----------+-----------+-----------------+--------------------+-------------+---+\n",
            "|       city|     street|            email|               phone|      website| id|\n",
            "+-----------+-----------+-----------------+--------------------+-------------+---+\n",
            "|Gwenborough|Kulas Light|Sincere@april.biz|1-770-736-8031 x5...|hildegard.org|  1|\n",
            "+-----------+-----------+-----------------+--------------------+-------------+---+\n",
            "\n"
          ]
        }
      ]
    },
    {
      "cell_type": "code",
      "source": [
        "pyspark_df_users.filter(pyspark_df_users['id'] == 1).select(['address.city', 'address.street', 'email', 'phone', 'website', 'id']).show() # same without SQL"
      ],
      "metadata": {
        "colab": {
          "base_uri": "https://localhost:8080/"
        },
        "id": "45IMcglVYGsF",
        "outputId": "ef4ce224-c016-4a81-aa96-da04675e1b62"
      },
      "execution_count": 212,
      "outputs": [
        {
          "output_type": "stream",
          "name": "stdout",
          "text": [
            "+-----------+-----------+-----------------+--------------------+-------------+---+\n",
            "|       city|     street|            email|               phone|      website| id|\n",
            "+-----------+-----------+-----------------+--------------------+-------------+---+\n",
            "|Gwenborough|Kulas Light|Sincere@april.biz|1-770-736-8031 x5...|hildegard.org|  1|\n",
            "+-----------+-----------+-----------------+--------------------+-------------+---+\n",
            "\n"
          ]
        }
      ]
    },
    {
      "cell_type": "code",
      "source": [
        "pyspark_df_products.filter((pyspark_df_products['price'] > 20.99) &\n",
        "                           (pyspark_df_products['quantity'] >= 20)).show()"
      ],
      "metadata": {
        "colab": {
          "base_uri": "https://localhost:8080/"
        },
        "id": "InLFTzeUYGul",
        "outputId": "ca599fba-94b0-483b-9f2a-436d92837ea1"
      },
      "execution_count": 213,
      "outputs": [
        {
          "output_type": "stream",
          "name": "stdout",
          "text": [
            "+---+---------------+--------+--------+------+\n",
            "| id|           name|category|quantity| price|\n",
            "+---+---------------+--------+--------+------+\n",
            "|  2|Nike Air Max 90|Clothing|      25|119.99|\n",
            "|  6|       Yoga Mat|  Sports|      30| 29.99|\n",
            "+---+---------------+--------+--------+------+\n",
            "\n"
          ]
        }
      ]
    },
    {
      "cell_type": "code",
      "source": [
        "pyspark_df_products.filter((pyspark_df_products['price'] > 20.99) |\n",
        "                           ~(pyspark_df_products['quantity'] >= 20)).show()"
      ],
      "metadata": {
        "colab": {
          "base_uri": "https://localhost:8080/"
        },
        "id": "CirRwUAwYGxB",
        "outputId": "98b7c7fc-3a33-4aed-e7d2-0b50c21f2f38"
      },
      "execution_count": 214,
      "outputs": [
        {
          "output_type": "stream",
          "name": "stdout",
          "text": [
            "+---+--------------------+---------------+--------+------+\n",
            "| id|                name|       category|quantity| price|\n",
            "+---+--------------------+---------------+--------+------+\n",
            "|  1|           iPhone 12|    Electronics|      10|899.99|\n",
            "|  2|     Nike Air Max 90|       Clothing|      25|119.99|\n",
            "|  3|KitchenAid Stand ...|Home Appliances|       5|299.99|\n",
            "|  6|            Yoga Mat|         Sports|      30| 29.99|\n",
            "|  7| Samsung 4K Smart TV|    Electronics|       8|799.99|\n",
            "|  8|        Levi's Jeans|       Clothing|      15| 49.99|\n",
            "|  9|Dyson Vacuum Cleaner|Home Appliances|       3|399.99|\n",
            "+---+--------------------+---------------+--------+------+\n",
            "\n"
          ]
        }
      ]
    },
    {
      "cell_type": "code",
      "source": [
        "result = pyspark_df_products.groupBy('category').mean().collect() # wciąga nawet kolumnę id"
      ],
      "metadata": {
        "id": "CmR6wwuCYGzG"
      },
      "execution_count": 215,
      "outputs": []
    },
    {
      "cell_type": "code",
      "source": [
        "row = result[0]\n",
        "row_dict = row.asDict()\n",
        "print(row_dict)"
      ],
      "metadata": {
        "colab": {
          "base_uri": "https://localhost:8080/"
        },
        "id": "d2MvHdSgYG1k",
        "outputId": "ae3c6a76-0cab-48c4-8548-ad8a6acb7559"
      },
      "execution_count": 216,
      "outputs": [
        {
          "output_type": "stream",
          "name": "stdout",
          "text": [
            "{'category': 'Sports', 'avg(id)': 6.0, 'avg(quantity)': 30.0, 'avg(price)': 29.99}\n"
          ]
        }
      ]
    },
    {
      "cell_type": "code",
      "source": [
        "row.asDict()['avg(quantity)']"
      ],
      "metadata": {
        "colab": {
          "base_uri": "https://localhost:8080/"
        },
        "id": "NxrKHmc0YG4C",
        "outputId": "9d6dc677-39ea-48fc-f469-edf692a10ad1"
      },
      "execution_count": 217,
      "outputs": [
        {
          "output_type": "execute_result",
          "data": {
            "text/plain": [
              "30.0"
            ]
          },
          "metadata": {},
          "execution_count": 217
        }
      ]
    },
    {
      "cell_type": "code",
      "source": [
        "pyspark_df_products.groupBy('category').mean('quantity').show() #"
      ],
      "metadata": {
        "colab": {
          "base_uri": "https://localhost:8080/"
        },
        "id": "7mTlilzSrETU",
        "outputId": "c7a425be-cb17-4889-8442-3794cf9bb79d"
      },
      "execution_count": 220,
      "outputs": [
        {
          "output_type": "stream",
          "name": "stdout",
          "text": [
            "+---------------+-------------+\n",
            "|       category|avg(quantity)|\n",
            "+---------------+-------------+\n",
            "|         Sports|         30.0|\n",
            "|    Electronics|          9.0|\n",
            "|       Clothing|         20.0|\n",
            "|          Books|         35.0|\n",
            "|Home Appliances|          4.0|\n",
            "|         Beauty|        100.0|\n",
            "+---------------+-------------+\n",
            "\n"
          ]
        }
      ]
    },
    {
      "cell_type": "code",
      "source": [
        "sum = pyspark_df_products.groupBy('category').sum('quantity').collect()\n",
        "min = pyspark_df_products.groupBy('category').min('quantity').collect()\n",
        "max = pyspark_df_products.groupBy('category').max('quantity').collect()\n",
        "cnt = pyspark_df_products.groupBy('category').count().collect()"
      ],
      "metadata": {
        "id": "ROAdJ1SEutgc"
      },
      "execution_count": 220,
      "outputs": []
    },
    {
      "cell_type": "code",
      "source": [
        "from pyspark.sql.functions import countDistinct, avg, stddev\n",
        "unique_cnt = pyspark_df_products.groupBy('category').agg(countDistinct('quantity')).collect()"
      ],
      "metadata": {
        "id": "pZ_Q62rJu-WC"
      },
      "execution_count": 226,
      "outputs": []
    },
    {
      "cell_type": "code",
      "source": [
        "pyspark_df_products.agg({'quantity': 'max'}).show()"
      ],
      "metadata": {
        "colab": {
          "base_uri": "https://localhost:8080/"
        },
        "id": "e-HYyQk_u-b8",
        "outputId": "67e452f8-3c4b-4a1c-878a-ec2832d1b9e5"
      },
      "execution_count": 229,
      "outputs": [
        {
          "output_type": "stream",
          "name": "stdout",
          "text": [
            "+-------------+\n",
            "|max(quantity)|\n",
            "+-------------+\n",
            "|          100|\n",
            "+-------------+\n",
            "\n"
          ]
        }
      ]
    },
    {
      "cell_type": "code",
      "source": [
        "pyspark_df_products.select(avg('quantity').alias('avg_quantity')).show()"
      ],
      "metadata": {
        "colab": {
          "base_uri": "https://localhost:8080/"
        },
        "id": "J7G5H9FOz6D-",
        "outputId": "0c721985-096a-442f-ce69-c86b5984bb0d"
      },
      "execution_count": 231,
      "outputs": [
        {
          "output_type": "stream",
          "name": "stdout",
          "text": [
            "+------------+\n",
            "|avg_quantity|\n",
            "+------------+\n",
            "|        26.6|\n",
            "+------------+\n",
            "\n"
          ]
        }
      ]
    },
    {
      "cell_type": "code",
      "source": [
        "from pyspark.sql.functions import format_number\n",
        "\n",
        "pyspark_df_products.select(stddev('quantity').alias(col_name := 'stddev_quantity')).select(format_number(col_name, 2).alias(col_name)).show()"
      ],
      "metadata": {
        "colab": {
          "base_uri": "https://localhost:8080/"
        },
        "id": "rZ6Zb66f0CXy",
        "outputId": "44c3c144-e9fa-4778-8a3f-8ab0e46c3ff4"
      },
      "execution_count": 239,
      "outputs": [
        {
          "output_type": "stream",
          "name": "stdout",
          "text": [
            "+---------------+\n",
            "|stddev_quantity|\n",
            "+---------------+\n",
            "|          29.39|\n",
            "+---------------+\n",
            "\n"
          ]
        }
      ]
    },
    {
      "cell_type": "code",
      "source": [
        "pyspark_df_products.orderBy(pyspark_df_products['quantity'].desc()).show()"
      ],
      "metadata": {
        "colab": {
          "base_uri": "https://localhost:8080/"
        },
        "id": "1Txld_9ru-ey",
        "outputId": "73b492a4-52d8-4042-8374-69451b458af0"
      },
      "execution_count": 244,
      "outputs": [
        {
          "output_type": "stream",
          "name": "stdout",
          "text": [
            "+---+--------------------+---------------+--------+------+\n",
            "| id|                name|       category|quantity| price|\n",
            "+---+--------------------+---------------+--------+------+\n",
            "|  5|L'Oreal Paris Mas...|         Beauty|     100|  9.99|\n",
            "|  4|    The Great Gatsby|          Books|      50| 12.99|\n",
            "|  6|            Yoga Mat|         Sports|      30| 29.99|\n",
            "|  2|     Nike Air Max 90|       Clothing|      25|119.99|\n",
            "| 10| Harry Potter Series|          Books|      20| 15.99|\n",
            "|  8|        Levi's Jeans|       Clothing|      15| 49.99|\n",
            "|  1|           iPhone 12|    Electronics|      10|899.99|\n",
            "|  7| Samsung 4K Smart TV|    Electronics|       8|799.99|\n",
            "|  3|KitchenAid Stand ...|Home Appliances|       5|299.99|\n",
            "|  9|Dyson Vacuum Cleaner|Home Appliances|       3|399.99|\n",
            "+---+--------------------+---------------+--------+------+\n",
            "\n"
          ]
        }
      ]
    },
    {
      "cell_type": "code",
      "source": [
        "pyspark_df_products.orderBy(pyspark_df_products['category'].desc(), pyspark_df_products['price'].asc()).show()"
      ],
      "metadata": {
        "colab": {
          "base_uri": "https://localhost:8080/"
        },
        "id": "H4mON-6ru-g5",
        "outputId": "2fca3478-42fe-4a64-c22d-1f476ab48fcb"
      },
      "execution_count": 249,
      "outputs": [
        {
          "output_type": "stream",
          "name": "stdout",
          "text": [
            "+---+--------------------+---------------+--------+------+\n",
            "| id|                name|       category|quantity| price|\n",
            "+---+--------------------+---------------+--------+------+\n",
            "|  6|            Yoga Mat|         Sports|      30| 29.99|\n",
            "|  3|KitchenAid Stand ...|Home Appliances|       5|299.99|\n",
            "|  9|Dyson Vacuum Cleaner|Home Appliances|       3|399.99|\n",
            "|  7| Samsung 4K Smart TV|    Electronics|       8|799.99|\n",
            "|  1|           iPhone 12|    Electronics|      10|899.99|\n",
            "|  8|        Levi's Jeans|       Clothing|      15| 49.99|\n",
            "|  2|     Nike Air Max 90|       Clothing|      25|119.99|\n",
            "|  4|    The Great Gatsby|          Books|      50| 12.99|\n",
            "| 10| Harry Potter Series|          Books|      20| 15.99|\n",
            "|  5|L'Oreal Paris Mas...|         Beauty|     100|  9.99|\n",
            "+---+--------------------+---------------+--------+------+\n",
            "\n"
          ]
        }
      ]
    },
    {
      "cell_type": "code",
      "source": [
        "pyspark_df_products.na.drop(thresh=3).show() #thresh=3 means at least 3 NON NULL values in row\n",
        "pyspark_df_products.na.drop(how='any').show() #how = any/all null value in row\n",
        "pyspark_df_products.na.drop(subset=['quantity']).show() #nulls in selected column"
      ],
      "metadata": {
        "id": "84DstutKu-jV"
      },
      "execution_count": 220,
      "outputs": []
    },
    {
      "cell_type": "code",
      "source": [
        "pyspark_df_products.na.fill(0, ['quantity', 'price']).show()"
      ],
      "metadata": {
        "colab": {
          "base_uri": "https://localhost:8080/"
        },
        "id": "o1wlVy93u-l8",
        "outputId": "27326a21-c3c6-454e-b650-2417fa2bcdb3"
      },
      "execution_count": 250,
      "outputs": [
        {
          "output_type": "stream",
          "name": "stdout",
          "text": [
            "+---+--------------------+---------------+--------+------+\n",
            "| id|                name|       category|quantity| price|\n",
            "+---+--------------------+---------------+--------+------+\n",
            "|  1|           iPhone 12|    Electronics|      10|899.99|\n",
            "|  2|     Nike Air Max 90|       Clothing|      25|119.99|\n",
            "|  3|KitchenAid Stand ...|Home Appliances|       5|299.99|\n",
            "|  4|    The Great Gatsby|          Books|      50| 12.99|\n",
            "|  5|L'Oreal Paris Mas...|         Beauty|     100|  9.99|\n",
            "|  6|            Yoga Mat|         Sports|      30| 29.99|\n",
            "|  7| Samsung 4K Smart TV|    Electronics|       8|799.99|\n",
            "|  8|        Levi's Jeans|       Clothing|      15| 49.99|\n",
            "|  9|Dyson Vacuum Cleaner|Home Appliances|       3|399.99|\n",
            "| 10| Harry Potter Series|          Books|      20| 15.99|\n",
            "+---+--------------------+---------------+--------+------+\n",
            "\n"
          ]
        }
      ]
    },
    {
      "cell_type": "code",
      "source": [
        "from pyspark.sql.functions import format_number,dayofmonth,hour,dayofyear,month,year,weekofyear,date_format"
      ],
      "metadata": {
        "id": "len0xuYnu-n5"
      },
      "execution_count": 251,
      "outputs": []
    },
    {
      "cell_type": "code",
      "source": [
        "df.select(dayofmonth(df['Date'])).show()\n",
        "df.select(hour(df['Date'])).show()\n",
        "df.select(dayofyear(df['Date'])).show()\n",
        "df.select(month(df['Date'])).show()\n",
        "df.withColumn(\"Year\",year(df['Date'])).show()\n",
        "\n",
        "newdf = df.withColumn(\"Year\",year(df['Date']))\n",
        "newdf.groupBy(\"Year\").mean()[['avg(Year)','avg(Close)']].show()\n",
        "\n",
        "result = newdf.groupBy(\"Year\").mean()[['avg(Year)','avg(Close)']]\n",
        "result = result.withColumnRenamed(\"avg(Year)\",\"Year\")\n",
        "result = result.select('Year',format_number('avg(Close)',2).alias(\"Mean Close\")).show()"
      ],
      "metadata": {
        "id": "Q-1o2k-M6zfP"
      },
      "execution_count": 250,
      "outputs": []
    },
    {
      "cell_type": "code",
      "source": [],
      "metadata": {
        "id": "ZUn9SjdZ6zhn"
      },
      "execution_count": 250,
      "outputs": []
    },
    {
      "cell_type": "code",
      "source": [],
      "metadata": {
        "id": "AsDMjlFP6zkF"
      },
      "execution_count": 250,
      "outputs": []
    },
    {
      "cell_type": "code",
      "source": [],
      "metadata": {
        "id": "yJr8jZNV6zmM"
      },
      "execution_count": null,
      "outputs": []
    }
  ]
}