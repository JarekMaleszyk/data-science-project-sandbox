{
  "nbformat": 4,
  "nbformat_minor": 0,
  "metadata": {
    "colab": {
      "provenance": [],
      "authorship_tag": "ABX9TyN/jfWwHrkfy7rjRGE12cEc",
      "include_colab_link": true
    },
    "kernelspec": {
      "name": "python3",
      "display_name": "Python 3"
    },
    "language_info": {
      "name": "python"
    }
  },
  "cells": [
    {
      "cell_type": "markdown",
      "metadata": {
        "id": "view-in-github",
        "colab_type": "text"
      },
      "source": [
        "<a href=\"https://colab.research.google.com/github/JarekMaleszyk/data-science-project-sandbox/blob/main/apache_spark_with_python_basics.ipynb\" target=\"_parent\"><img src=\"https://colab.research.google.com/assets/colab-badge.svg\" alt=\"Open In Colab\"/></a>"
      ]
    },
    {
      "cell_type": "code",
      "execution_count": 120,
      "metadata": {
        "id": "rnXMHXfNEzRj"
      },
      "outputs": [],
      "source": [
        "try:\n",
        "  import pyspark\n",
        "except:\n",
        "  !pip install pyspark\n",
        "  import pyspark\n",
        "finally:\n",
        "  from pyspark.sql import SparkSession"
      ]
    },
    {
      "cell_type": "markdown",
      "source": [
        "1. Simple json file"
      ],
      "metadata": {
        "id": "R_4_5UoAQUIn"
      }
    },
    {
      "cell_type": "code",
      "source": [
        "import os.path\n",
        "FILE_PATH = \"/content/jsondata/data.json\"\n",
        "\n",
        "if not os.path.isfile(FILE_PATH):\n",
        "  !rm -rf /content/jsondata\n",
        "  !wget -P \"/content/jsondata/\" \"https://raw.githubusercontent.com/JarekMaleszyk/data-science-project-sandbox/refs/heads/main/data.json\""
      ],
      "metadata": {
        "id": "TFX60kVFGEMU"
      },
      "execution_count": 121,
      "outputs": []
    },
    {
      "cell_type": "code",
      "source": [
        "sparkSession = SparkSession.builder.appName('Pratice with pyspark basics').getOrCreate()"
      ],
      "metadata": {
        "id": "0CkKRGoEHQhb"
      },
      "execution_count": 122,
      "outputs": []
    },
    {
      "cell_type": "code",
      "source": [
        "from pyspark.sql.types import StructType, StructField, StringType, IntegerType, ArrayType, DoubleType, BooleanType\n",
        "\n",
        "schema = StructType([\n",
        "    StructField(\"id\", IntegerType(), True),\n",
        "    StructField(\"name\", StringType(), True),\n",
        "    StructField(\"category\", StringType(), True),\n",
        "    StructField(\"quantity\", IntegerType(), True),\n",
        "    StructField(\"price\", DoubleType(), True)\n",
        "])"
      ],
      "metadata": {
        "id": "02bDJCl6Mlp3"
      },
      "execution_count": 123,
      "outputs": []
    },
    {
      "cell_type": "code",
      "source": [
        "pyspark_df_products = sparkSession.read\\\n",
        "  .schema(schema)\\\n",
        "  .option(\"multiline\", True)\\\n",
        "  .json(FILE_PATH)"
      ],
      "metadata": {
        "id": "TP1mr1drI4Vu"
      },
      "execution_count": 124,
      "outputs": []
    },
    {
      "cell_type": "code",
      "source": [
        "pyspark_df_products.printSchema()"
      ],
      "metadata": {
        "colab": {
          "base_uri": "https://localhost:8080/"
        },
        "id": "Y4usa704JRhS",
        "outputId": "a116e540-349a-48fe-d1ba-1a965f958dd1"
      },
      "execution_count": 125,
      "outputs": [
        {
          "output_type": "stream",
          "name": "stdout",
          "text": [
            "root\n",
            " |-- id: integer (nullable = true)\n",
            " |-- name: string (nullable = true)\n",
            " |-- category: string (nullable = true)\n",
            " |-- quantity: integer (nullable = true)\n",
            " |-- price: double (nullable = true)\n",
            "\n"
          ]
        }
      ]
    },
    {
      "cell_type": "code",
      "source": [
        "pyspark_df_products.show()"
      ],
      "metadata": {
        "colab": {
          "base_uri": "https://localhost:8080/"
        },
        "id": "iD4Hh3rTJjvF",
        "outputId": "5cb6a016-34da-4806-83c0-fd46e3a55d24"
      },
      "execution_count": 126,
      "outputs": [
        {
          "output_type": "stream",
          "name": "stdout",
          "text": [
            "+---+--------------------+---------------+--------+------+\n",
            "| id|                name|       category|quantity| price|\n",
            "+---+--------------------+---------------+--------+------+\n",
            "|  1|           iPhone 12|    Electronics|      10|899.99|\n",
            "|  2|     Nike Air Max 90|       Clothing|      25|119.99|\n",
            "|  3|KitchenAid Stand ...|Home Appliances|       5|299.99|\n",
            "|  4|    The Great Gatsby|          Books|      50| 12.99|\n",
            "|  5|L'Oreal Paris Mas...|         Beauty|     100|  9.99|\n",
            "|  6|            Yoga Mat|         Sports|      30| 29.99|\n",
            "|  7| Samsung 4K Smart TV|    Electronics|       8|799.99|\n",
            "|  8|        Levi's Jeans|       Clothing|      15| 49.99|\n",
            "|  9|Dyson Vacuum Cleaner|Home Appliances|       3|399.99|\n",
            "| 10| Harry Potter Series|          Books|      20| 15.99|\n",
            "+---+--------------------+---------------+--------+------+\n",
            "\n"
          ]
        }
      ]
    },
    {
      "cell_type": "markdown",
      "source": [
        "2. More complex json file"
      ],
      "metadata": {
        "id": "FgX-DNi-NRHF"
      }
    },
    {
      "cell_type": "code",
      "source": [
        "import os.path\n",
        "USER_FILE_PATH = \"/content/jsondata/users.json\"\n",
        "\n",
        "if not os.path.isfile(USER_FILE_PATH):\n",
        "  !rm -f /content/jsondata/users.json\n",
        "  !wget -P \"/content/jsondata/\" \"https://jsonplaceholder.typicode.com/users\"\n",
        "  !mv /content/jsondata/users /content/jsondata/users.json"
      ],
      "metadata": {
        "id": "8pvLsR1bNoc6"
      },
      "execution_count": 127,
      "outputs": []
    },
    {
      "cell_type": "code",
      "source": [
        "pyspark_df_users = sparkSession.read\\\n",
        "  .option(\"inferSchema\", True)\\\n",
        "  .option(\"multiline\", True)\\\n",
        "  .json(USER_FILE_PATH)"
      ],
      "metadata": {
        "id": "fMBR7g7jPwpo"
      },
      "execution_count": 128,
      "outputs": []
    },
    {
      "cell_type": "code",
      "source": [
        "pyspark_df_users.printSchema()"
      ],
      "metadata": {
        "colab": {
          "base_uri": "https://localhost:8080/"
        },
        "id": "549IV3-fPwwo",
        "outputId": "58bccacc-35fa-411f-ac1f-811249031547"
      },
      "execution_count": 129,
      "outputs": [
        {
          "output_type": "stream",
          "name": "stdout",
          "text": [
            "root\n",
            " |-- address: struct (nullable = true)\n",
            " |    |-- city: string (nullable = true)\n",
            " |    |-- geo: struct (nullable = true)\n",
            " |    |    |-- lat: string (nullable = true)\n",
            " |    |    |-- lng: string (nullable = true)\n",
            " |    |-- street: string (nullable = true)\n",
            " |    |-- suite: string (nullable = true)\n",
            " |    |-- zipcode: string (nullable = true)\n",
            " |-- company: struct (nullable = true)\n",
            " |    |-- bs: string (nullable = true)\n",
            " |    |-- catchPhrase: string (nullable = true)\n",
            " |    |-- name: string (nullable = true)\n",
            " |-- email: string (nullable = true)\n",
            " |-- id: long (nullable = true)\n",
            " |-- name: string (nullable = true)\n",
            " |-- phone: string (nullable = true)\n",
            " |-- username: string (nullable = true)\n",
            " |-- website: string (nullable = true)\n",
            "\n"
          ]
        }
      ]
    },
    {
      "cell_type": "code",
      "source": [
        "pyspark_df_users.show()"
      ],
      "metadata": {
        "colab": {
          "base_uri": "https://localhost:8080/"
        },
        "id": "bTPhtvsYPwza",
        "outputId": "e5fd1cb7-99b4-41f6-ac3c-8f89d575ca0c"
      },
      "execution_count": 130,
      "outputs": [
        {
          "output_type": "stream",
          "name": "stdout",
          "text": [
            "+--------------------+--------------------+--------------------+---+--------------------+--------------------+----------------+-------------+\n",
            "|             address|             company|               email| id|                name|               phone|        username|      website|\n",
            "+--------------------+--------------------+--------------------+---+--------------------+--------------------+----------------+-------------+\n",
            "|{Gwenborough, {-3...|{harness real-tim...|   Sincere@april.biz|  1|       Leanne Graham|1-770-736-8031 x5...|            Bret|hildegard.org|\n",
            "|{Wisokyburgh, {-4...|{synergize scalab...|   Shanna@melissa.tv|  2|        Ervin Howell| 010-692-6593 x09125|       Antonette|anastasia.net|\n",
            "|{McKenziehaven, {...|{e-enable strateg...|  Nathan@yesenia.net|  3|    Clementine Bauch|      1-463-123-4447|        Samantha|  ramiro.info|\n",
            "|{South Elvis, {29...|{transition cutti...|Julianne.OConner@...|  4|    Patricia Lebsack|   493-170-9623 x156|        Karianne|     kale.biz|\n",
            "|{Roscoeview, {-31...|{revolutionize en...|Lucio_Hettinger@a...|  5|    Chelsey Dietrich|       (254)954-1289|          Kamren| demarco.info|\n",
            "|{South Christy, {...|{e-enable innovat...|Karley_Dach@jaspe...|  6|Mrs. Dennis Schulist|1-477-935-8478 x6430|Leopoldo_Corkery|      ola.org|\n",
            "|{Howemouth, {24.8...|{generate enterpr...|Telly.Hoeger@bill...|  7|     Kurtis Weissnat|        210.067.6132|    Elwyn.Skiles|     elvis.io|\n",
            "|{Aliyaview, {-14....|{e-enable extensi...|Sherwood@rosamond.me|  8|Nicholas Runolfsd...|   586.493.6943 x140|   Maxime_Nienow| jacynthe.com|\n",
            "|{Bartholomebury, ...|{aggregate real-t...|Chaim_McDermott@d...|  9|     Glenna Reichert|(775)976-6794 x41206|        Delphine|   conrad.com|\n",
            "|{Lebsackbury, {-3...|{target end-to-en...|Rey.Padberg@karin...| 10|  Clementina DuBuque|        024-648-3804|  Moriah.Stanton|  ambrose.net|\n",
            "+--------------------+--------------------+--------------------+---+--------------------+--------------------+----------------+-------------+\n",
            "\n"
          ]
        }
      ]
    },
    {
      "cell_type": "code",
      "source": [],
      "metadata": {
        "id": "_yt5VXKVPw14"
      },
      "execution_count": 130,
      "outputs": []
    },
    {
      "cell_type": "code",
      "source": [],
      "metadata": {
        "id": "JE5KSTD0Pw4U"
      },
      "execution_count": 130,
      "outputs": []
    }
  ]
}