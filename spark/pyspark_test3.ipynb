{
  "nbformat": 4,
  "nbformat_minor": 0,
  "metadata": {
    "colab": {
      "provenance": [],
      "authorship_tag": "ABX9TyMXkdL65r7n92hVAdar0AJq",
      "include_colab_link": true
    },
    "kernelspec": {
      "name": "python3",
      "display_name": "Python 3"
    },
    "language_info": {
      "name": "python"
    }
  },
  "cells": [
    {
      "cell_type": "markdown",
      "metadata": {
        "id": "view-in-github",
        "colab_type": "text"
      },
      "source": [
        "<a href=\"https://colab.research.google.com/github/JarekMaleszyk/data-science-project-sandbox/blob/main/pyspark_test3.ipynb\" target=\"_parent\"><img src=\"https://colab.research.google.com/assets/colab-badge.svg\" alt=\"Open In Colab\"/></a>"
      ]
    },
    {
      "cell_type": "code",
      "source": [
        "APP_NAME: str = 'ML Practice'"
      ],
      "metadata": {
        "id": "jVIKi65Z82Jb"
      },
      "execution_count": 26,
      "outputs": []
    },
    {
      "cell_type": "code",
      "source": [
        "try:\n",
        "  import pyspark\n",
        "except:\n",
        "  !pip install pyspark -q\n",
        "  import pyspark\n",
        "finally:\n",
        "  from pyspark.sql import SparkSession\n",
        "  spark = SparkSession. \\\n",
        "      builder. \\\n",
        "      appName(APP_NAME). \\\n",
        "      getOrCreate()"
      ],
      "metadata": {
        "id": "YTvzurVRPmWA"
      },
      "execution_count": 27,
      "outputs": []
    },
    {
      "cell_type": "markdown",
      "source": [
        "### Check spark version"
      ],
      "metadata": {
        "id": "QISVT1La9lCF"
      }
    },
    {
      "cell_type": "code",
      "source": [
        "spark"
      ],
      "metadata": {
        "colab": {
          "base_uri": "https://localhost:8080/",
          "height": 222
        },
        "id": "UEhZBDrYPiF8",
        "outputId": "8bc263db-0b4f-4f32-acab-e353cc383faf"
      },
      "execution_count": 28,
      "outputs": [
        {
          "output_type": "execute_result",
          "data": {
            "text/plain": [
              "<pyspark.sql.session.SparkSession at 0x7977cc44dd80>"
            ],
            "text/html": [
              "\n",
              "            <div>\n",
              "                <p><b>SparkSession - in-memory</b></p>\n",
              "                \n",
              "        <div>\n",
              "            <p><b>SparkContext</b></p>\n",
              "\n",
              "            <p><a href=\"http://849ce77e3334:4040\">Spark UI</a></p>\n",
              "\n",
              "            <dl>\n",
              "              <dt>Version</dt>\n",
              "                <dd><code>v3.5.3</code></dd>\n",
              "              <dt>Master</dt>\n",
              "                <dd><code>local[*]</code></dd>\n",
              "              <dt>AppName</dt>\n",
              "                <dd><code>ML Practice</code></dd>\n",
              "            </dl>\n",
              "        </div>\n",
              "        \n",
              "            </div>\n",
              "        "
            ]
          },
          "metadata": {},
          "execution_count": 28
        }
      ]
    },
    {
      "cell_type": "markdown",
      "source": [
        "### DataFrame API"
      ],
      "metadata": {
        "id": "CEWxLRrSQNtV"
      }
    },
    {
      "cell_type": "code",
      "source": [
        "df_pyspark = spark.read.csv('/content/simple_data2.csv', sep=';', header=True, inferSchema=True)\n",
        "df_pyspark.show()"
      ],
      "metadata": {
        "colab": {
          "base_uri": "https://localhost:8080/"
        },
        "id": "1iNSs_6k_zmr",
        "outputId": "b8b8e523-2a2f-4195-9740-fb02f870bc5a"
      },
      "execution_count": 29,
      "outputs": [
        {
          "output_type": "stream",
          "name": "stdout",
          "text": [
            "+-----+---+----------+-------+----------+\n",
            "| name|age|experience| salary|department|\n",
            "+-----+---+----------+-------+----------+\n",
            "| Kris| 31|         6| 2230.3|        IT|\n",
            "| Adam| 30|         5|2230.89|        HR|\n",
            "|Sunny| 39|        14|3230.21|        HR|\n",
            "|  Tom| 28|         5|1890.32|        IT|\n",
            "| John| 40|        18| 3400.0|  HelpDesk|\n",
            "| Mark| 36|        12|4730.04|        IT|\n",
            "|  Bob| 35|         7|1930.05|        IT|\n",
            "|Ellen| 34|         7|2230.96|  HelpDesk|\n",
            "|  Jim| 46|        21|6230.99|        IT|\n",
            "| Paul| 39|        11| 2710.5|        IT|\n",
            "|  Tom| 38|        17|4280.45|        IT|\n",
            "+-----+---+----------+-------+----------+\n",
            "\n"
          ]
        }
      ]
    },
    {
      "cell_type": "markdown",
      "source": [
        "## VectorAssembler - a feature transformer that merges multiple columns into a vector column."
      ],
      "metadata": {
        "id": "J4fHCz4cAoyH"
      }
    },
    {
      "cell_type": "code",
      "source": [
        "from pyspark.ml.feature import VectorAssembler\n",
        "feature_assembler = VectorAssembler(inputCols=['age', 'experience'], outputCol='independent_feature')\n",
        "output = feature_assembler.transform(df_pyspark)\n",
        "output.show()"
      ],
      "metadata": {
        "colab": {
          "base_uri": "https://localhost:8080/"
        },
        "id": "SA0YhbVZBpc9",
        "outputId": "8e1a5f0e-9fb7-4784-d1c3-7f2d32db0144"
      },
      "execution_count": 30,
      "outputs": [
        {
          "output_type": "stream",
          "name": "stdout",
          "text": [
            "+-----+---+----------+-------+----------+-------------------+\n",
            "| name|age|experience| salary|department|independent_feature|\n",
            "+-----+---+----------+-------+----------+-------------------+\n",
            "| Kris| 31|         6| 2230.3|        IT|         [31.0,6.0]|\n",
            "| Adam| 30|         5|2230.89|        HR|         [30.0,5.0]|\n",
            "|Sunny| 39|        14|3230.21|        HR|        [39.0,14.0]|\n",
            "|  Tom| 28|         5|1890.32|        IT|         [28.0,5.0]|\n",
            "| John| 40|        18| 3400.0|  HelpDesk|        [40.0,18.0]|\n",
            "| Mark| 36|        12|4730.04|        IT|        [36.0,12.0]|\n",
            "|  Bob| 35|         7|1930.05|        IT|         [35.0,7.0]|\n",
            "|Ellen| 34|         7|2230.96|  HelpDesk|         [34.0,7.0]|\n",
            "|  Jim| 46|        21|6230.99|        IT|        [46.0,21.0]|\n",
            "| Paul| 39|        11| 2710.5|        IT|        [39.0,11.0]|\n",
            "|  Tom| 38|        17|4280.45|        IT|        [38.0,17.0]|\n",
            "+-----+---+----------+-------+----------+-------------------+\n",
            "\n"
          ]
        }
      ]
    },
    {
      "cell_type": "code",
      "source": [
        "final_data = output.select(['independent_feature', 'salary'])\n",
        "final_data.show()"
      ],
      "metadata": {
        "colab": {
          "base_uri": "https://localhost:8080/"
        },
        "id": "iJ3Fy741CMCD",
        "outputId": "5de2c538-fad3-429b-da14-15b19697c6ce"
      },
      "execution_count": 31,
      "outputs": [
        {
          "output_type": "stream",
          "name": "stdout",
          "text": [
            "+-------------------+-------+\n",
            "|independent_feature| salary|\n",
            "+-------------------+-------+\n",
            "|         [31.0,6.0]| 2230.3|\n",
            "|         [30.0,5.0]|2230.89|\n",
            "|        [39.0,14.0]|3230.21|\n",
            "|         [28.0,5.0]|1890.32|\n",
            "|        [40.0,18.0]| 3400.0|\n",
            "|        [36.0,12.0]|4730.04|\n",
            "|         [35.0,7.0]|1930.05|\n",
            "|         [34.0,7.0]|2230.96|\n",
            "|        [46.0,21.0]|6230.99|\n",
            "|        [39.0,11.0]| 2710.5|\n",
            "|        [38.0,17.0]|4280.45|\n",
            "+-------------------+-------+\n",
            "\n"
          ]
        }
      ]
    },
    {
      "cell_type": "markdown",
      "source": [
        "### Linear Regression"
      ],
      "metadata": {
        "id": "IuxBToKqDIio"
      }
    },
    {
      "cell_type": "code",
      "source": [
        "from pyspark.ml.regression import LinearRegression\n",
        "treain_data, test_data = final_data.randomSplit([0.75, 0.25]) #test split 75% to 25%\n",
        "regressor = LinearRegression(featuresCol='independent_feature', labelCol='salary')\n",
        "regressor = regressor.fit(treain_data)"
      ],
      "metadata": {
        "id": "-22F37RADIn1"
      },
      "execution_count": 32,
      "outputs": []
    },
    {
      "cell_type": "code",
      "source": [
        "regressor.coefficients"
      ],
      "metadata": {
        "colab": {
          "base_uri": "https://localhost:8080/"
        },
        "id": "YDEWXOZTDWoq",
        "outputId": "281e2ccb-dbe3-4b10-80eb-565156a1e55b"
      },
      "execution_count": 33,
      "outputs": [
        {
          "output_type": "execute_result",
          "data": {
            "text/plain": [
              "DenseVector([45.1422, 181.5727])"
            ]
          },
          "metadata": {},
          "execution_count": 33
        }
      ]
    },
    {
      "cell_type": "code",
      "source": [
        "regressor.intercept"
      ],
      "metadata": {
        "colab": {
          "base_uri": "https://localhost:8080/"
        },
        "id": "cVAw484dHmbW",
        "outputId": "93745d34-2b42-40a9-f5b6-70aef976c737"
      },
      "execution_count": 34,
      "outputs": [
        {
          "output_type": "execute_result",
          "data": {
            "text/plain": [
              "-617.1880700473035"
            ]
          },
          "metadata": {},
          "execution_count": 34
        }
      ]
    },
    {
      "cell_type": "code",
      "source": [
        "pred_data=regressor.evaluate(test_data)\n",
        "pred_data.predictions.show()"
      ],
      "metadata": {
        "colab": {
          "base_uri": "https://localhost:8080/"
        },
        "id": "8Jr-cQXtH63K",
        "outputId": "846ef04f-494e-48f7-d971-ae25f25d0aad"
      },
      "execution_count": 35,
      "outputs": [
        {
          "output_type": "stream",
          "name": "stdout",
          "text": [
            "+-------------------+-------+------------------+\n",
            "|independent_feature| salary|        prediction|\n",
            "+-------------------+-------+------------------+\n",
            "|         [30.0,5.0]|2230.89|1644.9419675018216|\n",
            "|        [36.0,12.0]|4730.04|3186.8042779291522|\n",
            "|        [39.0,14.0]|3230.21|3685.3763574134414|\n",
            "+-------------------+-------+------------------+\n",
            "\n"
          ]
        }
      ]
    },
    {
      "cell_type": "code",
      "source": [
        "pred_data.meanAbsoluteError, pred_data.meanSquaredError"
      ],
      "metadata": {
        "colab": {
          "base_uri": "https://localhost:8080/"
        },
        "id": "HG9SCFhMH66W",
        "outputId": "f38e3cfa-1830-4371-ab16-2cfdce2127c9"
      },
      "execution_count": 37,
      "outputs": [
        {
          "output_type": "execute_result",
          "data": {
            "text/plain": [
              "(861.4500373274891, 977362.6678616791)"
            ]
          },
          "metadata": {},
          "execution_count": 37
        }
      ]
    },
    {
      "cell_type": "code",
      "source": [
        "regressor.save('linear_regression_model')"
      ],
      "metadata": {
        "id": "5_6k7zrtH68w"
      },
      "execution_count": 41,
      "outputs": []
    },
    {
      "cell_type": "code",
      "source": [],
      "metadata": {
        "id": "NA3EFD6cH6_j"
      },
      "execution_count": 35,
      "outputs": []
    }
  ]
}