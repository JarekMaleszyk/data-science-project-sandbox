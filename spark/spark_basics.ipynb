{
 "cells": [
  {
   "cell_type": "code",
   "execution_count": 39,
   "id": "1282b669-e2c0-4609-98f8-f0cf396118eb",
   "metadata": {},
   "outputs": [],
   "source": [
    "try:\n",
    "  import pyspark\n",
    "except:\n",
    "  !pip install pyspark\n",
    "  import pyspark\n",
    "finally:\n",
    "  from pyspark.sql import SparkSession"
   ]
  },
  {
   "cell_type": "code",
   "execution_count": 40,
   "id": "85522500-356c-403b-9e4b-fcc6cf51f603",
   "metadata": {},
   "outputs": [],
   "source": [
    "from pathlib import Path\n",
    "\n",
    "def create_folder(directory_name: str) -> None:\n",
    "    try:\n",
    "        os.mkdir(Path(directory_name))\n",
    "        print(f\"Directory '{directory_name}' created successfully.\")\n",
    "    except FileExistsError:\n",
    "        print(f\"Directory '{directory_name}' already exists.\")\n",
    "    except PermissionError:\n",
    "        print(f\"Permission denied: Unable to create '{directory_name}'.\")\n",
    "    except Exception as e:\n",
    "        print(f\"An error occurred: {e}\")\n",
    "\n",
    "def remove_file(directory_name: str, file_name: str) -> None:\n",
    "    try:\n",
    "        os.remove(f\"{Path(directory_name)}/{file_name}\") \n",
    "        print(f\"File '{Path(directory_name)}/{file_name}' removed successfully.\")\n",
    "    except FileExistsError:\n",
    "        print(f\"File '{Path(directory_name)}/{file_name}' doesn't exists.\")\n",
    "    except PermissionError:\n",
    "        print(f\"Permission denied: Unable to remove file '{Path(directory_name)}/{file_name}'.\")\n",
    "    except Exception as e:\n",
    "        print(f\"An error occurred: {e}\")\n",
    "\n"
   ]
  },
  {
   "cell_type": "code",
   "execution_count": 41,
   "id": "a46e87af-6124-4258-b577-7a53a49e188d",
   "metadata": {},
   "outputs": [
    {
     "name": "stdout",
     "output_type": "stream",
     "text": [
      "Directory './tmp/' already exists.\n",
      "File 'tmp/electro_product_mock.json' removed successfully.\n",
      "100% [................................................................................] 1537 / 1537"
     ]
    },
    {
     "data": {
      "text/plain": [
       "'data.json'"
      ]
     },
     "execution_count": 41,
     "metadata": {},
     "output_type": "execute_result"
    }
   ],
   "source": [
    "import os.path\n",
    "\n",
    "try:\n",
    "  import wget\n",
    "except:\n",
    "  !pip install wget -q\n",
    "  import wget\n",
    "\n",
    "try:\n",
    "  import shutil\n",
    "except:\n",
    "  !pip install shutil -q\n",
    "  import shutil\n",
    "\n",
    "FILE_PATH = \"./tmp/\"\n",
    "FILE_NAME = \"electro_product_mock.json\"\n",
    "URL = \"https://raw.githubusercontent.com/JarekMaleszyk/data-science-project-sandbox/refs/heads/main/data.json\"\n",
    "\n",
    "if not os.path.isfile(FILE_PATH):\n",
    "    create_folder(FILE_PATH)\n",
    "    remove_file(FILE_PATH, FILE_NAME) \n",
    "    filename = wget.download(URL)\n",
    "    shutil.move(filename, f\"{Path(FILE_PATH)}/{FILE_NAME}\")\n",
    "\n",
    "filename"
   ]
  },
  {
   "cell_type": "code",
   "execution_count": 42,
   "id": "58187776-921c-4c01-a0e1-7ca8564c32b3",
   "metadata": {},
   "outputs": [],
   "source": [
    "sparkSession = SparkSession.builder.appName('Spark basics').getOrCreate()\n",
    "sparkSession.sparkContext.setLogLevel(\"WARN\")"
   ]
  },
  {
   "cell_type": "code",
   "execution_count": 43,
   "id": "b1fc077e-f842-4e0e-8145-cd5b043a6eaf",
   "metadata": {},
   "outputs": [],
   "source": [
    "from pyspark.sql.types import (StructType, StructField, StringType, IntegerType,\n",
    "                               ArrayType, DoubleType, BooleanType)\n",
    "\n",
    "schema = StructType(fields=[\n",
    "    StructField(\"id\", IntegerType(), True), # True = nullable\n",
    "    StructField(\"name\", StringType(), True),\n",
    "    StructField(\"category\", StringType(), True),\n",
    "    StructField(\"quantity\", IntegerType(), True),\n",
    "    StructField(\"price\", DoubleType(), True)\n",
    "])"
   ]
  },
  {
   "cell_type": "code",
   "execution_count": 44,
   "id": "74b7fdc6-6a26-4e54-8adb-6c1efebd89be",
   "metadata": {},
   "outputs": [],
   "source": [
    "pyspark_df_products = sparkSession.read\\\n",
    "  .schema(schema)\\\n",
    "  .option(\"multiline\", True)\\\n",
    "  .json(f\"{Path(FILE_PATH)}/{FILE_NAME}\")"
   ]
  },
  {
   "cell_type": "code",
   "execution_count": 45,
   "id": "e640777b-7e30-4fe8-ba87-53a19a8c4dc2",
   "metadata": {},
   "outputs": [
    {
     "name": "stdout",
     "output_type": "stream",
     "text": [
      "root\n",
      " |-- id: integer (nullable = true)\n",
      " |-- name: string (nullable = true)\n",
      " |-- category: string (nullable = true)\n",
      " |-- quantity: integer (nullable = true)\n",
      " |-- price: double (nullable = true)\n",
      "\n"
     ]
    }
   ],
   "source": [
    "pyspark_df_products.printSchema()"
   ]
  },
  {
   "cell_type": "code",
   "execution_count": 46,
   "id": "517655a5-bc9f-45a0-ae54-658bb7cc9120",
   "metadata": {},
   "outputs": [
    {
     "name": "stdout",
     "output_type": "stream",
     "text": [
      "+---+--------------------+---------------+--------+------+\n",
      "| id|                name|       category|quantity| price|\n",
      "+---+--------------------+---------------+--------+------+\n",
      "|  1|           iPhone 12|    Electronics|      10|899.99|\n",
      "|  2|     Nike Air Max 90|       Clothing|      25|119.99|\n",
      "|  3|KitchenAid Stand ...|Home Appliances|       5|299.99|\n",
      "|  4|    The Great Gatsby|          Books|      50| 12.99|\n",
      "|  5|L'Oreal Paris Mas...|         Beauty|     100|  9.99|\n",
      "|  6|            Yoga Mat|         Sports|      30| 29.99|\n",
      "|  7| Samsung 4K Smart TV|    Electronics|       8|799.99|\n",
      "|  8|        Levi's Jeans|       Clothing|      15| 49.99|\n",
      "|  9|Dyson Vacuum Cleaner|Home Appliances|       3|399.99|\n",
      "| 10| Harry Potter Series|          Books|      20| 15.99|\n",
      "+---+--------------------+---------------+--------+------+\n",
      "\n"
     ]
    }
   ],
   "source": [
    "pyspark_df_products.show()"
   ]
  },
  {
   "cell_type": "code",
   "execution_count": null,
   "id": "79eee112-9f48-412a-bf7f-2db5ba4329ec",
   "metadata": {},
   "outputs": [],
   "source": []
  },
  {
   "cell_type": "code",
   "execution_count": null,
   "id": "f7bff11d-8d15-41ff-9ea8-22504ae0ee39",
   "metadata": {},
   "outputs": [],
   "source": []
  },
  {
   "cell_type": "code",
   "execution_count": null,
   "id": "c6c28d72-9467-42b8-bc4e-ff1a66c69da2",
   "metadata": {},
   "outputs": [],
   "source": []
  }
 ],
 "metadata": {
  "kernelspec": {
   "display_name": "Python 3 (ipykernel)",
   "language": "python",
   "name": "python3"
  },
  "language_info": {
   "codemirror_mode": {
    "name": "ipython",
    "version": 3
   },
   "file_extension": ".py",
   "mimetype": "text/x-python",
   "name": "python",
   "nbconvert_exporter": "python",
   "pygments_lexer": "ipython3",
   "version": "3.10.12"
  }
 },
 "nbformat": 4,
 "nbformat_minor": 5
}
