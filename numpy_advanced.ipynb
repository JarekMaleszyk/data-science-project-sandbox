{
  "nbformat": 4,
  "nbformat_minor": 0,
  "metadata": {
    "colab": {
      "provenance": [],
      "authorship_tag": "ABX9TyNask8hMTO9xIVDMc1cgw96",
      "include_colab_link": true
    },
    "kernelspec": {
      "name": "python3",
      "display_name": "Python 3"
    },
    "language_info": {
      "name": "python"
    }
  },
  "cells": [
    {
      "cell_type": "markdown",
      "metadata": {
        "id": "view-in-github",
        "colab_type": "text"
      },
      "source": [
        "<a href=\"https://colab.research.google.com/github/JarekMaleszyk/data-science-project-sandbox/blob/main/numpy_advanced.ipynb\" target=\"_parent\"><img src=\"https://colab.research.google.com/assets/colab-badge.svg\" alt=\"Open In Colab\"/></a>"
      ]
    },
    {
      "cell_type": "code",
      "execution_count": 326,
      "metadata": {
        "id": "N5EH1S_1hc19"
      },
      "outputs": [],
      "source": [
        "import numpy as np\n",
        "import pandas as pd"
      ]
    },
    {
      "cell_type": "code",
      "source": [
        "df = pd.read_csv('/content/sample_data/california_housing_test.csv')\n",
        "df.reset_index(inplace=True)\n",
        "df.head()"
      ],
      "metadata": {
        "colab": {
          "base_uri": "https://localhost:8080/",
          "height": 206
        },
        "id": "achxPDgHhit5",
        "outputId": "aeeb4c17-3f74-49f7-fc0c-d89fa1414675"
      },
      "execution_count": 327,
      "outputs": [
        {
          "output_type": "execute_result",
          "data": {
            "text/plain": [
              "   index  longitude  latitude  housing_median_age  total_rooms  \\\n",
              "0      0    -122.05     37.37                27.0       3885.0   \n",
              "1      1    -118.30     34.26                43.0       1510.0   \n",
              "2      2    -117.81     33.78                27.0       3589.0   \n",
              "3      3    -118.36     33.82                28.0         67.0   \n",
              "4      4    -119.67     36.33                19.0       1241.0   \n",
              "\n",
              "   total_bedrooms  population  households  median_income  median_house_value  \n",
              "0           661.0      1537.0       606.0         6.6085            344700.0  \n",
              "1           310.0       809.0       277.0         3.5990            176500.0  \n",
              "2           507.0      1484.0       495.0         5.7934            270500.0  \n",
              "3            15.0        49.0        11.0         6.1359            330000.0  \n",
              "4           244.0       850.0       237.0         2.9375             81700.0  "
            ],
            "text/html": [
              "\n",
              "  <div id=\"df-dcebc32a-6097-44fb-96ff-5dd1f08aec74\" class=\"colab-df-container\">\n",
              "    <div>\n",
              "<style scoped>\n",
              "    .dataframe tbody tr th:only-of-type {\n",
              "        vertical-align: middle;\n",
              "    }\n",
              "\n",
              "    .dataframe tbody tr th {\n",
              "        vertical-align: top;\n",
              "    }\n",
              "\n",
              "    .dataframe thead th {\n",
              "        text-align: right;\n",
              "    }\n",
              "</style>\n",
              "<table border=\"1\" class=\"dataframe\">\n",
              "  <thead>\n",
              "    <tr style=\"text-align: right;\">\n",
              "      <th></th>\n",
              "      <th>index</th>\n",
              "      <th>longitude</th>\n",
              "      <th>latitude</th>\n",
              "      <th>housing_median_age</th>\n",
              "      <th>total_rooms</th>\n",
              "      <th>total_bedrooms</th>\n",
              "      <th>population</th>\n",
              "      <th>households</th>\n",
              "      <th>median_income</th>\n",
              "      <th>median_house_value</th>\n",
              "    </tr>\n",
              "  </thead>\n",
              "  <tbody>\n",
              "    <tr>\n",
              "      <th>0</th>\n",
              "      <td>0</td>\n",
              "      <td>-122.05</td>\n",
              "      <td>37.37</td>\n",
              "      <td>27.0</td>\n",
              "      <td>3885.0</td>\n",
              "      <td>661.0</td>\n",
              "      <td>1537.0</td>\n",
              "      <td>606.0</td>\n",
              "      <td>6.6085</td>\n",
              "      <td>344700.0</td>\n",
              "    </tr>\n",
              "    <tr>\n",
              "      <th>1</th>\n",
              "      <td>1</td>\n",
              "      <td>-118.30</td>\n",
              "      <td>34.26</td>\n",
              "      <td>43.0</td>\n",
              "      <td>1510.0</td>\n",
              "      <td>310.0</td>\n",
              "      <td>809.0</td>\n",
              "      <td>277.0</td>\n",
              "      <td>3.5990</td>\n",
              "      <td>176500.0</td>\n",
              "    </tr>\n",
              "    <tr>\n",
              "      <th>2</th>\n",
              "      <td>2</td>\n",
              "      <td>-117.81</td>\n",
              "      <td>33.78</td>\n",
              "      <td>27.0</td>\n",
              "      <td>3589.0</td>\n",
              "      <td>507.0</td>\n",
              "      <td>1484.0</td>\n",
              "      <td>495.0</td>\n",
              "      <td>5.7934</td>\n",
              "      <td>270500.0</td>\n",
              "    </tr>\n",
              "    <tr>\n",
              "      <th>3</th>\n",
              "      <td>3</td>\n",
              "      <td>-118.36</td>\n",
              "      <td>33.82</td>\n",
              "      <td>28.0</td>\n",
              "      <td>67.0</td>\n",
              "      <td>15.0</td>\n",
              "      <td>49.0</td>\n",
              "      <td>11.0</td>\n",
              "      <td>6.1359</td>\n",
              "      <td>330000.0</td>\n",
              "    </tr>\n",
              "    <tr>\n",
              "      <th>4</th>\n",
              "      <td>4</td>\n",
              "      <td>-119.67</td>\n",
              "      <td>36.33</td>\n",
              "      <td>19.0</td>\n",
              "      <td>1241.0</td>\n",
              "      <td>244.0</td>\n",
              "      <td>850.0</td>\n",
              "      <td>237.0</td>\n",
              "      <td>2.9375</td>\n",
              "      <td>81700.0</td>\n",
              "    </tr>\n",
              "  </tbody>\n",
              "</table>\n",
              "</div>\n",
              "    <div class=\"colab-df-buttons\">\n",
              "\n",
              "  <div class=\"colab-df-container\">\n",
              "    <button class=\"colab-df-convert\" onclick=\"convertToInteractive('df-dcebc32a-6097-44fb-96ff-5dd1f08aec74')\"\n",
              "            title=\"Convert this dataframe to an interactive table.\"\n",
              "            style=\"display:none;\">\n",
              "\n",
              "  <svg xmlns=\"http://www.w3.org/2000/svg\" height=\"24px\" viewBox=\"0 -960 960 960\">\n",
              "    <path d=\"M120-120v-720h720v720H120Zm60-500h600v-160H180v160Zm220 220h160v-160H400v160Zm0 220h160v-160H400v160ZM180-400h160v-160H180v160Zm440 0h160v-160H620v160ZM180-180h160v-160H180v160Zm440 0h160v-160H620v160Z\"/>\n",
              "  </svg>\n",
              "    </button>\n",
              "\n",
              "  <style>\n",
              "    .colab-df-container {\n",
              "      display:flex;\n",
              "      gap: 12px;\n",
              "    }\n",
              "\n",
              "    .colab-df-convert {\n",
              "      background-color: #E8F0FE;\n",
              "      border: none;\n",
              "      border-radius: 50%;\n",
              "      cursor: pointer;\n",
              "      display: none;\n",
              "      fill: #1967D2;\n",
              "      height: 32px;\n",
              "      padding: 0 0 0 0;\n",
              "      width: 32px;\n",
              "    }\n",
              "\n",
              "    .colab-df-convert:hover {\n",
              "      background-color: #E2EBFA;\n",
              "      box-shadow: 0px 1px 2px rgba(60, 64, 67, 0.3), 0px 1px 3px 1px rgba(60, 64, 67, 0.15);\n",
              "      fill: #174EA6;\n",
              "    }\n",
              "\n",
              "    .colab-df-buttons div {\n",
              "      margin-bottom: 4px;\n",
              "    }\n",
              "\n",
              "    [theme=dark] .colab-df-convert {\n",
              "      background-color: #3B4455;\n",
              "      fill: #D2E3FC;\n",
              "    }\n",
              "\n",
              "    [theme=dark] .colab-df-convert:hover {\n",
              "      background-color: #434B5C;\n",
              "      box-shadow: 0px 1px 3px 1px rgba(0, 0, 0, 0.15);\n",
              "      filter: drop-shadow(0px 1px 2px rgba(0, 0, 0, 0.3));\n",
              "      fill: #FFFFFF;\n",
              "    }\n",
              "  </style>\n",
              "\n",
              "    <script>\n",
              "      const buttonEl =\n",
              "        document.querySelector('#df-dcebc32a-6097-44fb-96ff-5dd1f08aec74 button.colab-df-convert');\n",
              "      buttonEl.style.display =\n",
              "        google.colab.kernel.accessAllowed ? 'block' : 'none';\n",
              "\n",
              "      async function convertToInteractive(key) {\n",
              "        const element = document.querySelector('#df-dcebc32a-6097-44fb-96ff-5dd1f08aec74');\n",
              "        const dataTable =\n",
              "          await google.colab.kernel.invokeFunction('convertToInteractive',\n",
              "                                                    [key], {});\n",
              "        if (!dataTable) return;\n",
              "\n",
              "        const docLinkHtml = 'Like what you see? Visit the ' +\n",
              "          '<a target=\"_blank\" href=https://colab.research.google.com/notebooks/data_table.ipynb>data table notebook</a>'\n",
              "          + ' to learn more about interactive tables.';\n",
              "        element.innerHTML = '';\n",
              "        dataTable['output_type'] = 'display_data';\n",
              "        await google.colab.output.renderOutput(dataTable, element);\n",
              "        const docLink = document.createElement('div');\n",
              "        docLink.innerHTML = docLinkHtml;\n",
              "        element.appendChild(docLink);\n",
              "      }\n",
              "    </script>\n",
              "  </div>\n",
              "\n",
              "\n",
              "<div id=\"df-fbf5b892-b310-41bd-b8f4-9ad04e16a73d\">\n",
              "  <button class=\"colab-df-quickchart\" onclick=\"quickchart('df-fbf5b892-b310-41bd-b8f4-9ad04e16a73d')\"\n",
              "            title=\"Suggest charts\"\n",
              "            style=\"display:none;\">\n",
              "\n",
              "<svg xmlns=\"http://www.w3.org/2000/svg\" height=\"24px\"viewBox=\"0 0 24 24\"\n",
              "     width=\"24px\">\n",
              "    <g>\n",
              "        <path d=\"M19 3H5c-1.1 0-2 .9-2 2v14c0 1.1.9 2 2 2h14c1.1 0 2-.9 2-2V5c0-1.1-.9-2-2-2zM9 17H7v-7h2v7zm4 0h-2V7h2v10zm4 0h-2v-4h2v4z\"/>\n",
              "    </g>\n",
              "</svg>\n",
              "  </button>\n",
              "\n",
              "<style>\n",
              "  .colab-df-quickchart {\n",
              "      --bg-color: #E8F0FE;\n",
              "      --fill-color: #1967D2;\n",
              "      --hover-bg-color: #E2EBFA;\n",
              "      --hover-fill-color: #174EA6;\n",
              "      --disabled-fill-color: #AAA;\n",
              "      --disabled-bg-color: #DDD;\n",
              "  }\n",
              "\n",
              "  [theme=dark] .colab-df-quickchart {\n",
              "      --bg-color: #3B4455;\n",
              "      --fill-color: #D2E3FC;\n",
              "      --hover-bg-color: #434B5C;\n",
              "      --hover-fill-color: #FFFFFF;\n",
              "      --disabled-bg-color: #3B4455;\n",
              "      --disabled-fill-color: #666;\n",
              "  }\n",
              "\n",
              "  .colab-df-quickchart {\n",
              "    background-color: var(--bg-color);\n",
              "    border: none;\n",
              "    border-radius: 50%;\n",
              "    cursor: pointer;\n",
              "    display: none;\n",
              "    fill: var(--fill-color);\n",
              "    height: 32px;\n",
              "    padding: 0;\n",
              "    width: 32px;\n",
              "  }\n",
              "\n",
              "  .colab-df-quickchart:hover {\n",
              "    background-color: var(--hover-bg-color);\n",
              "    box-shadow: 0 1px 2px rgba(60, 64, 67, 0.3), 0 1px 3px 1px rgba(60, 64, 67, 0.15);\n",
              "    fill: var(--button-hover-fill-color);\n",
              "  }\n",
              "\n",
              "  .colab-df-quickchart-complete:disabled,\n",
              "  .colab-df-quickchart-complete:disabled:hover {\n",
              "    background-color: var(--disabled-bg-color);\n",
              "    fill: var(--disabled-fill-color);\n",
              "    box-shadow: none;\n",
              "  }\n",
              "\n",
              "  .colab-df-spinner {\n",
              "    border: 2px solid var(--fill-color);\n",
              "    border-color: transparent;\n",
              "    border-bottom-color: var(--fill-color);\n",
              "    animation:\n",
              "      spin 1s steps(1) infinite;\n",
              "  }\n",
              "\n",
              "  @keyframes spin {\n",
              "    0% {\n",
              "      border-color: transparent;\n",
              "      border-bottom-color: var(--fill-color);\n",
              "      border-left-color: var(--fill-color);\n",
              "    }\n",
              "    20% {\n",
              "      border-color: transparent;\n",
              "      border-left-color: var(--fill-color);\n",
              "      border-top-color: var(--fill-color);\n",
              "    }\n",
              "    30% {\n",
              "      border-color: transparent;\n",
              "      border-left-color: var(--fill-color);\n",
              "      border-top-color: var(--fill-color);\n",
              "      border-right-color: var(--fill-color);\n",
              "    }\n",
              "    40% {\n",
              "      border-color: transparent;\n",
              "      border-right-color: var(--fill-color);\n",
              "      border-top-color: var(--fill-color);\n",
              "    }\n",
              "    60% {\n",
              "      border-color: transparent;\n",
              "      border-right-color: var(--fill-color);\n",
              "    }\n",
              "    80% {\n",
              "      border-color: transparent;\n",
              "      border-right-color: var(--fill-color);\n",
              "      border-bottom-color: var(--fill-color);\n",
              "    }\n",
              "    90% {\n",
              "      border-color: transparent;\n",
              "      border-bottom-color: var(--fill-color);\n",
              "    }\n",
              "  }\n",
              "</style>\n",
              "\n",
              "  <script>\n",
              "    async function quickchart(key) {\n",
              "      const quickchartButtonEl =\n",
              "        document.querySelector('#' + key + ' button');\n",
              "      quickchartButtonEl.disabled = true;  // To prevent multiple clicks.\n",
              "      quickchartButtonEl.classList.add('colab-df-spinner');\n",
              "      try {\n",
              "        const charts = await google.colab.kernel.invokeFunction(\n",
              "            'suggestCharts', [key], {});\n",
              "      } catch (error) {\n",
              "        console.error('Error during call to suggestCharts:', error);\n",
              "      }\n",
              "      quickchartButtonEl.classList.remove('colab-df-spinner');\n",
              "      quickchartButtonEl.classList.add('colab-df-quickchart-complete');\n",
              "    }\n",
              "    (() => {\n",
              "      let quickchartButtonEl =\n",
              "        document.querySelector('#df-fbf5b892-b310-41bd-b8f4-9ad04e16a73d button');\n",
              "      quickchartButtonEl.style.display =\n",
              "        google.colab.kernel.accessAllowed ? 'block' : 'none';\n",
              "    })();\n",
              "  </script>\n",
              "</div>\n",
              "\n",
              "    </div>\n",
              "  </div>\n"
            ],
            "application/vnd.google.colaboratory.intrinsic+json": {
              "type": "dataframe",
              "variable_name": "df",
              "summary": "{\n  \"name\": \"df\",\n  \"rows\": 3000,\n  \"fields\": [\n    {\n      \"column\": \"index\",\n      \"properties\": {\n        \"dtype\": \"number\",\n        \"std\": 866,\n        \"min\": 0,\n        \"max\": 2999,\n        \"num_unique_values\": 3000,\n        \"samples\": [\n          1801,\n          1190,\n          1817\n        ],\n        \"semantic_type\": \"\",\n        \"description\": \"\"\n      }\n    },\n    {\n      \"column\": \"longitude\",\n      \"properties\": {\n        \"dtype\": \"number\",\n        \"std\": 1.9949362939550175,\n        \"min\": -124.18,\n        \"max\": -114.49,\n        \"num_unique_values\": 607,\n        \"samples\": [\n          -121.15,\n          -121.46,\n          -121.02\n        ],\n        \"semantic_type\": \"\",\n        \"description\": \"\"\n      }\n    },\n    {\n      \"column\": \"latitude\",\n      \"properties\": {\n        \"dtype\": \"number\",\n        \"std\": 2.129669523343834,\n        \"min\": 32.56,\n        \"max\": 41.92,\n        \"num_unique_values\": 587,\n        \"samples\": [\n          40.17,\n          33.69,\n          39.61\n        ],\n        \"semantic_type\": \"\",\n        \"description\": \"\"\n      }\n    },\n    {\n      \"column\": \"housing_median_age\",\n      \"properties\": {\n        \"dtype\": \"number\",\n        \"std\": 12.555395554955753,\n        \"min\": 1.0,\n        \"max\": 52.0,\n        \"num_unique_values\": 52,\n        \"samples\": [\n          14.0,\n          49.0,\n          7.0\n        ],\n        \"semantic_type\": \"\",\n        \"description\": \"\"\n      }\n    },\n    {\n      \"column\": \"total_rooms\",\n      \"properties\": {\n        \"dtype\": \"number\",\n        \"std\": 2155.593331625581,\n        \"min\": 6.0,\n        \"max\": 30450.0,\n        \"num_unique_values\": 2215,\n        \"samples\": [\n          1961.0,\n          1807.0,\n          680.0\n        ],\n        \"semantic_type\": \"\",\n        \"description\": \"\"\n      }\n    },\n    {\n      \"column\": \"total_bedrooms\",\n      \"properties\": {\n        \"dtype\": \"number\",\n        \"std\": 415.6543681363229,\n        \"min\": 2.0,\n        \"max\": 5419.0,\n        \"num_unique_values\": 1055,\n        \"samples\": [\n          532.0,\n          764.0,\n          2162.0\n        ],\n        \"semantic_type\": \"\",\n        \"description\": \"\"\n      }\n    },\n    {\n      \"column\": \"population\",\n      \"properties\": {\n        \"dtype\": \"number\",\n        \"std\": 1030.5430124122424,\n        \"min\": 5.0,\n        \"max\": 11935.0,\n        \"num_unique_values\": 1802,\n        \"samples\": [\n          947.0,\n          1140.0,\n          2019.0\n        ],\n        \"semantic_type\": \"\",\n        \"description\": \"\"\n      }\n    },\n    {\n      \"column\": \"households\",\n      \"properties\": {\n        \"dtype\": \"number\",\n        \"std\": 365.42270980552627,\n        \"min\": 2.0,\n        \"max\": 4930.0,\n        \"num_unique_values\": 1026,\n        \"samples\": [\n          646.0,\n          629.0,\n          504.0\n        ],\n        \"semantic_type\": \"\",\n        \"description\": \"\"\n      }\n    },\n    {\n      \"column\": \"median_income\",\n      \"properties\": {\n        \"dtype\": \"number\",\n        \"std\": 1.854511729691479,\n        \"min\": 0.4999,\n        \"max\": 15.0001,\n        \"num_unique_values\": 2578,\n        \"samples\": [\n          1.725,\n          0.7403,\n          2.6964\n        ],\n        \"semantic_type\": \"\",\n        \"description\": \"\"\n      }\n    },\n    {\n      \"column\": \"median_house_value\",\n      \"properties\": {\n        \"dtype\": \"number\",\n        \"std\": 113119.68746964628,\n        \"min\": 22500.0,\n        \"max\": 500001.0,\n        \"num_unique_values\": 1784,\n        \"samples\": [\n          71900.0,\n          63000.0,\n          115800.0\n        ],\n        \"semantic_type\": \"\",\n        \"description\": \"\"\n      }\n    }\n  ]\n}"
            }
          },
          "metadata": {},
          "execution_count": 327
        }
      ]
    },
    {
      "cell_type": "code",
      "source": [
        "df.at[2, \"longitude\"]"
      ],
      "metadata": {
        "colab": {
          "base_uri": "https://localhost:8080/"
        },
        "id": "cQDbCrGgkC93",
        "outputId": "905476bb-9fb2-442e-eef5-724c92ca7337"
      },
      "execution_count": 328,
      "outputs": [
        {
          "output_type": "execute_result",
          "data": {
            "text/plain": [
              "-117.81"
            ]
          },
          "metadata": {},
          "execution_count": 328
        }
      ]
    },
    {
      "cell_type": "code",
      "source": [
        "df.iat[2, 1]"
      ],
      "metadata": {
        "colab": {
          "base_uri": "https://localhost:8080/"
        },
        "id": "f2DchPbVkPoQ",
        "outputId": "19651c6c-bd86-4b23-8c1e-7636a8196455"
      },
      "execution_count": 329,
      "outputs": [
        {
          "output_type": "execute_result",
          "data": {
            "text/plain": [
              "-117.81"
            ]
          },
          "metadata": {},
          "execution_count": 329
        }
      ]
    },
    {
      "cell_type": "code",
      "source": [
        "a = np.random.random((5,6,7,1,2,3))\n",
        "b = np.random.random((5,1,7,5,1,1))"
      ],
      "metadata": {
        "id": "QzyMszkNomf5"
      },
      "execution_count": 330,
      "outputs": []
    },
    {
      "cell_type": "code",
      "source": [
        "print(a.shape)\n",
        "print(b.shape)"
      ],
      "metadata": {
        "colab": {
          "base_uri": "https://localhost:8080/"
        },
        "id": "nnwqkgIKo2dP",
        "outputId": "b9c2fdb7-ffd8-45f4-dff6-709042851253"
      },
      "execution_count": 331,
      "outputs": [
        {
          "output_type": "stream",
          "name": "stdout",
          "text": [
            "(5, 6, 7, 1, 2, 3)\n",
            "(5, 1, 7, 5, 1, 1)\n"
          ]
        }
      ]
    },
    {
      "cell_type": "code",
      "source": [
        "c = a + b\n",
        "c.shape"
      ],
      "metadata": {
        "colab": {
          "base_uri": "https://localhost:8080/"
        },
        "collapsed": true,
        "id": "FGlaKefBo7nU",
        "outputId": "90f3abcc-5a4b-49cb-f8e0-3cab2bb224cf"
      },
      "execution_count": 332,
      "outputs": [
        {
          "output_type": "execute_result",
          "data": {
            "text/plain": [
              "(5, 6, 7, 5, 2, 3)"
            ]
          },
          "metadata": {},
          "execution_count": 332
        }
      ]
    },
    {
      "cell_type": "code",
      "source": [
        "try:\n",
        "  a = np.random.random((5,6,7,1,2,3))\n",
        "  b = np.random.random((5,2,7,5,1,1))\n",
        "  print(a + b)\n",
        "except ValueError:\n",
        "  print(f\"Operands could not be broadcast together with shapes {a.shape} {b.shape}\")\n",
        "except Exception as e:\n",
        "  print(e)\n",
        "else:\n",
        "  pass\n",
        "finally:\n",
        "  pass"
      ],
      "metadata": {
        "colab": {
          "base_uri": "https://localhost:8080/"
        },
        "id": "7ONguoYRo_ot",
        "outputId": "15846f78-6b09-402e-88a1-4ff744d22eb8"
      },
      "execution_count": 333,
      "outputs": [
        {
          "output_type": "stream",
          "name": "stdout",
          "text": [
            "Operands could not be broadcast together with shapes (5, 6, 7, 1, 2, 3) (5, 2, 7, 5, 1, 1)\n"
          ]
        }
      ]
    },
    {
      "cell_type": "code",
      "source": [
        "ma = np.array( [[[1,2,3],\n",
        "                [4,5,6],\n",
        "                [7,8,9]],\n",
        "                [[11,12,13],\n",
        "                [14,15,16],\n",
        "                [17,18,19]]\n",
        "                ])\n",
        "print(ma.shape)\n",
        "print(ma[0:2, 0:2, 0:1])"
      ],
      "metadata": {
        "colab": {
          "base_uri": "https://localhost:8080/"
        },
        "id": "OsCs-yAgqysr",
        "outputId": "c108a0f9-bd03-4ea8-a5c5-6ca754a12c5b"
      },
      "execution_count": 334,
      "outputs": [
        {
          "output_type": "stream",
          "name": "stdout",
          "text": [
            "(2, 3, 3)\n",
            "[[[ 1]\n",
            "  [ 4]]\n",
            "\n",
            " [[11]\n",
            "  [14]]]\n"
          ]
        }
      ]
    },
    {
      "cell_type": "code",
      "source": [
        "print(ma[:, 0, 0, np.newaxis])\n",
        "print(ma[np.newaxis, :, 0, 0])"
      ],
      "metadata": {
        "colab": {
          "base_uri": "https://localhost:8080/"
        },
        "id": "5MzT5z7HuIXX",
        "outputId": "3890d3e5-b1ab-47d7-8f12-32ccbce25e95"
      },
      "execution_count": 335,
      "outputs": [
        {
          "output_type": "stream",
          "name": "stdout",
          "text": [
            "[[ 1]\n",
            " [11]]\n",
            "[[ 1 11]]\n"
          ]
        }
      ]
    },
    {
      "cell_type": "code",
      "source": [
        "print(ma[:, [True, True, False]])"
      ],
      "metadata": {
        "colab": {
          "base_uri": "https://localhost:8080/"
        },
        "id": "94pkQ94WuKku",
        "outputId": "394d277d-0e44-45c0-c1a4-093180a2d1a4"
      },
      "execution_count": 336,
      "outputs": [
        {
          "output_type": "stream",
          "name": "stdout",
          "text": [
            "[[[ 1  2  3]\n",
            "  [ 4  5  6]]\n",
            "\n",
            " [[11 12 13]\n",
            "  [14 15 16]]]\n"
          ]
        }
      ]
    },
    {
      "cell_type": "code",
      "source": [
        "arr = np.arange(10, 300, 5.2, dtype=float)\n",
        "np.random.shuffle(arr)\n",
        "print(arr)"
      ],
      "metadata": {
        "colab": {
          "base_uri": "https://localhost:8080/"
        },
        "id": "M5xIlJhZuSR-",
        "outputId": "24fecb31-0e74-4d33-a3c5-c9397d6ec196"
      },
      "execution_count": 337,
      "outputs": [
        {
          "output_type": "stream",
          "name": "stdout",
          "text": [
            "[207.6 114.  197.2 155.6 119.2 140.   67.2 129.6  56.8 176.4  25.6 166.\n",
            " 124.4 290.8  51.6 270.  275.2 212.8 145.2  62.   46.4  20.4 264.8  93.2\n",
            " 244.  186.8 150.4 285.6  82.8  15.2 103.6 238.8 254.4  41.2  77.6  10.\n",
            " 249.2 228.4 160.8 181.6 296.   98.4  88.  218.   30.8 202.4 171.2 223.2\n",
            " 134.8  36.  192.   72.4 259.6 108.8 280.4 233.6]\n"
          ]
        }
      ]
    },
    {
      "cell_type": "code",
      "source": [
        "# arr.sort()"
      ],
      "metadata": {
        "id": "gYb8h1QHx7UM"
      },
      "execution_count": 338,
      "outputs": []
    },
    {
      "cell_type": "code",
      "source": [
        "print(np.argmin(arr))\n",
        "print(np.argmax(arr))"
      ],
      "metadata": {
        "colab": {
          "base_uri": "https://localhost:8080/"
        },
        "id": "6hkOJQFmyTLZ",
        "outputId": "b6ebe527-2184-4b02-f8c3-104389ea5d6f"
      },
      "execution_count": 339,
      "outputs": [
        {
          "output_type": "stream",
          "name": "stdout",
          "text": [
            "35\n",
            "40\n"
          ]
        }
      ]
    },
    {
      "cell_type": "code",
      "source": [
        "zrr = np.zeros_like(arr)\n",
        "print(zrr)"
      ],
      "metadata": {
        "colab": {
          "base_uri": "https://localhost:8080/"
        },
        "id": "_5gYdFfr6qGV",
        "outputId": "ba3e0672-d590-4a14-a685-5c86dd515d60"
      },
      "execution_count": 340,
      "outputs": [
        {
          "output_type": "stream",
          "name": "stdout",
          "text": [
            "[0. 0. 0. 0. 0. 0. 0. 0. 0. 0. 0. 0. 0. 0. 0. 0. 0. 0. 0. 0. 0. 0. 0. 0.\n",
            " 0. 0. 0. 0. 0. 0. 0. 0. 0. 0. 0. 0. 0. 0. 0. 0. 0. 0. 0. 0. 0. 0. 0. 0.\n",
            " 0. 0. 0. 0. 0. 0. 0. 0.]\n"
          ]
        }
      ]
    },
    {
      "cell_type": "code",
      "source": [
        "arr.__getitem__(slice(0, 10, 2))"
      ],
      "metadata": {
        "colab": {
          "base_uri": "https://localhost:8080/"
        },
        "id": "4cyh3MrP6uoB",
        "outputId": "8dffd453-a623-4e2a-a838-9857be154d32"
      },
      "execution_count": 341,
      "outputs": [
        {
          "output_type": "execute_result",
          "data": {
            "text/plain": [
              "array([207.6, 197.2, 119.2,  67.2,  56.8])"
            ]
          },
          "metadata": {},
          "execution_count": 341
        }
      ]
    },
    {
      "cell_type": "code",
      "source": [
        "try:\n",
        "  np.where[arr > 88., arr, arr]\n",
        "except TypeError:\n",
        "  print(\"numpy._ArrayFunctionDispatcher' object is not subscriptable\")\n",
        "except Exception as e:\n",
        "  print(e)\n",
        "else:\n",
        "  pass\n",
        "finally:\n",
        "  pass"
      ],
      "metadata": {
        "colab": {
          "base_uri": "https://localhost:8080/"
        },
        "id": "BlnMb1dC8OZO",
        "outputId": "46b7d76e-862e-4142-ded4-e127b54747c6"
      },
      "execution_count": 342,
      "outputs": [
        {
          "output_type": "stream",
          "name": "stdout",
          "text": [
            "numpy._ArrayFunctionDispatcher' object is not subscriptable\n"
          ]
        }
      ]
    },
    {
      "cell_type": "code",
      "source": [
        "arr.shape"
      ],
      "metadata": {
        "colab": {
          "base_uri": "https://localhost:8080/"
        },
        "id": "kvnSyjHc__PK",
        "outputId": "e06f1d5a-77cc-4d10-fb40-f40d86e29513"
      },
      "execution_count": 343,
      "outputs": [
        {
          "output_type": "execute_result",
          "data": {
            "text/plain": [
              "(56,)"
            ]
          },
          "metadata": {},
          "execution_count": 343
        }
      ]
    },
    {
      "cell_type": "code",
      "source": [
        "arr[arr > 88]"
      ],
      "metadata": {
        "colab": {
          "base_uri": "https://localhost:8080/"
        },
        "id": "EDk9M4SQKsDQ",
        "outputId": "10015773-e089-4bd4-af19-8b2a4237c732"
      },
      "execution_count": 344,
      "outputs": [
        {
          "output_type": "execute_result",
          "data": {
            "text/plain": [
              "array([207.6, 114. , 197.2, 155.6, 119.2, 140. , 129.6, 176.4, 166. ,\n",
              "       124.4, 290.8, 270. , 275.2, 212.8, 145.2, 264.8,  93.2, 244. ,\n",
              "       186.8, 150.4, 285.6, 103.6, 238.8, 254.4, 249.2, 228.4, 160.8,\n",
              "       181.6, 296. ,  98.4, 218. , 202.4, 171.2, 223.2, 134.8, 192. ,\n",
              "       259.6, 108.8, 280.4, 233.6])"
            ]
          },
          "metadata": {},
          "execution_count": 344
        }
      ]
    },
    {
      "cell_type": "code",
      "source": [
        "!cat /var/log/bootstrap.log | grep adduser -A 4"
      ],
      "metadata": {
        "colab": {
          "base_uri": "https://localhost:8080/"
        },
        "id": "2qN5TY1dKwi2",
        "outputId": "3294d9bc-cf60-44fe-825e-abb4c16774a8"
      },
      "execution_count": 345,
      "outputs": [
        {
          "output_type": "stream",
          "name": "stdout",
          "text": [
            "2023-10-04 02:07:18 URL:http://ftpmaster.internal/ubuntu/pool/main/a/adduser/adduser_3.118ubuntu5_all.deb [155528/155528] -> \"/build/chroot//var/cache/apt/archives/partial/adduser_3.118ubuntu5_all.deb\" [1]\n",
            "2023-10-04 02:07:20 URL:http://ftpmaster.internal/ubuntu/pool/main/a/apt/apt_2.4.5_amd64.deb [1379030/1379030] -> \"/build/chroot//var/cache/apt/archives/partial/apt_2.4.5_amd64.deb\" [1]\n",
            "2023-10-04 02:07:20 URL:http://ftpmaster.internal/ubuntu/pool/main/b/base-files/base-files_12ubuntu4_amd64.deb [62940/62940] -> \"/build/chroot//var/cache/apt/archives/partial/base-files_12ubuntu4_amd64.deb\" [1]\n",
            "2023-10-04 02:07:20 URL:http://ftpmaster.internal/ubuntu/pool/main/b/base-passwd/base-passwd_3.5.52build1_amd64.deb [49100/49100] -> \"/build/chroot//var/cache/apt/archives/partial/base-passwd_3.5.52build1_amd64.deb\" [1]\n",
            "2023-10-04 02:07:21 URL:http://ftpmaster.internal/ubuntu/pool/main/b/bash/bash_5.1-6ubuntu1_amd64.deb [768660/768660] -> \"/build/chroot//var/cache/apt/archives/partial/bash_5.1-6ubuntu1_amd64.deb\" [1]\n",
            "--\n",
            "Preparing to unpack .../adduser_3.118ubuntu5_all.deb ...\n",
            "Unpacking adduser (3.118ubuntu5) ...\n",
            "Preparing to unpack .../archives/apt_2.4.5_amd64.deb ...\n",
            "Unpacking apt (2.4.5) ...\n",
            "Preparing to unpack .../gpgv_2.2.27-3ubuntu2_amd64.deb ...\n",
            "Unpacking gpgv (2.2.27-3ubuntu2) ...\n",
            "--\n",
            "Setting up adduser (3.118ubuntu5) ...\n",
            "Setting up libunistring2:amd64 (1.0-1) ...\n",
            "Setting up libidn2-0:amd64 (2.3.2-2build1) ...\n",
            "Setting up ubuntu-keyring (2021.03.26) ...\n",
            "Setting up libseccomp2:amd64 (2.5.3-2ubuntu2) ...\n"
          ]
        }
      ]
    },
    {
      "cell_type": "code",
      "source": [
        "!pip install pytest ipytest --quiet"
      ],
      "metadata": {
        "id": "AwDF889YJE_b"
      },
      "execution_count": 346,
      "outputs": []
    },
    {
      "cell_type": "code",
      "source": [
        "import ipytest\n",
        "ipytest.autoconfig(clean=True) #https://pypi.org/project/ipytest/"
      ],
      "metadata": {
        "id": "XiJEsdaRKi2S"
      },
      "execution_count": 347,
      "outputs": []
    },
    {
      "cell_type": "code",
      "source": [
        "def test_add():\n",
        "  %time\n",
        "  assert 1 + 1 == 2"
      ],
      "metadata": {
        "id": "rLLtvctonf5s"
      },
      "execution_count": 348,
      "outputs": []
    },
    {
      "cell_type": "code",
      "source": [
        "import pytest\n",
        "\n",
        "def test_passes():\n",
        "    with pytest.raises(Exception) as e_info:\n",
        "        x = 1 / 0\n",
        "\n",
        "def test_passes_without_info():\n",
        "    with pytest.raises(Exception):\n",
        "        x = 1 / 0\n",
        "\n",
        "# def test_fails():\n",
        "#     with pytest.raises(Exception) as e_info:\n",
        "#         x = 1 / 1\n",
        "\n",
        "# def test_fails_without_info():\n",
        "#     with pytest.raises(Exception):\n",
        "#         x = 1 / 1\n",
        "\n",
        "# Don't do this. Assertions are caught as exceptions.\n",
        "def test_passes_but_should_not():\n",
        "    try:\n",
        "        x = 1 / 1\n",
        "        assert False\n",
        "    except Exception:\n",
        "        assert True\n",
        "\n",
        "# Even if the appropriate exception is caught, it is bad style,\n",
        "# because the test result is less informative\n",
        "# than it would be with pytest.raises(e)\n",
        "# (it just says pass or fail.)\n",
        "\n",
        "def test_passes_but_bad_style():\n",
        "    try:\n",
        "        x = 1 / 0\n",
        "        assert False\n",
        "    except ZeroDivisionError:\n",
        "        assert True\n",
        "\n",
        "# def test_fails_but_bad_style():\n",
        "#     try:\n",
        "#         x = 1 / 1\n",
        "#         assert False\n",
        "#     except ZeroDivisionError:\n",
        "#         assert True"
      ],
      "metadata": {
        "id": "q7hxnQVUnsZA"
      },
      "execution_count": 349,
      "outputs": []
    },
    {
      "cell_type": "code",
      "source": [
        "from functools import cache\n",
        "\n",
        "@cache\n",
        "def fibonacci(n: int) -> int:\n",
        "    if n < 2 :\n",
        "        return n\n",
        "    return fibonacci(n - 1) + fibonacci(n - 2) #infinitive recursion"
      ],
      "metadata": {
        "id": "X_j6_B_Ry9yi"
      },
      "execution_count": 350,
      "outputs": []
    },
    {
      "cell_type": "code",
      "source": [
        "def test_fibonacci():\n",
        "    assert fibonacci(41) == 165580141"
      ],
      "metadata": {
        "id": "4n2KgPjL000V"
      },
      "execution_count": 351,
      "outputs": []
    },
    {
      "cell_type": "code",
      "source": [
        "import time\n",
        "from time import perf_counter, sleep\n",
        "from functools import wraps\n",
        "from typing import Callable, Any\n",
        "\n",
        "def get_time(func: Callable) -> Callable:\n",
        "    @wraps(func)\n",
        "    def wrapper(*args, **kwargs) -> Any:\n",
        "        # Note that timing your code once isn't the most reliable option\n",
        "        # for timing your code. Look into the timeit module for more accurate\n",
        "        # timing.\n",
        "        start_time: float = perf_counter()\n",
        "        result: Any = func(*args, **kwargs)\n",
        "        end_time: float = perf_counter()\n",
        "\n",
        "        print(f'\"{func.__name__}()\" took {end_time - start_time:.3f} seconds to execute')\n",
        "        return result\n",
        "\n",
        "    return wrapper"
      ],
      "metadata": {
        "id": "Se4NwDVi1FUL"
      },
      "execution_count": 352,
      "outputs": []
    },
    {
      "cell_type": "code",
      "source": [
        "@get_time\n",
        "def connect() -> bool:\n",
        "    print('Connecting...')\n",
        "    sleep(2)\n",
        "    print('Connected!')\n",
        "    return True\n",
        "\n",
        "@get_time\n",
        "def fifty_million_loops() -> bool:\n",
        "    fifty_million: int = int(5e7)\n",
        "\n",
        "    print('Looping...')\n",
        "    for _ in range(fifty_million):\n",
        "        pass\n",
        "\n",
        "    print('Done looping!')\n",
        "    return True"
      ],
      "metadata": {
        "id": "NP5GA_OJ1GqC"
      },
      "execution_count": 353,
      "outputs": []
    },
    {
      "cell_type": "code",
      "source": [
        "connect()\n",
        "fifty_million_loops()"
      ],
      "metadata": {
        "colab": {
          "base_uri": "https://localhost:8080/"
        },
        "id": "8OsWhaOG2WlX",
        "outputId": "38686358-811a-4ff8-9ce4-2346246f8ebc"
      },
      "execution_count": 354,
      "outputs": [
        {
          "output_type": "stream",
          "name": "stdout",
          "text": [
            "Connecting...\n",
            "Connected!\n",
            "\"connect()\" took 2.002 seconds to execute\n",
            "Looping...\n",
            "Done looping!\n",
            "\"fifty_million_loops()\" took 1.392 seconds to execute\n"
          ]
        },
        {
          "output_type": "execute_result",
          "data": {
            "text/plain": [
              "True"
            ]
          },
          "metadata": {},
          "execution_count": 354
        }
      ]
    },
    {
      "cell_type": "code",
      "source": [
        "def test_connect():\n",
        "    result = connect()\n",
        "    assert result\n",
        "\n",
        "def test_fifty_million_loops():\n",
        "    result = fifty_million_loops()\n",
        "    assert result"
      ],
      "metadata": {
        "id": "rN9zD6nW11OO"
      },
      "execution_count": 355,
      "outputs": []
    },
    {
      "cell_type": "code",
      "source": [
        "%%time\n",
        "ipytest.run('-vv')"
      ],
      "metadata": {
        "colab": {
          "base_uri": "https://localhost:8080/"
        },
        "id": "RjQut8C_1iFQ",
        "outputId": "7901f70a-5bd2-4f5c-ac57-99bf09e093cb"
      },
      "execution_count": 356,
      "outputs": [
        {
          "output_type": "stream",
          "name": "stdout",
          "text": [
            "\u001b[1m======================================= test session starts ========================================\u001b[0m\n",
            "platform linux -- Python 3.10.12, pytest-7.4.4, pluggy-1.5.0 -- /usr/bin/python3\n",
            "cachedir: .pytest_cache\n",
            "rootdir: /content\n",
            "plugins: typeguard-4.3.0, anyio-3.7.1\n",
            "\u001b[1mcollecting ... \u001b[0mcollected 8 items\n",
            "\n",
            "t_d1ab5275e1384d91b6b16fc099424f60.py::test_add \u001b[32mPASSED\u001b[0m\u001b[32m                                       [ 12%]\u001b[0m\n",
            "t_d1ab5275e1384d91b6b16fc099424f60.py::test_passes \u001b[32mPASSED\u001b[0m\u001b[32m                                    [ 25%]\u001b[0m\n",
            "t_d1ab5275e1384d91b6b16fc099424f60.py::test_passes_without_info \u001b[32mPASSED\u001b[0m\u001b[32m                       [ 37%]\u001b[0m\n",
            "t_d1ab5275e1384d91b6b16fc099424f60.py::test_passes_but_should_not \u001b[32mPASSED\u001b[0m\u001b[32m                     [ 50%]\u001b[0m\n",
            "t_d1ab5275e1384d91b6b16fc099424f60.py::test_passes_but_bad_style \u001b[32mPASSED\u001b[0m\u001b[32m                      [ 62%]\u001b[0m\n",
            "t_d1ab5275e1384d91b6b16fc099424f60.py::test_fibonacci \u001b[32mPASSED\u001b[0m\u001b[32m                                 [ 75%]\u001b[0m\n",
            "t_d1ab5275e1384d91b6b16fc099424f60.py::test_connect \u001b[32mPASSED\u001b[0m\u001b[32m                                   [ 87%]\u001b[0m\n",
            "t_d1ab5275e1384d91b6b16fc099424f60.py::test_fifty_million_loops \u001b[32mPASSED\u001b[0m\u001b[32m                       [100%]\u001b[0m\n",
            "\n",
            "\u001b[32m======================================== \u001b[32m\u001b[1m8 passed\u001b[0m\u001b[32m in 3.47s\u001b[0m\u001b[32m =========================================\u001b[0m\n",
            "CPU times: user 1.55 s, sys: 5.02 ms, total: 1.55 s\n",
            "Wall time: 3.55 s\n"
          ]
        },
        {
          "output_type": "execute_result",
          "data": {
            "text/plain": [
              "<ExitCode.OK: 0>"
            ]
          },
          "metadata": {},
          "execution_count": 356
        }
      ]
    },
    {
      "cell_type": "code",
      "source": [
        "ar1 = np.arange(24).reshape(3, 4, 2)\n",
        "\n",
        "# for row in ar1:\n",
        "#   for element in row:\n",
        "#     print(element)\n",
        "\n",
        "#better iterator: https://numpy.org/doc/stable/reference/generated/numpy.nditer.html#\n",
        "with np.nditer(ar1, op_flags=['readwrite']) as it:\n",
        "  for x in it:\n",
        "    x[...] = x ** 2\n",
        "\n",
        "print(ar1)"
      ],
      "metadata": {
        "colab": {
          "base_uri": "https://localhost:8080/"
        },
        "id": "V_X6xScN2uZk",
        "outputId": "ddf73119-89d3-4f1c-fe11-8a57662df88a"
      },
      "execution_count": 365,
      "outputs": [
        {
          "output_type": "stream",
          "name": "stdout",
          "text": [
            "[[[  0   1]\n",
            "  [  4   9]\n",
            "  [ 16  25]\n",
            "  [ 36  49]]\n",
            "\n",
            " [[ 64  81]\n",
            "  [100 121]\n",
            "  [144 169]\n",
            "  [196 225]]\n",
            "\n",
            " [[256 289]\n",
            "  [324 361]\n",
            "  [400 441]\n",
            "  [484 529]]]\n"
          ]
        }
      ]
    },
    {
      "cell_type": "code",
      "source": [
        "import numpy.ma as ma\n",
        "import math\n",
        "\n",
        "ls = [1, 2, 3, 4, 5, 6, 7, 8, 9, 10, np.nan, np.inf]\n",
        "for_masking = np.array(ls)\n",
        "\n",
        "print(for_masking.mean())\n",
        "\n",
        "masked = ma.masked_array(for_masking, mask=[1 if math.isnan(e) or math.isinf(e) else 0 for e in ls]) #mask=[1] maskuje / mask=[0] nie maskuje\n",
        "print(masked.mean())\n",
        "\n",
        "print(masked)"
      ],
      "metadata": {
        "colab": {
          "base_uri": "https://localhost:8080/"
        },
        "id": "tFK_xgml56jj",
        "outputId": "b787e29f-3c16-47c5-cf33-01e0f8b9108f"
      },
      "execution_count": 358,
      "outputs": [
        {
          "output_type": "stream",
          "name": "stdout",
          "text": [
            "nan\n",
            "5.5\n",
            "[1.0 2.0 3.0 4.0 5.0 6.0 7.0 8.0 9.0 10.0 -- --]\n"
          ]
        }
      ]
    },
    {
      "cell_type": "code",
      "source": [
        "original = np.array([1, 2, 3, 4, 5, 6, 7, 8, 9, 10])\n",
        "view = original.view()\n",
        "copy = original.copy()\n",
        "\n",
        "print(original)\n",
        "print(view)\n",
        "print(copy)\n",
        "\n",
        "view[0] = 100\n",
        "copy[0] = 200\n",
        "\n",
        "print(original)\n",
        "print(view)\n",
        "print(copy)"
      ],
      "metadata": {
        "id": "n02R5hgTAX78",
        "colab": {
          "base_uri": "https://localhost:8080/"
        },
        "outputId": "c26fc9c5-d279-4151-d53d-d47967702c9a"
      },
      "execution_count": 359,
      "outputs": [
        {
          "output_type": "stream",
          "name": "stdout",
          "text": [
            "[ 1  2  3  4  5  6  7  8  9 10]\n",
            "[ 1  2  3  4  5  6  7  8  9 10]\n",
            "[ 1  2  3  4  5  6  7  8  9 10]\n",
            "[100   2   3   4   5   6   7   8   9  10]\n",
            "[100   2   3   4   5   6   7   8   9  10]\n",
            "[200   2   3   4   5   6   7   8   9  10]\n"
          ]
        }
      ]
    },
    {
      "cell_type": "code",
      "source": [
        "new_arr = original[[1,2,3]] #copy with indexing\n",
        "print(new_arr)\n",
        "new_arr[0] = 100\n",
        "print(new_arr)\n",
        "print(original)"
      ],
      "metadata": {
        "colab": {
          "base_uri": "https://localhost:8080/"
        },
        "id": "1nF24CmyNIE3",
        "outputId": "ac5aa2a5-9da9-4972-f7fe-c5a9ebd9bb5b"
      },
      "execution_count": 360,
      "outputs": [
        {
          "output_type": "stream",
          "name": "stdout",
          "text": [
            "[2 3 4]\n",
            "[100   3   4]\n",
            "[100   2   3   4   5   6   7   8   9  10]\n"
          ]
        }
      ]
    },
    {
      "cell_type": "code",
      "source": [
        "print(original.base) #how to check copy or not\n",
        "print(view.base)\n",
        "print(copy.base)"
      ],
      "metadata": {
        "colab": {
          "base_uri": "https://localhost:8080/"
        },
        "id": "lMB0q5ceP1bB",
        "outputId": "a23bc08d-0f02-4b81-c7b8-3b7fa4fb5c28"
      },
      "execution_count": 361,
      "outputs": [
        {
          "output_type": "stream",
          "name": "stdout",
          "text": [
            "None\n",
            "[100   2   3   4   5   6   7   8   9  10]\n",
            "None\n"
          ]
        }
      ]
    },
    {
      "cell_type": "code",
      "source": [
        "custom_arr = np.array([[1,2,3,4,5], [6,7,8,9,10]])\n",
        "\n",
        "def square_if_even(x: int) -> int:\n",
        "  if x % 2 == 0:\n",
        "    return x ** 2\n",
        "  return x\n",
        "\n",
        "vectorize_square_if_even = np.vectorize(square_if_even) #wektoryzacja funkcji\n",
        "\n",
        "print(vectorize_square_if_even(custom_arr))"
      ],
      "metadata": {
        "colab": {
          "base_uri": "https://localhost:8080/"
        },
        "id": "qd-3YkfuP4cX",
        "outputId": "463b7610-b341-4ea0-be92-7a690a360c6d"
      },
      "execution_count": 362,
      "outputs": [
        {
          "output_type": "stream",
          "name": "stdout",
          "text": [
            "[[  1   4   3  16   5]\n",
            " [ 36   7  64   9 100]]\n"
          ]
        }
      ]
    },
    {
      "cell_type": "code",
      "source": [
        "custom_data_type = np.dtype([('name', 'U100'), ('age', 'i4'), ('weight', 'f8')]) #https://numpy.org/doc/stable/reference/arrays.dtypes.html"
      ],
      "metadata": {
        "id": "BJgQAPFWRYJn"
      },
      "execution_count": 368,
      "outputs": []
    },
    {
      "cell_type": "code",
      "source": [
        "dt = np.dtype(np.int32)\n",
        "\n",
        "print(dt.name)\n",
        "print(dt.type)\n",
        "print(dt.byteorder)\n",
        "print(dt.itemsize)"
      ],
      "metadata": {
        "colab": {
          "base_uri": "https://localhost:8080/"
        },
        "id": "cqk_k4o6RvdL",
        "outputId": "f38e4ffe-5a06-4675-86b6-27dc93c1f429"
      },
      "execution_count": 371,
      "outputs": [
        {
          "output_type": "stream",
          "name": "stdout",
          "text": [
            "int32\n",
            "<class 'numpy.int32'>\n",
            "=\n",
            "4\n"
          ]
        }
      ]
    },
    {
      "cell_type": "code",
      "source": [
        "rra = np.array(['hellooooooo', 'world', 'how', 'are', 'you'], dtype='U6') #wymuszenie typu\n",
        "print(rra.dtype)"
      ],
      "metadata": {
        "colab": {
          "base_uri": "https://localhost:8080/"
        },
        "id": "4z9jwTFsTBwa",
        "outputId": "bc66fc4d-beb7-4410-f3d9-df5217458cb7"
      },
      "execution_count": 375,
      "outputs": [
        {
          "output_type": "stream",
          "name": "stdout",
          "text": [
            "<U6\n"
          ]
        }
      ]
    },
    {
      "cell_type": "code",
      "source": [
        "dt = np.dtype(\"i4, (2,3)f8, f4\")"
      ],
      "metadata": {
        "colab": {
          "base_uri": "https://localhost:8080/"
        },
        "id": "gz4l82XFTHH4",
        "outputId": "e00596d6-b388-4046-e623-4f142f3e3013"
      },
      "execution_count": 376,
      "outputs": [
        {
          "output_type": "execute_result",
          "data": {
            "text/plain": [
              "array(['helloo', 'world', 'how', 'are', 'you'], dtype='<U6')"
            ]
          },
          "metadata": {},
          "execution_count": 376
        }
      ]
    },
    {
      "cell_type": "code",
      "source": [],
      "metadata": {
        "id": "3dFNe5-MUGg-"
      },
      "execution_count": null,
      "outputs": []
    }
  ]
}