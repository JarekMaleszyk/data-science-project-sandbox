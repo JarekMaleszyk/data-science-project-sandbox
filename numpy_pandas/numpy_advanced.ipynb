{
  "nbformat": 4,
  "nbformat_minor": 0,
  "metadata": {
    "colab": {
      "provenance": [],
      "authorship_tag": "ABX9TyOdSgZjb3fUd1fYmaIVTr8Q",
      "include_colab_link": true
    },
    "kernelspec": {
      "name": "python3",
      "display_name": "Python 3"
    },
    "language_info": {
      "name": "python"
    }
  },
  "cells": [
    {
      "cell_type": "markdown",
      "metadata": {
        "id": "view-in-github",
        "colab_type": "text"
      },
      "source": [
        "<a href=\"https://colab.research.google.com/github/JarekMaleszyk/data-science-project-sandbox/blob/main/numpy_advanced.ipynb\" target=\"_parent\"><img src=\"https://colab.research.google.com/assets/colab-badge.svg\" alt=\"Open In Colab\"/></a>"
      ]
    },
    {
      "cell_type": "code",
      "execution_count": 115,
      "metadata": {
        "id": "N5EH1S_1hc19",
        "colab": {
          "base_uri": "https://localhost:8080/"
        },
        "outputId": "6fbe2cd2-3a4c-4b5f-957a-951f2282e121"
      },
      "outputs": [
        {
          "output_type": "stream",
          "name": "stdout",
          "text": [
            "Automatic pdb calling has been turned ON\n"
          ]
        }
      ],
      "source": [
        "%pdb\n",
        "import numpy as np\n",
        "import pandas as pd"
      ]
    },
    {
      "cell_type": "code",
      "source": [
        "df = pd.read_csv('/content/sample_data/california_housing_test.csv')\n",
        "df.reset_index(inplace=True)\n",
        "df.head()"
      ],
      "metadata": {
        "colab": {
          "base_uri": "https://localhost:8080/",
          "height": 206
        },
        "id": "achxPDgHhit5",
        "outputId": "0b2b1148-8e7d-4bf9-82fe-3a99758721f8"
      },
      "execution_count": 116,
      "outputs": [
        {
          "output_type": "execute_result",
          "data": {
            "text/plain": [
              "   index  longitude  latitude  housing_median_age  total_rooms  \\\n",
              "0      0    -122.05     37.37                27.0       3885.0   \n",
              "1      1    -118.30     34.26                43.0       1510.0   \n",
              "2      2    -117.81     33.78                27.0       3589.0   \n",
              "3      3    -118.36     33.82                28.0         67.0   \n",
              "4      4    -119.67     36.33                19.0       1241.0   \n",
              "\n",
              "   total_bedrooms  population  households  median_income  median_house_value  \n",
              "0           661.0      1537.0       606.0         6.6085            344700.0  \n",
              "1           310.0       809.0       277.0         3.5990            176500.0  \n",
              "2           507.0      1484.0       495.0         5.7934            270500.0  \n",
              "3            15.0        49.0        11.0         6.1359            330000.0  \n",
              "4           244.0       850.0       237.0         2.9375             81700.0  "
            ],
            "text/html": [
              "\n",
              "  <div id=\"df-4cff9601-f825-43e7-a262-f73152db5ac0\" class=\"colab-df-container\">\n",
              "    <div>\n",
              "<style scoped>\n",
              "    .dataframe tbody tr th:only-of-type {\n",
              "        vertical-align: middle;\n",
              "    }\n",
              "\n",
              "    .dataframe tbody tr th {\n",
              "        vertical-align: top;\n",
              "    }\n",
              "\n",
              "    .dataframe thead th {\n",
              "        text-align: right;\n",
              "    }\n",
              "</style>\n",
              "<table border=\"1\" class=\"dataframe\">\n",
              "  <thead>\n",
              "    <tr style=\"text-align: right;\">\n",
              "      <th></th>\n",
              "      <th>index</th>\n",
              "      <th>longitude</th>\n",
              "      <th>latitude</th>\n",
              "      <th>housing_median_age</th>\n",
              "      <th>total_rooms</th>\n",
              "      <th>total_bedrooms</th>\n",
              "      <th>population</th>\n",
              "      <th>households</th>\n",
              "      <th>median_income</th>\n",
              "      <th>median_house_value</th>\n",
              "    </tr>\n",
              "  </thead>\n",
              "  <tbody>\n",
              "    <tr>\n",
              "      <th>0</th>\n",
              "      <td>0</td>\n",
              "      <td>-122.05</td>\n",
              "      <td>37.37</td>\n",
              "      <td>27.0</td>\n",
              "      <td>3885.0</td>\n",
              "      <td>661.0</td>\n",
              "      <td>1537.0</td>\n",
              "      <td>606.0</td>\n",
              "      <td>6.6085</td>\n",
              "      <td>344700.0</td>\n",
              "    </tr>\n",
              "    <tr>\n",
              "      <th>1</th>\n",
              "      <td>1</td>\n",
              "      <td>-118.30</td>\n",
              "      <td>34.26</td>\n",
              "      <td>43.0</td>\n",
              "      <td>1510.0</td>\n",
              "      <td>310.0</td>\n",
              "      <td>809.0</td>\n",
              "      <td>277.0</td>\n",
              "      <td>3.5990</td>\n",
              "      <td>176500.0</td>\n",
              "    </tr>\n",
              "    <tr>\n",
              "      <th>2</th>\n",
              "      <td>2</td>\n",
              "      <td>-117.81</td>\n",
              "      <td>33.78</td>\n",
              "      <td>27.0</td>\n",
              "      <td>3589.0</td>\n",
              "      <td>507.0</td>\n",
              "      <td>1484.0</td>\n",
              "      <td>495.0</td>\n",
              "      <td>5.7934</td>\n",
              "      <td>270500.0</td>\n",
              "    </tr>\n",
              "    <tr>\n",
              "      <th>3</th>\n",
              "      <td>3</td>\n",
              "      <td>-118.36</td>\n",
              "      <td>33.82</td>\n",
              "      <td>28.0</td>\n",
              "      <td>67.0</td>\n",
              "      <td>15.0</td>\n",
              "      <td>49.0</td>\n",
              "      <td>11.0</td>\n",
              "      <td>6.1359</td>\n",
              "      <td>330000.0</td>\n",
              "    </tr>\n",
              "    <tr>\n",
              "      <th>4</th>\n",
              "      <td>4</td>\n",
              "      <td>-119.67</td>\n",
              "      <td>36.33</td>\n",
              "      <td>19.0</td>\n",
              "      <td>1241.0</td>\n",
              "      <td>244.0</td>\n",
              "      <td>850.0</td>\n",
              "      <td>237.0</td>\n",
              "      <td>2.9375</td>\n",
              "      <td>81700.0</td>\n",
              "    </tr>\n",
              "  </tbody>\n",
              "</table>\n",
              "</div>\n",
              "    <div class=\"colab-df-buttons\">\n",
              "\n",
              "  <div class=\"colab-df-container\">\n",
              "    <button class=\"colab-df-convert\" onclick=\"convertToInteractive('df-4cff9601-f825-43e7-a262-f73152db5ac0')\"\n",
              "            title=\"Convert this dataframe to an interactive table.\"\n",
              "            style=\"display:none;\">\n",
              "\n",
              "  <svg xmlns=\"http://www.w3.org/2000/svg\" height=\"24px\" viewBox=\"0 -960 960 960\">\n",
              "    <path d=\"M120-120v-720h720v720H120Zm60-500h600v-160H180v160Zm220 220h160v-160H400v160Zm0 220h160v-160H400v160ZM180-400h160v-160H180v160Zm440 0h160v-160H620v160ZM180-180h160v-160H180v160Zm440 0h160v-160H620v160Z\"/>\n",
              "  </svg>\n",
              "    </button>\n",
              "\n",
              "  <style>\n",
              "    .colab-df-container {\n",
              "      display:flex;\n",
              "      gap: 12px;\n",
              "    }\n",
              "\n",
              "    .colab-df-convert {\n",
              "      background-color: #E8F0FE;\n",
              "      border: none;\n",
              "      border-radius: 50%;\n",
              "      cursor: pointer;\n",
              "      display: none;\n",
              "      fill: #1967D2;\n",
              "      height: 32px;\n",
              "      padding: 0 0 0 0;\n",
              "      width: 32px;\n",
              "    }\n",
              "\n",
              "    .colab-df-convert:hover {\n",
              "      background-color: #E2EBFA;\n",
              "      box-shadow: 0px 1px 2px rgba(60, 64, 67, 0.3), 0px 1px 3px 1px rgba(60, 64, 67, 0.15);\n",
              "      fill: #174EA6;\n",
              "    }\n",
              "\n",
              "    .colab-df-buttons div {\n",
              "      margin-bottom: 4px;\n",
              "    }\n",
              "\n",
              "    [theme=dark] .colab-df-convert {\n",
              "      background-color: #3B4455;\n",
              "      fill: #D2E3FC;\n",
              "    }\n",
              "\n",
              "    [theme=dark] .colab-df-convert:hover {\n",
              "      background-color: #434B5C;\n",
              "      box-shadow: 0px 1px 3px 1px rgba(0, 0, 0, 0.15);\n",
              "      filter: drop-shadow(0px 1px 2px rgba(0, 0, 0, 0.3));\n",
              "      fill: #FFFFFF;\n",
              "    }\n",
              "  </style>\n",
              "\n",
              "    <script>\n",
              "      const buttonEl =\n",
              "        document.querySelector('#df-4cff9601-f825-43e7-a262-f73152db5ac0 button.colab-df-convert');\n",
              "      buttonEl.style.display =\n",
              "        google.colab.kernel.accessAllowed ? 'block' : 'none';\n",
              "\n",
              "      async function convertToInteractive(key) {\n",
              "        const element = document.querySelector('#df-4cff9601-f825-43e7-a262-f73152db5ac0');\n",
              "        const dataTable =\n",
              "          await google.colab.kernel.invokeFunction('convertToInteractive',\n",
              "                                                    [key], {});\n",
              "        if (!dataTable) return;\n",
              "\n",
              "        const docLinkHtml = 'Like what you see? Visit the ' +\n",
              "          '<a target=\"_blank\" href=https://colab.research.google.com/notebooks/data_table.ipynb>data table notebook</a>'\n",
              "          + ' to learn more about interactive tables.';\n",
              "        element.innerHTML = '';\n",
              "        dataTable['output_type'] = 'display_data';\n",
              "        await google.colab.output.renderOutput(dataTable, element);\n",
              "        const docLink = document.createElement('div');\n",
              "        docLink.innerHTML = docLinkHtml;\n",
              "        element.appendChild(docLink);\n",
              "      }\n",
              "    </script>\n",
              "  </div>\n",
              "\n",
              "\n",
              "<div id=\"df-3e1516a9-c0da-475f-8e4e-faa3a18d2689\">\n",
              "  <button class=\"colab-df-quickchart\" onclick=\"quickchart('df-3e1516a9-c0da-475f-8e4e-faa3a18d2689')\"\n",
              "            title=\"Suggest charts\"\n",
              "            style=\"display:none;\">\n",
              "\n",
              "<svg xmlns=\"http://www.w3.org/2000/svg\" height=\"24px\"viewBox=\"0 0 24 24\"\n",
              "     width=\"24px\">\n",
              "    <g>\n",
              "        <path d=\"M19 3H5c-1.1 0-2 .9-2 2v14c0 1.1.9 2 2 2h14c1.1 0 2-.9 2-2V5c0-1.1-.9-2-2-2zM9 17H7v-7h2v7zm4 0h-2V7h2v10zm4 0h-2v-4h2v4z\"/>\n",
              "    </g>\n",
              "</svg>\n",
              "  </button>\n",
              "\n",
              "<style>\n",
              "  .colab-df-quickchart {\n",
              "      --bg-color: #E8F0FE;\n",
              "      --fill-color: #1967D2;\n",
              "      --hover-bg-color: #E2EBFA;\n",
              "      --hover-fill-color: #174EA6;\n",
              "      --disabled-fill-color: #AAA;\n",
              "      --disabled-bg-color: #DDD;\n",
              "  }\n",
              "\n",
              "  [theme=dark] .colab-df-quickchart {\n",
              "      --bg-color: #3B4455;\n",
              "      --fill-color: #D2E3FC;\n",
              "      --hover-bg-color: #434B5C;\n",
              "      --hover-fill-color: #FFFFFF;\n",
              "      --disabled-bg-color: #3B4455;\n",
              "      --disabled-fill-color: #666;\n",
              "  }\n",
              "\n",
              "  .colab-df-quickchart {\n",
              "    background-color: var(--bg-color);\n",
              "    border: none;\n",
              "    border-radius: 50%;\n",
              "    cursor: pointer;\n",
              "    display: none;\n",
              "    fill: var(--fill-color);\n",
              "    height: 32px;\n",
              "    padding: 0;\n",
              "    width: 32px;\n",
              "  }\n",
              "\n",
              "  .colab-df-quickchart:hover {\n",
              "    background-color: var(--hover-bg-color);\n",
              "    box-shadow: 0 1px 2px rgba(60, 64, 67, 0.3), 0 1px 3px 1px rgba(60, 64, 67, 0.15);\n",
              "    fill: var(--button-hover-fill-color);\n",
              "  }\n",
              "\n",
              "  .colab-df-quickchart-complete:disabled,\n",
              "  .colab-df-quickchart-complete:disabled:hover {\n",
              "    background-color: var(--disabled-bg-color);\n",
              "    fill: var(--disabled-fill-color);\n",
              "    box-shadow: none;\n",
              "  }\n",
              "\n",
              "  .colab-df-spinner {\n",
              "    border: 2px solid var(--fill-color);\n",
              "    border-color: transparent;\n",
              "    border-bottom-color: var(--fill-color);\n",
              "    animation:\n",
              "      spin 1s steps(1) infinite;\n",
              "  }\n",
              "\n",
              "  @keyframes spin {\n",
              "    0% {\n",
              "      border-color: transparent;\n",
              "      border-bottom-color: var(--fill-color);\n",
              "      border-left-color: var(--fill-color);\n",
              "    }\n",
              "    20% {\n",
              "      border-color: transparent;\n",
              "      border-left-color: var(--fill-color);\n",
              "      border-top-color: var(--fill-color);\n",
              "    }\n",
              "    30% {\n",
              "      border-color: transparent;\n",
              "      border-left-color: var(--fill-color);\n",
              "      border-top-color: var(--fill-color);\n",
              "      border-right-color: var(--fill-color);\n",
              "    }\n",
              "    40% {\n",
              "      border-color: transparent;\n",
              "      border-right-color: var(--fill-color);\n",
              "      border-top-color: var(--fill-color);\n",
              "    }\n",
              "    60% {\n",
              "      border-color: transparent;\n",
              "      border-right-color: var(--fill-color);\n",
              "    }\n",
              "    80% {\n",
              "      border-color: transparent;\n",
              "      border-right-color: var(--fill-color);\n",
              "      border-bottom-color: var(--fill-color);\n",
              "    }\n",
              "    90% {\n",
              "      border-color: transparent;\n",
              "      border-bottom-color: var(--fill-color);\n",
              "    }\n",
              "  }\n",
              "</style>\n",
              "\n",
              "  <script>\n",
              "    async function quickchart(key) {\n",
              "      const quickchartButtonEl =\n",
              "        document.querySelector('#' + key + ' button');\n",
              "      quickchartButtonEl.disabled = true;  // To prevent multiple clicks.\n",
              "      quickchartButtonEl.classList.add('colab-df-spinner');\n",
              "      try {\n",
              "        const charts = await google.colab.kernel.invokeFunction(\n",
              "            'suggestCharts', [key], {});\n",
              "      } catch (error) {\n",
              "        console.error('Error during call to suggestCharts:', error);\n",
              "      }\n",
              "      quickchartButtonEl.classList.remove('colab-df-spinner');\n",
              "      quickchartButtonEl.classList.add('colab-df-quickchart-complete');\n",
              "    }\n",
              "    (() => {\n",
              "      let quickchartButtonEl =\n",
              "        document.querySelector('#df-3e1516a9-c0da-475f-8e4e-faa3a18d2689 button');\n",
              "      quickchartButtonEl.style.display =\n",
              "        google.colab.kernel.accessAllowed ? 'block' : 'none';\n",
              "    })();\n",
              "  </script>\n",
              "</div>\n",
              "\n",
              "    </div>\n",
              "  </div>\n"
            ],
            "application/vnd.google.colaboratory.intrinsic+json": {
              "type": "dataframe",
              "variable_name": "df",
              "summary": "{\n  \"name\": \"df\",\n  \"rows\": 3000,\n  \"fields\": [\n    {\n      \"column\": \"index\",\n      \"properties\": {\n        \"dtype\": \"number\",\n        \"std\": 866,\n        \"min\": 0,\n        \"max\": 2999,\n        \"num_unique_values\": 3000,\n        \"samples\": [\n          1801,\n          1190,\n          1817\n        ],\n        \"semantic_type\": \"\",\n        \"description\": \"\"\n      }\n    },\n    {\n      \"column\": \"longitude\",\n      \"properties\": {\n        \"dtype\": \"number\",\n        \"std\": 1.9949362939550175,\n        \"min\": -124.18,\n        \"max\": -114.49,\n        \"num_unique_values\": 607,\n        \"samples\": [\n          -121.15,\n          -121.46,\n          -121.02\n        ],\n        \"semantic_type\": \"\",\n        \"description\": \"\"\n      }\n    },\n    {\n      \"column\": \"latitude\",\n      \"properties\": {\n        \"dtype\": \"number\",\n        \"std\": 2.129669523343834,\n        \"min\": 32.56,\n        \"max\": 41.92,\n        \"num_unique_values\": 587,\n        \"samples\": [\n          40.17,\n          33.69,\n          39.61\n        ],\n        \"semantic_type\": \"\",\n        \"description\": \"\"\n      }\n    },\n    {\n      \"column\": \"housing_median_age\",\n      \"properties\": {\n        \"dtype\": \"number\",\n        \"std\": 12.555395554955753,\n        \"min\": 1.0,\n        \"max\": 52.0,\n        \"num_unique_values\": 52,\n        \"samples\": [\n          14.0,\n          49.0,\n          7.0\n        ],\n        \"semantic_type\": \"\",\n        \"description\": \"\"\n      }\n    },\n    {\n      \"column\": \"total_rooms\",\n      \"properties\": {\n        \"dtype\": \"number\",\n        \"std\": 2155.593331625581,\n        \"min\": 6.0,\n        \"max\": 30450.0,\n        \"num_unique_values\": 2215,\n        \"samples\": [\n          1961.0,\n          1807.0,\n          680.0\n        ],\n        \"semantic_type\": \"\",\n        \"description\": \"\"\n      }\n    },\n    {\n      \"column\": \"total_bedrooms\",\n      \"properties\": {\n        \"dtype\": \"number\",\n        \"std\": 415.6543681363229,\n        \"min\": 2.0,\n        \"max\": 5419.0,\n        \"num_unique_values\": 1055,\n        \"samples\": [\n          532.0,\n          764.0,\n          2162.0\n        ],\n        \"semantic_type\": \"\",\n        \"description\": \"\"\n      }\n    },\n    {\n      \"column\": \"population\",\n      \"properties\": {\n        \"dtype\": \"number\",\n        \"std\": 1030.5430124122424,\n        \"min\": 5.0,\n        \"max\": 11935.0,\n        \"num_unique_values\": 1802,\n        \"samples\": [\n          947.0,\n          1140.0,\n          2019.0\n        ],\n        \"semantic_type\": \"\",\n        \"description\": \"\"\n      }\n    },\n    {\n      \"column\": \"households\",\n      \"properties\": {\n        \"dtype\": \"number\",\n        \"std\": 365.42270980552627,\n        \"min\": 2.0,\n        \"max\": 4930.0,\n        \"num_unique_values\": 1026,\n        \"samples\": [\n          646.0,\n          629.0,\n          504.0\n        ],\n        \"semantic_type\": \"\",\n        \"description\": \"\"\n      }\n    },\n    {\n      \"column\": \"median_income\",\n      \"properties\": {\n        \"dtype\": \"number\",\n        \"std\": 1.854511729691479,\n        \"min\": 0.4999,\n        \"max\": 15.0001,\n        \"num_unique_values\": 2578,\n        \"samples\": [\n          1.725,\n          0.7403,\n          2.6964\n        ],\n        \"semantic_type\": \"\",\n        \"description\": \"\"\n      }\n    },\n    {\n      \"column\": \"median_house_value\",\n      \"properties\": {\n        \"dtype\": \"number\",\n        \"std\": 113119.68746964628,\n        \"min\": 22500.0,\n        \"max\": 500001.0,\n        \"num_unique_values\": 1784,\n        \"samples\": [\n          71900.0,\n          63000.0,\n          115800.0\n        ],\n        \"semantic_type\": \"\",\n        \"description\": \"\"\n      }\n    }\n  ]\n}"
            }
          },
          "metadata": {},
          "execution_count": 116
        }
      ]
    },
    {
      "cell_type": "code",
      "source": [
        "df.at[2, \"longitude\"]"
      ],
      "metadata": {
        "colab": {
          "base_uri": "https://localhost:8080/"
        },
        "id": "cQDbCrGgkC93",
        "outputId": "89aaae47-38cf-494f-80dc-eb49a241ef3b"
      },
      "execution_count": 117,
      "outputs": [
        {
          "output_type": "execute_result",
          "data": {
            "text/plain": [
              "-117.81"
            ]
          },
          "metadata": {},
          "execution_count": 117
        }
      ]
    },
    {
      "cell_type": "code",
      "source": [
        "df.iat[2, 1]"
      ],
      "metadata": {
        "colab": {
          "base_uri": "https://localhost:8080/"
        },
        "id": "f2DchPbVkPoQ",
        "outputId": "604a9308-ac26-4aad-fd5a-f6634de3926b"
      },
      "execution_count": 118,
      "outputs": [
        {
          "output_type": "execute_result",
          "data": {
            "text/plain": [
              "-117.81"
            ]
          },
          "metadata": {},
          "execution_count": 118
        }
      ]
    },
    {
      "cell_type": "code",
      "source": [
        "a = np.random.random((5,6,7,1,2,3))\n",
        "b = np.random.random((5,1,7,5,1,1))"
      ],
      "metadata": {
        "id": "QzyMszkNomf5"
      },
      "execution_count": 119,
      "outputs": []
    },
    {
      "cell_type": "code",
      "source": [
        "print(a.shape)\n",
        "print(b.shape)"
      ],
      "metadata": {
        "colab": {
          "base_uri": "https://localhost:8080/"
        },
        "id": "nnwqkgIKo2dP",
        "outputId": "92ff1a76-4e6a-4102-cdd0-260eca201d40"
      },
      "execution_count": 120,
      "outputs": [
        {
          "output_type": "stream",
          "name": "stdout",
          "text": [
            "(5, 6, 7, 1, 2, 3)\n",
            "(5, 1, 7, 5, 1, 1)\n"
          ]
        }
      ]
    },
    {
      "cell_type": "code",
      "source": [
        "c = a + b\n",
        "c.shape"
      ],
      "metadata": {
        "colab": {
          "base_uri": "https://localhost:8080/"
        },
        "collapsed": true,
        "id": "FGlaKefBo7nU",
        "outputId": "6ccf9b38-b241-4cd1-df26-106d6e5c1974"
      },
      "execution_count": 121,
      "outputs": [
        {
          "output_type": "execute_result",
          "data": {
            "text/plain": [
              "(5, 6, 7, 5, 2, 3)"
            ]
          },
          "metadata": {},
          "execution_count": 121
        }
      ]
    },
    {
      "cell_type": "code",
      "source": [
        "try:\n",
        "  a = np.random.random((5,6,7,1,2,3))\n",
        "  b = np.random.random((5,2,7,5,1,1))\n",
        "  print(a + b)\n",
        "except ValueError:\n",
        "  print(f\"Operands could not be broadcast together with shapes {a.shape} {b.shape}\")\n",
        "except Exception as e:\n",
        "  print(e)\n",
        "else:\n",
        "  pass\n",
        "finally:\n",
        "  pass"
      ],
      "metadata": {
        "colab": {
          "base_uri": "https://localhost:8080/"
        },
        "id": "7ONguoYRo_ot",
        "outputId": "f8532498-a77f-41d5-fbd2-9822d4d5c1e3"
      },
      "execution_count": 122,
      "outputs": [
        {
          "output_type": "stream",
          "name": "stdout",
          "text": [
            "Operands could not be broadcast together with shapes (5, 6, 7, 1, 2, 3) (5, 2, 7, 5, 1, 1)\n"
          ]
        }
      ]
    },
    {
      "cell_type": "code",
      "source": [
        "ma = np.array( [[[1,2,3],\n",
        "                [4,5,6],\n",
        "                [7,8,9]],\n",
        "                [[11,12,13],\n",
        "                [14,15,16],\n",
        "                [17,18,19]]\n",
        "                ])\n",
        "print(ma.shape)\n",
        "print(ma[0:2, 0:2, 0:1])"
      ],
      "metadata": {
        "colab": {
          "base_uri": "https://localhost:8080/"
        },
        "id": "OsCs-yAgqysr",
        "outputId": "f0401c49-f588-4f52-8c53-f5b2deaae71f"
      },
      "execution_count": 123,
      "outputs": [
        {
          "output_type": "stream",
          "name": "stdout",
          "text": [
            "(2, 3, 3)\n",
            "[[[ 1]\n",
            "  [ 4]]\n",
            "\n",
            " [[11]\n",
            "  [14]]]\n"
          ]
        }
      ]
    },
    {
      "cell_type": "code",
      "source": [
        "print(ma[:, 0, 0, np.newaxis])\n",
        "print(ma[np.newaxis, :, 0, 0])"
      ],
      "metadata": {
        "colab": {
          "base_uri": "https://localhost:8080/"
        },
        "id": "5MzT5z7HuIXX",
        "outputId": "9d908630-823f-41a4-ad3e-b5db2f9eceb0"
      },
      "execution_count": 124,
      "outputs": [
        {
          "output_type": "stream",
          "name": "stdout",
          "text": [
            "[[ 1]\n",
            " [11]]\n",
            "[[ 1 11]]\n"
          ]
        }
      ]
    },
    {
      "cell_type": "code",
      "source": [
        "print(ma[:, [True, True, False]])"
      ],
      "metadata": {
        "colab": {
          "base_uri": "https://localhost:8080/"
        },
        "id": "94pkQ94WuKku",
        "outputId": "21cfdc22-9c54-475b-8f13-77fbf3c66f42"
      },
      "execution_count": 125,
      "outputs": [
        {
          "output_type": "stream",
          "name": "stdout",
          "text": [
            "[[[ 1  2  3]\n",
            "  [ 4  5  6]]\n",
            "\n",
            " [[11 12 13]\n",
            "  [14 15 16]]]\n"
          ]
        }
      ]
    },
    {
      "cell_type": "code",
      "source": [
        "arr = np.arange(10, 300, 5.2, dtype=float)\n",
        "np.random.shuffle(arr)\n",
        "print(arr)"
      ],
      "metadata": {
        "colab": {
          "base_uri": "https://localhost:8080/"
        },
        "id": "M5xIlJhZuSR-",
        "outputId": "e2916d5a-0cb4-40f8-a30a-0325093256d3"
      },
      "execution_count": 126,
      "outputs": [
        {
          "output_type": "stream",
          "name": "stdout",
          "text": [
            "[129.6 238.8 218.  171.2 114.   15.2 207.6 124.4  46.4 244.  166.  197.2\n",
            " 270.   56.8  30.8  72.4 186.8 264.8  62.  285.6 212.8 119.2  10.   77.6\n",
            " 223.2 103.6  98.4 254.4 192.  176.4 150.4 275.2 134.8 140.  249.2 160.8\n",
            " 280.4 290.8  25.6 296.   88.  228.4 259.6  36.  233.6  20.4  41.2 145.2\n",
            " 155.6  82.8  93.2 108.8 181.6 202.4  51.6  67.2]\n"
          ]
        }
      ]
    },
    {
      "cell_type": "code",
      "source": [
        "# arr.sort()"
      ],
      "metadata": {
        "id": "gYb8h1QHx7UM"
      },
      "execution_count": 127,
      "outputs": []
    },
    {
      "cell_type": "code",
      "source": [
        "print(np.argmin(arr))\n",
        "print(np.argmax(arr))"
      ],
      "metadata": {
        "colab": {
          "base_uri": "https://localhost:8080/"
        },
        "id": "6hkOJQFmyTLZ",
        "outputId": "d739fe5e-992c-41f7-e18c-39dc1b9ce50f"
      },
      "execution_count": 128,
      "outputs": [
        {
          "output_type": "stream",
          "name": "stdout",
          "text": [
            "22\n",
            "39\n"
          ]
        }
      ]
    },
    {
      "cell_type": "code",
      "source": [
        "zrr = np.zeros_like(arr)\n",
        "print(zrr)"
      ],
      "metadata": {
        "colab": {
          "base_uri": "https://localhost:8080/"
        },
        "id": "_5gYdFfr6qGV",
        "outputId": "dbab7503-996b-4e9a-d486-6f757ea9879e"
      },
      "execution_count": 129,
      "outputs": [
        {
          "output_type": "stream",
          "name": "stdout",
          "text": [
            "[0. 0. 0. 0. 0. 0. 0. 0. 0. 0. 0. 0. 0. 0. 0. 0. 0. 0. 0. 0. 0. 0. 0. 0.\n",
            " 0. 0. 0. 0. 0. 0. 0. 0. 0. 0. 0. 0. 0. 0. 0. 0. 0. 0. 0. 0. 0. 0. 0. 0.\n",
            " 0. 0. 0. 0. 0. 0. 0. 0.]\n"
          ]
        }
      ]
    },
    {
      "cell_type": "code",
      "source": [
        "arr.__getitem__(slice(0, 10, 2))"
      ],
      "metadata": {
        "colab": {
          "base_uri": "https://localhost:8080/"
        },
        "id": "4cyh3MrP6uoB",
        "outputId": "29f6f28c-7bca-4ba0-fd05-2246cbeec71c"
      },
      "execution_count": 130,
      "outputs": [
        {
          "output_type": "execute_result",
          "data": {
            "text/plain": [
              "array([129.6, 218. , 114. , 207.6,  46.4])"
            ]
          },
          "metadata": {},
          "execution_count": 130
        }
      ]
    },
    {
      "cell_type": "code",
      "source": [
        "try:\n",
        "  np.where[arr > 88., arr, arr]\n",
        "except TypeError:\n",
        "  print(\"numpy._ArrayFunctionDispatcher' object is not subscriptable\")\n",
        "except Exception as e:\n",
        "  print(e)\n",
        "else:\n",
        "  pass\n",
        "finally:\n",
        "  pass"
      ],
      "metadata": {
        "colab": {
          "base_uri": "https://localhost:8080/"
        },
        "id": "BlnMb1dC8OZO",
        "outputId": "541df679-a7a7-4026-eecb-81a6ce889ee1"
      },
      "execution_count": 131,
      "outputs": [
        {
          "output_type": "stream",
          "name": "stdout",
          "text": [
            "numpy._ArrayFunctionDispatcher' object is not subscriptable\n"
          ]
        }
      ]
    },
    {
      "cell_type": "code",
      "source": [
        "arr.shape"
      ],
      "metadata": {
        "colab": {
          "base_uri": "https://localhost:8080/"
        },
        "id": "kvnSyjHc__PK",
        "outputId": "1dd16c78-3a08-4528-d621-c446a04a6172"
      },
      "execution_count": 132,
      "outputs": [
        {
          "output_type": "execute_result",
          "data": {
            "text/plain": [
              "(56,)"
            ]
          },
          "metadata": {},
          "execution_count": 132
        }
      ]
    },
    {
      "cell_type": "code",
      "source": [
        "arr[arr > 88]"
      ],
      "metadata": {
        "colab": {
          "base_uri": "https://localhost:8080/"
        },
        "id": "EDk9M4SQKsDQ",
        "outputId": "1d0f0e17-0538-4bf0-e2ac-4d9738e2bb0e"
      },
      "execution_count": 133,
      "outputs": [
        {
          "output_type": "execute_result",
          "data": {
            "text/plain": [
              "array([129.6, 238.8, 218. , 171.2, 114. , 207.6, 124.4, 244. , 166. ,\n",
              "       197.2, 270. , 186.8, 264.8, 285.6, 212.8, 119.2, 223.2, 103.6,\n",
              "        98.4, 254.4, 192. , 176.4, 150.4, 275.2, 134.8, 140. , 249.2,\n",
              "       160.8, 280.4, 290.8, 296. , 228.4, 259.6, 233.6, 145.2, 155.6,\n",
              "        93.2, 108.8, 181.6, 202.4])"
            ]
          },
          "metadata": {},
          "execution_count": 133
        }
      ]
    },
    {
      "cell_type": "code",
      "source": [
        "!cat /var/log/bootstrap.log | grep adduser -A 4"
      ],
      "metadata": {
        "colab": {
          "base_uri": "https://localhost:8080/"
        },
        "id": "2qN5TY1dKwi2",
        "outputId": "c159551a-4711-4924-880c-bb6f74188ec9"
      },
      "execution_count": 134,
      "outputs": [
        {
          "output_type": "stream",
          "name": "stdout",
          "text": [
            "2023-10-04 02:07:18 URL:http://ftpmaster.internal/ubuntu/pool/main/a/adduser/adduser_3.118ubuntu5_all.deb [155528/155528] -> \"/build/chroot//var/cache/apt/archives/partial/adduser_3.118ubuntu5_all.deb\" [1]\n",
            "2023-10-04 02:07:20 URL:http://ftpmaster.internal/ubuntu/pool/main/a/apt/apt_2.4.5_amd64.deb [1379030/1379030] -> \"/build/chroot//var/cache/apt/archives/partial/apt_2.4.5_amd64.deb\" [1]\n",
            "2023-10-04 02:07:20 URL:http://ftpmaster.internal/ubuntu/pool/main/b/base-files/base-files_12ubuntu4_amd64.deb [62940/62940] -> \"/build/chroot//var/cache/apt/archives/partial/base-files_12ubuntu4_amd64.deb\" [1]\n",
            "2023-10-04 02:07:20 URL:http://ftpmaster.internal/ubuntu/pool/main/b/base-passwd/base-passwd_3.5.52build1_amd64.deb [49100/49100] -> \"/build/chroot//var/cache/apt/archives/partial/base-passwd_3.5.52build1_amd64.deb\" [1]\n",
            "2023-10-04 02:07:21 URL:http://ftpmaster.internal/ubuntu/pool/main/b/bash/bash_5.1-6ubuntu1_amd64.deb [768660/768660] -> \"/build/chroot//var/cache/apt/archives/partial/bash_5.1-6ubuntu1_amd64.deb\" [1]\n",
            "--\n",
            "Preparing to unpack .../adduser_3.118ubuntu5_all.deb ...\n",
            "Unpacking adduser (3.118ubuntu5) ...\n",
            "Preparing to unpack .../archives/apt_2.4.5_amd64.deb ...\n",
            "Unpacking apt (2.4.5) ...\n",
            "Preparing to unpack .../gpgv_2.2.27-3ubuntu2_amd64.deb ...\n",
            "Unpacking gpgv (2.2.27-3ubuntu2) ...\n",
            "--\n",
            "Setting up adduser (3.118ubuntu5) ...\n",
            "Setting up libunistring2:amd64 (1.0-1) ...\n",
            "Setting up libidn2-0:amd64 (2.3.2-2build1) ...\n",
            "Setting up ubuntu-keyring (2021.03.26) ...\n",
            "Setting up libseccomp2:amd64 (2.5.3-2ubuntu2) ...\n"
          ]
        }
      ]
    },
    {
      "cell_type": "code",
      "source": [
        "def test_add():\n",
        "  %time\n",
        "  assert 1 + 1 == 2"
      ],
      "metadata": {
        "id": "rLLtvctonf5s"
      },
      "execution_count": 135,
      "outputs": []
    },
    {
      "cell_type": "code",
      "source": [
        "import pytest\n",
        "\n",
        "def test_passes():\n",
        "    with pytest.raises(Exception) as e_info:\n",
        "        x = 1 / 0\n",
        "\n",
        "def test_passes_without_info():\n",
        "    with pytest.raises(Exception):\n",
        "        x = 1 / 0\n",
        "\n",
        "# def test_fails():\n",
        "#     with pytest.raises(Exception) as e_info:\n",
        "#         x = 1 / 1\n",
        "\n",
        "# def test_fails_without_info():\n",
        "#     with pytest.raises(Exception):\n",
        "#         x = 1 / 1\n",
        "\n",
        "# Don't do this. Assertions are caught as exceptions.\n",
        "def test_passes_but_should_not():\n",
        "    try:\n",
        "        x = 1 / 1\n",
        "        assert False\n",
        "    except Exception:\n",
        "        assert True\n",
        "\n",
        "# Even if the appropriate exception is caught, it is bad style,\n",
        "# because the test result is less informative\n",
        "# than it would be with pytest.raises(e)\n",
        "# (it just says pass or fail.)\n",
        "\n",
        "def test_passes_but_bad_style():\n",
        "    try:\n",
        "        x = 1 / 0\n",
        "        assert False\n",
        "    except ZeroDivisionError:\n",
        "        assert True\n",
        "\n",
        "# def test_fails_but_bad_style():\n",
        "#     try:\n",
        "#         x = 1 / 1\n",
        "#         assert False\n",
        "#     except ZeroDivisionError:\n",
        "#         assert True"
      ],
      "metadata": {
        "id": "q7hxnQVUnsZA"
      },
      "execution_count": 136,
      "outputs": []
    },
    {
      "cell_type": "code",
      "source": [
        "from functools import cache\n",
        "\n",
        "@cache\n",
        "def fibonacci(n: int) -> int:\n",
        "    if n < 2 :\n",
        "        return n\n",
        "    return fibonacci(n - 1) + fibonacci(n - 2) #infinitive recursion"
      ],
      "metadata": {
        "id": "X_j6_B_Ry9yi"
      },
      "execution_count": 137,
      "outputs": []
    },
    {
      "cell_type": "code",
      "source": [
        "def test_fibonacci():\n",
        "    assert fibonacci(41) == 165580141"
      ],
      "metadata": {
        "id": "4n2KgPjL000V"
      },
      "execution_count": 138,
      "outputs": []
    },
    {
      "cell_type": "code",
      "source": [
        "import time\n",
        "from time import perf_counter, sleep\n",
        "from functools import wraps\n",
        "from typing import Callable, Any\n",
        "\n",
        "def get_time(func: Callable) -> Callable:\n",
        "    @wraps(func)\n",
        "    def wrapper(*args, **kwargs) -> Any:\n",
        "        # Note that timing your code once isn't the most reliable option\n",
        "        # for timing your code. Look into the timeit module for more accurate\n",
        "        # timing.\n",
        "        start_time: float = perf_counter()\n",
        "        result: Any = func(*args, **kwargs)\n",
        "        end_time: float = perf_counter()\n",
        "\n",
        "        print(f'\"{func.__name__}()\" took {end_time - start_time:.3f} seconds to execute')\n",
        "        return result\n",
        "\n",
        "    return wrapper"
      ],
      "metadata": {
        "id": "Se4NwDVi1FUL"
      },
      "execution_count": 139,
      "outputs": []
    },
    {
      "cell_type": "code",
      "source": [
        "@get_time\n",
        "def connect() -> bool:\n",
        "  if True:\n",
        "    print('Connecting...')\n",
        "    sleep(2)\n",
        "    print('Connected!')\n",
        "    return True\n",
        "  return False\n",
        "\n",
        "@get_time\n",
        "def fifty_million_loops() -> bool:\n",
        "  if True:\n",
        "    fifty_million: int = int(5e7)\n",
        "\n",
        "    print('Looping...')\n",
        "    for _ in range(fifty_million):\n",
        "        pass\n",
        "\n",
        "    print('Done looping!')\n",
        "    return True\n",
        "  return False"
      ],
      "metadata": {
        "id": "NP5GA_OJ1GqC"
      },
      "execution_count": 140,
      "outputs": []
    },
    {
      "cell_type": "code",
      "source": [
        "connect()\n",
        "fifty_million_loops()"
      ],
      "metadata": {
        "colab": {
          "base_uri": "https://localhost:8080/"
        },
        "id": "8OsWhaOG2WlX",
        "outputId": "78f3af11-35d8-4466-b9f3-9ddb0fae25c0"
      },
      "execution_count": 141,
      "outputs": [
        {
          "output_type": "stream",
          "name": "stdout",
          "text": [
            "Connecting...\n",
            "Connected!\n",
            "\"connect()\" took 2.003 seconds to execute\n",
            "Looping...\n",
            "Done looping!\n",
            "\"fifty_million_loops()\" took 1.429 seconds to execute\n"
          ]
        },
        {
          "output_type": "execute_result",
          "data": {
            "text/plain": [
              "True"
            ]
          },
          "metadata": {},
          "execution_count": 141
        }
      ]
    },
    {
      "cell_type": "code",
      "source": [
        "def test_connect():\n",
        "    result = connect()\n",
        "    assert result\n",
        "\n",
        "def test_fifty_million_loops():\n",
        "    result = fifty_million_loops()\n",
        "    assert result"
      ],
      "metadata": {
        "id": "rN9zD6nW11OO"
      },
      "execution_count": 142,
      "outputs": []
    },
    {
      "cell_type": "code",
      "source": [
        "%%time\n",
        "!pip install pytest ipytest --quiet\n",
        "\n",
        "import ipytest\n",
        "ipytest.autoconfig(clean=True) #https://pypi.org/project/ipytest/\n",
        "\n",
        "ipytest.run('-vv')"
      ],
      "metadata": {
        "colab": {
          "base_uri": "https://localhost:8080/"
        },
        "id": "RjQut8C_1iFQ",
        "outputId": "e69456a2-fee4-4805-ec6f-ffbad8f9dda9"
      },
      "execution_count": 143,
      "outputs": [
        {
          "output_type": "stream",
          "name": "stdout",
          "text": [
            "\u001b[1m======================================= test session starts ========================================\u001b[0m\n",
            "platform linux -- Python 3.10.12, pytest-7.4.4, pluggy-1.5.0 -- /usr/bin/python3\n",
            "cachedir: .pytest_cache\n",
            "rootdir: /content\n",
            "plugins: anyio-3.7.1, typeguard-4.3.0\n",
            "\u001b[1mcollecting ... \u001b[0mcollected 9 items\n",
            "\n",
            "t_4631ab6524f246bba698a80215885f8b.py::test_add \u001b[32mPASSED\u001b[0m\u001b[32m                                       [ 11%]\u001b[0m\n",
            "t_4631ab6524f246bba698a80215885f8b.py::test_passes \u001b[32mPASSED\u001b[0m\u001b[32m                                    [ 22%]\u001b[0m\n",
            "t_4631ab6524f246bba698a80215885f8b.py::test_passes_without_info \u001b[32mPASSED\u001b[0m\u001b[32m                       [ 33%]\u001b[0m\n",
            "t_4631ab6524f246bba698a80215885f8b.py::test_passes_but_should_not \u001b[32mPASSED\u001b[0m\u001b[32m                     [ 44%]\u001b[0m\n",
            "t_4631ab6524f246bba698a80215885f8b.py::test_passes_but_bad_style \u001b[32mPASSED\u001b[0m\u001b[32m                      [ 55%]\u001b[0m\n",
            "t_4631ab6524f246bba698a80215885f8b.py::test_fibonacci \u001b[32mPASSED\u001b[0m\u001b[32m                                 [ 66%]\u001b[0m\n",
            "t_4631ab6524f246bba698a80215885f8b.py::test_connect \u001b[32mPASSED\u001b[0m\u001b[32m                                   [ 77%]\u001b[0m\n",
            "t_4631ab6524f246bba698a80215885f8b.py::test_fifty_million_loops \u001b[32mPASSED\u001b[0m\u001b[32m                       [ 88%]\u001b[0m\n",
            "t_4631ab6524f246bba698a80215885f8b.py::test_concat_string \u001b[31mERROR\u001b[0m\u001b[31m                              [100%]\u001b[0m\n",
            "\n",
            "============================================== ERRORS ==============================================\n",
            "\u001b[31m\u001b[1m_______________________________ ERROR at setup of test_concat_string _______________________________\u001b[0m\n",
            "file <ipython-input-113-2e2c41f97813>, line 1\n",
            "  def test_concat_string(n: int) -> None:\n",
            "\u001b[31mE       fixture 'n' not found\u001b[0m\n",
            "\u001b[31m>       available fixtures: anyio_backend, anyio_backend_name, anyio_backend_options, cache, capfd, capfdbinary, caplog, capsys, capsysbinary, doctest_namespace, monkeypatch, pytestconfig, record_property, record_testsuite_property, record_xml_attribute, recwarn, tmp_path, tmp_path_factory, tmpdir, tmpdir_factory\u001b[0m\n",
            "\u001b[31m>       use 'pytest --fixtures [testpath]' for help on them.\u001b[0m\n",
            "\n",
            "<ipython-input-113-2e2c41f97813>:1\n",
            "\u001b[36m\u001b[1m===================================== short test summary info ======================================\u001b[0m\n",
            "\u001b[31mERROR\u001b[0m t_4631ab6524f246bba698a80215885f8b.py::\u001b[1mtest_concat_string\u001b[0m\n",
            "\u001b[31m==================================== \u001b[32m8 passed\u001b[0m, \u001b[31m\u001b[1m1 error\u001b[0m\u001b[31m in 4.37s\u001b[0m\u001b[31m ====================================\u001b[0m\n",
            "CPU times: user 2.39 s, sys: 37 ms, total: 2.43 s\n",
            "Wall time: 7.88 s\n"
          ]
        },
        {
          "output_type": "execute_result",
          "data": {
            "text/plain": [
              "<ExitCode.TESTS_FAILED: 1>"
            ]
          },
          "metadata": {},
          "execution_count": 143
        }
      ]
    },
    {
      "cell_type": "code",
      "source": [
        "ar1 = np.arange(24).reshape(3, 4, 2)\n",
        "\n",
        "# for row in ar1:\n",
        "#   for element in row:\n",
        "#     print(element)\n",
        "\n",
        "#better iterator: https://numpy.org/doc/stable/reference/generated/numpy.nditer.html#\n",
        "with np.nditer(ar1, op_flags=['readwrite']) as it:\n",
        "  for x in it:\n",
        "    x[...] = x ** 2\n",
        "\n",
        "print(ar1)"
      ],
      "metadata": {
        "colab": {
          "base_uri": "https://localhost:8080/"
        },
        "id": "V_X6xScN2uZk",
        "outputId": "78914de8-ecaa-410b-8e7d-3db7c81d4b2f"
      },
      "execution_count": 144,
      "outputs": [
        {
          "output_type": "stream",
          "name": "stdout",
          "text": [
            "[[[  0   1]\n",
            "  [  4   9]\n",
            "  [ 16  25]\n",
            "  [ 36  49]]\n",
            "\n",
            " [[ 64  81]\n",
            "  [100 121]\n",
            "  [144 169]\n",
            "  [196 225]]\n",
            "\n",
            " [[256 289]\n",
            "  [324 361]\n",
            "  [400 441]\n",
            "  [484 529]]]\n"
          ]
        }
      ]
    },
    {
      "cell_type": "code",
      "source": [
        "import numpy.ma as ma\n",
        "import math\n",
        "\n",
        "ls = [1, 2, 3, 4, 5, 6, 7, 8, 9, 10, np.nan, np.inf]\n",
        "for_masking = np.array(ls)\n",
        "\n",
        "print(for_masking.mean())\n",
        "\n",
        "masked = ma.masked_array(for_masking, mask=[1 if math.isnan(e) or math.isinf(e) else 0 for e in ls]) #mask=[1] maskuje / mask=[0] nie maskuje\n",
        "print(masked.mean())\n",
        "\n",
        "print(masked)"
      ],
      "metadata": {
        "colab": {
          "base_uri": "https://localhost:8080/"
        },
        "id": "tFK_xgml56jj",
        "outputId": "60378e98-796a-423d-b817-88d1cb571249"
      },
      "execution_count": 145,
      "outputs": [
        {
          "output_type": "stream",
          "name": "stdout",
          "text": [
            "nan\n",
            "5.5\n",
            "[1.0 2.0 3.0 4.0 5.0 6.0 7.0 8.0 9.0 10.0 -- --]\n"
          ]
        }
      ]
    },
    {
      "cell_type": "code",
      "source": [
        "original = np.array([1, 2, 3, 4, 5, 6, 7, 8, 9, 10])\n",
        "view = original.view()\n",
        "copy = original.copy()\n",
        "\n",
        "print(original)\n",
        "print(view)\n",
        "print(copy)\n",
        "\n",
        "view[0] = 100\n",
        "copy[0] = 200\n",
        "\n",
        "print(original)\n",
        "print(view)\n",
        "print(copy)"
      ],
      "metadata": {
        "id": "n02R5hgTAX78",
        "colab": {
          "base_uri": "https://localhost:8080/"
        },
        "outputId": "35ba6097-a9e5-4fe8-b699-32c7d9ca78f6"
      },
      "execution_count": 146,
      "outputs": [
        {
          "output_type": "stream",
          "name": "stdout",
          "text": [
            "[ 1  2  3  4  5  6  7  8  9 10]\n",
            "[ 1  2  3  4  5  6  7  8  9 10]\n",
            "[ 1  2  3  4  5  6  7  8  9 10]\n",
            "[100   2   3   4   5   6   7   8   9  10]\n",
            "[100   2   3   4   5   6   7   8   9  10]\n",
            "[200   2   3   4   5   6   7   8   9  10]\n"
          ]
        }
      ]
    },
    {
      "cell_type": "code",
      "source": [
        "new_arr = original[[1,2,3]] #copy with indexing\n",
        "print(new_arr)\n",
        "new_arr[0] = 100\n",
        "print(new_arr)\n",
        "print(original)"
      ],
      "metadata": {
        "colab": {
          "base_uri": "https://localhost:8080/"
        },
        "id": "1nF24CmyNIE3",
        "outputId": "0f27f055-5d56-48f6-c49a-e2e939533b93"
      },
      "execution_count": 147,
      "outputs": [
        {
          "output_type": "stream",
          "name": "stdout",
          "text": [
            "[2 3 4]\n",
            "[100   3   4]\n",
            "[100   2   3   4   5   6   7   8   9  10]\n"
          ]
        }
      ]
    },
    {
      "cell_type": "code",
      "source": [
        "print(original.base) #how to check copy or not\n",
        "print(view.base)\n",
        "print(copy.base)"
      ],
      "metadata": {
        "colab": {
          "base_uri": "https://localhost:8080/"
        },
        "id": "lMB0q5ceP1bB",
        "outputId": "b6f1a8b9-fe9e-49b5-9f8a-2b171c1fa887"
      },
      "execution_count": 148,
      "outputs": [
        {
          "output_type": "stream",
          "name": "stdout",
          "text": [
            "None\n",
            "[100   2   3   4   5   6   7   8   9  10]\n",
            "None\n"
          ]
        }
      ]
    },
    {
      "cell_type": "code",
      "source": [
        "custom_arr = np.array([[1,2,3,4,5], [6,7,8,9,10]])\n",
        "\n",
        "def square_if_even(x: int) -> int:\n",
        "  if x % 2 == 0:\n",
        "    return x ** 2\n",
        "  return x\n",
        "\n",
        "vectorize_square_if_even = np.vectorize(square_if_even) #wektoryzacja funkcji\n",
        "\n",
        "print(vectorize_square_if_even(custom_arr))"
      ],
      "metadata": {
        "colab": {
          "base_uri": "https://localhost:8080/"
        },
        "id": "qd-3YkfuP4cX",
        "outputId": "0d279183-fac3-4009-c4f8-fdd41460ab67"
      },
      "execution_count": 149,
      "outputs": [
        {
          "output_type": "stream",
          "name": "stdout",
          "text": [
            "[[  1   4   3  16   5]\n",
            " [ 36   7  64   9 100]]\n"
          ]
        }
      ]
    },
    {
      "cell_type": "code",
      "source": [
        "custom_data_type = np.dtype([('name', 'U100'), ('age', 'i4'), ('weight', 'f8')]) #https://numpy.org/doc/stable/reference/arrays.dtypes.html"
      ],
      "metadata": {
        "id": "BJgQAPFWRYJn"
      },
      "execution_count": 150,
      "outputs": []
    },
    {
      "cell_type": "code",
      "source": [
        "dt = np.dtype(np.int32)\n",
        "\n",
        "print(dt.name)\n",
        "print(dt.type)\n",
        "print(dt.byteorder)\n",
        "print(dt.itemsize)"
      ],
      "metadata": {
        "colab": {
          "base_uri": "https://localhost:8080/"
        },
        "id": "cqk_k4o6RvdL",
        "outputId": "fd0dcedc-c9e3-431f-8be2-df1e97c2ec3d"
      },
      "execution_count": 151,
      "outputs": [
        {
          "output_type": "stream",
          "name": "stdout",
          "text": [
            "int32\n",
            "<class 'numpy.int32'>\n",
            "=\n",
            "4\n"
          ]
        }
      ]
    },
    {
      "cell_type": "code",
      "source": [
        "rra = np.array(['hellooooooo', 'world', 'how', 'are', 'you'], dtype='U6') #wymuszenie typu\n",
        "print(rra.dtype)"
      ],
      "metadata": {
        "colab": {
          "base_uri": "https://localhost:8080/"
        },
        "id": "4z9jwTFsTBwa",
        "outputId": "01857c2b-c0c8-434b-9026-78eef3b58971"
      },
      "execution_count": 152,
      "outputs": [
        {
          "output_type": "stream",
          "name": "stdout",
          "text": [
            "<U6\n"
          ]
        }
      ]
    },
    {
      "cell_type": "code",
      "source": [
        "dt = np.dtype(\"i4, (2,3)f8, f4\")"
      ],
      "metadata": {
        "id": "gz4l82XFTHH4"
      },
      "execution_count": 153,
      "outputs": []
    },
    {
      "cell_type": "code",
      "source": [
        "%env"
      ],
      "metadata": {
        "id": "3dFNe5-MUGg-",
        "colab": {
          "base_uri": "https://localhost:8080/"
        },
        "outputId": "d22cf60e-7e1c-404e-c3c6-7f033dc4da04"
      },
      "execution_count": 154,
      "outputs": [
        {
          "output_type": "execute_result",
          "data": {
            "text/plain": [
              "{'SHELL': '/bin/bash',\n",
              " 'NV_LIBCUBLAS_VERSION': '12.2.5.6-1',\n",
              " 'NVIDIA_VISIBLE_DEVICES': 'all',\n",
              " 'COLAB_JUPYTER_TRANSPORT': 'ipc',\n",
              " 'NV_NVML_DEV_VERSION': '12.2.140-1',\n",
              " 'NV_CUDNN_PACKAGE_NAME': 'libcudnn8',\n",
              " 'CGROUP_MEMORY_EVENTS': '/sys/fs/cgroup/memory.events /var/colab/cgroup/jupyter-children/memory.events',\n",
              " 'NV_LIBNCCL_DEV_PACKAGE': 'libnccl-dev=2.19.3-1+cuda12.2',\n",
              " 'NV_LIBNCCL_DEV_PACKAGE_VERSION': '2.19.3-1',\n",
              " 'VM_GCE_METADATA_HOST': '169.254.169.253',\n",
              " 'HOSTNAME': '41ddd2c26004',\n",
              " 'LANGUAGE': 'en_US',\n",
              " 'TBE_RUNTIME_ADDR': '172.28.0.1:8011',\n",
              " 'COLAB_TPU_1VM': '',\n",
              " 'GCE_METADATA_TIMEOUT': '3',\n",
              " 'NVIDIA_REQUIRE_CUDA': 'cuda>=12.2 brand=tesla,driver>=470,driver<471 brand=unknown,driver>=470,driver<471 brand=nvidia,driver>=470,driver<471 brand=nvidiartx,driver>=470,driver<471 brand=geforce,driver>=470,driver<471 brand=geforcertx,driver>=470,driver<471 brand=quadro,driver>=470,driver<471 brand=quadrortx,driver>=470,driver<471 brand=titan,driver>=470,driver<471 brand=titanrtx,driver>=470,driver<471 brand=tesla,driver>=525,driver<526 brand=unknown,driver>=525,driver<526 brand=nvidia,driver>=525,driver<526 brand=nvidiartx,driver>=525,driver<526 brand=geforce,driver>=525,driver<526 brand=geforcertx,driver>=525,driver<526 brand=quadro,driver>=525,driver<526 brand=quadrortx,driver>=525,driver<526 brand=titan,driver>=525,driver<526 brand=titanrtx,driver>=525,driver<526',\n",
              " 'NV_LIBCUBLAS_DEV_PACKAGE': 'libcublas-dev-12-2=12.2.5.6-1',\n",
              " 'NV_NVTX_VERSION': '12.2.140-1',\n",
              " 'COLAB_JUPYTER_IP': '172.28.0.12',\n",
              " 'NV_CUDA_CUDART_DEV_VERSION': '12.2.140-1',\n",
              " 'NV_LIBCUSPARSE_VERSION': '12.1.2.141-1',\n",
              " 'COLAB_LANGUAGE_SERVER_PROXY_ROOT_URL': 'http://172.28.0.1:8013/',\n",
              " 'NV_LIBNPP_VERSION': '12.2.1.4-1',\n",
              " 'NCCL_VERSION': '2.19.3-1',\n",
              " 'KMP_LISTEN_PORT': '6000',\n",
              " 'TF_FORCE_GPU_ALLOW_GROWTH': 'true',\n",
              " 'ENV': '/root/.bashrc',\n",
              " 'PWD': '/',\n",
              " 'TBE_EPHEM_CREDS_ADDR': '172.28.0.1:8009',\n",
              " 'COLAB_LANGUAGE_SERVER_PROXY_REQUEST_TIMEOUT': '30s',\n",
              " 'TBE_CREDS_ADDR': '172.28.0.1:8008',\n",
              " 'NV_CUDNN_PACKAGE': 'libcudnn8=8.9.6.50-1+cuda12.2',\n",
              " 'NVIDIA_DRIVER_CAPABILITIES': 'compute,utility',\n",
              " 'COLAB_JUPYTER_TOKEN': '<hidden>',\n",
              " 'LAST_FORCED_REBUILD': '20240627',\n",
              " 'NV_NVPROF_DEV_PACKAGE': 'cuda-nvprof-12-2=12.2.142-1',\n",
              " 'NV_LIBNPP_PACKAGE': 'libnpp-12-2=12.2.1.4-1',\n",
              " 'NV_LIBNCCL_DEV_PACKAGE_NAME': 'libnccl-dev',\n",
              " 'TCLLIBPATH': '/usr/share/tcltk/tcllib1.20',\n",
              " 'NV_LIBCUBLAS_DEV_VERSION': '12.2.5.6-1',\n",
              " 'NVIDIA_PRODUCT_NAME': 'CUDA',\n",
              " 'COLAB_KERNEL_MANAGER_PROXY_HOST': '172.28.0.12',\n",
              " 'NV_LIBCUBLAS_DEV_PACKAGE_NAME': 'libcublas-dev-12-2',\n",
              " 'NV_CUDA_CUDART_VERSION': '12.2.140-1',\n",
              " 'COLAB_WARMUP_DEFAULTS': '1',\n",
              " 'HOME': '/root',\n",
              " 'LANG': 'en_US.UTF-8',\n",
              " 'COLUMNS': '100',\n",
              " 'CUDA_VERSION': '12.2.2',\n",
              " 'CLOUDSDK_CONFIG': '/content/.config',\n",
              " 'NV_LIBCUBLAS_PACKAGE': 'libcublas-12-2=12.2.5.6-1',\n",
              " 'NV_CUDA_NSIGHT_COMPUTE_DEV_PACKAGE': 'cuda-nsight-compute-12-2=12.2.2-1',\n",
              " 'COLAB_RELEASE_TAG': 'release-colab_20240910-060204_RC00',\n",
              " 'KMP_TARGET_PORT': '9000',\n",
              " 'KMP_EXTRA_ARGS': '--logtostderr --listen_host=172.28.0.12 --target_host=172.28.0.12 --tunnel_background_save_url=https://colab.research.google.com/tun/m/cc48301118ce562b961b3c22d803539adc1e0c19/m-s-3fvnyl9efybu3 --tunnel_background_save_delay=10s --tunnel_periodic_background_save_frequency=30m0s --enable_output_coalescing=true --output_coalescing_required=true --log_code_content',\n",
              " 'NV_LIBNPP_DEV_PACKAGE': 'libnpp-dev-12-2=12.2.1.4-1',\n",
              " 'COLAB_LANGUAGE_SERVER_PROXY_LSP_DIRS': '/datalab/web/pyright/typeshed-fallback/stdlib,/usr/local/lib/python3.10/dist-packages',\n",
              " 'NV_LIBCUBLAS_PACKAGE_NAME': 'libcublas-12-2',\n",
              " 'COLAB_KERNEL_MANAGER_PROXY_PORT': '6000',\n",
              " 'CLOUDSDK_PYTHON': 'python3',\n",
              " 'NV_LIBNPP_DEV_VERSION': '12.2.1.4-1',\n",
              " 'NO_GCE_CHECK': 'False',\n",
              " 'PYTHONPATH': '/env/python',\n",
              " 'NV_LIBCUSPARSE_DEV_VERSION': '12.1.2.141-1',\n",
              " 'LIBRARY_PATH': '/usr/local/cuda/lib64/stubs',\n",
              " 'NV_CUDNN_VERSION': '8.9.6.50',\n",
              " 'SHLVL': '0',\n",
              " 'NV_CUDA_LIB_VERSION': '12.2.2-1',\n",
              " 'COLAB_LANGUAGE_SERVER_PROXY': '/usr/colab/bin/language_service',\n",
              " 'NVARCH': 'x86_64',\n",
              " 'NV_CUDNN_PACKAGE_DEV': 'libcudnn8-dev=8.9.6.50-1+cuda12.2',\n",
              " 'NV_CUDA_COMPAT_PACKAGE': 'cuda-compat-12-2',\n",
              " 'NV_LIBNCCL_PACKAGE': 'libnccl2=2.19.3-1+cuda12.2',\n",
              " 'LD_LIBRARY_PATH': '/usr/local/nvidia/lib:/usr/local/nvidia/lib64',\n",
              " 'COLAB_GPU': '',\n",
              " 'NV_CUDA_NSIGHT_COMPUTE_VERSION': '12.2.2-1',\n",
              " 'GCS_READ_CACHE_BLOCK_SIZE_MB': '16',\n",
              " 'NV_NVPROF_VERSION': '12.2.142-1',\n",
              " 'LC_ALL': 'en_US.UTF-8',\n",
              " 'COLAB_FILE_HANDLER_ADDR': 'localhost:3453',\n",
              " 'PATH': '/opt/bin:/usr/local/nvidia/bin:/usr/local/cuda/bin:/usr/local/sbin:/usr/local/bin:/usr/sbin:/usr/bin:/sbin:/bin:/tools/node/bin:/tools/google-cloud-sdk/bin',\n",
              " 'NV_LIBNCCL_PACKAGE_NAME': 'libnccl2',\n",
              " 'COLAB_DEBUG_ADAPTER_MUX_PATH': '/usr/local/bin/dap_multiplexer',\n",
              " 'NV_LIBNCCL_PACKAGE_VERSION': '2.19.3-1',\n",
              " 'PYTHONWARNINGS': 'ignore:::pip._internal.cli.base_command',\n",
              " 'DEBIAN_FRONTEND': 'noninteractive',\n",
              " 'COLAB_BACKEND_VERSION': 'next',\n",
              " 'OLDPWD': '/',\n",
              " 'JPY_PARENT_PID': '101',\n",
              " 'TERM': 'xterm-color',\n",
              " 'CLICOLOR': '1',\n",
              " 'PAGER': 'cat',\n",
              " 'GIT_PAGER': 'cat',\n",
              " 'MPLBACKEND': 'module://ipykernel.pylab.backend_inline',\n",
              " 'ENABLE_DIRECTORYPREFETCHER': '1',\n",
              " 'USE_AUTH_EPHEM': '1',\n",
              " 'PYDEVD_USE_FRAME_EVAL': 'NO',\n",
              " 'MY_ENV_VAR': 'hello'}"
            ]
          },
          "metadata": {},
          "execution_count": 154
        }
      ]
    },
    {
      "cell_type": "code",
      "source": [
        "%env MY_ENV_VAR=hello"
      ],
      "metadata": {
        "colab": {
          "base_uri": "https://localhost:8080/"
        },
        "id": "7gqDcYkZHIdW",
        "outputId": "ea76ca16-d97c-4559-e1bf-29fd0245cb08"
      },
      "execution_count": 155,
      "outputs": [
        {
          "output_type": "stream",
          "name": "stdout",
          "text": [
            "env: MY_ENV_VAR=hello\n"
          ]
        }
      ]
    },
    {
      "cell_type": "code",
      "source": [
        "%env MY_ENV_VAR"
      ],
      "metadata": {
        "colab": {
          "base_uri": "https://localhost:8080/",
          "height": 36
        },
        "id": "QKdj4HIXHWof",
        "outputId": "fb1f3dee-5c3c-4e62-b7d0-3b50768e7fa2"
      },
      "execution_count": 156,
      "outputs": [
        {
          "output_type": "execute_result",
          "data": {
            "text/plain": [
              "'hello'"
            ],
            "application/vnd.google.colaboratory.intrinsic+json": {
              "type": "string"
            }
          },
          "metadata": {},
          "execution_count": 156
        }
      ]
    },
    {
      "cell_type": "code",
      "source": [
        "en = %env MY_ENV_VAR\n",
        "print(en)"
      ],
      "metadata": {
        "colab": {
          "base_uri": "https://localhost:8080/"
        },
        "id": "7P55T4-fHfdE",
        "outputId": "804b5c1b-1978-4174-b361-5e40d0b40ba6"
      },
      "execution_count": 157,
      "outputs": [
        {
          "output_type": "stream",
          "name": "stdout",
          "text": [
            "hello\n"
          ]
        }
      ]
    },
    {
      "cell_type": "code",
      "source": [
        "%store custom_data_type"
      ],
      "metadata": {
        "colab": {
          "base_uri": "https://localhost:8080/"
        },
        "id": "R2beyIiCHmCl",
        "outputId": "a1c15cc8-a80e-46be-cb23-79e682af40ce"
      },
      "execution_count": 158,
      "outputs": [
        {
          "output_type": "stream",
          "name": "stdout",
          "text": [
            "Stored 'custom_data_type' (VoidDType)\n"
          ]
        }
      ]
    },
    {
      "cell_type": "markdown",
      "source": [
        "$\\int \\frac{1}{x} dx = \\ln \\left| x \\right| + C$"
      ],
      "metadata": {
        "id": "QDYDwq_UIg-m"
      }
    },
    {
      "cell_type": "code",
      "source": [
        "%%HTML\n",
        "\n",
        "<html>\n",
        "<body>\n",
        "<h1>Hello World</h1>\n",
        "<p>Welcome to my website</p>\n",
        "</body>\n",
        "</html>"
      ],
      "metadata": {
        "colab": {
          "base_uri": "https://localhost:8080/",
          "height": 100
        },
        "id": "14nIJ9a_IF9O",
        "outputId": "a7baca32-6a59-4c5d-cc4d-c94ec0cef17e"
      },
      "execution_count": 159,
      "outputs": [
        {
          "output_type": "display_data",
          "data": {
            "text/plain": [
              "<IPython.core.display.HTML object>"
            ],
            "text/html": [
              "\n",
              "<html>\n",
              "<body>\n",
              "<h1>Hello World</h1>\n",
              "<p>Welcome to my website</p>\n",
              "</body>\n",
              "</html>\n"
            ]
          },
          "metadata": {}
        }
      ]
    },
    {
      "cell_type": "code",
      "source": [
        "%lsmagic"
      ],
      "metadata": {
        "colab": {
          "base_uri": "https://localhost:8080/",
          "height": 236
        },
        "id": "0Buxpt15Iq04",
        "outputId": "05d09c4f-7172-4305-b0b6-75cbeb1e8ed0"
      },
      "execution_count": 160,
      "outputs": [
        {
          "output_type": "execute_result",
          "data": {
            "text/plain": [
              "Available line magics:\n",
              "%alias  %alias_magic  %autoawait  %autocall  %automagic  %autosave  %bookmark  %cat  %cd  %clear  %colors  %conda  %config  %connect_info  %cp  %debug  %dhist  %dirs  %doctest_mode  %ed  %edit  %env  %gui  %hist  %history  %killbgscripts  %ldir  %less  %lf  %lk  %ll  %load  %load_ext  %loadpy  %logoff  %logon  %logstart  %logstate  %logstop  %ls  %lsmagic  %lx  %macro  %magic  %man  %matplotlib  %mkdir  %more  %mv  %notebook  %page  %pastebin  %pdb  %pdef  %pdoc  %pfile  %pinfo  %pinfo2  %pip  %popd  %pprint  %precision  %prun  %psearch  %psource  %pushd  %pwd  %pycat  %pylab  %qtconsole  %quickref  %recall  %rehashx  %reload_ext  %rep  %rerun  %reset  %reset_selective  %rm  %rmdir  %run  %save  %sc  %set_env  %shell  %store  %sx  %system  %tb  %tensorflow_version  %time  %timeit  %unalias  %unload_ext  %who  %who_ls  %whos  %xdel  %xmode\n",
              "\n",
              "Available cell magics:\n",
              "%%!  %%HTML  %%SVG  %%bash  %%bigquery  %%capture  %%debug  %%file  %%html  %%ipytest  %%javascript  %%js  %%latex  %%markdown  %%perl  %%prun  %%pypy  %%python  %%python2  %%python3  %%ruby  %%script  %%sh  %%shell  %%svg  %%sx  %%system  %%time  %%timeit  %%writefile\n",
              "\n",
              "Automagic is ON, % prefix IS NOT needed for line magics."
            ],
            "application/json": {
              "line": {
                "automagic": "AutoMagics",
                "autocall": "AutoMagics",
                "alias_magic": "BasicMagics",
                "lsmagic": "BasicMagics",
                "magic": "BasicMagics",
                "page": "BasicMagics",
                "pprint": "BasicMagics",
                "colors": "BasicMagics",
                "xmode": "BasicMagics",
                "quickref": "BasicMagics",
                "doctest_mode": "BasicMagics",
                "gui": "BasicMagics",
                "precision": "BasicMagics",
                "notebook": "BasicMagics",
                "save": "CodeMagics",
                "pastebin": "CodeMagics",
                "loadpy": "CodeMagics",
                "load": "CodeMagics",
                "edit": "KernelMagics",
                "config": "ConfigMagics",
                "prun": "ExecutionMagics",
                "pdb": "ExecutionMagics",
                "debug": "ExecutionMagics",
                "tb": "ExecutionMagics",
                "run": "ExecutionMagics",
                "timeit": "ExecutionMagics",
                "time": "ExecutionMagics",
                "macro": "ExecutionMagics",
                "load_ext": "ExtensionMagics",
                "unload_ext": "ExtensionMagics",
                "reload_ext": "ExtensionMagics",
                "history": "HistoryMagics",
                "recall": "HistoryMagics",
                "rerun": "HistoryMagics",
                "logstart": "LoggingMagics",
                "logstop": "LoggingMagics",
                "logoff": "LoggingMagics",
                "logon": "LoggingMagics",
                "logstate": "LoggingMagics",
                "pinfo": "NamespaceMagics",
                "pinfo2": "NamespaceMagics",
                "pdef": "NamespaceMagics",
                "pdoc": "NamespaceMagics",
                "psource": "NamespaceMagics",
                "pfile": "NamespaceMagics",
                "psearch": "NamespaceMagics",
                "who_ls": "NamespaceMagics",
                "who": "NamespaceMagics",
                "whos": "NamespaceMagics",
                "reset": "NamespaceMagics",
                "reset_selective": "NamespaceMagics",
                "xdel": "NamespaceMagics",
                "alias": "OSMagics",
                "unalias": "OSMagics",
                "rehashx": "OSMagics",
                "pwd": "OSMagics",
                "cd": "OSMagics",
                "env": "OSMagics",
                "set_env": "OSMagics",
                "pushd": "OSMagics",
                "popd": "OSMagics",
                "dirs": "OSMagics",
                "dhist": "OSMagics",
                "sc": "OSMagics",
                "sx": "OSMagics",
                "system": "OSMagics",
                "bookmark": "OSMagics",
                "pycat": "OSMagics",
                "pip": "Other",
                "conda": "PackagingMagics",
                "matplotlib": "PylabMagics",
                "pylab": "PylabMagics",
                "killbgscripts": "ScriptMagics",
                "autoawait": "AsyncMagics",
                "ed": "Other",
                "hist": "Other",
                "rep": "Other",
                "clear": "KernelMagics",
                "less": "KernelMagics",
                "more": "KernelMagics",
                "man": "KernelMagics",
                "connect_info": "KernelMagics",
                "qtconsole": "KernelMagics",
                "autosave": "KernelMagics",
                "mkdir": "Other",
                "rmdir": "Other",
                "mv": "Other",
                "rm": "Other",
                "cp": "Other",
                "cat": "Other",
                "ls": "Other",
                "ll": "Other",
                "lf": "Other",
                "lk": "Other",
                "ldir": "Other",
                "lx": "Other",
                "store": "StoreMagics",
                "shell": "Other",
                "tensorflow_version": "Other"
              },
              "cell": {
                "js": "DisplayMagics",
                "javascript": "DisplayMagics",
                "latex": "DisplayMagics",
                "svg": "DisplayMagics",
                "html": "DisplayMagics",
                "markdown": "DisplayMagics",
                "prun": "ExecutionMagics",
                "debug": "ExecutionMagics",
                "timeit": "ExecutionMagics",
                "time": "ExecutionMagics",
                "capture": "ExecutionMagics",
                "sx": "OSMagics",
                "system": "OSMagics",
                "!": "OSMagics",
                "writefile": "OSMagics",
                "script": "ScriptMagics",
                "sh": "Other",
                "bash": "Other",
                "perl": "Other",
                "ruby": "Other",
                "python": "Other",
                "python2": "Other",
                "python3": "Other",
                "pypy": "Other",
                "SVG": "Other",
                "HTML": "Other",
                "file": "Other",
                "bigquery": "Other",
                "shell": "Other",
                "ipytest": "Other"
              }
            }
          },
          "metadata": {},
          "execution_count": 160
        }
      ]
    },
    {
      "cell_type": "code",
      "source": [
        "import matplotlib.pyplot as plt"
      ],
      "metadata": {
        "id": "DcNVqOfDTOXw"
      },
      "execution_count": 161,
      "outputs": []
    },
    {
      "cell_type": "code",
      "source": [
        "%matplotlib inline"
      ],
      "metadata": {
        "id": "nXzgIkbuJAJV"
      },
      "execution_count": 162,
      "outputs": []
    },
    {
      "cell_type": "code",
      "source": [
        "plt.scatter(1, 1);"
      ],
      "metadata": {
        "colab": {
          "base_uri": "https://localhost:8080/",
          "height": 430
        },
        "id": "iWXtd8A6TLZ0",
        "outputId": "85755a95-fa7f-4a1d-a80f-e7c670f54d74"
      },
      "execution_count": 163,
      "outputs": [
        {
          "output_type": "display_data",
          "data": {
            "text/plain": [
              "<Figure size 640x480 with 1 Axes>"
            ],
            "image/png": "[encoded data removed]"
          },
          "metadata": {}
        }
      ]
    },
    {
      "cell_type": "code",
      "source": [
        "def concat_string(n: int) -> None:\n",
        "  word = 'hello '\n",
        "  for _ in range(n):\n",
        "    word += 'world '"
      ],
      "metadata": {
        "id": "iR98QSdZTSD1"
      },
      "execution_count": 164,
      "outputs": []
    },
    {
      "cell_type": "code",
      "source": [
        "%%time\n",
        "concat_string(50000000)"
      ],
      "metadata": {
        "colab": {
          "base_uri": "https://localhost:8080/"
        },
        "id": "ZI2I8ZXSFKq4",
        "outputId": "43591143-6c83-4d50-c6ad-48474853efda"
      },
      "execution_count": 165,
      "outputs": [
        {
          "output_type": "stream",
          "name": "stdout",
          "text": [
            "CPU times: user 5.18 s, sys: 324 ms, total: 5.5 s\n",
            "Wall time: 5.52 s\n"
          ]
        }
      ]
    },
    {
      "cell_type": "code",
      "source": [
        "def test_concat_string():\n",
        "  concat_string(50000000)\n",
        "  assert True"
      ],
      "metadata": {
        "id": "1vPVj-ewFM8F"
      },
      "execution_count": 166,
      "outputs": []
    }
  ]
}