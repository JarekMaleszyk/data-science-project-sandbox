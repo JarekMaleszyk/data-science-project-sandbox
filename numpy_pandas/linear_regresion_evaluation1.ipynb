{
  "nbformat": 4,
  "nbformat_minor": 0,
  "metadata": {
    "colab": {
      "provenance": [],
      "authorship_tag": "ABX9TyOpqHO5YN1RRp5kClefGPfv",
      "include_colab_link": true
    },
    "kernelspec": {
      "name": "python3",
      "display_name": "Python 3"
    },
    "language_info": {
      "name": "python"
    }
  },
  "cells": [
    {
      "cell_type": "markdown",
      "metadata": {
        "id": "view-in-github",
        "colab_type": "text"
      },
      "source": [
        "<a href=\"https://colab.research.google.com/github/JarekMaleszyk/pandas-project-data/blob/main/linear_regresion_evaluation1.ipynb\" target=\"_parent\"><img src=\"https://colab.research.google.com/assets/colab-badge.svg\" alt=\"Open In Colab\"/></a>"
      ]
    },
    {
      "cell_type": "code",
      "execution_count": 201,
      "metadata": {
        "id": "bVNnl7cf66bm"
      },
      "outputs": [],
      "source": [
        "import numpy as np\n",
        "import pandas as pd\n",
        "import plotly.express as px\n",
        "import plotly.graph_objects as go"
      ]
    },
    {
      "cell_type": "code",
      "source": [
        "y_true = 100 + 20 * np.random.randn(50)\n",
        "y_pred = y_true + 10 * np.random.randn(50)"
      ],
      "metadata": {
        "id": "MKcOnHvS7BBn"
      },
      "execution_count": 202,
      "outputs": []
    },
    {
      "cell_type": "code",
      "source": [
        "result = pd.DataFrame({'y_true': y_true, 'y_pred': y_pred})\n",
        "result.sample(10)"
      ],
      "metadata": {
        "colab": {
          "base_uri": "https://localhost:8080/",
          "height": 363
        },
        "id": "b5RE9eUu-UAj",
        "outputId": "c2b6321f-f721-429f-87dd-cceaf183ecdb"
      },
      "execution_count": 203,
      "outputs": [
        {
          "output_type": "execute_result",
          "data": {
            "text/plain": [
              "        y_true      y_pred\n",
              "8    98.976559  109.042715\n",
              "38  102.024534  101.774978\n",
              "4   104.388820  110.543830\n",
              "30   96.070212   92.519562\n",
              "11   99.684389  108.005462\n",
              "24  114.985146  128.248251\n",
              "42  109.786038   93.185968\n",
              "1    85.007087   78.075494\n",
              "43   56.603604   51.069926\n",
              "2   115.424045  104.196718"
            ],
            "text/html": [
              "\n",
              "  <div id=\"df-e3a5fc7c-3a7f-471b-918d-efcfb7287a92\" class=\"colab-df-container\">\n",
              "    <div>\n",
              "<style scoped>\n",
              "    .dataframe tbody tr th:only-of-type {\n",
              "        vertical-align: middle;\n",
              "    }\n",
              "\n",
              "    .dataframe tbody tr th {\n",
              "        vertical-align: top;\n",
              "    }\n",
              "\n",
              "    .dataframe thead th {\n",
              "        text-align: right;\n",
              "    }\n",
              "</style>\n",
              "<table border=\"1\" class=\"dataframe\">\n",
              "  <thead>\n",
              "    <tr style=\"text-align: right;\">\n",
              "      <th></th>\n",
              "      <th>y_true</th>\n",
              "      <th>y_pred</th>\n",
              "    </tr>\n",
              "  </thead>\n",
              "  <tbody>\n",
              "    <tr>\n",
              "      <th>8</th>\n",
              "      <td>98.976559</td>\n",
              "      <td>109.042715</td>\n",
              "    </tr>\n",
              "    <tr>\n",
              "      <th>38</th>\n",
              "      <td>102.024534</td>\n",
              "      <td>101.774978</td>\n",
              "    </tr>\n",
              "    <tr>\n",
              "      <th>4</th>\n",
              "      <td>104.388820</td>\n",
              "      <td>110.543830</td>\n",
              "    </tr>\n",
              "    <tr>\n",
              "      <th>30</th>\n",
              "      <td>96.070212</td>\n",
              "      <td>92.519562</td>\n",
              "    </tr>\n",
              "    <tr>\n",
              "      <th>11</th>\n",
              "      <td>99.684389</td>\n",
              "      <td>108.005462</td>\n",
              "    </tr>\n",
              "    <tr>\n",
              "      <th>24</th>\n",
              "      <td>114.985146</td>\n",
              "      <td>128.248251</td>\n",
              "    </tr>\n",
              "    <tr>\n",
              "      <th>42</th>\n",
              "      <td>109.786038</td>\n",
              "      <td>93.185968</td>\n",
              "    </tr>\n",
              "    <tr>\n",
              "      <th>1</th>\n",
              "      <td>85.007087</td>\n",
              "      <td>78.075494</td>\n",
              "    </tr>\n",
              "    <tr>\n",
              "      <th>43</th>\n",
              "      <td>56.603604</td>\n",
              "      <td>51.069926</td>\n",
              "    </tr>\n",
              "    <tr>\n",
              "      <th>2</th>\n",
              "      <td>115.424045</td>\n",
              "      <td>104.196718</td>\n",
              "    </tr>\n",
              "  </tbody>\n",
              "</table>\n",
              "</div>\n",
              "    <div class=\"colab-df-buttons\">\n",
              "\n",
              "  <div class=\"colab-df-container\">\n",
              "    <button class=\"colab-df-convert\" onclick=\"convertToInteractive('df-e3a5fc7c-3a7f-471b-918d-efcfb7287a92')\"\n",
              "            title=\"Convert this dataframe to an interactive table.\"\n",
              "            style=\"display:none;\">\n",
              "\n",
              "  <svg xmlns=\"http://www.w3.org/2000/svg\" height=\"24px\" viewBox=\"0 -960 960 960\">\n",
              "    <path d=\"M120-120v-720h720v720H120Zm60-500h600v-160H180v160Zm220 220h160v-160H400v160Zm0 220h160v-160H400v160ZM180-400h160v-160H180v160Zm440 0h160v-160H620v160ZM180-180h160v-160H180v160Zm440 0h160v-160H620v160Z\"/>\n",
              "  </svg>\n",
              "    </button>\n",
              "\n",
              "  <style>\n",
              "    .colab-df-container {\n",
              "      display:flex;\n",
              "      gap: 12px;\n",
              "    }\n",
              "\n",
              "    .colab-df-convert {\n",
              "      background-color: #E8F0FE;\n",
              "      border: none;\n",
              "      border-radius: 50%;\n",
              "      cursor: pointer;\n",
              "      display: none;\n",
              "      fill: #1967D2;\n",
              "      height: 32px;\n",
              "      padding: 0 0 0 0;\n",
              "      width: 32px;\n",
              "    }\n",
              "\n",
              "    .colab-df-convert:hover {\n",
              "      background-color: #E2EBFA;\n",
              "      box-shadow: 0px 1px 2px rgba(60, 64, 67, 0.3), 0px 1px 3px 1px rgba(60, 64, 67, 0.15);\n",
              "      fill: #174EA6;\n",
              "    }\n",
              "\n",
              "    .colab-df-buttons div {\n",
              "      margin-bottom: 4px;\n",
              "    }\n",
              "\n",
              "    [theme=dark] .colab-df-convert {\n",
              "      background-color: #3B4455;\n",
              "      fill: #D2E3FC;\n",
              "    }\n",
              "\n",
              "    [theme=dark] .colab-df-convert:hover {\n",
              "      background-color: #434B5C;\n",
              "      box-shadow: 0px 1px 3px 1px rgba(0, 0, 0, 0.15);\n",
              "      filter: drop-shadow(0px 1px 2px rgba(0, 0, 0, 0.3));\n",
              "      fill: #FFFFFF;\n",
              "    }\n",
              "  </style>\n",
              "\n",
              "    <script>\n",
              "      const buttonEl =\n",
              "        document.querySelector('#df-e3a5fc7c-3a7f-471b-918d-efcfb7287a92 button.colab-df-convert');\n",
              "      buttonEl.style.display =\n",
              "        google.colab.kernel.accessAllowed ? 'block' : 'none';\n",
              "\n",
              "      async function convertToInteractive(key) {\n",
              "        const element = document.querySelector('#df-e3a5fc7c-3a7f-471b-918d-efcfb7287a92');\n",
              "        const dataTable =\n",
              "          await google.colab.kernel.invokeFunction('convertToInteractive',\n",
              "                                                    [key], {});\n",
              "        if (!dataTable) return;\n",
              "\n",
              "        const docLinkHtml = 'Like what you see? Visit the ' +\n",
              "          '<a target=\"_blank\" href=https://colab.research.google.com/notebooks/data_table.ipynb>data table notebook</a>'\n",
              "          + ' to learn more about interactive tables.';\n",
              "        element.innerHTML = '';\n",
              "        dataTable['output_type'] = 'display_data';\n",
              "        await google.colab.output.renderOutput(dataTable, element);\n",
              "        const docLink = document.createElement('div');\n",
              "        docLink.innerHTML = docLinkHtml;\n",
              "        element.appendChild(docLink);\n",
              "      }\n",
              "    </script>\n",
              "  </div>\n",
              "\n",
              "\n",
              "<div id=\"df-fc80c279-cdc7-4eea-bef2-1774e527d70d\">\n",
              "  <button class=\"colab-df-quickchart\" onclick=\"quickchart('df-fc80c279-cdc7-4eea-bef2-1774e527d70d')\"\n",
              "            title=\"Suggest charts\"\n",
              "            style=\"display:none;\">\n",
              "\n",
              "<svg xmlns=\"http://www.w3.org/2000/svg\" height=\"24px\"viewBox=\"0 0 24 24\"\n",
              "     width=\"24px\">\n",
              "    <g>\n",
              "        <path d=\"M19 3H5c-1.1 0-2 .9-2 2v14c0 1.1.9 2 2 2h14c1.1 0 2-.9 2-2V5c0-1.1-.9-2-2-2zM9 17H7v-7h2v7zm4 0h-2V7h2v10zm4 0h-2v-4h2v4z\"/>\n",
              "    </g>\n",
              "</svg>\n",
              "  </button>\n",
              "\n",
              "<style>\n",
              "  .colab-df-quickchart {\n",
              "      --bg-color: #E8F0FE;\n",
              "      --fill-color: #1967D2;\n",
              "      --hover-bg-color: #E2EBFA;\n",
              "      --hover-fill-color: #174EA6;\n",
              "      --disabled-fill-color: #AAA;\n",
              "      --disabled-bg-color: #DDD;\n",
              "  }\n",
              "\n",
              "  [theme=dark] .colab-df-quickchart {\n",
              "      --bg-color: #3B4455;\n",
              "      --fill-color: #D2E3FC;\n",
              "      --hover-bg-color: #434B5C;\n",
              "      --hover-fill-color: #FFFFFF;\n",
              "      --disabled-bg-color: #3B4455;\n",
              "      --disabled-fill-color: #666;\n",
              "  }\n",
              "\n",
              "  .colab-df-quickchart {\n",
              "    background-color: var(--bg-color);\n",
              "    border: none;\n",
              "    border-radius: 50%;\n",
              "    cursor: pointer;\n",
              "    display: none;\n",
              "    fill: var(--fill-color);\n",
              "    height: 32px;\n",
              "    padding: 0;\n",
              "    width: 32px;\n",
              "  }\n",
              "\n",
              "  .colab-df-quickchart:hover {\n",
              "    background-color: var(--hover-bg-color);\n",
              "    box-shadow: 0 1px 2px rgba(60, 64, 67, 0.3), 0 1px 3px 1px rgba(60, 64, 67, 0.15);\n",
              "    fill: var(--button-hover-fill-color);\n",
              "  }\n",
              "\n",
              "  .colab-df-quickchart-complete:disabled,\n",
              "  .colab-df-quickchart-complete:disabled:hover {\n",
              "    background-color: var(--disabled-bg-color);\n",
              "    fill: var(--disabled-fill-color);\n",
              "    box-shadow: none;\n",
              "  }\n",
              "\n",
              "  .colab-df-spinner {\n",
              "    border: 2px solid var(--fill-color);\n",
              "    border-color: transparent;\n",
              "    border-bottom-color: var(--fill-color);\n",
              "    animation:\n",
              "      spin 1s steps(1) infinite;\n",
              "  }\n",
              "\n",
              "  @keyframes spin {\n",
              "    0% {\n",
              "      border-color: transparent;\n",
              "      border-bottom-color: var(--fill-color);\n",
              "      border-left-color: var(--fill-color);\n",
              "    }\n",
              "    20% {\n",
              "      border-color: transparent;\n",
              "      border-left-color: var(--fill-color);\n",
              "      border-top-color: var(--fill-color);\n",
              "    }\n",
              "    30% {\n",
              "      border-color: transparent;\n",
              "      border-left-color: var(--fill-color);\n",
              "      border-top-color: var(--fill-color);\n",
              "      border-right-color: var(--fill-color);\n",
              "    }\n",
              "    40% {\n",
              "      border-color: transparent;\n",
              "      border-right-color: var(--fill-color);\n",
              "      border-top-color: var(--fill-color);\n",
              "    }\n",
              "    60% {\n",
              "      border-color: transparent;\n",
              "      border-right-color: var(--fill-color);\n",
              "    }\n",
              "    80% {\n",
              "      border-color: transparent;\n",
              "      border-right-color: var(--fill-color);\n",
              "      border-bottom-color: var(--fill-color);\n",
              "    }\n",
              "    90% {\n",
              "      border-color: transparent;\n",
              "      border-bottom-color: var(--fill-color);\n",
              "    }\n",
              "  }\n",
              "</style>\n",
              "\n",
              "  <script>\n",
              "    async function quickchart(key) {\n",
              "      const quickchartButtonEl =\n",
              "        document.querySelector('#' + key + ' button');\n",
              "      quickchartButtonEl.disabled = true;  // To prevent multiple clicks.\n",
              "      quickchartButtonEl.classList.add('colab-df-spinner');\n",
              "      try {\n",
              "        const charts = await google.colab.kernel.invokeFunction(\n",
              "            'suggestCharts', [key], {});\n",
              "      } catch (error) {\n",
              "        console.error('Error during call to suggestCharts:', error);\n",
              "      }\n",
              "      quickchartButtonEl.classList.remove('colab-df-spinner');\n",
              "      quickchartButtonEl.classList.add('colab-df-quickchart-complete');\n",
              "    }\n",
              "    (() => {\n",
              "      let quickchartButtonEl =\n",
              "        document.querySelector('#df-fc80c279-cdc7-4eea-bef2-1774e527d70d button');\n",
              "      quickchartButtonEl.style.display =\n",
              "        google.colab.kernel.accessAllowed ? 'block' : 'none';\n",
              "    })();\n",
              "  </script>\n",
              "</div>\n",
              "\n",
              "    </div>\n",
              "  </div>\n"
            ],
            "application/vnd.google.colaboratory.intrinsic+json": {
              "type": "dataframe",
              "summary": "{\n  \"name\": \"result\",\n  \"rows\": 10,\n  \"fields\": [\n    {\n      \"column\": \"y_true\",\n      \"properties\": {\n        \"dtype\": \"number\",\n        \"std\": 17.24702542508208,\n        \"min\": 56.60360359204478,\n        \"max\": 115.42404528621859,\n        \"num_unique_values\": 10,\n        \"samples\": [\n          56.60360359204478,\n          102.02453404169653,\n          114.98514626468742\n        ],\n        \"semantic_type\": \"\",\n        \"description\": \"\"\n      }\n    },\n    {\n      \"column\": \"y_pred\",\n      \"properties\": {\n        \"dtype\": \"number\",\n        \"std\": 21.07794837142734,\n        \"min\": 51.06992620094681,\n        \"max\": 128.24825080333213,\n        \"num_unique_values\": 10,\n        \"samples\": [\n          51.06992620094681,\n          101.77497799261725,\n          128.24825080333213\n        ],\n        \"semantic_type\": \"\",\n        \"description\": \"\"\n      }\n    }\n  ]\n}"
            }
          },
          "metadata": {},
          "execution_count": 203
        }
      ]
    },
    {
      "cell_type": "code",
      "source": [
        "result['error'] = result['y_true'] - result['y_pred']"
      ],
      "metadata": {
        "id": "LlM2xrth-o9P"
      },
      "execution_count": 204,
      "outputs": []
    },
    {
      "cell_type": "code",
      "source": [
        "def plot_regression_results(y_true: np.ndarray, y_pred: np.ndarray) -> None:\n",
        "    results = pd.DataFrame({'y_true': y_true,\n",
        "                            'y_pred': y_pred})\n",
        "    min: float = results[['y_true', 'y_pred']].min().min()\n",
        "    max: float = results[['y_true', 'y_pred']].max().max()\n",
        "    fig = go.Figure(data=[go.Scatter(x=results['y_true'],\n",
        "                                     y=results['y_pred'],\n",
        "                                     mode='markers'),\n",
        "                    go.Scatter(x=[min, max],\n",
        "                               y=[min, max])],\n",
        "                    layout=go.Layout(showlegend=False, width=800, height=600,\n",
        "                                     xaxis_title='y_true',\n",
        "                                     yaxis_title='y_pred',\n",
        "                                     title='Regression results'))\n",
        "    fig.show()\n",
        "\n",
        "plot_regression_results(y_true, y_pred)"
      ],
      "metadata": {
        "colab": {
          "base_uri": "https://localhost:8080/",
          "height": 617
        },
        "id": "d0zTelNG-3oj",
        "outputId": "8ecc8d81-cc59-4a53-e8a3-d39d84024ced"
      },
      "execution_count": 205,
      "outputs": [
        {
          "output_type": "display_data",
          "data": {
            "text/html": [
              "<html>\n",
              "<head><meta charset=\"utf-8\" /></head>\n",
              "<body>\n",
              "    <div>            <script src=\"https://cdnjs.cloudflare.com/ajax/libs/mathjax/2.7.5/MathJax.js?config=TeX-AMS-MML_SVG\"></script><script type=\"text/javascript\">if (window.MathJax && window.MathJax.Hub && window.MathJax.Hub.Config) {window.MathJax.Hub.Config({SVG: {font: \"STIX-Web\"}});}</script>                <script type=\"text/javascript\">window.PlotlyConfig = {MathJaxConfig: 'local'};</script>\n",
              "        <script charset=\"utf-8\" src=\"https://cdn.plot.ly/plotly-2.24.1.min.js\"></script>                <div id=\"a7e76be7-093b-44b2-8349-4eae889e1aed\" class=\"plotly-graph-div\" style=\"height:600px; width:800px;\"></div>            <script type=\"text/javascript\">                                    window.PLOTLYENV=window.PLOTLYENV || {};                                    if (document.getElementById(\"a7e76be7-093b-44b2-8349-4eae889e1aed\")) {                    Plotly.newPlot(                        \"a7e76be7-093b-44b2-8349-4eae889e1aed\",                        [{\"mode\":\"markers\",\"x\":[109.05830779395723,85.00708651219868,115.42404528621859,94.79761197258743,104.3888196349277,120.28666750621348,87.30982169949625,102.76974907315983,98.97655873473063,77.684338154062,132.20215325518382,99.68438876911632,133.62063059593382,80.27045776114056,66.3466455495545,37.367893593052905,81.6020487849723,102.45714481483162,79.81739299018315,142.99848311299843,127.98080331491676,122.62363048002112,99.03571355357448,85.66409231582843,114.98514626468742,126.39857121785111,76.30458368927856,113.41588573437672,111.63679292394644,104.50151046464016,96.07021231402263,97.26346995769349,88.3206535696979,102.42655579647656,109.66811193756274,86.4044994135518,106.74391921068687,83.54366730350088,102.02453404169653,130.26758033470935,87.260521428514,97.48788749310548,109.78603800627069,56.60360359204478,66.08355972956161,76.3137107884399,114.35895978107122,126.20716099557548,115.25157170316243,81.31724167550706],\"y\":[108.1601766559652,78.0754944657459,104.19671822161826,88.7157130093935,110.54382974768639,109.40362400978832,89.15322140624437,103.07762910607141,109.04271456971419,80.42447433145128,145.2732679540819,108.00546223424534,120.97475369995988,101.62026615078418,53.1135141124934,32.48701830105475,90.34631722876158,99.1303701223891,78.58351131263687,158.4300588686391,127.37577799344612,107.02499083997984,90.53416952562829,103.02214244891212,128.24825080333213,127.51567612220475,87.01302617999477,105.14392453704997,109.44774476676454,107.26603386814176,92.51956225124961,83.31202488980767,92.99585848542031,96.31684032596893,96.49962923542525,94.45908529673984,101.24047739740176,73.9788689307283,101.77497799261725,130.13079830518132,92.08251052442407,101.51830625432339,93.18596772692294,51.06992620094681,63.14716533632773,70.38570846263968,126.22339744635286,128.94335539019883,103.22627428735655,80.6319075328512],\"type\":\"scatter\"},{\"x\":[32.48701830105475,158.4300588686391],\"y\":[32.48701830105475,158.4300588686391],\"type\":\"scatter\"}],                        {\"height\":600,\"showlegend\":false,\"title\":{\"text\":\"Regression results\"},\"width\":800,\"xaxis\":{\"title\":{\"text\":\"y_true\"}},\"yaxis\":{\"title\":{\"text\":\"y_pred\"}},\"template\":{\"data\":{\"histogram2dcontour\":[{\"type\":\"histogram2dcontour\",\"colorbar\":{\"outlinewidth\":0,\"ticks\":\"\"},\"colorscale\":[[0.0,\"#0d0887\"],[0.1111111111111111,\"#46039f\"],[0.2222222222222222,\"#7201a8\"],[0.3333333333333333,\"#9c179e\"],[0.4444444444444444,\"#bd3786\"],[0.5555555555555556,\"#d8576b\"],[0.6666666666666666,\"#ed7953\"],[0.7777777777777778,\"#fb9f3a\"],[0.8888888888888888,\"#fdca26\"],[1.0,\"#f0f921\"]]}],\"choropleth\":[{\"type\":\"choropleth\",\"colorbar\":{\"outlinewidth\":0,\"ticks\":\"\"}}],\"histogram2d\":[{\"type\":\"histogram2d\",\"colorbar\":{\"outlinewidth\":0,\"ticks\":\"\"},\"colorscale\":[[0.0,\"#0d0887\"],[0.1111111111111111,\"#46039f\"],[0.2222222222222222,\"#7201a8\"],[0.3333333333333333,\"#9c179e\"],[0.4444444444444444,\"#bd3786\"],[0.5555555555555556,\"#d8576b\"],[0.6666666666666666,\"#ed7953\"],[0.7777777777777778,\"#fb9f3a\"],[0.8888888888888888,\"#fdca26\"],[1.0,\"#f0f921\"]]}],\"heatmap\":[{\"type\":\"heatmap\",\"colorbar\":{\"outlinewidth\":0,\"ticks\":\"\"},\"colorscale\":[[0.0,\"#0d0887\"],[0.1111111111111111,\"#46039f\"],[0.2222222222222222,\"#7201a8\"],[0.3333333333333333,\"#9c179e\"],[0.4444444444444444,\"#bd3786\"],[0.5555555555555556,\"#d8576b\"],[0.6666666666666666,\"#ed7953\"],[0.7777777777777778,\"#fb9f3a\"],[0.8888888888888888,\"#fdca26\"],[1.0,\"#f0f921\"]]}],\"heatmapgl\":[{\"type\":\"heatmapgl\",\"colorbar\":{\"outlinewidth\":0,\"ticks\":\"\"},\"colorscale\":[[0.0,\"#0d0887\"],[0.1111111111111111,\"#46039f\"],[0.2222222222222222,\"#7201a8\"],[0.3333333333333333,\"#9c179e\"],[0.4444444444444444,\"#bd3786\"],[0.5555555555555556,\"#d8576b\"],[0.6666666666666666,\"#ed7953\"],[0.7777777777777778,\"#fb9f3a\"],[0.8888888888888888,\"#fdca26\"],[1.0,\"#f0f921\"]]}],\"contourcarpet\":[{\"type\":\"contourcarpet\",\"colorbar\":{\"outlinewidth\":0,\"ticks\":\"\"}}],\"contour\":[{\"type\":\"contour\",\"colorbar\":{\"outlinewidth\":0,\"ticks\":\"\"},\"colorscale\":[[0.0,\"#0d0887\"],[0.1111111111111111,\"#46039f\"],[0.2222222222222222,\"#7201a8\"],[0.3333333333333333,\"#9c179e\"],[0.4444444444444444,\"#bd3786\"],[0.5555555555555556,\"#d8576b\"],[0.6666666666666666,\"#ed7953\"],[0.7777777777777778,\"#fb9f3a\"],[0.8888888888888888,\"#fdca26\"],[1.0,\"#f0f921\"]]}],\"surface\":[{\"type\":\"surface\",\"colorbar\":{\"outlinewidth\":0,\"ticks\":\"\"},\"colorscale\":[[0.0,\"#0d0887\"],[0.1111111111111111,\"#46039f\"],[0.2222222222222222,\"#7201a8\"],[0.3333333333333333,\"#9c179e\"],[0.4444444444444444,\"#bd3786\"],[0.5555555555555556,\"#d8576b\"],[0.6666666666666666,\"#ed7953\"],[0.7777777777777778,\"#fb9f3a\"],[0.8888888888888888,\"#fdca26\"],[1.0,\"#f0f921\"]]}],\"mesh3d\":[{\"type\":\"mesh3d\",\"colorbar\":{\"outlinewidth\":0,\"ticks\":\"\"}}],\"scatter\":[{\"fillpattern\":{\"fillmode\":\"overlay\",\"size\":10,\"solidity\":0.2},\"type\":\"scatter\"}],\"parcoords\":[{\"type\":\"parcoords\",\"line\":{\"colorbar\":{\"outlinewidth\":0,\"ticks\":\"\"}}}],\"scatterpolargl\":[{\"type\":\"scatterpolargl\",\"marker\":{\"colorbar\":{\"outlinewidth\":0,\"ticks\":\"\"}}}],\"bar\":[{\"error_x\":{\"color\":\"#2a3f5f\"},\"error_y\":{\"color\":\"#2a3f5f\"},\"marker\":{\"line\":{\"color\":\"#E5ECF6\",\"width\":0.5},\"pattern\":{\"fillmode\":\"overlay\",\"size\":10,\"solidity\":0.2}},\"type\":\"bar\"}],\"scattergeo\":[{\"type\":\"scattergeo\",\"marker\":{\"colorbar\":{\"outlinewidth\":0,\"ticks\":\"\"}}}],\"scatterpolar\":[{\"type\":\"scatterpolar\",\"marker\":{\"colorbar\":{\"outlinewidth\":0,\"ticks\":\"\"}}}],\"histogram\":[{\"marker\":{\"pattern\":{\"fillmode\":\"overlay\",\"size\":10,\"solidity\":0.2}},\"type\":\"histogram\"}],\"scattergl\":[{\"type\":\"scattergl\",\"marker\":{\"colorbar\":{\"outlinewidth\":0,\"ticks\":\"\"}}}],\"scatter3d\":[{\"type\":\"scatter3d\",\"line\":{\"colorbar\":{\"outlinewidth\":0,\"ticks\":\"\"}},\"marker\":{\"colorbar\":{\"outlinewidth\":0,\"ticks\":\"\"}}}],\"scattermapbox\":[{\"type\":\"scattermapbox\",\"marker\":{\"colorbar\":{\"outlinewidth\":0,\"ticks\":\"\"}}}],\"scatterternary\":[{\"type\":\"scatterternary\",\"marker\":{\"colorbar\":{\"outlinewidth\":0,\"ticks\":\"\"}}}],\"scattercarpet\":[{\"type\":\"scattercarpet\",\"marker\":{\"colorbar\":{\"outlinewidth\":0,\"ticks\":\"\"}}}],\"carpet\":[{\"aaxis\":{\"endlinecolor\":\"#2a3f5f\",\"gridcolor\":\"white\",\"linecolor\":\"white\",\"minorgridcolor\":\"white\",\"startlinecolor\":\"#2a3f5f\"},\"baxis\":{\"endlinecolor\":\"#2a3f5f\",\"gridcolor\":\"white\",\"linecolor\":\"white\",\"minorgridcolor\":\"white\",\"startlinecolor\":\"#2a3f5f\"},\"type\":\"carpet\"}],\"table\":[{\"cells\":{\"fill\":{\"color\":\"#EBF0F8\"},\"line\":{\"color\":\"white\"}},\"header\":{\"fill\":{\"color\":\"#C8D4E3\"},\"line\":{\"color\":\"white\"}},\"type\":\"table\"}],\"barpolar\":[{\"marker\":{\"line\":{\"color\":\"#E5ECF6\",\"width\":0.5},\"pattern\":{\"fillmode\":\"overlay\",\"size\":10,\"solidity\":0.2}},\"type\":\"barpolar\"}],\"pie\":[{\"automargin\":true,\"type\":\"pie\"}]},\"layout\":{\"autotypenumbers\":\"strict\",\"colorway\":[\"#636efa\",\"#EF553B\",\"#00cc96\",\"#ab63fa\",\"#FFA15A\",\"#19d3f3\",\"#FF6692\",\"#B6E880\",\"#FF97FF\",\"#FECB52\"],\"font\":{\"color\":\"#2a3f5f\"},\"hovermode\":\"closest\",\"hoverlabel\":{\"align\":\"left\"},\"paper_bgcolor\":\"white\",\"plot_bgcolor\":\"#E5ECF6\",\"polar\":{\"bgcolor\":\"#E5ECF6\",\"angularaxis\":{\"gridcolor\":\"white\",\"linecolor\":\"white\",\"ticks\":\"\"},\"radialaxis\":{\"gridcolor\":\"white\",\"linecolor\":\"white\",\"ticks\":\"\"}},\"ternary\":{\"bgcolor\":\"#E5ECF6\",\"aaxis\":{\"gridcolor\":\"white\",\"linecolor\":\"white\",\"ticks\":\"\"},\"baxis\":{\"gridcolor\":\"white\",\"linecolor\":\"white\",\"ticks\":\"\"},\"caxis\":{\"gridcolor\":\"white\",\"linecolor\":\"white\",\"ticks\":\"\"}},\"coloraxis\":{\"colorbar\":{\"outlinewidth\":0,\"ticks\":\"\"}},\"colorscale\":{\"sequential\":[[0.0,\"#0d0887\"],[0.1111111111111111,\"#46039f\"],[0.2222222222222222,\"#7201a8\"],[0.3333333333333333,\"#9c179e\"],[0.4444444444444444,\"#bd3786\"],[0.5555555555555556,\"#d8576b\"],[0.6666666666666666,\"#ed7953\"],[0.7777777777777778,\"#fb9f3a\"],[0.8888888888888888,\"#fdca26\"],[1.0,\"#f0f921\"]],\"sequentialminus\":[[0.0,\"#0d0887\"],[0.1111111111111111,\"#46039f\"],[0.2222222222222222,\"#7201a8\"],[0.3333333333333333,\"#9c179e\"],[0.4444444444444444,\"#bd3786\"],[0.5555555555555556,\"#d8576b\"],[0.6666666666666666,\"#ed7953\"],[0.7777777777777778,\"#fb9f3a\"],[0.8888888888888888,\"#fdca26\"],[1.0,\"#f0f921\"]],\"diverging\":[[0,\"#8e0152\"],[0.1,\"#c51b7d\"],[0.2,\"#de77ae\"],[0.3,\"#f1b6da\"],[0.4,\"#fde0ef\"],[0.5,\"#f7f7f7\"],[0.6,\"#e6f5d0\"],[0.7,\"#b8e186\"],[0.8,\"#7fbc41\"],[0.9,\"#4d9221\"],[1,\"#276419\"]]},\"xaxis\":{\"gridcolor\":\"white\",\"linecolor\":\"white\",\"ticks\":\"\",\"title\":{\"standoff\":15},\"zerolinecolor\":\"white\",\"automargin\":true,\"zerolinewidth\":2},\"yaxis\":{\"gridcolor\":\"white\",\"linecolor\":\"white\",\"ticks\":\"\",\"title\":{\"standoff\":15},\"zerolinecolor\":\"white\",\"automargin\":true,\"zerolinewidth\":2},\"scene\":{\"xaxis\":{\"backgroundcolor\":\"#E5ECF6\",\"gridcolor\":\"white\",\"linecolor\":\"white\",\"showbackground\":true,\"ticks\":\"\",\"zerolinecolor\":\"white\",\"gridwidth\":2},\"yaxis\":{\"backgroundcolor\":\"#E5ECF6\",\"gridcolor\":\"white\",\"linecolor\":\"white\",\"showbackground\":true,\"ticks\":\"\",\"zerolinecolor\":\"white\",\"gridwidth\":2},\"zaxis\":{\"backgroundcolor\":\"#E5ECF6\",\"gridcolor\":\"white\",\"linecolor\":\"white\",\"showbackground\":true,\"ticks\":\"\",\"zerolinecolor\":\"white\",\"gridwidth\":2}},\"shapedefaults\":{\"line\":{\"color\":\"#2a3f5f\"}},\"annotationdefaults\":{\"arrowcolor\":\"#2a3f5f\",\"arrowhead\":0,\"arrowwidth\":1},\"geo\":{\"bgcolor\":\"white\",\"landcolor\":\"#E5ECF6\",\"subunitcolor\":\"white\",\"showland\":true,\"showlakes\":true,\"lakecolor\":\"white\"},\"title\":{\"x\":0.05},\"mapbox\":{\"style\":\"light\"}}}},                        {\"responsive\": true}                    ).then(function(){\n",
              "                            \n",
              "var gd = document.getElementById('a7e76be7-093b-44b2-8349-4eae889e1aed');\n",
              "var x = new MutationObserver(function (mutations, observer) {{\n",
              "        var display = window.getComputedStyle(gd).display;\n",
              "        if (!display || display === 'none') {{\n",
              "            console.log([gd, 'removed!']);\n",
              "            Plotly.purge(gd);\n",
              "            observer.disconnect();\n",
              "        }}\n",
              "}});\n",
              "\n",
              "// Listen for the removal of the full notebook cells\n",
              "var notebookContainer = gd.closest('#notebook-container');\n",
              "if (notebookContainer) {{\n",
              "    x.observe(notebookContainer, {childList: true});\n",
              "}}\n",
              "\n",
              "// Listen for the clearing of the current output cell\n",
              "var outputEl = gd.closest('.output');\n",
              "if (outputEl) {{\n",
              "    x.observe(outputEl, {childList: true});\n",
              "}}\n",
              "\n",
              "                        })                };                            </script>        </div>\n",
              "</body>\n",
              "</html>"
            ]
          },
          "metadata": {}
        }
      ]
    },
    {
      "cell_type": "code",
      "source": [
        "y_true = 100 + 20 * np.random.randn(1000)\n",
        "y_pred = y_true + 10 * np.random.randn(1000)\n",
        "results = pd.DataFrame({'y_true': y_true, 'y_pred': y_pred})\n",
        "results['error'] = results['y_true'] - results['y_pred']\n",
        "\n",
        "px.histogram(results, x='error', nbins=50, width=800)"
      ],
      "metadata": {
        "colab": {
          "base_uri": "https://localhost:8080/",
          "height": 542
        },
        "id": "x1WFVRRqBsXZ",
        "outputId": "4a105e58-259d-4240-c9d1-435c3621cdda"
      },
      "execution_count": 206,
      "outputs": [
        {
          "output_type": "display_data",
          "data": {
            "text/html": [
              "<html>\n",
              "<head><meta charset=\"utf-8\" /></head>\n",
              "<body>\n",
              "    <div>            <script src=\"https://cdnjs.cloudflare.com/ajax/libs/mathjax/2.7.5/MathJax.js?config=TeX-AMS-MML_SVG\"></script><script type=\"text/javascript\">if (window.MathJax && window.MathJax.Hub && window.MathJax.Hub.Config) {window.MathJax.Hub.Config({SVG: {font: \"STIX-Web\"}});}</script>                <script type=\"text/javascript\">window.PlotlyConfig = {MathJaxConfig: 'local'};</script>\n",
              "        <script charset=\"utf-8\" src=\"https://cdn.plot.ly/plotly-2.24.1.min.js\"></script>                <div id=\"8cf3daa9-d076-4844-a8d6-885001084a6e\" class=\"plotly-graph-div\" style=\"height:525px; width:800px;\"></div>            <script type=\"text/javascript\">                                    window.PLOTLYENV=window.PLOTLYENV || {};                                    if (document.getElementById(\"8cf3daa9-d076-4844-a8d6-885001084a6e\")) {                    Plotly.newPlot(                        \"8cf3daa9-d076-4844-a8d6-885001084a6e\",                        [{\"alignmentgroup\":\"True\",\"bingroup\":\"x\",\"hovertemplate\":\"error=%{x}\\u003cbr\\u003ecount=%{y}\\u003cextra\\u003e\\u003c\\u002fextra\\u003e\",\"legendgroup\":\"\",\"marker\":{\"color\":\"#636efa\",\"pattern\":{\"shape\":\"\"}},\"name\":\"\",\"nbinsx\":50,\"offsetgroup\":\"\",\"orientation\":\"v\",\"showlegend\":false,\"x\":[-22.392688920886528,7.461083350292526,12.539001552916432,-3.4277025085696806,-20.721716959443356,18.85203666401756,4.587371607674513,9.357787979319696,5.84066684746891,-5.975044301375831,-12.580405402516838,-9.106149934481522,-12.392318862248842,8.207992631491777,2.6092576918541965,-11.302175180219919,0.43030043551210895,13.567135874094589,9.227933360564933,-11.949845387799058,-4.5278811745067316,-7.313687117131835,9.186408433834572,-0.43639226692670263,1.9796399139931538,0.7316795317616709,9.974041445153205,12.439225376391377,3.828530377192635,12.565153945621475,-17.084763579049365,-11.953966181171864,3.5471937035814136,-12.954491672892011,1.7922368063209149,4.2359719145915165,-0.6012409815155166,-2.326930520646954,-18.35659640142225,-7.189491615383929,6.8011516843034485,-4.566740029723491,-22.368708541501988,-7.353289448758133,-7.411555226607575,-4.327554130417596,0.2042204764394029,-0.40582033360898606,-5.148700381513862,1.0433483483657966,-12.256683394612182,-8.302579458645312,-8.344265865062724,0.057331326779149094,-11.060609781691568,2.4057762143605856,14.56069578955622,9.381636162691464,-5.592112784501211,-11.7934150144809,6.8467661865298055,-10.473155351898669,12.05087351933669,-15.617246786986357,-2.8910264897253057,5.331763296713859,0.3025611817234619,-8.17910435984308,6.0090103683524205,1.81270920954708,-11.896946932769055,0.07932973326610693,0.7701837803071498,-11.103130684612367,0.9638158962533794,-4.271663751826281,-6.2886110832643,-20.54702692984398,5.3194417136621155,-4.443223644610526,0.8502996336042798,-7.473287933303084,-4.951525104811125,-11.47201214237819,-1.0598959586764778,2.002519167984474,-7.732731205395865,-1.7667344905897835,-21.548052121508903,3.7411096599255558,-9.80497613696646,24.945839416129616,15.612346868052612,4.216541195300252,-6.780704479721678,11.563437478372876,8.126455653059466,-10.511185446962159,-5.527757595918985,4.220362193857611,12.9115168025821,1.2763526999540886,3.5814026588780763,1.6135383528306448,-1.3153388227061669,16.330052432261823,-14.350611591051333,5.4872121986151114,-0.5852483224584262,-16.134518880078573,10.461402996655252,2.6230221163914678,-21.260351177971458,12.5971189974549,-14.773403221221344,-0.46275189077766754,8.5423833972077,-3.682999262455283,25.550478598244233,-2.8804158611920343,13.35181013831189,-5.85826793896122,5.338442573017801,20.77145222008511,-0.2681188520884774,9.50612293974902,17.69725614159627,5.087018864304014,9.948989542424101,-22.306321634244938,10.23172249673523,10.678626830760706,-0.4668172737917189,-4.591452333732718,-9.670925314995714,5.682337015088919,3.115808307527516,7.4853126224654005,-9.119970727506185,15.687154793045167,-6.835984258252637,5.514434004298735,-9.344905676730605,-7.619835765048634,-13.968583031921241,12.414331922724017,4.589257953842477,13.97275297380125,6.109835257600324,5.813208349333578,6.134516752398724,1.3548660855864796,3.12166502772898,-8.531386439461755,-3.2112619300100107,-0.6423140523078814,-6.499999151609487,-0.45600212515179805,17.50963087045656,10.92732591003734,18.86912823250732,2.5458883531156005,-19.3502470454342,-12.99146066665682,0.951218761015113,3.166411662882112,14.798925960007978,-11.454672143211724,-19.741269350759353,4.483528321873052,-0.292520862299412,-11.754998720374502,3.5052274924001097,-10.790448699558667,11.909325042789774,-0.7251229372499068,5.433590176943639,-6.223597318289322,-11.351069927132428,16.69167929669065,-9.628078092373045,-4.283707567357027,8.095305318894077,-2.2821181343489343,0.5309310967260217,1.783613578559354,5.636355144319481,-1.0049208988557723,-3.892092905337549,10.679791931659267,10.716120267768915,16.62911596308058,6.971740303997166,5.781367013845021,15.736328366851708,-9.279068392875999,-13.75486950642329,-13.423759580762137,-0.9112328520560311,2.5412012009093843,13.197853995245893,-1.0288189639669554,4.063324664329713,-11.337389785742758,-7.95008338568465,-6.11043672105184,-10.361828812598361,7.631395926140641,-8.81860040922885,-15.708120138703336,8.651047974704781,9.869468769641216,-18.025922609514808,-22.221938140918553,-19.195675251692663,6.237400033587164,-11.874096828483928,-7.9238065226360845,13.0438870067252,4.791015638079983,5.002062567994756,-6.128669962427679,5.517462828466108,6.832851881125407,0.6123412283309619,4.605306652458708,12.760575740218599,6.637340792078945,9.339307386004762,-3.632408948651971,-14.404294135517603,8.218868934688217,-4.6153837073243835,-21.896187455503338,7.990228868858793,-6.86144196259616,-9.727827936323337,0.7413950847951583,-8.08185671369634,16.33985505801992,14.64773828911737,-14.023973106271356,-22.749530843671806,12.57179560248776,12.353233875498418,7.4335004674412914,8.04728984343646,1.2054688628519585,-14.542378583664835,-18.199118932954505,7.007922514210108,-16.831605298412285,-17.076004382095867,9.712446450281575,-6.252749237218737,22.371571450599816,-4.0266488895417325,5.112472771632767,1.2930659102597133,-6.1104114930706,-16.485768067479,4.353161958616596,-21.993859914940117,14.383872488903592,-2.9264019409077804,12.75452352378332,-9.65067294276895,-15.480564679984283,-1.8156461919247846,0.7260119443698159,-4.069002381981015,-2.2733694919014056,0.42464766409705135,3.988262453748291,-5.367238678555566,2.8108916317088983,5.124677260021471,-18.67985179567671,3.3972001223286554,6.772656042408897,9.057261225799522,0.4819351054207601,-8.54485252202852,-4.04059844649926,-1.5705427025015268,9.326302065455565,5.337017780259757,-1.8827207096930323,9.136865859447454,4.0713280408108545,3.1343754274625724,-1.3801641646470415,1.8778646409112127,24.676395297184115,-1.4257591006583823,-3.923236519207606,0.0022436743349345534,2.624112834565409,-5.283109956842139,-2.0472640136455595,1.2752829726951518,0.34856996697611464,17.66703219856518,2.333781826024804,-1.5351655585512276,3.6809603487465665,-11.11762622803603,14.877743998338488,-3.869371610566816,14.630792565152767,20.844916868778526,5.90185964205574,4.245039569941355,-5.821330276776095,4.5371855067252085,3.46475112191969,-5.227996663804348,-5.756747851524025,2.1355583307106656,2.3514984309267817,-4.013005200736558,16.751043504265922,1.9700243465386507,-23.751900540679486,10.978826624947004,18.307835467201585,-1.095245034872491,0.12378483078803981,9.866277769744428,8.85548478036499,8.149337841019431,0.19808744743323814,-11.043713417406138,2.507434115200823,2.439304174217881,-7.251845579035816,3.070806436633376,-5.117535893015642,2.7369323151520604,-2.247432670541741,19.978512481067327,14.506838828022666,14.69392720202778,-6.758974377423868,2.2717411877268177,-8.00314030285628,-1.3166145950480654,1.6856638344721944,-4.277448602399218,5.821687726087021,-4.756793179842958,12.159164685354042,8.872759242920353,-3.9390161036789806,4.970598038911646,2.681560471447213,8.734252405353217,-2.730896582914326,0.47676253072324926,5.355414700121543,1.6061047921416645,1.2771119391365175,15.554706372074577,14.29407142184688,6.525743172186168,9.950088979161322,-4.646280211015508,10.855956002592535,1.0591551224555076,-7.873903146184361,-2.6059579359726683,4.196613391673296,4.05782874221795,-14.342496280182758,3.49308795369042,-18.59010400664158,16.08337449338657,-11.33296927724136,-11.323108383391826,16.926143088212356,0.07980456963940696,-6.981910889879998,-16.725758900906342,9.068849544430762,-1.9856172858750512,-0.9080681990883477,-10.205991445973922,-9.222121039337736,-4.6250743916299655,5.7424882114955835,0.11177855285521332,-6.712131130516468,-1.4351621367563467,-3.5214035560697283,-18.787119242818036,12.63797972096313,-7.616200353959897,-12.205824619730464,5.694028792368201,-4.148082258857926,10.421023801093455,-8.147474760927935,-4.492562668490393,17.42196384630742,-4.271852505747788,3.8741017307708603,0.14582877775693248,4.041732553429966,-3.274142429008961,9.685301470212536,6.0886124533767685,24.01196019802073,-16.25613851428959,2.9645738570500697,-11.745550542601805,12.44007151492309,-14.848643434184936,-22.84160045780257,-7.589500489432524,-16.240057097310086,-11.088415390144718,-4.716667304958676,-7.575014353893323,2.1314703818042204,6.795292681311253,-2.531571704849412,13.103190950638506,-11.759773577242044,4.859731665878272,-5.727677341767119,-10.295303468444303,-13.960104033678178,1.2662007629411534,-4.578573997731141,4.796675825168677,-8.426283557947244,-15.170665799657371,-10.350128332598018,8.484548466541412,4.231487002566183,16.193189686357627,17.35003942682421,0.08122209307202866,-5.337586542614872,2.9080598213878943,-9.27758169952331,8.442719116906147,-6.946798300018941,6.533303099751336,1.6397553344760354,-3.7536828483843294,1.3476311613952419,-4.78137807525971,8.849991280457814,12.305467543043122,-10.6057251926931,11.427422431910912,5.850857478642723,-3.5674465814981318,6.202403338833562,-7.15392611882227,8.47797068679104,7.2133785216528,-2.0639586176053513,-0.5057410016111987,5.355596434373453,11.59301301582309,18.793520627651432,-4.137669714568574,-7.992859446263282,-4.224988407760591,-2.885801748991156,16.40716739326041,1.196247855448263,9.594421581251439,7.136171607757689,1.9969439207931998,3.7702244882827642,-4.456907525677423,-12.224031983610132,5.34521216248217,26.427965940761,-17.239063508302493,14.16628221739623,-6.005050228952314,5.591996905018334,2.9282746533150856,-9.97012997322176,-25.55090865249005,3.552785013706057,13.627174144897083,2.3108789881346468,11.013076183763125,7.661013553538737,-4.7089528934642715,-4.843656894611144,1.1779371405116166,-7.19896175657631,-5.0901719142445785,5.436515830630398,6.614754604495587,-18.194532886137495,8.209401506825387,-2.4136272246623776,4.939900392657705,-2.954203389470365,6.885774913723395,11.765392907451925,4.799599961989529,10.876000946115255,3.3305428454053754,-7.99172590672589,-3.2574868182574477,-3.3192676951786666,16.766017068960814,4.944486086864927,0.8780842989075666,7.750628821346254,-8.21666946873978,-9.162772251879645,-14.71922394748404,18.03125979288157,13.39429531980251,-5.475681284432369,16.303439803933983,-19.106394687789603,1.470424259822451,9.726759029210612,4.755781830421455,1.9038950507244863,3.8695879524215258,-2.520404002942513,-5.177737448343549,-8.416111768052104,15.234041876003289,3.3944356647127307,-0.4164706581787385,11.902000006621122,-17.81309930546071,-10.681544663367589,19.022006415254822,-7.488996795488887,-14.417314966945028,-4.949519514793323,16.002477790650786,-9.68153300854793,-1.687318070466361,-3.4188288950995513,14.33162588522093,-4.388396002273126,-16.766555034458648,4.72417844918327,-9.445302282898723,0.8156665769339639,10.470246681144289,-12.187179138362765,-0.3800567700595252,10.650224904124983,-9.781461875392466,-6.247050592180628,-9.55148486941961,3.680789767805223,17.28920364957392,-3.397008808604795,8.421921088941488,-3.365734392762306,-1.8587055255931801,3.194070847198006,3.431984033498196,6.778819092293318,2.93948772721987,-9.97673796809866,-1.9508268951106373,-2.084801106617064,2.106648626572465,12.109401539830543,-4.569573385833905,1.722439921704236,-1.3167869315111318,-0.7046108887602287,2.4904429037381135,-0.9675715369111515,-2.9550682226156084,0.8986088293952861,-5.467942134302611,-6.654792854631921,-5.587817843180687,9.438960542220869,-4.03492621967321,-1.5356738802161232,3.6996550464820643,-11.324122192155869,3.249544615316509,7.088133505757355,-8.351083934991351,-0.9606717322677554,-0.9836669873580917,-1.0707612809547555,-8.68502625587523,-5.5177750910178105,-16.465932637303666,11.925661867981596,10.405396000710809,7.460830583022869,-13.152750732592636,-3.2178241764142115,-8.930878838335474,-2.1324584525170707,-7.230558946545315,4.959077105440045,3.315164556446234,5.611168691771994,-11.058208830243657,2.455139081957583,-8.762832102200377,-7.195457440652206,6.999924101785339,11.87014715574395,-26.71440856664192,-7.703266402813156,13.696346285550163,-8.223724092537694,-1.599727535877662,-6.686785304093618,14.595486412817124,15.546533370173876,-1.0295366082965245,-4.930201089175739,-5.9750865129577875,0.02483348467492874,1.445352588261926,7.579902293725411,3.562349754550098,-13.021313652347374,-21.87901567151144,1.2357525159595326,10.565138113434074,7.280081858755594,-10.52393434556322,-8.230013115532842,5.157055411185922,16.45225079939965,-14.032384181221545,-15.927200351888771,6.88839770779164,16.136232661665794,2.947458270475053,-4.0507266276915175,18.004883575629336,-3.1998298573949455,-13.258820709060998,-5.093033822147902,4.380471032494967,14.117302042970138,5.176979310634422,11.11712633660305,-1.0793280283385513,6.98762168158288,-1.0277124261301083,-5.760676031299056,17.602971506885027,12.079305210564712,17.957291768796935,3.328838630736513,12.179132057316309,-6.556632685035652,20.78548526461185,-4.509664517753606,12.787538285567777,5.9044965394765825,-8.137785934995804,-16.588418796672073,-16.519257032837146,2.462928841346937,-6.394763345523742,0.10808261641058436,11.746920404784987,-3.2287178422394476,-4.382225910287929,0.3040681231289142,-3.5585825910222013,-4.291144712039269,-10.675818048556494,2.14272179921835,-3.719828986450011,3.4751977386948454,5.808886283129581,-7.220849741856867,-3.6769421437963956,-8.489879592867553,-20.92504158773636,-1.6097419729107827,-5.521064307393132,-13.263831989835083,13.949861168007587,-1.401901617999485,3.2029892046761432,-2.8865945354589115,2.6146968799176733,-5.129479447043536,-7.293881146612591,-0.883049513611553,-6.631388091573712,10.80217055914946,-1.0867101619552102,0.8131667595012289,5.183221528061651,4.686422157583706,12.413792242194702,-9.11775665842626,-8.154473736683542,-8.485115604052822,-0.7170248792906193,8.888800600547953,-7.404543822571114,-3.4369152023739957,-9.61474506286666,-1.274687024160059,11.216399260122827,5.721541133228399,3.1818944188371034,7.872091152138594,8.562877393308753,6.93230856145145,-1.2714020861911735,-7.614378485489368,-14.772449523974956,28.07289555569676,-7.776050507306593,-7.229775282871486,6.632864193082412,7.664184612005187,6.577646328239197,12.519703431193477,-10.354297478312446,-11.095112699085334,17.229065559516762,6.072332819388748,-13.03534993275727,4.095305567031232,-1.5653735729747638,-5.162301295619272,14.035888599599602,-22.01314223898322,17.306497610817374,-8.982926295708921,2.382894846932544,0.5544690148607572,3.3005279770022895,11.779800700219326,2.4606551400691217,-13.326768726125465,7.312020667124898,-11.829117803940036,27.40678119980248,-16.007534949981036,6.394481328768137,0.33070954686434106,2.951939935886955,11.11784917630564,-3.830765189804197,1.538622434997393,-6.530235930964253,-4.601656774299528,9.51031509618764,8.955683723288445,-2.8128261264024133,-6.258714166173533,4.724731170311898,-10.614586459657062,2.0354524726355834,4.528426200891531,13.340949125478005,-13.883036863416606,-6.465512658305556,10.672500484432803,12.61988291323918,22.621862831683472,15.097124303822227,-2.7376339007702626,2.2331324564142534,-14.924945025101081,6.563643082268079,2.2482597461372933,-2.2784046528387165,-18.1055421740586,7.686519765446974,5.815190872800002,2.8562274816020192,-2.9938858972064395,-4.889898510682002,6.564439269084218,3.131979652014394,0.24029215164360096,-4.143368778610281,10.121244873527445,4.737255224476016,3.491952331258986,8.212542933326489,-0.666817586893913,15.646304159409922,0.22834078314545536,3.007613398211973,-9.402036878980539,13.011085207782799,7.852978239303582,14.83443821155467,-3.8324967917610024,-13.29121537635784,10.128347589757468,-2.714806028543066,7.026211098745904,1.5278255863685644,-7.024558057017856,-2.1972551187835023,-4.112342403108542,-10.146918495959127,-3.667537329706221,-21.136463694813273,7.043153295613578,-19.690048151633505,2.418010884836505,0.7622662199647436,-8.79697609438061,7.7171495014871,3.927485063742651,16.488664617948032,-2.0263935751698767,7.622601986980428,16.545441754995494,8.650506330486664,7.216820553689615,-3.3469231509768207,-0.3813943940901865,18.22769023564163,4.847875245895722,10.243665661973623,6.476884738313842,-20.52379970093139,13.17492029583569,5.607459573767727,6.244172699393076,-9.377125266378314,1.6152005643853897,-0.08218022014263227,-7.4330567834609695,-5.210694125159364,24.204003678494416,22.365124585668553,6.4934818624645345,-3.491613902827112,-2.335952664222006,-12.879543246576318,-1.7666723957319945,-8.053450220099876,26.95645118910319,-4.024013278137716,-5.742733588967738,15.048758533277592,7.248652526371316,0.5006185269305661,-9.601895006268649,3.8667003297068447,16.807170616731582,1.7921428545305957,-1.742035161385047,-5.825360531499783,19.025347398804712,16.89417596621537,-26.8696024497589,-12.123355244941763,4.395993300167277,-7.160698818464127,-7.400304160392338,-11.682422546335943,7.274719179646496,11.971367669132178,-5.327917320967529,11.632526102223515,-9.501436161210961,-7.15349146088829,-11.896369138601287,12.770468751097454,-2.8632205766701304,-5.866742043610728,-15.802423753819284,0.03852952107253316,-6.893834083185453,-4.895300336482052,-6.676264325275255,10.144465649237361,13.479667797774297,-5.281956071128292,14.918949696794101,4.314273673252529,17.615323591284223,9.25157504998603,-1.6969288683229564,-1.4995097497702687,16.798064306609263,-6.647290011006703,-4.254413729884277,-16.626741261336406,-0.3234920409754949,-3.5126476232002943,29.671966850203056,-0.9533434065824054,2.0457343749094576,5.357745448102989,-8.530612889065779,-17.58506618819395,-16.881477863082495,4.009709041147929,-5.132186578909852,6.926644971223396,5.647018228330637,-17.661472789928766,1.994305722136687,-0.12536942266542894,-0.25038310605264513,-17.14378276581992,16.23952196072593,3.4429400947571764,10.856119231751805,0.30610390261510645,7.10860097600235,4.84065674909472,-2.984213500731471,-1.9174053521164467,-4.441104052271228,3.810049950995335,-3.756390172446885,3.5507012761406145,-7.864792586822631,3.5064442247649197,-2.573503905492643,-3.4627194329720794,3.2036230765460374,-5.907443457126817,-8.657609465855913,-5.57697785508941,8.589940385742025,-20.28835125015395,6.317478058803005,0.6766362438448397,10.290481468358337,14.962439510907203,9.61325512877957,6.648105473170958,-12.953491097020915,-5.556783208372934,-2.769005090260876,-1.6545008469226303,3.152333864720049,-10.877050518850865,-0.4391560209573271,14.768527079438115,9.397719141461081,-11.939761931541554,8.832591116773571,2.4279331251748246,-20.883170842680983,-5.040821024396948,-10.675937021043552,16.098108782549573,7.347739010676406,-6.81505824728481,11.239793213968682,-1.4123554283182926,-4.122292332103768,-10.796345652765012,-24.568309621065836,-5.57474340395153,-1.1474822360729036,0.9605285423562151,-5.53890816522393,6.689952305616643,5.4459799410421255,-6.407071418641536,-4.177484939513576,-3.1331938280527964,2.867931021239386,-10.831603842991257,-16.498086191789724,-14.02096288488923,2.5107797849926783,9.02645202855743,-6.2994161489593665,-4.901428001296495,-3.727055088626088,7.166842116297687,-8.01004239654597,0.49674094592305096,-11.679557484166565,-8.406704546749665,-6.8413545115699606,-0.9719138759824517,-5.945002427518574,4.508580912979681,10.547546611847892],\"xaxis\":\"x\",\"yaxis\":\"y\",\"type\":\"histogram\"}],                        {\"template\":{\"data\":{\"histogram2dcontour\":[{\"type\":\"histogram2dcontour\",\"colorbar\":{\"outlinewidth\":0,\"ticks\":\"\"},\"colorscale\":[[0.0,\"#0d0887\"],[0.1111111111111111,\"#46039f\"],[0.2222222222222222,\"#7201a8\"],[0.3333333333333333,\"#9c179e\"],[0.4444444444444444,\"#bd3786\"],[0.5555555555555556,\"#d8576b\"],[0.6666666666666666,\"#ed7953\"],[0.7777777777777778,\"#fb9f3a\"],[0.8888888888888888,\"#fdca26\"],[1.0,\"#f0f921\"]]}],\"choropleth\":[{\"type\":\"choropleth\",\"colorbar\":{\"outlinewidth\":0,\"ticks\":\"\"}}],\"histogram2d\":[{\"type\":\"histogram2d\",\"colorbar\":{\"outlinewidth\":0,\"ticks\":\"\"},\"colorscale\":[[0.0,\"#0d0887\"],[0.1111111111111111,\"#46039f\"],[0.2222222222222222,\"#7201a8\"],[0.3333333333333333,\"#9c179e\"],[0.4444444444444444,\"#bd3786\"],[0.5555555555555556,\"#d8576b\"],[0.6666666666666666,\"#ed7953\"],[0.7777777777777778,\"#fb9f3a\"],[0.8888888888888888,\"#fdca26\"],[1.0,\"#f0f921\"]]}],\"heatmap\":[{\"type\":\"heatmap\",\"colorbar\":{\"outlinewidth\":0,\"ticks\":\"\"},\"colorscale\":[[0.0,\"#0d0887\"],[0.1111111111111111,\"#46039f\"],[0.2222222222222222,\"#7201a8\"],[0.3333333333333333,\"#9c179e\"],[0.4444444444444444,\"#bd3786\"],[0.5555555555555556,\"#d8576b\"],[0.6666666666666666,\"#ed7953\"],[0.7777777777777778,\"#fb9f3a\"],[0.8888888888888888,\"#fdca26\"],[1.0,\"#f0f921\"]]}],\"heatmapgl\":[{\"type\":\"heatmapgl\",\"colorbar\":{\"outlinewidth\":0,\"ticks\":\"\"},\"colorscale\":[[0.0,\"#0d0887\"],[0.1111111111111111,\"#46039f\"],[0.2222222222222222,\"#7201a8\"],[0.3333333333333333,\"#9c179e\"],[0.4444444444444444,\"#bd3786\"],[0.5555555555555556,\"#d8576b\"],[0.6666666666666666,\"#ed7953\"],[0.7777777777777778,\"#fb9f3a\"],[0.8888888888888888,\"#fdca26\"],[1.0,\"#f0f921\"]]}],\"contourcarpet\":[{\"type\":\"contourcarpet\",\"colorbar\":{\"outlinewidth\":0,\"ticks\":\"\"}}],\"contour\":[{\"type\":\"contour\",\"colorbar\":{\"outlinewidth\":0,\"ticks\":\"\"},\"colorscale\":[[0.0,\"#0d0887\"],[0.1111111111111111,\"#46039f\"],[0.2222222222222222,\"#7201a8\"],[0.3333333333333333,\"#9c179e\"],[0.4444444444444444,\"#bd3786\"],[0.5555555555555556,\"#d8576b\"],[0.6666666666666666,\"#ed7953\"],[0.7777777777777778,\"#fb9f3a\"],[0.8888888888888888,\"#fdca26\"],[1.0,\"#f0f921\"]]}],\"surface\":[{\"type\":\"surface\",\"colorbar\":{\"outlinewidth\":0,\"ticks\":\"\"},\"colorscale\":[[0.0,\"#0d0887\"],[0.1111111111111111,\"#46039f\"],[0.2222222222222222,\"#7201a8\"],[0.3333333333333333,\"#9c179e\"],[0.4444444444444444,\"#bd3786\"],[0.5555555555555556,\"#d8576b\"],[0.6666666666666666,\"#ed7953\"],[0.7777777777777778,\"#fb9f3a\"],[0.8888888888888888,\"#fdca26\"],[1.0,\"#f0f921\"]]}],\"mesh3d\":[{\"type\":\"mesh3d\",\"colorbar\":{\"outlinewidth\":0,\"ticks\":\"\"}}],\"scatter\":[{\"fillpattern\":{\"fillmode\":\"overlay\",\"size\":10,\"solidity\":0.2},\"type\":\"scatter\"}],\"parcoords\":[{\"type\":\"parcoords\",\"line\":{\"colorbar\":{\"outlinewidth\":0,\"ticks\":\"\"}}}],\"scatterpolargl\":[{\"type\":\"scatterpolargl\",\"marker\":{\"colorbar\":{\"outlinewidth\":0,\"ticks\":\"\"}}}],\"bar\":[{\"error_x\":{\"color\":\"#2a3f5f\"},\"error_y\":{\"color\":\"#2a3f5f\"},\"marker\":{\"line\":{\"color\":\"#E5ECF6\",\"width\":0.5},\"pattern\":{\"fillmode\":\"overlay\",\"size\":10,\"solidity\":0.2}},\"type\":\"bar\"}],\"scattergeo\":[{\"type\":\"scattergeo\",\"marker\":{\"colorbar\":{\"outlinewidth\":0,\"ticks\":\"\"}}}],\"scatterpolar\":[{\"type\":\"scatterpolar\",\"marker\":{\"colorbar\":{\"outlinewidth\":0,\"ticks\":\"\"}}}],\"histogram\":[{\"marker\":{\"pattern\":{\"fillmode\":\"overlay\",\"size\":10,\"solidity\":0.2}},\"type\":\"histogram\"}],\"scattergl\":[{\"type\":\"scattergl\",\"marker\":{\"colorbar\":{\"outlinewidth\":0,\"ticks\":\"\"}}}],\"scatter3d\":[{\"type\":\"scatter3d\",\"line\":{\"colorbar\":{\"outlinewidth\":0,\"ticks\":\"\"}},\"marker\":{\"colorbar\":{\"outlinewidth\":0,\"ticks\":\"\"}}}],\"scattermapbox\":[{\"type\":\"scattermapbox\",\"marker\":{\"colorbar\":{\"outlinewidth\":0,\"ticks\":\"\"}}}],\"scatterternary\":[{\"type\":\"scatterternary\",\"marker\":{\"colorbar\":{\"outlinewidth\":0,\"ticks\":\"\"}}}],\"scattercarpet\":[{\"type\":\"scattercarpet\",\"marker\":{\"colorbar\":{\"outlinewidth\":0,\"ticks\":\"\"}}}],\"carpet\":[{\"aaxis\":{\"endlinecolor\":\"#2a3f5f\",\"gridcolor\":\"white\",\"linecolor\":\"white\",\"minorgridcolor\":\"white\",\"startlinecolor\":\"#2a3f5f\"},\"baxis\":{\"endlinecolor\":\"#2a3f5f\",\"gridcolor\":\"white\",\"linecolor\":\"white\",\"minorgridcolor\":\"white\",\"startlinecolor\":\"#2a3f5f\"},\"type\":\"carpet\"}],\"table\":[{\"cells\":{\"fill\":{\"color\":\"#EBF0F8\"},\"line\":{\"color\":\"white\"}},\"header\":{\"fill\":{\"color\":\"#C8D4E3\"},\"line\":{\"color\":\"white\"}},\"type\":\"table\"}],\"barpolar\":[{\"marker\":{\"line\":{\"color\":\"#E5ECF6\",\"width\":0.5},\"pattern\":{\"fillmode\":\"overlay\",\"size\":10,\"solidity\":0.2}},\"type\":\"barpolar\"}],\"pie\":[{\"automargin\":true,\"type\":\"pie\"}]},\"layout\":{\"autotypenumbers\":\"strict\",\"colorway\":[\"#636efa\",\"#EF553B\",\"#00cc96\",\"#ab63fa\",\"#FFA15A\",\"#19d3f3\",\"#FF6692\",\"#B6E880\",\"#FF97FF\",\"#FECB52\"],\"font\":{\"color\":\"#2a3f5f\"},\"hovermode\":\"closest\",\"hoverlabel\":{\"align\":\"left\"},\"paper_bgcolor\":\"white\",\"plot_bgcolor\":\"#E5ECF6\",\"polar\":{\"bgcolor\":\"#E5ECF6\",\"angularaxis\":{\"gridcolor\":\"white\",\"linecolor\":\"white\",\"ticks\":\"\"},\"radialaxis\":{\"gridcolor\":\"white\",\"linecolor\":\"white\",\"ticks\":\"\"}},\"ternary\":{\"bgcolor\":\"#E5ECF6\",\"aaxis\":{\"gridcolor\":\"white\",\"linecolor\":\"white\",\"ticks\":\"\"},\"baxis\":{\"gridcolor\":\"white\",\"linecolor\":\"white\",\"ticks\":\"\"},\"caxis\":{\"gridcolor\":\"white\",\"linecolor\":\"white\",\"ticks\":\"\"}},\"coloraxis\":{\"colorbar\":{\"outlinewidth\":0,\"ticks\":\"\"}},\"colorscale\":{\"sequential\":[[0.0,\"#0d0887\"],[0.1111111111111111,\"#46039f\"],[0.2222222222222222,\"#7201a8\"],[0.3333333333333333,\"#9c179e\"],[0.4444444444444444,\"#bd3786\"],[0.5555555555555556,\"#d8576b\"],[0.6666666666666666,\"#ed7953\"],[0.7777777777777778,\"#fb9f3a\"],[0.8888888888888888,\"#fdca26\"],[1.0,\"#f0f921\"]],\"sequentialminus\":[[0.0,\"#0d0887\"],[0.1111111111111111,\"#46039f\"],[0.2222222222222222,\"#7201a8\"],[0.3333333333333333,\"#9c179e\"],[0.4444444444444444,\"#bd3786\"],[0.5555555555555556,\"#d8576b\"],[0.6666666666666666,\"#ed7953\"],[0.7777777777777778,\"#fb9f3a\"],[0.8888888888888888,\"#fdca26\"],[1.0,\"#f0f921\"]],\"diverging\":[[0,\"#8e0152\"],[0.1,\"#c51b7d\"],[0.2,\"#de77ae\"],[0.3,\"#f1b6da\"],[0.4,\"#fde0ef\"],[0.5,\"#f7f7f7\"],[0.6,\"#e6f5d0\"],[0.7,\"#b8e186\"],[0.8,\"#7fbc41\"],[0.9,\"#4d9221\"],[1,\"#276419\"]]},\"xaxis\":{\"gridcolor\":\"white\",\"linecolor\":\"white\",\"ticks\":\"\",\"title\":{\"standoff\":15},\"zerolinecolor\":\"white\",\"automargin\":true,\"zerolinewidth\":2},\"yaxis\":{\"gridcolor\":\"white\",\"linecolor\":\"white\",\"ticks\":\"\",\"title\":{\"standoff\":15},\"zerolinecolor\":\"white\",\"automargin\":true,\"zerolinewidth\":2},\"scene\":{\"xaxis\":{\"backgroundcolor\":\"#E5ECF6\",\"gridcolor\":\"white\",\"linecolor\":\"white\",\"showbackground\":true,\"ticks\":\"\",\"zerolinecolor\":\"white\",\"gridwidth\":2},\"yaxis\":{\"backgroundcolor\":\"#E5ECF6\",\"gridcolor\":\"white\",\"linecolor\":\"white\",\"showbackground\":true,\"ticks\":\"\",\"zerolinecolor\":\"white\",\"gridwidth\":2},\"zaxis\":{\"backgroundcolor\":\"#E5ECF6\",\"gridcolor\":\"white\",\"linecolor\":\"white\",\"showbackground\":true,\"ticks\":\"\",\"zerolinecolor\":\"white\",\"gridwidth\":2}},\"shapedefaults\":{\"line\":{\"color\":\"#2a3f5f\"}},\"annotationdefaults\":{\"arrowcolor\":\"#2a3f5f\",\"arrowhead\":0,\"arrowwidth\":1},\"geo\":{\"bgcolor\":\"white\",\"landcolor\":\"#E5ECF6\",\"subunitcolor\":\"white\",\"showland\":true,\"showlakes\":true,\"lakecolor\":\"white\"},\"title\":{\"x\":0.05},\"mapbox\":{\"style\":\"light\"}}},\"xaxis\":{\"anchor\":\"y\",\"domain\":[0.0,1.0],\"title\":{\"text\":\"error\"}},\"yaxis\":{\"anchor\":\"x\",\"domain\":[0.0,1.0],\"title\":{\"text\":\"count\"}},\"legend\":{\"tracegroupgap\":0},\"margin\":{\"t\":60},\"barmode\":\"relative\",\"width\":800},                        {\"responsive\": true}                    ).then(function(){\n",
              "                            \n",
              "var gd = document.getElementById('8cf3daa9-d076-4844-a8d6-885001084a6e');\n",
              "var x = new MutationObserver(function (mutations, observer) {{\n",
              "        var display = window.getComputedStyle(gd).display;\n",
              "        if (!display || display === 'none') {{\n",
              "            console.log([gd, 'removed!']);\n",
              "            Plotly.purge(gd);\n",
              "            observer.disconnect();\n",
              "        }}\n",
              "}});\n",
              "\n",
              "// Listen for the removal of the full notebook cells\n",
              "var notebookContainer = gd.closest('#notebook-container');\n",
              "if (notebookContainer) {{\n",
              "    x.observe(notebookContainer, {childList: true});\n",
              "}}\n",
              "\n",
              "// Listen for the clearing of the current output cell\n",
              "var outputEl = gd.closest('.output');\n",
              "if (outputEl) {{\n",
              "    x.observe(outputEl, {childList: true});\n",
              "}}\n",
              "\n",
              "                        })                };                            </script>        </div>\n",
              "</body>\n",
              "</html>"
            ]
          },
          "metadata": {}
        }
      ]
    },
    {
      "cell_type": "code",
      "source": [
        "def mean_absolute_error(y_true, y_pred) -> float:\n",
        "    return abs(y_true - y_pred).sum() / len(y_true)\n",
        "\n",
        "mean_absolute_error(y_true, y_pred)"
      ],
      "metadata": {
        "colab": {
          "base_uri": "https://localhost:8080/"
        },
        "id": "btRh6EPVEaY-",
        "outputId": "0dc15fdd-2809-4b57-b06e-7bf9406c29a2"
      },
      "execution_count": 207,
      "outputs": [
        {
          "output_type": "execute_result",
          "data": {
            "text/plain": [
              "7.891533708927526"
            ]
          },
          "metadata": {},
          "execution_count": 207
        }
      ]
    },
    {
      "cell_type": "code",
      "source": [
        "from sklearn.metrics import mean_absolute_error\n",
        "mean_absolute_error(y_true, y_pred)"
      ],
      "metadata": {
        "colab": {
          "base_uri": "https://localhost:8080/"
        },
        "id": "8HWFTGrWFFs2",
        "outputId": "7fa2010c-0578-42f7-a984-1c082b8d5676"
      },
      "execution_count": 208,
      "outputs": [
        {
          "output_type": "execute_result",
          "data": {
            "text/plain": [
              "7.891533708927526"
            ]
          },
          "metadata": {},
          "execution_count": 208
        }
      ]
    },
    {
      "cell_type": "code",
      "source": [
        "def mean_squared_error(y_true, y_pred):\n",
        "    return ((y_true - y_pred) ** 2).sum() / len(y_true)\n",
        "\n",
        "mean_squared_error(y_true, y_pred)"
      ],
      "metadata": {
        "colab": {
          "base_uri": "https://localhost:8080/"
        },
        "id": "vSoYJDdsFLmA",
        "outputId": "bff951de-243c-4d33-f07d-98fec1682a52"
      },
      "execution_count": 209,
      "outputs": [
        {
          "output_type": "execute_result",
          "data": {
            "text/plain": [
              "95.91908087975311"
            ]
          },
          "metadata": {},
          "execution_count": 209
        }
      ]
    },
    {
      "cell_type": "code",
      "source": [
        "from sklearn.metrics import mean_squared_error\n",
        "\n",
        "mean_squared_error(y_true, y_pred)"
      ],
      "metadata": {
        "colab": {
          "base_uri": "https://localhost:8080/"
        },
        "id": "-tH2LQkfFO1t",
        "outputId": "c04ff1b7-6461-451a-bd89-87dc8aa7af13"
      },
      "execution_count": 210,
      "outputs": [
        {
          "output_type": "execute_result",
          "data": {
            "text/plain": [
              "95.91908087975311"
            ]
          },
          "metadata": {},
          "execution_count": 210
        }
      ]
    },
    {
      "cell_type": "code",
      "source": [
        "def root_mean_squared_error(y_true, y_pred):\n",
        "    return np.sqrt(((y_true - y_pred) ** 2).sum() / len(y_true))\n",
        "\n",
        "root_mean_squared_error(y_true, y_pred)"
      ],
      "metadata": {
        "colab": {
          "base_uri": "https://localhost:8080/"
        },
        "id": "23EqFo5NFRhs",
        "outputId": "0335bd2c-7642-4584-d004-94d48f01f1fc"
      },
      "execution_count": 211,
      "outputs": [
        {
          "output_type": "execute_result",
          "data": {
            "text/plain": [
              "9.793828714029724"
            ]
          },
          "metadata": {},
          "execution_count": 211
        }
      ]
    },
    {
      "cell_type": "code",
      "source": [
        "np.sqrt(mean_squared_error(y_true, y_pred))"
      ],
      "metadata": {
        "colab": {
          "base_uri": "https://localhost:8080/"
        },
        "id": "rc2zfD-oFTRA",
        "outputId": "da239beb-59f0-4358-8ff5-da2bb734992c"
      },
      "execution_count": 212,
      "outputs": [
        {
          "output_type": "execute_result",
          "data": {
            "text/plain": [
              "9.793828714029724"
            ]
          },
          "metadata": {},
          "execution_count": 212
        }
      ]
    },
    {
      "cell_type": "code",
      "source": [
        "def max_error(y_true, y_pred):\n",
        "    return abs(y_true - y_pred).max()\n",
        "\n",
        "max_error(y_true, y_pred)"
      ],
      "metadata": {
        "colab": {
          "base_uri": "https://localhost:8080/"
        },
        "id": "OVHQVKdCGY3z",
        "outputId": "6e13be21-ee7c-4f90-adaa-61200dc9e5da"
      },
      "execution_count": 213,
      "outputs": [
        {
          "output_type": "execute_result",
          "data": {
            "text/plain": [
              "29.671966850203056"
            ]
          },
          "metadata": {},
          "execution_count": 213
        }
      ]
    },
    {
      "cell_type": "code",
      "source": [
        "from sklearn.metrics import max_error\n",
        "\n",
        "max_error(y_true, y_pred)"
      ],
      "metadata": {
        "colab": {
          "base_uri": "https://localhost:8080/"
        },
        "id": "MKkZcyn-GZmS",
        "outputId": "5ab50aba-8803-4a1b-d359-ceebd223b208"
      },
      "execution_count": 214,
      "outputs": [
        {
          "output_type": "execute_result",
          "data": {
            "text/plain": [
              "29.671966850203056"
            ]
          },
          "metadata": {},
          "execution_count": 214
        }
      ]
    },
    {
      "cell_type": "code",
      "source": [
        "def r2_score(y_true, y_pred):\n",
        "    numerator = ((y_true - y_pred) ** 2).sum()\n",
        "    denominator = ((y_true - y_true.mean()) ** 2).sum()\n",
        "    try:\n",
        "        r2 = 1 - numerator / denominator\n",
        "    except ZeroDivisionError:\n",
        "        print('Dzielenie przez zero')\n",
        "    return r2\n",
        "\n",
        "r2_score(y_true, y_pred)"
      ],
      "metadata": {
        "colab": {
          "base_uri": "https://localhost:8080/"
        },
        "id": "ys3HgArMGm2w",
        "outputId": "970e9378-e7f4-42f0-b1ad-bbbd1fc523a8"
      },
      "execution_count": 215,
      "outputs": [
        {
          "output_type": "execute_result",
          "data": {
            "text/plain": [
              "0.7642208988541451"
            ]
          },
          "metadata": {},
          "execution_count": 215
        }
      ]
    },
    {
      "cell_type": "code",
      "source": [
        "from sklearn.metrics import r2_score\n",
        "\n",
        "r2_score(y_true, y_pred)"
      ],
      "metadata": {
        "colab": {
          "base_uri": "https://localhost:8080/"
        },
        "id": "dAN7LoISGirv",
        "outputId": "ed0ece88-0688-4eb4-ae9b-83243601729d"
      },
      "execution_count": 216,
      "outputs": [
        {
          "output_type": "execute_result",
          "data": {
            "text/plain": [
              "0.7642208988541451"
            ]
          },
          "metadata": {},
          "execution_count": 216
        }
      ]
    }
  ]
}