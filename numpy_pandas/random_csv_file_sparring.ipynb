{
  "nbformat": 4,
  "nbformat_minor": 0,
  "metadata": {
    "colab": {
      "provenance": [],
      "name": "random_csv_file_sparring.ipynb",
      "authorship_tag": "ABX9TyNKkbm7yKOHb/YjJADONdP1",
      "include_colab_link": true
    },
    "kernelspec": {
      "name": "python3",
      "display_name": "Python 3"
    },
    "language_info": {
      "name": "python"
    }
  },
  "cells": [
    {
      "cell_type": "markdown",
      "metadata": {
        "id": "view-in-github",
        "colab_type": "text"
      },
      "source": [
        "<a href=\"https://colab.research.google.com/github/JarekMaleszyk/pandas-project-data/blob/main/random_csv_file_sparring.ipynb\" target=\"_parent\"><img src=\"https://colab.research.google.com/assets/colab-badge.svg\" alt=\"Open In Colab\"/></a>"
      ]
    },
    {
      "cell_type": "code",
      "source": [
        "!pip install --upgrade pip\n",
        "# !pip install --upgrade pandas==2.1.4\n",
        "# !pip install --upgrade  numpy<2.0.0,>=1.19.0\n",
        "\n",
        "import pandas as pd\n",
        "import numpy as np\n",
        "print(f'Pandas version: {pd. __version__}')\n",
        "print(f'Numpy version: {np.__version__}')"
      ],
      "metadata": {
        "id": "yPE-1uosA7-q",
        "collapsed": true
      },
      "execution_count": null,
      "outputs": []
    },
    {
      "cell_type": "code",
      "source": [
        "!rm -rf \"/content/international_trade_march\"\n",
        "DIRECTORY='international_trade_march'\n",
        "import os\n",
        "if not os.path.exists(DIRECTORY):\n",
        "    os.makedirs(DIRECTORY)\n",
        "    print(f\"Directory '{DIRECTORY}' created successfully.\")"
      ],
      "metadata": {
        "collapsed": true,
        "id": "4FV34qAozy_9"
      },
      "execution_count": null,
      "outputs": []
    },
    {
      "cell_type": "code",
      "source": [
        "import os\n",
        "ZIP_FILE_NAME = 'international-trade-march-2024-quarter.zip'\n",
        "if os.path.exists(ZIP_FILE_NAME):\n",
        "  os.remove(ZIP_FILE_NAME)\n",
        "else:\n",
        "  print(f\"The file {ZIP_FILE_NAME} does not exist\")\n",
        "\n",
        "!wget -P \"/content/international_trade_march\" \"https://www.stats.govt.nz/assets/Uploads/International-trade/International-trade-March-2024-quarter/Download-data/international-trade-march-2024-quarter.zip\""
      ],
      "metadata": {
        "id": "YDIoaSXUBI75",
        "collapsed": true
      },
      "execution_count": null,
      "outputs": []
    },
    {
      "cell_type": "code",
      "source": [
        "!unzip -o \"/content/international_trade_march/international-trade-march-2024-quarter.zip\" -d \"/content/international_trade_march\""
      ],
      "metadata": {
        "id": "Q2IuIU8_Bw1R"
      },
      "execution_count": null,
      "outputs": []
    },
    {
      "cell_type": "markdown",
      "source": [
        "Read and clean main data from csv:"
      ],
      "metadata": {
        "id": "qq1L5edp5JpV"
      }
    },
    {
      "cell_type": "code",
      "source": [
        "try:\n",
        "  output_csv_full = pd.read_csv('/content/international_trade_march/output_csv_full.csv', header=0)\n",
        "  print('File read successfully')\n",
        "except FileNotFoundError:\n",
        "  print('File not found.')"
      ],
      "metadata": {
        "collapsed": true,
        "id": "JH1BcOeFD3rM"
      },
      "execution_count": null,
      "outputs": []
    },
    {
      "cell_type": "code",
      "source": [
        "output_csv_full.product_type = output_csv_full.product_type.astype('category')\n",
        "# output_csv_full.product_type.cat.categories\n",
        "output_csv_full.country_code = output_csv_full.country_code.astype('category')\n",
        "# output_csv_full.country_code.cat.categories"
      ],
      "metadata": {
        "id": "_UqLWgR-GAZe"
      },
      "execution_count": null,
      "outputs": []
    },
    {
      "cell_type": "code",
      "source": [
        "print(output_csv_full.head())"
      ],
      "metadata": {
        "id": "nbqZ-kjYGDQ9"
      },
      "execution_count": null,
      "outputs": []
    },
    {
      "cell_type": "code",
      "source": [
        "# output_csv_full.loc[202403]\n",
        "# output_csv_full[(output_csv_full['time_ref'] == 202403) & (output_csv_full['product_type'] == 'Goods')][['time_ref', 'country_code', 'value']]\n",
        "duplicate_rows = output_csv_full.duplicated()\n",
        "print(\"Number of duplicate rows:\", duplicate_rows.sum())"
      ],
      "metadata": {
        "id": "ZNizh2rsKVr3"
      },
      "execution_count": null,
      "outputs": []
    },
    {
      "cell_type": "code",
      "source": [
        "# ?str.replace\n",
        "# output_csv_full['value'] = output_csv_full['value'].fillna(0, inplace=True)\n",
        "rows_with_nulls = output_csv_full.isna()\n",
        "print(\"Number of duplicate rows:\", rows_with_nulls.sum())"
      ],
      "metadata": {
        "id": "ackp_wbkK-ZZ"
      },
      "execution_count": null,
      "outputs": []
    },
    {
      "cell_type": "code",
      "source": [
        "# output_csv_full.sort_values(by=['value'], inplace=True, ascending=False)"
      ],
      "metadata": {
        "id": "SGwAYbtSqoBc"
      },
      "execution_count": null,
      "outputs": []
    },
    {
      "cell_type": "code",
      "source": [
        "print(output_csv_full.country_code.isna().value_counts())"
      ],
      "metadata": {
        "id": "Lj_9VJB1qxWu"
      },
      "execution_count": null,
      "outputs": []
    },
    {
      "cell_type": "code",
      "source": [
        "output_csv_full.dropna(subset=['country_code'], inplace=True) #drop wierszy z nullami w kolumnie country_code\n",
        "print(output_csv_full.country_code.isna().value_counts())"
      ],
      "metadata": {
        "id": "Z7jUVhyGrDWe"
      },
      "execution_count": null,
      "outputs": []
    },
    {
      "cell_type": "code",
      "source": [
        "output_csv_full[output_csv_full.value.isna() == True]"
      ],
      "metadata": {
        "id": "MPRQuDI6yf3K"
      },
      "execution_count": null,
      "outputs": []
    },
    {
      "cell_type": "code",
      "source": [
        "output_csv_full.value = output_csv_full.value.fillna(0) #0 zamiast null/nan\n",
        "output_csv_full.value.info()"
      ],
      "metadata": {
        "id": "hO7ooXTm1hpL"
      },
      "execution_count": null,
      "outputs": []
    },
    {
      "cell_type": "code",
      "source": [
        "output_csv_full['year'] = output_csv_full['time_ref'].astype(str).str[:4].astype(int)\n",
        "output_csv_full['month'] = output_csv_full['time_ref'].astype(str).str[4:6].astype(int)"
      ],
      "metadata": {
        "id": "_PvF3n1A1p3z"
      },
      "execution_count": null,
      "outputs": []
    },
    {
      "cell_type": "code",
      "source": [
        "output_csv_full['date'] = pd.to_datetime(output_csv_full[['year', 'month']].assign(day=1))"
      ],
      "metadata": {
        "id": "YFnj3n8h1uJQ"
      },
      "execution_count": null,
      "outputs": []
    },
    {
      "cell_type": "code",
      "source": [
        "try:\n",
        "  output_csv_full = output_csv_full.drop(columns=['time_ref', 'year', 'month'])\n",
        "except:\n",
        "  print('Columns already dropped')"
      ],
      "metadata": {
        "id": "QWlBoeLR31gR"
      },
      "execution_count": null,
      "outputs": []
    },
    {
      "cell_type": "markdown",
      "source": [
        "Read and clean countries dictionary from csv:"
      ],
      "metadata": {
        "id": "0w_c_f7r46I2"
      }
    },
    {
      "cell_type": "code",
      "source": [
        "try:\n",
        "  country_classification = pd.read_csv('/content/international_trade_march/country_classification.csv', header=0)\n",
        "  print('File read successfully')\n",
        "except FileNotFoundError:\n",
        "  print('File not found.')"
      ],
      "metadata": {
        "id": "9cj3HJeF4JnC"
      },
      "execution_count": null,
      "outputs": []
    },
    {
      "cell_type": "code",
      "source": [
        "country_classification.country_code = country_classification.country_code.astype('category')\n",
        "country_classification.info(show_counts=True)"
      ],
      "metadata": {
        "id": "MHM5Sb6r5hfm"
      },
      "execution_count": null,
      "outputs": []
    },
    {
      "cell_type": "markdown",
      "source": [
        "Merge and clean:"
      ],
      "metadata": {
        "id": "EWIlJ-q39H1w"
      }
    },
    {
      "cell_type": "code",
      "source": [
        "merged_data = output_csv_full.merge(country_classification, on='country_code', how='left')"
      ],
      "metadata": {
        "id": "WRhGFoNN6I5a"
      },
      "execution_count": null,
      "outputs": []
    },
    {
      "cell_type": "code",
      "source": [
        "merged_data.drop(merged_data[merged_data.country_label.isna() == True].index, inplace=True) #usunięcie niespasowanych rekordów"
      ],
      "metadata": {
        "id": "z1vdKChR-MaC"
      },
      "execution_count": null,
      "outputs": []
    },
    {
      "cell_type": "code",
      "source": [
        "merged_data = merged_data.reset_index(drop=True)"
      ],
      "metadata": {
        "id": "wgPu98bl-Z7r"
      },
      "execution_count": null,
      "outputs": []
    },
    {
      "cell_type": "markdown",
      "source": [
        "Read and clean goods classification dictionary from csv:"
      ],
      "metadata": {
        "id": "vL8Hv1St_w1g"
      }
    },
    {
      "cell_type": "code",
      "source": [
        "try:\n",
        "  goods_classification = pd.read_csv('/content/international_trade_march/goods_classification.csv', header=0)\n",
        "  print('File read successfully')\n",
        "except FileNotFoundError:\n",
        "  print('File not found.')"
      ],
      "metadata": {
        "id": "BpgxSr0s_nha"
      },
      "execution_count": null,
      "outputs": []
    },
    {
      "cell_type": "markdown",
      "source": [
        "Read and clean services classification dictionary from csv:"
      ],
      "metadata": {
        "id": "VReT6UReAjAj"
      }
    },
    {
      "cell_type": "code",
      "source": [
        "try:\n",
        "  services_classification = pd.read_csv('/content/international_trade_march/services_classification.csv', header=0)\n",
        "  print('File read successfully')\n",
        "except FileNotFoundError:\n",
        "  print('File not found.')"
      ],
      "metadata": {
        "id": "GU_e41V_Aie4"
      },
      "execution_count": null,
      "outputs": []
    },
    {
      "cell_type": "code",
      "source": [
        "services_classification.code = services_classification.code.astype('category')"
      ],
      "metadata": {
        "id": "3PKHUi4nAt5O"
      },
      "execution_count": null,
      "outputs": []
    },
    {
      "cell_type": "markdown",
      "source": [
        "Merge:"
      ],
      "metadata": {
        "id": "UiWzubNeBILJ"
      }
    },
    {
      "cell_type": "code",
      "source": [
        "merged_data = merged_data.merge(services_classification, on='code', how='left')"
      ],
      "metadata": {
        "id": "ZMM79v83BHzG"
      },
      "execution_count": null,
      "outputs": []
    },
    {
      "cell_type": "code",
      "source": [
        "merged_data.loc[merged_data.service_label.isna() == True, 'service_label'] = 'Unknown' #fill nulls with 'Unknown'"
      ],
      "metadata": {
        "id": "m65SLxQUBYjZ"
      },
      "execution_count": null,
      "outputs": []
    },
    {
      "cell_type": "code",
      "source": [
        "merged_data.info(show_counts=True)"
      ],
      "metadata": {
        "id": "ffQWG_TODA7Q"
      },
      "execution_count": null,
      "outputs": []
    },
    {
      "cell_type": "code",
      "source": [
        "merged_data_exports = merged_data[merged_data['account'] == 'Exports']"
      ],
      "metadata": {
        "id": "BynK9aA-Opc4"
      },
      "execution_count": null,
      "outputs": []
    },
    {
      "cell_type": "code",
      "source": [
        "merged_data_imports = merged_data[merged_data['account'] == 'Imports']"
      ],
      "metadata": {
        "id": "robRZyK7O88U"
      },
      "execution_count": null,
      "outputs": []
    },
    {
      "cell_type": "markdown",
      "source": [
        "Create export/import analysis per every month"
      ],
      "metadata": {
        "id": "zx3j4YbyQgPE"
      }
    },
    {
      "cell_type": "code",
      "source": [
        "# merged_data.date.min() #Timestamp('2014-06-01 00:00:00')\n",
        "# merged_data.date.max() #Timestamp('2024-03-01 00:00:00')\n",
        "merged_data_exports_sum = merged_data_exports.groupby(['country_code','date'])['value'].sum().reset_index()\n",
        "merged_data_exports_sum = merged_data_exports_sum.rename(columns={'value': 'export_value'})\n",
        "merged_data_imports_sum = merged_data_imports.groupby(['country_code','date'])['value'].sum().reset_index()\n",
        "merged_data_imports_sum = merged_data_imports_sum.rename(columns={'value': 'import_value'})"
      ],
      "metadata": {
        "id": "px8AXhq1PHgm"
      },
      "execution_count": null,
      "outputs": []
    },
    {
      "cell_type": "code",
      "source": [
        "start, stop = merged_data.date.min(), merged_data.date.max()\n",
        "canvas: pd.DataFrame =  pd.date_range(start, stop, freq=\"MS\") #tworzy kalendarz\n",
        "canvas = pd.DataFrame(canvas, columns=['date'])"
      ],
      "metadata": {
        "id": "LdaTPShVSaRG"
      },
      "execution_count": null,
      "outputs": []
    },
    {
      "cell_type": "code",
      "source": [
        "data_with_export_sum = canvas.merge(merged_data_exports_sum, on=['date'], how='left')\n",
        "data_with_export_sum.export_value = data_with_export_sum.export_value.fillna(0)\n",
        "data_with_export_import_sum = data_with_export_sum.merge(merged_data_imports_sum, on=['country_code', 'date'], how='left')\n",
        "data_with_export_import_sum.import_value = data_with_export_import_sum.import_value.fillna(0)"
      ],
      "metadata": {
        "id": "SVI8TSoUTOxu"
      },
      "execution_count": null,
      "outputs": []
    },
    {
      "cell_type": "code",
      "source": [
        "data_with_export_import_sum['income'] = data_with_export_import_sum.export_value - data_with_export_import_sum.import_value"
      ],
      "metadata": {
        "id": "FmnEU0g2U91G"
      },
      "execution_count": null,
      "outputs": []
    },
    {
      "cell_type": "code",
      "source": [
        "data_with_export_import_sum[data_with_export_import_sum['country_code'] == 'AD']"
      ],
      "metadata": {
        "collapsed": true,
        "id": "yvNbVFI6VxM2"
      },
      "execution_count": null,
      "outputs": []
    },
    {
      "source": [
        "from matplotlib import pyplot as plt\n",
        "data_with_export_import_sum[data_with_export_import_sum['country_code'] == 'AD'].plot(kind='line',\n",
        "                                                                                      x='date',\n",
        "                                                                                      y='income',\n",
        "                                                                                      figsize=(10, 6),\n",
        "                                                                                      title='income',\n",
        "                                                                                      linestyle='dashdot')\n",
        "plt.gca().spines[['top', 'right']].set_visible(False)"
      ],
      "cell_type": "code",
      "metadata": {
        "id": "F77LFTIIWFIV"
      },
      "execution_count": null,
      "outputs": []
    },
    {
      "cell_type": "code",
      "source": [
        "case_test_dataframe = data_with_export_import_sum.copy()"
      ],
      "metadata": {
        "id": "XXsZv6_UW4pK"
      },
      "execution_count": null,
      "outputs": []
    },
    {
      "cell_type": "code",
      "source": [
        "case_test_dataframe['summary_income'] = np.where(case_test_dataframe['income'] >= 80000, 'Very good.',\n",
        "                                        np.where((case_test_dataframe['income'] < 80000) & (case_test_dataframe['income'] > 50000), 'Good.',\n",
        "                                        np.where((case_test_dataframe['income'] <= 50000) & (case_test_dataframe['income'] > 20000), 'Medium.',\n",
        "                                        np.where(case_test_dataframe['income'] <=  20000, 'Low', 'None'))))\n",
        "\n",
        "case_test_dataframe"
      ],
      "metadata": {
        "collapsed": true,
        "id": "ld-yU7qt2347"
      },
      "execution_count": null,
      "outputs": []
    }
  ]
}