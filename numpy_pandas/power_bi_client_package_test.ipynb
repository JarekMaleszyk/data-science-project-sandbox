{
  "nbformat": 4,
  "nbformat_minor": 0,
  "metadata": {
    "colab": {
      "provenance": [],
      "authorship_tag": "ABX9TyNvkNcgbTUp+Ju6jB3YStNc",
      "include_colab_link": true
    },
    "kernelspec": {
      "name": "python3",
      "display_name": "Python 3"
    },
    "language_info": {
      "name": "python"
    }
  },
  "cells": [
    {
      "cell_type": "markdown",
      "metadata": {
        "id": "view-in-github",
        "colab_type": "text"
      },
      "source": [
        "<a href=\"https://colab.research.google.com/github/JarekMaleszyk/data-science-project-sandbox/blob/main/power_bi_client_package_test.ipynb\" target=\"_parent\"><img src=\"https://colab.research.google.com/assets/colab-badge.svg\" alt=\"Open In Colab\"/></a>"
      ]
    },
    {
      "cell_type": "code",
      "source": [
        "try:\n",
        "  from powerbiclient import Report, models\n",
        "except ImportError:\n",
        "  !pip install powerbiclient -q\n",
        "  from powerbiclient import Report, models\n",
        "finally:\n",
        "  from powerbiclient.authentication import DeviceCodeLoginAuthentication\n",
        "  from io import StringIO\n",
        "  from ipywidgets import interact\n",
        "  import requests\n",
        "  import pandas as pd\n",
        "  import matplotlib"
      ],
      "metadata": {
        "id": "yMvkVGr6xK2g"
      },
      "execution_count": 11,
      "outputs": []
    },
    {
      "cell_type": "code",
      "source": [
        "auth = DeviceCodeLoginAuthentication()"
      ],
      "metadata": {
        "colab": {
          "base_uri": "https://localhost:8080/",
          "height": 338
        },
        "id": "H61Wks2Zx1xy",
        "outputId": "45d9770e-caf3-4c5a-d10a-b771dfa38c4e"
      },
      "execution_count": 12,
      "outputs": [
        {
          "output_type": "stream",
          "name": "stdout",
          "text": [
            "Performing device flow authentication. Please follow the instructions below.\n",
            "To sign in, use a web browser to open the page https://microsoft.com/devicelogin and enter the code BMVREAG36 to authenticate.\n"
          ]
        },
        {
          "output_type": "error",
          "ename": "KeyboardInterrupt",
          "evalue": "",
          "traceback": [
            "\u001b[0;31m---------------------------------------------------------------------------\u001b[0m",
            "\u001b[0;31mKeyboardInterrupt\u001b[0m                         Traceback (most recent call last)",
            "\u001b[0;32m<ipython-input-12-c0df0ea371ee>\u001b[0m in \u001b[0;36m<cell line: 1>\u001b[0;34m()\u001b[0m\n\u001b[0;32m----> 1\u001b[0;31m \u001b[0mauth\u001b[0m \u001b[0;34m=\u001b[0m \u001b[0mDeviceCodeLoginAuthentication\u001b[0m\u001b[0;34m(\u001b[0m\u001b[0;34m)\u001b[0m\u001b[0;34m\u001b[0m\u001b[0;34m\u001b[0m\u001b[0m\n\u001b[0m",
            "\u001b[0;32m/usr/local/lib/python3.10/dist-packages/powerbiclient/authentication.py\u001b[0m in \u001b[0;36m__init__\u001b[0;34m(self, tenant_id)\u001b[0m\n\u001b[1;32m     76\u001b[0m         \u001b[0msuper\u001b[0m\u001b[0;34m(\u001b[0m\u001b[0;34m)\u001b[0m\u001b[0;34m.\u001b[0m\u001b[0m__init__\u001b[0m\u001b[0;34m(\u001b[0m\u001b[0;34m)\u001b[0m\u001b[0;34m\u001b[0m\u001b[0;34m\u001b[0m\u001b[0m\n\u001b[1;32m     77\u001b[0m         \u001b[0mCheckGlobalAuth\u001b[0m\u001b[0;34m(\u001b[0m\u001b[0;34m)\u001b[0m\u001b[0;34m\u001b[0m\u001b[0;34m\u001b[0m\u001b[0m\n\u001b[0;32m---> 78\u001b[0;31m         \u001b[0mself\u001b[0m\u001b[0;34m.\u001b[0m\u001b[0m_acquire_token_device_code\u001b[0m\u001b[0;34m(\u001b[0m\u001b[0mtenant_id\u001b[0m\u001b[0;34m)\u001b[0m\u001b[0;34m\u001b[0m\u001b[0;34m\u001b[0m\u001b[0m\n\u001b[0m\u001b[1;32m     79\u001b[0m \u001b[0;34m\u001b[0m\u001b[0m\n\u001b[1;32m     80\u001b[0m     \u001b[0;32mdef\u001b[0m \u001b[0m_acquire_token_device_code\u001b[0m\u001b[0;34m(\u001b[0m\u001b[0mself\u001b[0m\u001b[0;34m,\u001b[0m \u001b[0mtenant_id\u001b[0m\u001b[0;34m=\u001b[0m\u001b[0;32mNone\u001b[0m\u001b[0;34m)\u001b[0m\u001b[0;34m:\u001b[0m\u001b[0;34m\u001b[0m\u001b[0;34m\u001b[0m\u001b[0m\n",
            "\u001b[0;32m/usr/local/lib/python3.10/dist-packages/powerbiclient/authentication.py\u001b[0m in \u001b[0;36m_acquire_token_device_code\u001b[0;34m(self, tenant_id)\u001b[0m\n\u001b[1;32m     96\u001b[0m \u001b[0;34m\u001b[0m\u001b[0m\n\u001b[1;32m     97\u001b[0m         \u001b[0;31m# Ideally you should wait here, in order to save some unnecessary polling\u001b[0m\u001b[0;34m\u001b[0m\u001b[0;34m\u001b[0m\u001b[0m\n\u001b[0;32m---> 98\u001b[0;31m         \u001b[0mresult\u001b[0m \u001b[0;34m=\u001b[0m \u001b[0mapp\u001b[0m\u001b[0;34m.\u001b[0m\u001b[0macquire_token_by_device_flow\u001b[0m\u001b[0;34m(\u001b[0m\u001b[0mflow\u001b[0m\u001b[0;34m)\u001b[0m\u001b[0;34m\u001b[0m\u001b[0;34m\u001b[0m\u001b[0m\n\u001b[0m\u001b[1;32m     99\u001b[0m         \u001b[0;31m# By default it will block\u001b[0m\u001b[0;34m\u001b[0m\u001b[0;34m\u001b[0m\u001b[0m\n\u001b[1;32m    100\u001b[0m         \u001b[0;31m# You can follow this instruction to shorten the block time\u001b[0m\u001b[0;34m\u001b[0m\u001b[0;34m\u001b[0m\u001b[0m\n",
            "\u001b[0;32m/usr/local/lib/python3.10/dist-packages/msal/application.py\u001b[0m in \u001b[0;36macquire_token_by_device_flow\u001b[0;34m(self, flow, claims_challenge, **kwargs)\u001b[0m\n\u001b[1;32m   2291\u001b[0m             \u001b[0mself\u001b[0m\u001b[0;34m.\u001b[0m\u001b[0mACQUIRE_TOKEN_BY_DEVICE_FLOW_ID\u001b[0m\u001b[0;34m,\u001b[0m\u001b[0;34m\u001b[0m\u001b[0;34m\u001b[0m\u001b[0m\n\u001b[1;32m   2292\u001b[0m             correlation_id=flow.get(self.DEVICE_FLOW_CORRELATION_ID))\n\u001b[0;32m-> 2293\u001b[0;31m         response = _clean_up(self.client.obtain_token_by_device_flow(\n\u001b[0m\u001b[1;32m   2294\u001b[0m             \u001b[0mflow\u001b[0m\u001b[0;34m,\u001b[0m\u001b[0;34m\u001b[0m\u001b[0;34m\u001b[0m\u001b[0m\n\u001b[1;32m   2295\u001b[0m             data=dict(\n",
            "\u001b[0;32m/usr/local/lib/python3.10/dist-packages/msal/oauth2cli/oauth2.py\u001b[0m in \u001b[0;36mobtain_token_by_device_flow\u001b[0;34m(self, flow, exit_condition, **kwargs)\u001b[0m\n\u001b[1;32m    390\u001b[0m                 \u001b[0;32mif\u001b[0m \u001b[0mexit_condition\u001b[0m\u001b[0;34m(\u001b[0m\u001b[0mflow\u001b[0m\u001b[0;34m)\u001b[0m\u001b[0;34m:\u001b[0m\u001b[0;34m\u001b[0m\u001b[0;34m\u001b[0m\u001b[0m\n\u001b[1;32m    391\u001b[0m                     \u001b[0;32mreturn\u001b[0m \u001b[0mresult\u001b[0m\u001b[0;34m\u001b[0m\u001b[0;34m\u001b[0m\u001b[0m\n\u001b[0;32m--> 392\u001b[0;31m                 \u001b[0mtime\u001b[0m\u001b[0;34m.\u001b[0m\u001b[0msleep\u001b[0m\u001b[0;34m(\u001b[0m\u001b[0;36m1\u001b[0m\u001b[0;34m)\u001b[0m  \u001b[0;31m# Shorten each round, to make exit more responsive\u001b[0m\u001b[0;34m\u001b[0m\u001b[0;34m\u001b[0m\u001b[0m\n\u001b[0m\u001b[1;32m    393\u001b[0m \u001b[0;34m\u001b[0m\u001b[0m\n\u001b[1;32m    394\u001b[0m     def _build_auth_request_uri(\n",
            "\u001b[0;31mKeyboardInterrupt\u001b[0m: "
          ]
        }
      ]
    },
    {
      "cell_type": "code",
      "source": [
        "group_id = \"bafb44a9-9fe9-4b67-9b01-23ee2ea116b7\"\n",
        "report_id = \"d7bb690b-2e94-47cd-82e0-ba4d7c04f0c7\"\n",
        "report = Report(group_id=group_id, report_id=report_id, auth=auth)"
      ],
      "metadata": {
        "id": "rwc8oJ20xP2f"
      },
      "execution_count": null,
      "outputs": []
    },
    {
      "cell_type": "code",
      "source": [
        "def loaded_callback(event_details):\n",
        "    print('Report is loaded')\n",
        "\n",
        "report.on('loaded', loaded_callback)"
      ],
      "metadata": {
        "id": "85fgBswpyDjT"
      },
      "execution_count": null,
      "outputs": []
    },
    {
      "cell_type": "code",
      "source": [
        "def rendered_callback(event_details):\n",
        "    print('Report is rendered')\n",
        "\n",
        "report.on('rendered', rendered_callback)"
      ],
      "metadata": {
        "id": "wPGP0gEnyDmB"
      },
      "execution_count": null,
      "outputs": []
    },
    {
      "cell_type": "code",
      "source": [
        "# Render report\n",
        "report"
      ],
      "metadata": {
        "id": "UaIvv6R3yDoF"
      },
      "execution_count": null,
      "outputs": []
    },
    {
      "cell_type": "code",
      "source": [
        "def get_active_page(self):\n",
        "\n",
        "    # Get list of pages\n",
        "    pages = self.get_pages()\n",
        "    active_page = {}\n",
        "    for page in pages:\n",
        "\n",
        "        # Get active page\n",
        "        if page['isActive'] == True:\n",
        "            active_page = page\n",
        "            break\n",
        "    return active_page"
      ],
      "metadata": {
        "id": "nP6gKhvYyDqk"
      },
      "execution_count": null,
      "outputs": []
    },
    {
      "cell_type": "code",
      "source": [
        "active_page = get_active_page(report)\n",
        "active_page_name = active_page['name']\n",
        "\n",
        "# Get list of visuals on active page\n",
        "visuals = report.visuals_on_page(active_page_name)\n",
        "\n",
        "# Get visual whose type is 'clusteredColumnChart'\n",
        "visual = next(filter(lambda visual: visual['type'] == 'clusteredColumnChart', visuals))\n",
        "visual_name = visual['name']"
      ],
      "metadata": {
        "id": "EidBtGVryDtB"
      },
      "execution_count": null,
      "outputs": []
    },
    {
      "cell_type": "code",
      "source": [
        "\n",
        "summarized_exported_data = report.export_visual_data(active_page_name, visual_name, rows = 20)\n",
        "\n",
        "print(summarized_exported_data)"
      ],
      "metadata": {
        "id": "AvVQr71gyDve"
      },
      "execution_count": null,
      "outputs": []
    },
    {
      "cell_type": "code",
      "source": [
        "underlying_exported_data = report.export_visual_data(active_page_name, visual_name, rows = 5, export_data_type = models.ExportDataType.UNDERLYING.value)\n",
        "\n",
        "print(underlying_exported_data)"
      ],
      "metadata": {
        "id": "zmemtcwcyJqL"
      },
      "execution_count": null,
      "outputs": []
    },
    {
      "cell_type": "code",
      "source": [
        "data = StringIO(summarized_exported_data)\n",
        "\n",
        "df = pd.read_csv(data, sep=\",\")\n",
        "df.head()"
      ],
      "metadata": {
        "id": "zQW8_dADyJsm"
      },
      "execution_count": null,
      "outputs": []
    },
    {
      "cell_type": "code",
      "source": [
        "df.plot.pie(y=\"Total Units\", labels=df.loc[:,'isVanArsdel'].values.tolist(), figsize=(10,15))"
      ],
      "metadata": {
        "id": "9Q-QtXJlyJvC"
      },
      "execution_count": null,
      "outputs": []
    },
    {
      "cell_type": "code",
      "source": [
        "def filter_report(Region):\n",
        "    region_filter = {\n",
        "        '$schema': \"http://powerbi.com/product/schema#basic\",\n",
        "        'target': {\n",
        "            'table': \"Geo\",\n",
        "            'column': \"Region\"\n",
        "        },\n",
        "        'operator': \"In\",\n",
        "        'values': [Region]\n",
        "    }\n",
        "    report.remove_filters()\n",
        "    report.update_filters([region_filter])"
      ],
      "metadata": {
        "id": "eUq7CTulyJw2"
      },
      "execution_count": null,
      "outputs": []
    },
    {
      "cell_type": "code",
      "source": [
        "report"
      ],
      "metadata": {
        "id": "Z4JKO90xyJzP"
      },
      "execution_count": null,
      "outputs": []
    },
    {
      "cell_type": "code",
      "source": [
        "interact(filter_report, Region=['Central','East', 'West']);"
      ],
      "metadata": {
        "id": "T3L7LNzQyDyA"
      },
      "execution_count": null,
      "outputs": []
    },
    {
      "cell_type": "code",
      "source": [
        "report.get_filters()"
      ],
      "metadata": {
        "id": "4nG-WS3DyD0G"
      },
      "execution_count": null,
      "outputs": []
    },
    {
      "cell_type": "code",
      "source": [
        "# Get list of bookmarks\n",
        "bookmarks_list = report.get_bookmarks()\n",
        "\n",
        "# Convert the list into a dataframe\n",
        "bookmarks_dataframe = pd.DataFrame(bookmarks_list)\n",
        "\n",
        "# Rename columns\n",
        "bookmarks_dataframe.rename(columns={'name':'Name', 'displayName':'Display Name', 'state':'State'}, inplace=True)\n",
        "bookmarks_dataframe"
      ],
      "metadata": {
        "id": "nhSewrcwyRl3"
      },
      "execution_count": null,
      "outputs": []
    },
    {
      "cell_type": "code",
      "source": [
        "def apply_bookmark(BookmarkDisplayName):\n",
        "\n",
        "    # Get bookmark name corresponding to the display name provided by the user\n",
        "    bookmark_name = bookmarks_dataframe[bookmarks_dataframe['Display Name'] == BookmarkDisplayName].Name.values[0]\n",
        "    report.set_bookmark(bookmark_name)"
      ],
      "metadata": {
        "id": "R0NYDW_QyRoT"
      },
      "execution_count": null,
      "outputs": []
    },
    {
      "cell_type": "code",
      "source": [
        "report"
      ],
      "metadata": {
        "id": "TllMsWf0yRq1"
      },
      "execution_count": null,
      "outputs": []
    },
    {
      "cell_type": "code",
      "source": [
        "interact(apply_bookmark, BookmarkDisplayName=bookmarks_dataframe['Display Name'])"
      ],
      "metadata": {
        "id": "N5GVSYrsyRs3"
      },
      "execution_count": null,
      "outputs": []
    },
    {
      "cell_type": "code",
      "source": [],
      "metadata": {
        "id": "MM-UsITfyRvV"
      },
      "execution_count": null,
      "outputs": []
    },
    {
      "cell_type": "code",
      "source": [],
      "metadata": {
        "id": "Ilni20ZcyRxe"
      },
      "execution_count": null,
      "outputs": []
    },
    {
      "cell_type": "code",
      "source": [],
      "metadata": {
        "id": "kgRF6s9RyD2J"
      },
      "execution_count": null,
      "outputs": []
    }
  ]
}