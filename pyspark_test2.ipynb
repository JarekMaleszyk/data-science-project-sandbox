{
  "nbformat": 4,
  "nbformat_minor": 0,
  "metadata": {
    "colab": {
      "provenance": [],
      "authorship_tag": "ABX9TyOJ211IxX7Ax17wyiwm9S49",
      "include_colab_link": true
    },
    "kernelspec": {
      "name": "python3",
      "display_name": "Python 3"
    },
    "language_info": {
      "name": "python"
    }
  },
  "cells": [
    {
      "cell_type": "markdown",
      "metadata": {
        "id": "view-in-github",
        "colab_type": "text"
      },
      "source": [
        "<a href=\"https://colab.research.google.com/github/JarekMaleszyk/data-science-project-sandbox/blob/main/pyspark_test2.ipynb\" target=\"_parent\"><img src=\"https://colab.research.google.com/assets/colab-badge.svg\" alt=\"Open In Colab\"/></a>"
      ]
    },
    {
      "cell_type": "code",
      "execution_count": 44,
      "metadata": {
        "id": "dQ2x7nanKXNZ"
      },
      "outputs": [],
      "source": [
        "try:\n",
        "  import pyspark\n",
        "except:\n",
        "  !pip install pyspark"
      ]
    },
    {
      "cell_type": "code",
      "source": [
        "from pyspark.sql import SparkSession"
      ],
      "metadata": {
        "id": "_R5o3o88KZ1S"
      },
      "execution_count": 45,
      "outputs": []
    },
    {
      "cell_type": "code",
      "source": [
        "spark = SparkSession.builder.appName('Pratice').getOrCreate()"
      ],
      "metadata": {
        "id": "6pi_aNveKwDD"
      },
      "execution_count": 46,
      "outputs": []
    },
    {
      "cell_type": "code",
      "source": [
        "spark"
      ],
      "metadata": {
        "colab": {
          "base_uri": "https://localhost:8080/",
          "height": 222
        },
        "id": "u6nO3Jj8i2CI",
        "outputId": "d96568e9-d857-4006-9f03-81327512ca5d"
      },
      "execution_count": 47,
      "outputs": [
        {
          "output_type": "execute_result",
          "data": {
            "text/plain": [
              "<pyspark.sql.session.SparkSession at 0x7a8a74648070>"
            ],
            "text/html": [
              "\n",
              "            <div>\n",
              "                <p><b>SparkSession - in-memory</b></p>\n",
              "                \n",
              "        <div>\n",
              "            <p><b>SparkContext</b></p>\n",
              "\n",
              "            <p><a href=\"http://8d6e15bc459c:4040\">Spark UI</a></p>\n",
              "\n",
              "            <dl>\n",
              "              <dt>Version</dt>\n",
              "                <dd><code>v3.5.3</code></dd>\n",
              "              <dt>Master</dt>\n",
              "                <dd><code>local[*]</code></dd>\n",
              "              <dt>AppName</dt>\n",
              "                <dd><code>Pratice</code></dd>\n",
              "            </dl>\n",
              "        </div>\n",
              "        \n",
              "            </div>\n",
              "        "
            ]
          },
          "metadata": {},
          "execution_count": 47
        }
      ]
    },
    {
      "cell_type": "code",
      "source": [
        "## read\n",
        "df_pyspark = spark.read.option('header','true').csv('/content/my_data/simple_data.csv', sep=\";\", inferSchema=True)"
      ],
      "metadata": {
        "id": "VstFLu8Ai2E3"
      },
      "execution_count": 48,
      "outputs": []
    },
    {
      "cell_type": "code",
      "source": [
        "df_pyspark.printSchema()"
      ],
      "metadata": {
        "colab": {
          "base_uri": "https://localhost:8080/"
        },
        "id": "lSyN6ljCi2IC",
        "outputId": "8bf68988-9874-438a-eb2d-9853052d445d"
      },
      "execution_count": 49,
      "outputs": [
        {
          "output_type": "stream",
          "name": "stdout",
          "text": [
            "root\n",
            " |-- name: string (nullable = true)\n",
            " |-- age: integer (nullable = true)\n",
            " |-- experience: integer (nullable = true)\n",
            "\n"
          ]
        }
      ]
    },
    {
      "cell_type": "code",
      "source": [
        "df_pyspark.columns"
      ],
      "metadata": {
        "colab": {
          "base_uri": "https://localhost:8080/"
        },
        "id": "yowgHAmNi2Ke",
        "outputId": "63e0930c-0596-4096-8543-4143ea24d771"
      },
      "execution_count": 50,
      "outputs": [
        {
          "output_type": "execute_result",
          "data": {
            "text/plain": [
              "['name', 'age', 'experience']"
            ]
          },
          "metadata": {},
          "execution_count": 50
        }
      ]
    },
    {
      "cell_type": "code",
      "source": [
        "print(type(d := df_pyspark.select(['name', 'experience'])))\n",
        "d.show()"
      ],
      "metadata": {
        "colab": {
          "base_uri": "https://localhost:8080/"
        },
        "id": "Hfw0AmyDi2NY",
        "outputId": "caaec467-93dc-48d6-e3a3-0547642cb960"
      },
      "execution_count": 51,
      "outputs": [
        {
          "output_type": "stream",
          "name": "stdout",
          "text": [
            "<class 'pyspark.sql.dataframe.DataFrame'>\n",
            "+-----+----------+\n",
            "| name|experience|\n",
            "+-----+----------+\n",
            "| Kris|         6|\n",
            "| Adam|         5|\n",
            "|Sunny|        14|\n",
            "+-----+----------+\n",
            "\n"
          ]
        }
      ]
    },
    {
      "cell_type": "code",
      "source": [
        "df_pyspark['name'] #only Column\n",
        "df_pyspark.dtypes"
      ],
      "metadata": {
        "colab": {
          "base_uri": "https://localhost:8080/"
        },
        "id": "L1KbeJPqk0FY",
        "outputId": "544e0d5c-e7e5-4bc9-95e4-1fa868ebe969"
      },
      "execution_count": 52,
      "outputs": [
        {
          "output_type": "execute_result",
          "data": {
            "text/plain": [
              "[('name', 'string'), ('age', 'int'), ('experience', 'int')]"
            ]
          },
          "metadata": {},
          "execution_count": 52
        }
      ]
    },
    {
      "cell_type": "code",
      "source": [
        "df_pyspark.describe().show()"
      ],
      "metadata": {
        "colab": {
          "base_uri": "https://localhost:8080/"
        },
        "id": "q1NifrmAlj3i",
        "outputId": "2074652e-a9cb-4a8e-e845-5a48c7fc1a5f"
      },
      "execution_count": 53,
      "outputs": [
        {
          "output_type": "stream",
          "name": "stdout",
          "text": [
            "+-------+-----+------------------+-----------------+\n",
            "|summary| name|               age|       experience|\n",
            "+-------+-----+------------------+-----------------+\n",
            "|  count|    3|                 3|                3|\n",
            "|   mean| NULL|33.333333333333336|8.333333333333334|\n",
            "| stddev| NULL| 4.932882862316247|4.932882862316247|\n",
            "|    min| Adam|                30|                5|\n",
            "|    max|Sunny|                39|               14|\n",
            "+-------+-----+------------------+-----------------+\n",
            "\n"
          ]
        }
      ]
    },
    {
      "cell_type": "code",
      "source": [
        "#add column\n",
        "df_pyspark = df_pyspark.withColumn('monthly_experience', df_pyspark['experience']*12) # Use withColumn instead of WithColumn\n",
        "df_pyspark.show()"
      ],
      "metadata": {
        "colab": {
          "base_uri": "https://localhost:8080/"
        },
        "id": "vyvGHDXhnqYt",
        "outputId": "5c2633c2-d5a0-453b-a97a-831996673f5e"
      },
      "execution_count": 54,
      "outputs": [
        {
          "output_type": "stream",
          "name": "stdout",
          "text": [
            "+-----+---+----------+------------------+\n",
            "| name|age|experience|monthly_experience|\n",
            "+-----+---+----------+------------------+\n",
            "| Kris| 31|         6|                72|\n",
            "| Adam| 30|         5|                60|\n",
            "|Sunny| 39|        14|               168|\n",
            "+-----+---+----------+------------------+\n",
            "\n"
          ]
        }
      ]
    },
    {
      "cell_type": "code",
      "source": [
        "#drop column\n",
        "df_pyspark = df_pyspark.drop('monthly_experience')\n",
        "df_pyspark.show()"
      ],
      "metadata": {
        "colab": {
          "base_uri": "https://localhost:8080/"
        },
        "id": "ZTepE2DcoDxt",
        "outputId": "df021c32-1228-405c-88f4-4108678feb12"
      },
      "execution_count": 55,
      "outputs": [
        {
          "output_type": "stream",
          "name": "stdout",
          "text": [
            "+-----+---+----------+\n",
            "| name|age|experience|\n",
            "+-----+---+----------+\n",
            "| Kris| 31|         6|\n",
            "| Adam| 30|         5|\n",
            "|Sunny| 39|        14|\n",
            "+-----+---+----------+\n",
            "\n"
          ]
        }
      ]
    },
    {
      "cell_type": "code",
      "source": [
        "#rename column\n",
        "df_pyspark = df_pyspark.withColumnRenamed('name', 'first_name')\n",
        "df_pyspark.show()"
      ],
      "metadata": {
        "colab": {
          "base_uri": "https://localhost:8080/"
        },
        "id": "LJmLOhCjo-Gn",
        "outputId": "d50f0575-af8d-413a-92c2-52457e2a2b6c"
      },
      "execution_count": 56,
      "outputs": [
        {
          "output_type": "stream",
          "name": "stdout",
          "text": [
            "+----------+---+----------+\n",
            "|first_name|age|experience|\n",
            "+----------+---+----------+\n",
            "|      Kris| 31|         6|\n",
            "|      Adam| 30|         5|\n",
            "|     Sunny| 39|        14|\n",
            "+----------+---+----------+\n",
            "\n"
          ]
        }
      ]
    },
    {
      "cell_type": "code",
      "source": [],
      "metadata": {
        "id": "p5dVbRsLpdex"
      },
      "execution_count": 56,
      "outputs": []
    },
    {
      "cell_type": "code",
      "source": [],
      "metadata": {
        "id": "aTEGbhvQprqI"
      },
      "execution_count": 56,
      "outputs": []
    },
    {
      "cell_type": "code",
      "source": [],
      "metadata": {
        "id": "htIGeXv_prtT"
      },
      "execution_count": 56,
      "outputs": []
    },
    {
      "cell_type": "code",
      "source": [],
      "metadata": {
        "id": "RlRP7mf_prwI"
      },
      "execution_count": 56,
      "outputs": []
    },
    {
      "cell_type": "code",
      "source": [],
      "metadata": {
        "id": "GHLskrNppry9"
      },
      "execution_count": 56,
      "outputs": []
    },
    {
      "cell_type": "code",
      "source": [],
      "metadata": {
        "id": "QTCAICfDpr1h"
      },
      "execution_count": 56,
      "outputs": []
    },
    {
      "cell_type": "code",
      "source": [],
      "metadata": {
        "id": "l-T_WZ4Jpr4M"
      },
      "execution_count": 56,
      "outputs": []
    },
    {
      "cell_type": "code",
      "source": [],
      "metadata": {
        "id": "u4Ag64kWpr6r"
      },
      "execution_count": null,
      "outputs": []
    }
  ]
}