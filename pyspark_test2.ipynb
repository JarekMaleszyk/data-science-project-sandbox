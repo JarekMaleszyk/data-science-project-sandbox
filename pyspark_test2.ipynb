{
  "nbformat": 4,
  "nbformat_minor": 0,
  "metadata": {
    "colab": {
      "provenance": [],
      "authorship_tag": "ABX9TyMrFZagkHQGCeTvmXrjaG6k",
      "include_colab_link": true
    },
    "kernelspec": {
      "name": "python3",
      "display_name": "Python 3"
    },
    "language_info": {
      "name": "python"
    }
  },
  "cells": [
    {
      "cell_type": "markdown",
      "metadata": {
        "id": "view-in-github",
        "colab_type": "text"
      },
      "source": [
        "<a href=\"https://colab.research.google.com/github/JarekMaleszyk/data-science-project-sandbox/blob/main/pyspark_test2.ipynb\" target=\"_parent\"><img src=\"https://colab.research.google.com/assets/colab-badge.svg\" alt=\"Open In Colab\"/></a>"
      ]
    },
    {
      "cell_type": "code",
      "execution_count": 70,
      "metadata": {
        "id": "dQ2x7nanKXNZ"
      },
      "outputs": [],
      "source": [
        "try:\n",
        "  import pyspark\n",
        "except:\n",
        "  !pip install pyspark"
      ]
    },
    {
      "cell_type": "code",
      "source": [
        "from pyspark.sql import SparkSession"
      ],
      "metadata": {
        "id": "_R5o3o88KZ1S"
      },
      "execution_count": 71,
      "outputs": []
    },
    {
      "cell_type": "code",
      "source": [
        "spark = SparkSession.builder.appName('Pratice').getOrCreate()"
      ],
      "metadata": {
        "id": "6pi_aNveKwDD"
      },
      "execution_count": 72,
      "outputs": []
    },
    {
      "cell_type": "code",
      "source": [
        "spark"
      ],
      "metadata": {
        "colab": {
          "base_uri": "https://localhost:8080/",
          "height": 222
        },
        "id": "u6nO3Jj8i2CI",
        "outputId": "d7d0b68b-dc4d-4e63-8d73-d64477c31763"
      },
      "execution_count": 73,
      "outputs": [
        {
          "output_type": "execute_result",
          "data": {
            "text/plain": [
              "<pyspark.sql.session.SparkSession at 0x7a8a74648070>"
            ],
            "text/html": [
              "\n",
              "            <div>\n",
              "                <p><b>SparkSession - in-memory</b></p>\n",
              "                \n",
              "        <div>\n",
              "            <p><b>SparkContext</b></p>\n",
              "\n",
              "            <p><a href=\"http://8d6e15bc459c:4040\">Spark UI</a></p>\n",
              "\n",
              "            <dl>\n",
              "              <dt>Version</dt>\n",
              "                <dd><code>v3.5.3</code></dd>\n",
              "              <dt>Master</dt>\n",
              "                <dd><code>local[*]</code></dd>\n",
              "              <dt>AppName</dt>\n",
              "                <dd><code>Pratice</code></dd>\n",
              "            </dl>\n",
              "        </div>\n",
              "        \n",
              "            </div>\n",
              "        "
            ]
          },
          "metadata": {},
          "execution_count": 73
        }
      ]
    },
    {
      "cell_type": "code",
      "source": [
        "## read\n",
        "df_pyspark = spark.read.option('header','true').csv('/content/my_data/simple_data.csv', sep=\";\", inferSchema=True)"
      ],
      "metadata": {
        "id": "VstFLu8Ai2E3"
      },
      "execution_count": 74,
      "outputs": []
    },
    {
      "cell_type": "code",
      "source": [
        "df_pyspark.printSchema()"
      ],
      "metadata": {
        "colab": {
          "base_uri": "https://localhost:8080/"
        },
        "id": "lSyN6ljCi2IC",
        "outputId": "a455d542-c2ef-4209-f76d-e28fba1f3989"
      },
      "execution_count": 75,
      "outputs": [
        {
          "output_type": "stream",
          "name": "stdout",
          "text": [
            "root\n",
            " |-- name: string (nullable = true)\n",
            " |-- age: integer (nullable = true)\n",
            " |-- experience: integer (nullable = true)\n",
            " |-- salary: double (nullable = true)\n",
            "\n"
          ]
        }
      ]
    },
    {
      "cell_type": "code",
      "source": [
        "df_pyspark.columns"
      ],
      "metadata": {
        "colab": {
          "base_uri": "https://localhost:8080/"
        },
        "id": "yowgHAmNi2Ke",
        "outputId": "d36355c6-48e8-46fb-e4f3-dd8adf48f301"
      },
      "execution_count": 76,
      "outputs": [
        {
          "output_type": "execute_result",
          "data": {
            "text/plain": [
              "['name', 'age', 'experience', 'salary']"
            ]
          },
          "metadata": {},
          "execution_count": 76
        }
      ]
    },
    {
      "cell_type": "code",
      "source": [
        "print(type(d := df_pyspark.select(['name', 'experience'])))\n",
        "d.show()"
      ],
      "metadata": {
        "colab": {
          "base_uri": "https://localhost:8080/"
        },
        "id": "Hfw0AmyDi2NY",
        "outputId": "e556d5fd-7ff0-4f2a-b141-11bfd3402bac"
      },
      "execution_count": 77,
      "outputs": [
        {
          "output_type": "stream",
          "name": "stdout",
          "text": [
            "<class 'pyspark.sql.dataframe.DataFrame'>\n",
            "+-----+----------+\n",
            "| name|experience|\n",
            "+-----+----------+\n",
            "| Kris|         6|\n",
            "| Adam|         5|\n",
            "|Sunny|        14|\n",
            "|  Tom|      NULL|\n",
            "| John|         3|\n",
            "| Mark|      NULL|\n",
            "|  Bob|         7|\n",
            "|Ellen|         7|\n",
            "|  Jim|      NULL|\n",
            "| NULL|        11|\n",
            "| NULL|        17|\n",
            "+-----+----------+\n",
            "\n"
          ]
        }
      ]
    },
    {
      "cell_type": "code",
      "source": [
        "df_pyspark['name'] #only Column\n",
        "df_pyspark.dtypes"
      ],
      "metadata": {
        "colab": {
          "base_uri": "https://localhost:8080/"
        },
        "id": "L1KbeJPqk0FY",
        "outputId": "7b8f49de-8bc7-4322-d31e-1ca9b7929dd8"
      },
      "execution_count": 78,
      "outputs": [
        {
          "output_type": "execute_result",
          "data": {
            "text/plain": [
              "[('name', 'string'),\n",
              " ('age', 'int'),\n",
              " ('experience', 'int'),\n",
              " ('salary', 'double')]"
            ]
          },
          "metadata": {},
          "execution_count": 78
        }
      ]
    },
    {
      "cell_type": "code",
      "source": [
        "df_pyspark.describe().show()"
      ],
      "metadata": {
        "colab": {
          "base_uri": "https://localhost:8080/"
        },
        "id": "q1NifrmAlj3i",
        "outputId": "51111963-f938-412a-d4f7-a5fa1941ed48"
      },
      "execution_count": 79,
      "outputs": [
        {
          "output_type": "stream",
          "name": "stdout",
          "text": [
            "+-------+----+-----------------+-----------------+------------------+\n",
            "|summary|name|              age|       experience|            salary|\n",
            "+-------+----+-----------------+-----------------+------------------+\n",
            "|  count|   9|               10|                8|                10|\n",
            "|   mean|NULL|             35.0|             8.75|2373.4710000000005|\n",
            "| stddev|NULL|4.189935029992179|4.803272693844122| 833.8184660204321|\n",
            "|    min|Adam|               28|                3|           1230.99|\n",
            "|    max| Tom|               40|               17|           4280.45|\n",
            "+-------+----+-----------------+-----------------+------------------+\n",
            "\n"
          ]
        }
      ]
    },
    {
      "cell_type": "code",
      "source": [
        "#add column\n",
        "df_pyspark = df_pyspark.withColumn('monthly_experience', df_pyspark['experience']*12) # Use withColumn instead of WithColumn\n",
        "df_pyspark.show()"
      ],
      "metadata": {
        "colab": {
          "base_uri": "https://localhost:8080/"
        },
        "id": "vyvGHDXhnqYt",
        "outputId": "2429d510-16db-4ed4-cbe6-a756cd5cc772"
      },
      "execution_count": 80,
      "outputs": [
        {
          "output_type": "stream",
          "name": "stdout",
          "text": [
            "+-----+----+----------+-------+------------------+\n",
            "| name| age|experience| salary|monthly_experience|\n",
            "+-----+----+----------+-------+------------------+\n",
            "| Kris|  31|         6| 2230.3|                72|\n",
            "| Adam|  30|         5|2230.89|                60|\n",
            "|Sunny|  39|        14|3230.21|               168|\n",
            "|  Tom|  28|      NULL|2230.32|              NULL|\n",
            "| John|  40|         3|   NULL|                36|\n",
            "| Mark|  36|      NULL|1730.04|              NULL|\n",
            "|  Bob|  35|         7|2130.05|                84|\n",
            "|Ellen|  34|         7|2230.96|                84|\n",
            "|  Jim|NULL|      NULL|1230.99|              NULL|\n",
            "| NULL|  39|        11| 2210.5|               132|\n",
            "| NULL|  38|        17|4280.45|               204|\n",
            "+-----+----+----------+-------+------------------+\n",
            "\n"
          ]
        }
      ]
    },
    {
      "cell_type": "code",
      "source": [
        "#drop column\n",
        "df_pyspark = df_pyspark.drop('monthly_experience')\n",
        "df_pyspark.show()"
      ],
      "metadata": {
        "colab": {
          "base_uri": "https://localhost:8080/"
        },
        "id": "ZTepE2DcoDxt",
        "outputId": "399bd966-5ccf-463c-81de-f5c32c192b08"
      },
      "execution_count": 81,
      "outputs": [
        {
          "output_type": "stream",
          "name": "stdout",
          "text": [
            "+-----+----+----------+-------+\n",
            "| name| age|experience| salary|\n",
            "+-----+----+----------+-------+\n",
            "| Kris|  31|         6| 2230.3|\n",
            "| Adam|  30|         5|2230.89|\n",
            "|Sunny|  39|        14|3230.21|\n",
            "|  Tom|  28|      NULL|2230.32|\n",
            "| John|  40|         3|   NULL|\n",
            "| Mark|  36|      NULL|1730.04|\n",
            "|  Bob|  35|         7|2130.05|\n",
            "|Ellen|  34|         7|2230.96|\n",
            "|  Jim|NULL|      NULL|1230.99|\n",
            "| NULL|  39|        11| 2210.5|\n",
            "| NULL|  38|        17|4280.45|\n",
            "+-----+----+----------+-------+\n",
            "\n"
          ]
        }
      ]
    },
    {
      "cell_type": "code",
      "source": [
        "#rename column\n",
        "df_pyspark = df_pyspark.withColumnRenamed('name', 'first_name')\n",
        "df_pyspark.show()"
      ],
      "metadata": {
        "colab": {
          "base_uri": "https://localhost:8080/"
        },
        "id": "LJmLOhCjo-Gn",
        "outputId": "384131e0-e0b2-4afe-f8b6-9d3128f18e7f"
      },
      "execution_count": 82,
      "outputs": [
        {
          "output_type": "stream",
          "name": "stdout",
          "text": [
            "+----------+----+----------+-------+\n",
            "|first_name| age|experience| salary|\n",
            "+----------+----+----------+-------+\n",
            "|      Kris|  31|         6| 2230.3|\n",
            "|      Adam|  30|         5|2230.89|\n",
            "|     Sunny|  39|        14|3230.21|\n",
            "|       Tom|  28|      NULL|2230.32|\n",
            "|      John|  40|         3|   NULL|\n",
            "|      Mark|  36|      NULL|1730.04|\n",
            "|       Bob|  35|         7|2130.05|\n",
            "|     Ellen|  34|         7|2230.96|\n",
            "|       Jim|NULL|      NULL|1230.99|\n",
            "|      NULL|  39|        11| 2210.5|\n",
            "|      NULL|  38|        17|4280.45|\n",
            "+----------+----+----------+-------+\n",
            "\n"
          ]
        }
      ]
    },
    {
      "cell_type": "code",
      "source": [
        "df_pyspark.na.drop(how='any').show() #drop any null value rows"
      ],
      "metadata": {
        "colab": {
          "base_uri": "https://localhost:8080/"
        },
        "id": "p5dVbRsLpdex",
        "outputId": "d401458a-3f74-4982-881a-a75f5218886a"
      },
      "execution_count": 83,
      "outputs": [
        {
          "output_type": "stream",
          "name": "stdout",
          "text": [
            "+----------+---+----------+-------+\n",
            "|first_name|age|experience| salary|\n",
            "+----------+---+----------+-------+\n",
            "|      Kris| 31|         6| 2230.3|\n",
            "|      Adam| 30|         5|2230.89|\n",
            "|     Sunny| 39|        14|3230.21|\n",
            "|       Bob| 35|         7|2130.05|\n",
            "|     Ellen| 34|         7|2230.96|\n",
            "+----------+---+----------+-------+\n",
            "\n"
          ]
        }
      ]
    },
    {
      "cell_type": "code",
      "source": [
        "df_pyspark.na.drop(how='all').show() #drop all null value rows"
      ],
      "metadata": {
        "id": "aTEGbhvQprqI"
      },
      "execution_count": 82,
      "outputs": []
    },
    {
      "cell_type": "code",
      "source": [
        "df_pyspark.na.drop(how='any', thresh=3).show() #drop any row with less than 3 non-null values"
      ],
      "metadata": {
        "colab": {
          "base_uri": "https://localhost:8080/"
        },
        "id": "htIGeXv_prtT",
        "outputId": "b9bb1341-edf3-48c2-f9a0-26c2c250bc36"
      },
      "execution_count": 91,
      "outputs": [
        {
          "output_type": "stream",
          "name": "stdout",
          "text": [
            "+----------+---+----------+-------+\n",
            "|first_name|age|experience| salary|\n",
            "+----------+---+----------+-------+\n",
            "|      Kris| 31|         6| 2230.3|\n",
            "|      Adam| 30|         5|2230.89|\n",
            "|     Sunny| 39|        14|3230.21|\n",
            "|       Tom| 28|      NULL|2230.32|\n",
            "|      John| 40|         3|   NULL|\n",
            "|      Mark| 36|      NULL|1730.04|\n",
            "|       Bob| 35|         7|2130.05|\n",
            "|     Ellen| 34|         7|2230.96|\n",
            "|      NULL| 39|        11| 2210.5|\n",
            "|      NULL| 38|        17|4280.45|\n",
            "+----------+---+----------+-------+\n",
            "\n"
          ]
        }
      ]
    },
    {
      "cell_type": "code",
      "source": [
        "df_pyspark.na.drop(how='any', subset=['experience']).show() #drop any row with null value in experience column"
      ],
      "metadata": {
        "colab": {
          "base_uri": "https://localhost:8080/"
        },
        "id": "2g8SJFvE0T2a",
        "outputId": "fe3ddcd7-e3c1-4683-d26f-b0f1b7d26a5f"
      },
      "execution_count": 92,
      "outputs": [
        {
          "output_type": "stream",
          "name": "stdout",
          "text": [
            "+----------+---+----------+-------+\n",
            "|first_name|age|experience| salary|\n",
            "+----------+---+----------+-------+\n",
            "|      Kris| 31|         6| 2230.3|\n",
            "|      Adam| 30|         5|2230.89|\n",
            "|     Sunny| 39|        14|3230.21|\n",
            "|      John| 40|         3|   NULL|\n",
            "|       Bob| 35|         7|2130.05|\n",
            "|     Ellen| 34|         7|2230.96|\n",
            "|      NULL| 39|        11| 2210.5|\n",
            "|      NULL| 38|        17|4280.45|\n",
            "+----------+---+----------+-------+\n",
            "\n"
          ]
        }
      ]
    },
    {
      "cell_type": "code",
      "source": [
        "## filling the missing values\n",
        "df_pyspark.na.fill(0, ['age', 'experience']).show()"
      ],
      "metadata": {
        "colab": {
          "base_uri": "https://localhost:8080/"
        },
        "id": "RlRP7mf_prwI",
        "outputId": "123ea8a6-efa7-4459-a6cb-27b441fdcff4"
      },
      "execution_count": 98,
      "outputs": [
        {
          "output_type": "stream",
          "name": "stdout",
          "text": [
            "+----------+---+----------+-------+\n",
            "|first_name|age|experience| salary|\n",
            "+----------+---+----------+-------+\n",
            "|      Kris| 31|         6| 2230.3|\n",
            "|      Adam| 30|         5|2230.89|\n",
            "|     Sunny| 39|        14|3230.21|\n",
            "|       Tom| 28|         0|2230.32|\n",
            "|      John| 40|         3|   NULL|\n",
            "|      Mark| 36|         0|1730.04|\n",
            "|       Bob| 35|         7|2130.05|\n",
            "|     Ellen| 34|         7|2230.96|\n",
            "|       Jim|  0|         0|1230.99|\n",
            "|      NULL| 39|        11| 2210.5|\n",
            "|      NULL| 38|        17|4280.45|\n",
            "+----------+---+----------+-------+\n",
            "\n"
          ]
        }
      ]
    },
    {
      "cell_type": "code",
      "source": [
        "df_pyspark.na.fill('unknown', ['first_name']).show()"
      ],
      "metadata": {
        "colab": {
          "base_uri": "https://localhost:8080/"
        },
        "id": "QTCAICfDpr1h",
        "outputId": "5c51e82d-b766-4419-b6e6-27913ae4af6e"
      },
      "execution_count": 96,
      "outputs": [
        {
          "output_type": "stream",
          "name": "stdout",
          "text": [
            "+----------+----+----------+-------+\n",
            "|first_name| age|experience| salary|\n",
            "+----------+----+----------+-------+\n",
            "|      Kris|  31|         6| 2230.3|\n",
            "|      Adam|  30|         5|2230.89|\n",
            "|     Sunny|  39|        14|3230.21|\n",
            "|       Tom|  28|      NULL|2230.32|\n",
            "|      John|  40|         3|   NULL|\n",
            "|      Mark|  36|      NULL|1730.04|\n",
            "|       Bob|  35|         7|2130.05|\n",
            "|     Ellen|  34|         7|2230.96|\n",
            "|       Jim|NULL|      NULL|1230.99|\n",
            "|   unknown|  39|        11| 2210.5|\n",
            "|   unknown|  38|        17|4280.45|\n",
            "+----------+----+----------+-------+\n",
            "\n"
          ]
        }
      ]
    },
    {
      "cell_type": "code",
      "source": [
        "from pyspark.ml.feature import Imputer\n",
        "\n",
        "imputer = Imputer(\n",
        "    inputCols=['age', 'salary'],\n",
        "    outputCols=[f'{c}_imputed' for c in ['age', 'salary']]\n",
        ").setStrategy('median') # mode / mean / median\n",
        "\n",
        "imputer.fit(df_pyspark).transform(df_pyspark).show()"
      ],
      "metadata": {
        "colab": {
          "base_uri": "https://localhost:8080/"
        },
        "id": "u4Ag64kWpr6r",
        "outputId": "39bc7ac0-0448-4ec4-b759-9bd41b19c134"
      },
      "execution_count": 104,
      "outputs": [
        {
          "output_type": "stream",
          "name": "stdout",
          "text": [
            "+----------+----+----------+-------+-----------+--------------+\n",
            "|first_name| age|experience| salary|age_imputed|salary_imputed|\n",
            "+----------+----+----------+-------+-----------+--------------+\n",
            "|      Kris|  31|         6| 2230.3|         31|        2230.3|\n",
            "|      Adam|  30|         5|2230.89|         30|       2230.89|\n",
            "|     Sunny|  39|        14|3230.21|         39|       3230.21|\n",
            "|       Tom|  28|      NULL|2230.32|         28|       2230.32|\n",
            "|      John|  40|         3|   NULL|         40|        2230.3|\n",
            "|      Mark|  36|      NULL|1730.04|         36|       1730.04|\n",
            "|       Bob|  35|         7|2130.05|         35|       2130.05|\n",
            "|     Ellen|  34|         7|2230.96|         34|       2230.96|\n",
            "|       Jim|NULL|      NULL|1230.99|         35|       1230.99|\n",
            "|      NULL|  39|        11| 2210.5|         39|        2210.5|\n",
            "|      NULL|  38|        17|4280.45|         38|       4280.45|\n",
            "+----------+----+----------+-------+-----------+--------------+\n",
            "\n"
          ]
        }
      ]
    },
    {
      "cell_type": "code",
      "source": [],
      "metadata": {
        "id": "xw9Yhy2kBhWs"
      },
      "execution_count": null,
      "outputs": []
    }
  ]
}