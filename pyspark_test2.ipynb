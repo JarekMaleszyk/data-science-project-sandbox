{
  "nbformat": 4,
  "nbformat_minor": 0,
  "metadata": {
    "colab": {
      "provenance": [],
      "authorship_tag": "ABX9TyP4PS5P9ypiu5N7AmyR4NWX",
      "include_colab_link": true
    },
    "kernelspec": {
      "name": "python3",
      "display_name": "Python 3"
    },
    "language_info": {
      "name": "python"
    }
  },
  "cells": [
    {
      "cell_type": "markdown",
      "metadata": {
        "id": "view-in-github",
        "colab_type": "text"
      },
      "source": [
        "<a href=\"https://colab.research.google.com/github/JarekMaleszyk/data-science-project-sandbox/blob/main/pyspark_test2.ipynb\" target=\"_parent\"><img src=\"https://colab.research.google.com/assets/colab-badge.svg\" alt=\"Open In Colab\"/></a>"
      ]
    },
    {
      "cell_type": "code",
      "execution_count": 139,
      "metadata": {
        "id": "dQ2x7nanKXNZ"
      },
      "outputs": [],
      "source": [
        "try:\n",
        "  import pyspark\n",
        "except:\n",
        "  !pip install pyspark"
      ]
    },
    {
      "cell_type": "code",
      "source": [
        "from pyspark.sql import SparkSession"
      ],
      "metadata": {
        "id": "_R5o3o88KZ1S"
      },
      "execution_count": 140,
      "outputs": []
    },
    {
      "cell_type": "code",
      "source": [
        "spark = SparkSession.builder.appName('Pratice').getOrCreate()"
      ],
      "metadata": {
        "id": "6pi_aNveKwDD"
      },
      "execution_count": 141,
      "outputs": []
    },
    {
      "cell_type": "code",
      "source": [
        "spark"
      ],
      "metadata": {
        "colab": {
          "base_uri": "https://localhost:8080/",
          "height": 222
        },
        "id": "u6nO3Jj8i2CI",
        "outputId": "d9d282a6-f4ee-4d91-87ba-c786fb5914bb"
      },
      "execution_count": 142,
      "outputs": [
        {
          "output_type": "execute_result",
          "data": {
            "text/plain": [
              "<pyspark.sql.session.SparkSession at 0x7a8a74648070>"
            ],
            "text/html": [
              "\n",
              "            <div>\n",
              "                <p><b>SparkSession - in-memory</b></p>\n",
              "                \n",
              "        <div>\n",
              "            <p><b>SparkContext</b></p>\n",
              "\n",
              "            <p><a href=\"http://8d6e15bc459c:4040\">Spark UI</a></p>\n",
              "\n",
              "            <dl>\n",
              "              <dt>Version</dt>\n",
              "                <dd><code>v3.5.3</code></dd>\n",
              "              <dt>Master</dt>\n",
              "                <dd><code>local[*]</code></dd>\n",
              "              <dt>AppName</dt>\n",
              "                <dd><code>Pratice</code></dd>\n",
              "            </dl>\n",
              "        </div>\n",
              "        \n",
              "            </div>\n",
              "        "
            ]
          },
          "metadata": {},
          "execution_count": 142
        }
      ]
    },
    {
      "cell_type": "code",
      "source": [
        "## read\n",
        "df_pyspark = spark.read.option('header','true').csv('/content/my_data/simple_data.csv', sep=\";\", inferSchema=True)"
      ],
      "metadata": {
        "id": "VstFLu8Ai2E3"
      },
      "execution_count": 143,
      "outputs": []
    },
    {
      "cell_type": "code",
      "source": [
        "df_pyspark.printSchema()"
      ],
      "metadata": {
        "colab": {
          "base_uri": "https://localhost:8080/"
        },
        "id": "lSyN6ljCi2IC",
        "outputId": "33f68b0d-9473-4f05-a6d3-e644ffe1fa75"
      },
      "execution_count": 144,
      "outputs": [
        {
          "output_type": "stream",
          "name": "stdout",
          "text": [
            "root\n",
            " |-- name: string (nullable = true)\n",
            " |-- age: integer (nullable = true)\n",
            " |-- experience: integer (nullable = true)\n",
            " |-- salary: double (nullable = true)\n",
            " |-- department: string (nullable = true)\n",
            "\n"
          ]
        }
      ]
    },
    {
      "cell_type": "code",
      "source": [
        "df_pyspark.columns"
      ],
      "metadata": {
        "colab": {
          "base_uri": "https://localhost:8080/"
        },
        "id": "yowgHAmNi2Ke",
        "outputId": "579b8821-8384-489e-ec41-53d34113f391"
      },
      "execution_count": 145,
      "outputs": [
        {
          "output_type": "execute_result",
          "data": {
            "text/plain": [
              "['name', 'age', 'experience', 'salary', 'department']"
            ]
          },
          "metadata": {},
          "execution_count": 145
        }
      ]
    },
    {
      "cell_type": "code",
      "source": [
        "print(type(d := df_pyspark.select(['name', 'experience'])))\n",
        "d.show()"
      ],
      "metadata": {
        "colab": {
          "base_uri": "https://localhost:8080/"
        },
        "id": "Hfw0AmyDi2NY",
        "outputId": "aa44d1b4-1a78-4e54-f8a9-b72656465411"
      },
      "execution_count": 146,
      "outputs": [
        {
          "output_type": "stream",
          "name": "stdout",
          "text": [
            "<class 'pyspark.sql.dataframe.DataFrame'>\n",
            "+-----+----------+\n",
            "| name|experience|\n",
            "+-----+----------+\n",
            "| Kris|         6|\n",
            "| Adam|         5|\n",
            "|Sunny|        14|\n",
            "|  Tom|      NULL|\n",
            "| John|         3|\n",
            "| Mark|      NULL|\n",
            "|  Bob|         7|\n",
            "|Ellen|         7|\n",
            "|  Jim|      NULL|\n",
            "| NULL|        11|\n",
            "| NULL|        17|\n",
            "+-----+----------+\n",
            "\n"
          ]
        }
      ]
    },
    {
      "cell_type": "code",
      "source": [
        "df_pyspark['name'] #only Column\n",
        "df_pyspark.dtypes"
      ],
      "metadata": {
        "colab": {
          "base_uri": "https://localhost:8080/"
        },
        "id": "L1KbeJPqk0FY",
        "outputId": "841a09f9-4032-4fb2-fc5d-fb67ac20e17f"
      },
      "execution_count": 147,
      "outputs": [
        {
          "output_type": "execute_result",
          "data": {
            "text/plain": [
              "[('name', 'string'),\n",
              " ('age', 'int'),\n",
              " ('experience', 'int'),\n",
              " ('salary', 'double'),\n",
              " ('department', 'string')]"
            ]
          },
          "metadata": {},
          "execution_count": 147
        }
      ]
    },
    {
      "cell_type": "code",
      "source": [
        "df_pyspark.describe().show()"
      ],
      "metadata": {
        "colab": {
          "base_uri": "https://localhost:8080/"
        },
        "id": "q1NifrmAlj3i",
        "outputId": "00695863-fab0-4fdf-e7c9-fbe234b730c2"
      },
      "execution_count": 148,
      "outputs": [
        {
          "output_type": "stream",
          "name": "stdout",
          "text": [
            "+-------+----+-----------------+-----------------+------------------+----------+\n",
            "|summary|name|              age|       experience|            salary|department|\n",
            "+-------+----+-----------------+-----------------+------------------+----------+\n",
            "|  count|   9|               10|                8|                10|        11|\n",
            "|   mean|NULL|             35.0|             8.75|2373.4710000000005|      NULL|\n",
            "| stddev|NULL|4.189935029992179|4.803272693844122| 833.8184660204321|      NULL|\n",
            "|    min|Adam|               28|                3|           1230.99|        HR|\n",
            "|    max| Tom|               40|               17|           4280.45|        IT|\n",
            "+-------+----+-----------------+-----------------+------------------+----------+\n",
            "\n"
          ]
        }
      ]
    },
    {
      "cell_type": "code",
      "source": [
        "#add column\n",
        "df_pyspark = df_pyspark.withColumn('monthly_experience', df_pyspark['experience']*12) # Use withColumn instead of WithColumn\n",
        "df_pyspark.show()"
      ],
      "metadata": {
        "colab": {
          "base_uri": "https://localhost:8080/"
        },
        "id": "vyvGHDXhnqYt",
        "outputId": "782edc8a-9f3b-44f3-8c21-2896dfea3c42"
      },
      "execution_count": 149,
      "outputs": [
        {
          "output_type": "stream",
          "name": "stdout",
          "text": [
            "+-----+----+----------+-------+----------+------------------+\n",
            "| name| age|experience| salary|department|monthly_experience|\n",
            "+-----+----+----------+-------+----------+------------------+\n",
            "| Kris|  31|         6| 2230.3|        IT|                72|\n",
            "| Adam|  30|         5|2230.89|        HR|                60|\n",
            "|Sunny|  39|        14|3230.21|        HR|               168|\n",
            "|  Tom|  28|      NULL|2230.32|        IT|              NULL|\n",
            "| John|  40|         3|   NULL|  HelpDesk|                36|\n",
            "| Mark|  36|      NULL|1730.04|        IT|              NULL|\n",
            "|  Bob|  35|         7|2130.05|        IT|                84|\n",
            "|Ellen|  34|         7|2230.96|  HelpDesk|                84|\n",
            "|  Jim|NULL|      NULL|1230.99|        IT|              NULL|\n",
            "| NULL|  39|        11| 2210.5|        IT|               132|\n",
            "| NULL|  38|        17|4280.45|        IT|               204|\n",
            "+-----+----+----------+-------+----------+------------------+\n",
            "\n"
          ]
        }
      ]
    },
    {
      "cell_type": "code",
      "source": [
        "#drop column\n",
        "df_pyspark = df_pyspark.drop('monthly_experience')\n",
        "df_pyspark.show()"
      ],
      "metadata": {
        "colab": {
          "base_uri": "https://localhost:8080/"
        },
        "id": "ZTepE2DcoDxt",
        "outputId": "fc2356ac-0520-43c3-c59c-14d1b57b9d1b"
      },
      "execution_count": 150,
      "outputs": [
        {
          "output_type": "stream",
          "name": "stdout",
          "text": [
            "+-----+----+----------+-------+----------+\n",
            "| name| age|experience| salary|department|\n",
            "+-----+----+----------+-------+----------+\n",
            "| Kris|  31|         6| 2230.3|        IT|\n",
            "| Adam|  30|         5|2230.89|        HR|\n",
            "|Sunny|  39|        14|3230.21|        HR|\n",
            "|  Tom|  28|      NULL|2230.32|        IT|\n",
            "| John|  40|         3|   NULL|  HelpDesk|\n",
            "| Mark|  36|      NULL|1730.04|        IT|\n",
            "|  Bob|  35|         7|2130.05|        IT|\n",
            "|Ellen|  34|         7|2230.96|  HelpDesk|\n",
            "|  Jim|NULL|      NULL|1230.99|        IT|\n",
            "| NULL|  39|        11| 2210.5|        IT|\n",
            "| NULL|  38|        17|4280.45|        IT|\n",
            "+-----+----+----------+-------+----------+\n",
            "\n"
          ]
        }
      ]
    },
    {
      "cell_type": "code",
      "source": [
        "#rename column\n",
        "df_pyspark = df_pyspark.withColumnRenamed('name', 'first_name')\n",
        "df_pyspark.show()"
      ],
      "metadata": {
        "colab": {
          "base_uri": "https://localhost:8080/"
        },
        "id": "LJmLOhCjo-Gn",
        "outputId": "1b83040a-4252-4c0e-c684-e23af79436da"
      },
      "execution_count": 151,
      "outputs": [
        {
          "output_type": "stream",
          "name": "stdout",
          "text": [
            "+----------+----+----------+-------+----------+\n",
            "|first_name| age|experience| salary|department|\n",
            "+----------+----+----------+-------+----------+\n",
            "|      Kris|  31|         6| 2230.3|        IT|\n",
            "|      Adam|  30|         5|2230.89|        HR|\n",
            "|     Sunny|  39|        14|3230.21|        HR|\n",
            "|       Tom|  28|      NULL|2230.32|        IT|\n",
            "|      John|  40|         3|   NULL|  HelpDesk|\n",
            "|      Mark|  36|      NULL|1730.04|        IT|\n",
            "|       Bob|  35|         7|2130.05|        IT|\n",
            "|     Ellen|  34|         7|2230.96|  HelpDesk|\n",
            "|       Jim|NULL|      NULL|1230.99|        IT|\n",
            "|      NULL|  39|        11| 2210.5|        IT|\n",
            "|      NULL|  38|        17|4280.45|        IT|\n",
            "+----------+----+----------+-------+----------+\n",
            "\n"
          ]
        }
      ]
    },
    {
      "cell_type": "code",
      "source": [
        "df_pyspark.na.drop(how='any').show() #drop any null value rows"
      ],
      "metadata": {
        "colab": {
          "base_uri": "https://localhost:8080/"
        },
        "id": "p5dVbRsLpdex",
        "outputId": "222ba14c-c683-49ba-fbd4-ebc9060e4a2b"
      },
      "execution_count": 152,
      "outputs": [
        {
          "output_type": "stream",
          "name": "stdout",
          "text": [
            "+----------+---+----------+-------+----------+\n",
            "|first_name|age|experience| salary|department|\n",
            "+----------+---+----------+-------+----------+\n",
            "|      Kris| 31|         6| 2230.3|        IT|\n",
            "|      Adam| 30|         5|2230.89|        HR|\n",
            "|     Sunny| 39|        14|3230.21|        HR|\n",
            "|       Bob| 35|         7|2130.05|        IT|\n",
            "|     Ellen| 34|         7|2230.96|  HelpDesk|\n",
            "+----------+---+----------+-------+----------+\n",
            "\n"
          ]
        }
      ]
    },
    {
      "cell_type": "code",
      "source": [
        "df_pyspark.na.drop(how='all').show() #drop all null value rows"
      ],
      "metadata": {
        "colab": {
          "base_uri": "https://localhost:8080/"
        },
        "id": "aTEGbhvQprqI",
        "outputId": "aff2001b-8ba0-4194-8664-0fd16d5e1f20"
      },
      "execution_count": 153,
      "outputs": [
        {
          "output_type": "stream",
          "name": "stdout",
          "text": [
            "+----------+----+----------+-------+----------+\n",
            "|first_name| age|experience| salary|department|\n",
            "+----------+----+----------+-------+----------+\n",
            "|      Kris|  31|         6| 2230.3|        IT|\n",
            "|      Adam|  30|         5|2230.89|        HR|\n",
            "|     Sunny|  39|        14|3230.21|        HR|\n",
            "|       Tom|  28|      NULL|2230.32|        IT|\n",
            "|      John|  40|         3|   NULL|  HelpDesk|\n",
            "|      Mark|  36|      NULL|1730.04|        IT|\n",
            "|       Bob|  35|         7|2130.05|        IT|\n",
            "|     Ellen|  34|         7|2230.96|  HelpDesk|\n",
            "|       Jim|NULL|      NULL|1230.99|        IT|\n",
            "|      NULL|  39|        11| 2210.5|        IT|\n",
            "|      NULL|  38|        17|4280.45|        IT|\n",
            "+----------+----+----------+-------+----------+\n",
            "\n"
          ]
        }
      ]
    },
    {
      "cell_type": "code",
      "source": [
        "df_pyspark.na.drop(how='any', thresh=3).show() #drop any row with less than 3 non-null values"
      ],
      "metadata": {
        "colab": {
          "base_uri": "https://localhost:8080/"
        },
        "id": "htIGeXv_prtT",
        "outputId": "d7f074e2-4d33-4761-deeb-3669a80009da"
      },
      "execution_count": 154,
      "outputs": [
        {
          "output_type": "stream",
          "name": "stdout",
          "text": [
            "+----------+----+----------+-------+----------+\n",
            "|first_name| age|experience| salary|department|\n",
            "+----------+----+----------+-------+----------+\n",
            "|      Kris|  31|         6| 2230.3|        IT|\n",
            "|      Adam|  30|         5|2230.89|        HR|\n",
            "|     Sunny|  39|        14|3230.21|        HR|\n",
            "|       Tom|  28|      NULL|2230.32|        IT|\n",
            "|      John|  40|         3|   NULL|  HelpDesk|\n",
            "|      Mark|  36|      NULL|1730.04|        IT|\n",
            "|       Bob|  35|         7|2130.05|        IT|\n",
            "|     Ellen|  34|         7|2230.96|  HelpDesk|\n",
            "|       Jim|NULL|      NULL|1230.99|        IT|\n",
            "|      NULL|  39|        11| 2210.5|        IT|\n",
            "|      NULL|  38|        17|4280.45|        IT|\n",
            "+----------+----+----------+-------+----------+\n",
            "\n"
          ]
        }
      ]
    },
    {
      "cell_type": "code",
      "source": [
        "df_pyspark.na.drop(how='any', subset=['experience']).show() #drop any row with null value in experience column"
      ],
      "metadata": {
        "colab": {
          "base_uri": "https://localhost:8080/"
        },
        "id": "2g8SJFvE0T2a",
        "outputId": "71d5d178-2539-47e9-ad84-1b8921544d71"
      },
      "execution_count": 155,
      "outputs": [
        {
          "output_type": "stream",
          "name": "stdout",
          "text": [
            "+----------+---+----------+-------+----------+\n",
            "|first_name|age|experience| salary|department|\n",
            "+----------+---+----------+-------+----------+\n",
            "|      Kris| 31|         6| 2230.3|        IT|\n",
            "|      Adam| 30|         5|2230.89|        HR|\n",
            "|     Sunny| 39|        14|3230.21|        HR|\n",
            "|      John| 40|         3|   NULL|  HelpDesk|\n",
            "|       Bob| 35|         7|2130.05|        IT|\n",
            "|     Ellen| 34|         7|2230.96|  HelpDesk|\n",
            "|      NULL| 39|        11| 2210.5|        IT|\n",
            "|      NULL| 38|        17|4280.45|        IT|\n",
            "+----------+---+----------+-------+----------+\n",
            "\n"
          ]
        }
      ]
    },
    {
      "cell_type": "code",
      "source": [
        "## filling the missing values\n",
        "df_pyspark.na.fill(0, ['age', 'experience']).show()"
      ],
      "metadata": {
        "colab": {
          "base_uri": "https://localhost:8080/"
        },
        "id": "RlRP7mf_prwI",
        "outputId": "87cde344-fb1b-4770-d8a7-8af1c70eed7f"
      },
      "execution_count": 156,
      "outputs": [
        {
          "output_type": "stream",
          "name": "stdout",
          "text": [
            "+----------+---+----------+-------+----------+\n",
            "|first_name|age|experience| salary|department|\n",
            "+----------+---+----------+-------+----------+\n",
            "|      Kris| 31|         6| 2230.3|        IT|\n",
            "|      Adam| 30|         5|2230.89|        HR|\n",
            "|     Sunny| 39|        14|3230.21|        HR|\n",
            "|       Tom| 28|         0|2230.32|        IT|\n",
            "|      John| 40|         3|   NULL|  HelpDesk|\n",
            "|      Mark| 36|         0|1730.04|        IT|\n",
            "|       Bob| 35|         7|2130.05|        IT|\n",
            "|     Ellen| 34|         7|2230.96|  HelpDesk|\n",
            "|       Jim|  0|         0|1230.99|        IT|\n",
            "|      NULL| 39|        11| 2210.5|        IT|\n",
            "|      NULL| 38|        17|4280.45|        IT|\n",
            "+----------+---+----------+-------+----------+\n",
            "\n"
          ]
        }
      ]
    },
    {
      "cell_type": "code",
      "source": [
        "df_pyspark.na.fill('unknown', ['first_name']).show()"
      ],
      "metadata": {
        "colab": {
          "base_uri": "https://localhost:8080/"
        },
        "id": "QTCAICfDpr1h",
        "outputId": "682e440a-97e9-409e-b3e2-ad925aad35e8"
      },
      "execution_count": 157,
      "outputs": [
        {
          "output_type": "stream",
          "name": "stdout",
          "text": [
            "+----------+----+----------+-------+----------+\n",
            "|first_name| age|experience| salary|department|\n",
            "+----------+----+----------+-------+----------+\n",
            "|      Kris|  31|         6| 2230.3|        IT|\n",
            "|      Adam|  30|         5|2230.89|        HR|\n",
            "|     Sunny|  39|        14|3230.21|        HR|\n",
            "|       Tom|  28|      NULL|2230.32|        IT|\n",
            "|      John|  40|         3|   NULL|  HelpDesk|\n",
            "|      Mark|  36|      NULL|1730.04|        IT|\n",
            "|       Bob|  35|         7|2130.05|        IT|\n",
            "|     Ellen|  34|         7|2230.96|  HelpDesk|\n",
            "|       Jim|NULL|      NULL|1230.99|        IT|\n",
            "|   unknown|  39|        11| 2210.5|        IT|\n",
            "|   unknown|  38|        17|4280.45|        IT|\n",
            "+----------+----+----------+-------+----------+\n",
            "\n"
          ]
        }
      ]
    },
    {
      "cell_type": "code",
      "source": [
        "from pyspark.ml.feature import Imputer\n",
        "\n",
        "imputer = Imputer(\n",
        "    inputCols=['age', 'salary'],\n",
        "    outputCols=[f'{c}_imputed' for c in ['age', 'salary']]\n",
        ").setStrategy('median') # mode / mean / median\n",
        "\n",
        "df_pyspark = imputer.fit(df_pyspark).transform(df_pyspark)\n",
        "df_pyspark.show()"
      ],
      "metadata": {
        "colab": {
          "base_uri": "https://localhost:8080/"
        },
        "id": "u4Ag64kWpr6r",
        "outputId": "b184d4eb-22a0-4737-9415-ab572b116ac0"
      },
      "execution_count": 158,
      "outputs": [
        {
          "output_type": "stream",
          "name": "stdout",
          "text": [
            "+----------+----+----------+-------+----------+-----------+--------------+\n",
            "|first_name| age|experience| salary|department|age_imputed|salary_imputed|\n",
            "+----------+----+----------+-------+----------+-----------+--------------+\n",
            "|      Kris|  31|         6| 2230.3|        IT|         31|        2230.3|\n",
            "|      Adam|  30|         5|2230.89|        HR|         30|       2230.89|\n",
            "|     Sunny|  39|        14|3230.21|        HR|         39|       3230.21|\n",
            "|       Tom|  28|      NULL|2230.32|        IT|         28|       2230.32|\n",
            "|      John|  40|         3|   NULL|  HelpDesk|         40|        2230.3|\n",
            "|      Mark|  36|      NULL|1730.04|        IT|         36|       1730.04|\n",
            "|       Bob|  35|         7|2130.05|        IT|         35|       2130.05|\n",
            "|     Ellen|  34|         7|2230.96|  HelpDesk|         34|       2230.96|\n",
            "|       Jim|NULL|      NULL|1230.99|        IT|         35|       1230.99|\n",
            "|      NULL|  39|        11| 2210.5|        IT|         39|        2210.5|\n",
            "|      NULL|  38|        17|4280.45|        IT|         38|       4280.45|\n",
            "+----------+----+----------+-------+----------+-----------+--------------+\n",
            "\n"
          ]
        }
      ]
    },
    {
      "cell_type": "code",
      "source": [
        "#filter\n",
        "df_pyspark.filter('salary_imputed<=2300').show()"
      ],
      "metadata": {
        "colab": {
          "base_uri": "https://localhost:8080/"
        },
        "id": "xw9Yhy2kBhWs",
        "outputId": "2638a6a6-7da3-4b4b-c868-1164a8791e2a"
      },
      "execution_count": 159,
      "outputs": [
        {
          "output_type": "stream",
          "name": "stdout",
          "text": [
            "+----------+----+----------+-------+----------+-----------+--------------+\n",
            "|first_name| age|experience| salary|department|age_imputed|salary_imputed|\n",
            "+----------+----+----------+-------+----------+-----------+--------------+\n",
            "|      Kris|  31|         6| 2230.3|        IT|         31|        2230.3|\n",
            "|      Adam|  30|         5|2230.89|        HR|         30|       2230.89|\n",
            "|       Tom|  28|      NULL|2230.32|        IT|         28|       2230.32|\n",
            "|      John|  40|         3|   NULL|  HelpDesk|         40|        2230.3|\n",
            "|      Mark|  36|      NULL|1730.04|        IT|         36|       1730.04|\n",
            "|       Bob|  35|         7|2130.05|        IT|         35|       2130.05|\n",
            "|     Ellen|  34|         7|2230.96|  HelpDesk|         34|       2230.96|\n",
            "|       Jim|NULL|      NULL|1230.99|        IT|         35|       1230.99|\n",
            "|      NULL|  39|        11| 2210.5|        IT|         39|        2210.5|\n",
            "+----------+----+----------+-------+----------+-----------+--------------+\n",
            "\n"
          ]
        }
      ]
    },
    {
      "cell_type": "code",
      "source": [
        "df_pyspark.filter('salary_imputed<=2300').select(['first_name', 'age']).filter((df_pyspark['age']<=31) & (df_pyspark['age']>29)).show() # & and"
      ],
      "metadata": {
        "colab": {
          "base_uri": "https://localhost:8080/"
        },
        "id": "uDT-WdRCC_sb",
        "outputId": "dff7935c-fa94-49a9-fd9c-e227d73f29db"
      },
      "execution_count": 160,
      "outputs": [
        {
          "output_type": "stream",
          "name": "stdout",
          "text": [
            "+----------+---+\n",
            "|first_name|age|\n",
            "+----------+---+\n",
            "|      Kris| 31|\n",
            "|      Adam| 30|\n",
            "+----------+---+\n",
            "\n"
          ]
        }
      ]
    },
    {
      "cell_type": "code",
      "source": [
        "df_pyspark.filter('salary_imputed<=2300').select(['first_name', 'age']).filter((df_pyspark['age']<=31) & ~(df_pyspark['age']>29)).show() # ~ is not"
      ],
      "metadata": {
        "colab": {
          "base_uri": "https://localhost:8080/"
        },
        "id": "LG01tZ4iDhOd",
        "outputId": "b98e96b3-50bd-4981-df63-af46beefb312"
      },
      "execution_count": 161,
      "outputs": [
        {
          "output_type": "stream",
          "name": "stdout",
          "text": [
            "+----------+---+\n",
            "|first_name|age|\n",
            "+----------+---+\n",
            "|       Tom| 28|\n",
            "+----------+---+\n",
            "\n"
          ]
        }
      ]
    },
    {
      "cell_type": "code",
      "source": [
        "df_pyspark.filter('salary_imputed<=2300').select(['first_name', 'age']).filter((df_pyspark['age']<=31) | ~(df_pyspark['age']>29)).show() # | or"
      ],
      "metadata": {
        "colab": {
          "base_uri": "https://localhost:8080/"
        },
        "id": "qM52CqH5EcOG",
        "outputId": "18bc782d-b35a-42b6-c825-fa3cdc9b0d79"
      },
      "execution_count": 162,
      "outputs": [
        {
          "output_type": "stream",
          "name": "stdout",
          "text": [
            "+----------+---+\n",
            "|first_name|age|\n",
            "+----------+---+\n",
            "|      Kris| 31|\n",
            "|      Adam| 30|\n",
            "|       Tom| 28|\n",
            "+----------+---+\n",
            "\n"
          ]
        }
      ]
    },
    {
      "cell_type": "code",
      "source": [
        "# group by\n",
        "# https://pyspark.itversity.com/05_basic_transformations/12_aggregate_data_using_groupby.html\n",
        "from pyspark.sql.functions import sum, avg, count, lit, round\n",
        "df_pyspark.groupBy(['department']).agg(\n",
        "    count(lit(1)).alias(\"cnt\"),\n",
        "    sum('salary').alias('total_salary'),\n",
        "    round(avg('age'), 2).alias('avg_age') # Apply round to avg('age') and then alias\n",
        ").show()"
      ],
      "metadata": {
        "colab": {
          "base_uri": "https://localhost:8080/"
        },
        "id": "NcplrnQkEis1",
        "outputId": "75179a35-030b-440f-d910-43d3115cab34"
      },
      "execution_count": 194,
      "outputs": [
        {
          "output_type": "stream",
          "name": "stdout",
          "text": [
            "+----------+---+------------------+-------+\n",
            "|department|cnt|      total_salary|avg_age|\n",
            "+----------+---+------------------+-------+\n",
            "|        HR|  2|            5461.1|   34.5|\n",
            "|  HelpDesk|  2|           2230.96|   37.0|\n",
            "|        IT|  7|16042.650000000001|   34.5|\n",
            "+----------+---+------------------+-------+\n",
            "\n"
          ]
        }
      ]
    },
    {
      "cell_type": "code",
      "source": [
        "from pyspark.sql.functions import count, lit\n",
        "df_pyspark.groupBy(['department']).agg(count(lit(1)).alias(\"cnt\")).show()"
      ],
      "metadata": {
        "colab": {
          "base_uri": "https://localhost:8080/"
        },
        "id": "0z-pfHOBGFHv",
        "outputId": "b900a86d-4412-4c22-bb63-c78761fa8c75"
      },
      "execution_count": 191,
      "outputs": [
        {
          "output_type": "stream",
          "name": "stdout",
          "text": [
            "+----------+---+\n",
            "|department|cnt|\n",
            "+----------+---+\n",
            "|        HR|  2|\n",
            "|  HelpDesk|  2|\n",
            "|        IT|  7|\n",
            "+----------+---+\n",
            "\n"
          ]
        }
      ]
    },
    {
      "cell_type": "code",
      "source": [
        "df_pyspark.agg({'salary':'mean'}).show()"
      ],
      "metadata": {
        "colab": {
          "base_uri": "https://localhost:8080/"
        },
        "id": "wlLd87ZdH1ON",
        "outputId": "0cde0dd4-8618-497f-a8c7-2ea40b1e1463"
      },
      "execution_count": 176,
      "outputs": [
        {
          "output_type": "stream",
          "name": "stdout",
          "text": [
            "+------------------+\n",
            "|       avg(salary)|\n",
            "+------------------+\n",
            "|2373.4710000000005|\n",
            "+------------------+\n",
            "\n"
          ]
        }
      ]
    },
    {
      "cell_type": "code",
      "source": [],
      "metadata": {
        "id": "0QrmqfgKJEgI"
      },
      "execution_count": null,
      "outputs": []
    }
  ]
}