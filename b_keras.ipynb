{
  "nbformat": 4,
  "nbformat_minor": 0,
  "metadata": {
    "colab": {
      "provenance": [],
      "include_colab_link": true
    },
    "kernelspec": {
      "name": "python3",
      "display_name": "Python 3"
    }
  },
  "cells": [
    {
      "cell_type": "markdown",
      "metadata": {
        "id": "view-in-github",
        "colab_type": "text"
      },
      "source": [
        "<a href=\"https://colab.research.google.com/github/JarekMaleszyk/data-science-project-sandbox/blob/main/b_keras.ipynb\" target=\"_parent\"><img src=\"https://colab.research.google.com/assets/colab-badge.svg\" alt=\"Open In Colab\"/></a>"
      ]
    },
    {
      "cell_type": "markdown",
      "metadata": {
        "id": "XPMv3wSNK3BU"
      },
      "source": [
        "* @author: krakowiakpawel9@gmail.com  \n",
        "* @site: e-smartdata.org"
      ]
    },
    {
      "cell_type": "markdown",
      "metadata": {
        "id": "zjlb736M2lS_"
      },
      "source": [
        "### Tensorflow\n",
        ">Strona biblioteki: [https://www.tensorflow.org/](https://www.tensorflow.org/)  \n",
        ">Dokumentacja: [https://www.tensorflow.org/api_docs](https://www.tensorflow.org/api_docs)  \n",
        ">\n",
        ">Szybko rozwijająca się biblioteka do uczenia maszynowego i uczenia głębokiego rozwijana przez Google.\n",
        ">\n",
        ">Aby zainstalować bibliotekę tensorflow, użyj polecenia poniżej:\n",
        "```\n",
        "pip install tensorflow\n",
        "```\n",
        "\n",
        "### Keras\n",
        ">Strona biblioteki: [https://keras.io/](https://keras.io/)  \n",
        ">\n",
        ">Wysokopoziomowy interfejs do budowy sieci neuronowych. Działa zarówno na Tensorflow, Theano oraz CNTK.\n",
        ">\n",
        ">Aby zainstalować bibliotekę keras, użyj polecenia poniżej:\n",
        "```\n",
        "pip install keras\n",
        "```"
      ]
    },
    {
      "cell_type": "markdown",
      "metadata": {
        "id": "tC7wD4aySZKb"
      },
      "source": [
        "### Model sekwencjny (Sequential Model):\n",
        "1. [Wprowadzenie - pierwszy model](#a0)\n",
        "2. [Funkcje aktywacji](#a1)\n",
        "3. [Kompilacja modelu](#a2)\n",
        "4. [Trenowanie modelu](#a3)\n",
        "5. [Przykład - klasyfikacja binarna](#a4)\n",
        "6. [Przykład - klasyfikacja wieloklasowa](#a5)\n",
        "7. [Przykład - regresja](#a6)\n",
        "\n",
        "\n",
        "\n",
        "Załadowanie biblioteki tensorflow\n"
      ]
    },
    {
      "cell_type": "code",
      "metadata": {
        "id": "3SPURJyPQOpj",
        "outputId": "7c4fa732-f4fc-4392-d467-4c04f77f25cd",
        "colab": {
          "base_uri": "https://localhost:8080/",
          "height": 55
        }
      },
      "source": [
        "%tensorflow_version 2.x\n",
        "import tensorflow as tf\n",
        "import numpy as np\n",
        "import pandas as pd\n",
        "import plotly.express as px\n",
        "tf.__version__"
      ],
      "execution_count": 1,
      "outputs": [
        {
          "output_type": "stream",
          "name": "stdout",
          "text": [
            "Colab only includes TensorFlow 2.x; %tensorflow_version has no effect.\n"
          ]
        },
        {
          "output_type": "execute_result",
          "data": {
            "text/plain": [
              "'2.17.0'"
            ],
            "application/vnd.google.colaboratory.intrinsic+json": {
              "type": "string"
            }
          },
          "metadata": {},
          "execution_count": 1
        }
      ]
    },
    {
      "cell_type": "markdown",
      "metadata": {
        "id": "x0HF8UIRTBmC"
      },
      "source": [
        "### <a name='a0'></a>Wprowadzenie - pierwszy model\n",
        "Model sekwencyjny to nic innego jak liniowy stos warstw."
      ]
    },
    {
      "cell_type": "code",
      "metadata": {
        "id": "y5qY8AQsTeGX",
        "outputId": "d609de3b-e123-41f2-b5ec-089b1c341758",
        "colab": {
          "base_uri": "https://localhost:8080/"
        }
      },
      "source": [
        "# utworzenie instancji klasy Sequential\n",
        "from tensorflow.keras.models import Sequential\n",
        "\n",
        "model = Sequential()\n",
        "print(model)"
      ],
      "execution_count": 2,
      "outputs": [
        {
          "output_type": "stream",
          "name": "stdout",
          "text": [
            "<Sequential name=sequential, built=False>\n"
          ]
        }
      ]
    },
    {
      "cell_type": "markdown",
      "metadata": {
        "id": "yqtUKjKaTyxQ"
      },
      "source": [
        "Podstawowym elementem składowym modelu są warstwy. Aby dodać najbardziej standardową warstwę - warstwę gęsto połączoną należy użyć warstwy **Dense**. Aby dodać warstwę do modelu należy użyć metody *.add()*"
      ]
    },
    {
      "cell_type": "code",
      "metadata": {
        "id": "CiMQRZUMTv8f",
        "colab": {
          "base_uri": "https://localhost:8080/"
        },
        "outputId": "513815d0-ce97-4446-b9f4-a42dd3ea9532"
      },
      "source": [
        "from tensorflow.keras.layers import Dense\n",
        "\n",
        "model.add(Dense(units=4, input_shape=(10,)))"
      ],
      "execution_count": 3,
      "outputs": [
        {
          "output_type": "stream",
          "name": "stderr",
          "text": [
            "/usr/local/lib/python3.10/dist-packages/keras/src/layers/core/dense.py:87: UserWarning: Do not pass an `input_shape`/`input_dim` argument to a layer. When using Sequential models, prefer using an `Input(shape)` object as the first layer in the model instead.\n",
            "  super().__init__(activity_regularizer=activity_regularizer, **kwargs)\n"
          ]
        }
      ]
    },
    {
      "cell_type": "markdown",
      "metadata": {
        "id": "s4q14zW-XOU4"
      },
      "source": [
        "Wyświetlenie podsumowania modelu: metoda *.summary()*"
      ]
    },
    {
      "cell_type": "code",
      "metadata": {
        "id": "HAReYZ98UXtC",
        "outputId": "c023f84b-13a4-4f5a-cbe4-1713a5d5aad2",
        "colab": {
          "base_uri": "https://localhost:8080/",
          "height": 167
        }
      },
      "source": [
        "model.summary()"
      ],
      "execution_count": 4,
      "outputs": [
        {
          "output_type": "display_data",
          "data": {
            "text/plain": [
              "\u001b[1mModel: \"sequential\"\u001b[0m\n"
            ],
            "text/html": [
              "<pre style=\"white-space:pre;overflow-x:auto;line-height:normal;font-family:Menlo,'DejaVu Sans Mono',consolas,'Courier New',monospace\"><span style=\"font-weight: bold\">Model: \"sequential\"</span>\n",
              "</pre>\n"
            ]
          },
          "metadata": {}
        },
        {
          "output_type": "display_data",
          "data": {
            "text/plain": [
              "┏━━━━━━━━━━━━━━━━━━━━━━━━━━━━━━━━━━━━━━┳━━━━━━━━━━━━━━━━━━━━━━━━━━━━━┳━━━━━━━━━━━━━━━━━┓\n",
              "┃\u001b[1m \u001b[0m\u001b[1mLayer (type)                        \u001b[0m\u001b[1m \u001b[0m┃\u001b[1m \u001b[0m\u001b[1mOutput Shape               \u001b[0m\u001b[1m \u001b[0m┃\u001b[1m \u001b[0m\u001b[1m        Param #\u001b[0m\u001b[1m \u001b[0m┃\n",
              "┡━━━━━━━━━━━━━━━━━━━━━━━━━━━━━━━━━━━━━━╇━━━━━━━━━━━━━━━━━━━━━━━━━━━━━╇━━━━━━━━━━━━━━━━━┩\n",
              "│ dense (\u001b[38;5;33mDense\u001b[0m)                        │ (\u001b[38;5;45mNone\u001b[0m, \u001b[38;5;34m4\u001b[0m)                   │              \u001b[38;5;34m44\u001b[0m │\n",
              "└──────────────────────────────────────┴─────────────────────────────┴─────────────────┘\n"
            ],
            "text/html": [
              "<pre style=\"white-space:pre;overflow-x:auto;line-height:normal;font-family:Menlo,'DejaVu Sans Mono',consolas,'Courier New',monospace\">┏━━━━━━━━━━━━━━━━━━━━━━━━━━━━━━━━━━━━━━┳━━━━━━━━━━━━━━━━━━━━━━━━━━━━━┳━━━━━━━━━━━━━━━━━┓\n",
              "┃<span style=\"font-weight: bold\"> Layer (type)                         </span>┃<span style=\"font-weight: bold\"> Output Shape                </span>┃<span style=\"font-weight: bold\">         Param # </span>┃\n",
              "┡━━━━━━━━━━━━━━━━━━━━━━━━━━━━━━━━━━━━━━╇━━━━━━━━━━━━━━━━━━━━━━━━━━━━━╇━━━━━━━━━━━━━━━━━┩\n",
              "│ dense (<span style=\"color: #0087ff; text-decoration-color: #0087ff\">Dense</span>)                        │ (<span style=\"color: #00d7ff; text-decoration-color: #00d7ff\">None</span>, <span style=\"color: #00af00; text-decoration-color: #00af00\">4</span>)                   │              <span style=\"color: #00af00; text-decoration-color: #00af00\">44</span> │\n",
              "└──────────────────────────────────────┴─────────────────────────────┴─────────────────┘\n",
              "</pre>\n"
            ]
          },
          "metadata": {}
        },
        {
          "output_type": "display_data",
          "data": {
            "text/plain": [
              "\u001b[1m Total params: \u001b[0m\u001b[38;5;34m44\u001b[0m (176.00 B)\n"
            ],
            "text/html": [
              "<pre style=\"white-space:pre;overflow-x:auto;line-height:normal;font-family:Menlo,'DejaVu Sans Mono',consolas,'Courier New',monospace\"><span style=\"font-weight: bold\"> Total params: </span><span style=\"color: #00af00; text-decoration-color: #00af00\">44</span> (176.00 B)\n",
              "</pre>\n"
            ]
          },
          "metadata": {}
        },
        {
          "output_type": "display_data",
          "data": {
            "text/plain": [
              "\u001b[1m Trainable params: \u001b[0m\u001b[38;5;34m44\u001b[0m (176.00 B)\n"
            ],
            "text/html": [
              "<pre style=\"white-space:pre;overflow-x:auto;line-height:normal;font-family:Menlo,'DejaVu Sans Mono',consolas,'Courier New',monospace\"><span style=\"font-weight: bold\"> Trainable params: </span><span style=\"color: #00af00; text-decoration-color: #00af00\">44</span> (176.00 B)\n",
              "</pre>\n"
            ]
          },
          "metadata": {}
        },
        {
          "output_type": "display_data",
          "data": {
            "text/plain": [
              "\u001b[1m Non-trainable params: \u001b[0m\u001b[38;5;34m0\u001b[0m (0.00 B)\n"
            ],
            "text/html": [
              "<pre style=\"white-space:pre;overflow-x:auto;line-height:normal;font-family:Menlo,'DejaVu Sans Mono',consolas,'Courier New',monospace\"><span style=\"font-weight: bold\"> Non-trainable params: </span><span style=\"color: #00af00; text-decoration-color: #00af00\">0</span> (0.00 B)\n",
              "</pre>\n"
            ]
          },
          "metadata": {}
        }
      ]
    },
    {
      "cell_type": "markdown",
      "metadata": {
        "id": "izZi_Eu2Xjcl"
      },
      "source": [
        "Dodanie kolejnej warstwy"
      ]
    },
    {
      "cell_type": "code",
      "metadata": {
        "id": "HD17lS82Uk7Y",
        "outputId": "00ab00fd-f8b9-4ccb-bbf9-59a6109ba1e7",
        "colab": {
          "base_uri": "https://localhost:8080/",
          "height": 200
        }
      },
      "source": [
        "model.add(Dense(units=2))\n",
        "\n",
        "model.summary()"
      ],
      "execution_count": 5,
      "outputs": [
        {
          "output_type": "display_data",
          "data": {
            "text/plain": [
              "\u001b[1mModel: \"sequential\"\u001b[0m\n"
            ],
            "text/html": [
              "<pre style=\"white-space:pre;overflow-x:auto;line-height:normal;font-family:Menlo,'DejaVu Sans Mono',consolas,'Courier New',monospace\"><span style=\"font-weight: bold\">Model: \"sequential\"</span>\n",
              "</pre>\n"
            ]
          },
          "metadata": {}
        },
        {
          "output_type": "display_data",
          "data": {
            "text/plain": [
              "┏━━━━━━━━━━━━━━━━━━━━━━━━━━━━━━━━━━━━━━┳━━━━━━━━━━━━━━━━━━━━━━━━━━━━━┳━━━━━━━━━━━━━━━━━┓\n",
              "┃\u001b[1m \u001b[0m\u001b[1mLayer (type)                        \u001b[0m\u001b[1m \u001b[0m┃\u001b[1m \u001b[0m\u001b[1mOutput Shape               \u001b[0m\u001b[1m \u001b[0m┃\u001b[1m \u001b[0m\u001b[1m        Param #\u001b[0m\u001b[1m \u001b[0m┃\n",
              "┡━━━━━━━━━━━━━━━━━━━━━━━━━━━━━━━━━━━━━━╇━━━━━━━━━━━━━━━━━━━━━━━━━━━━━╇━━━━━━━━━━━━━━━━━┩\n",
              "│ dense (\u001b[38;5;33mDense\u001b[0m)                        │ (\u001b[38;5;45mNone\u001b[0m, \u001b[38;5;34m4\u001b[0m)                   │              \u001b[38;5;34m44\u001b[0m │\n",
              "├──────────────────────────────────────┼─────────────────────────────┼─────────────────┤\n",
              "│ dense_1 (\u001b[38;5;33mDense\u001b[0m)                      │ (\u001b[38;5;45mNone\u001b[0m, \u001b[38;5;34m2\u001b[0m)                   │              \u001b[38;5;34m10\u001b[0m │\n",
              "└──────────────────────────────────────┴─────────────────────────────┴─────────────────┘\n"
            ],
            "text/html": [
              "<pre style=\"white-space:pre;overflow-x:auto;line-height:normal;font-family:Menlo,'DejaVu Sans Mono',consolas,'Courier New',monospace\">┏━━━━━━━━━━━━━━━━━━━━━━━━━━━━━━━━━━━━━━┳━━━━━━━━━━━━━━━━━━━━━━━━━━━━━┳━━━━━━━━━━━━━━━━━┓\n",
              "┃<span style=\"font-weight: bold\"> Layer (type)                         </span>┃<span style=\"font-weight: bold\"> Output Shape                </span>┃<span style=\"font-weight: bold\">         Param # </span>┃\n",
              "┡━━━━━━━━━━━━━━━━━━━━━━━━━━━━━━━━━━━━━━╇━━━━━━━━━━━━━━━━━━━━━━━━━━━━━╇━━━━━━━━━━━━━━━━━┩\n",
              "│ dense (<span style=\"color: #0087ff; text-decoration-color: #0087ff\">Dense</span>)                        │ (<span style=\"color: #00d7ff; text-decoration-color: #00d7ff\">None</span>, <span style=\"color: #00af00; text-decoration-color: #00af00\">4</span>)                   │              <span style=\"color: #00af00; text-decoration-color: #00af00\">44</span> │\n",
              "├──────────────────────────────────────┼─────────────────────────────┼─────────────────┤\n",
              "│ dense_1 (<span style=\"color: #0087ff; text-decoration-color: #0087ff\">Dense</span>)                      │ (<span style=\"color: #00d7ff; text-decoration-color: #00d7ff\">None</span>, <span style=\"color: #00af00; text-decoration-color: #00af00\">2</span>)                   │              <span style=\"color: #00af00; text-decoration-color: #00af00\">10</span> │\n",
              "└──────────────────────────────────────┴─────────────────────────────┴─────────────────┘\n",
              "</pre>\n"
            ]
          },
          "metadata": {}
        },
        {
          "output_type": "display_data",
          "data": {
            "text/plain": [
              "\u001b[1m Total params: \u001b[0m\u001b[38;5;34m54\u001b[0m (216.00 B)\n"
            ],
            "text/html": [
              "<pre style=\"white-space:pre;overflow-x:auto;line-height:normal;font-family:Menlo,'DejaVu Sans Mono',consolas,'Courier New',monospace\"><span style=\"font-weight: bold\"> Total params: </span><span style=\"color: #00af00; text-decoration-color: #00af00\">54</span> (216.00 B)\n",
              "</pre>\n"
            ]
          },
          "metadata": {}
        },
        {
          "output_type": "display_data",
          "data": {
            "text/plain": [
              "\u001b[1m Trainable params: \u001b[0m\u001b[38;5;34m54\u001b[0m (216.00 B)\n"
            ],
            "text/html": [
              "<pre style=\"white-space:pre;overflow-x:auto;line-height:normal;font-family:Menlo,'DejaVu Sans Mono',consolas,'Courier New',monospace\"><span style=\"font-weight: bold\"> Trainable params: </span><span style=\"color: #00af00; text-decoration-color: #00af00\">54</span> (216.00 B)\n",
              "</pre>\n"
            ]
          },
          "metadata": {}
        },
        {
          "output_type": "display_data",
          "data": {
            "text/plain": [
              "\u001b[1m Non-trainable params: \u001b[0m\u001b[38;5;34m0\u001b[0m (0.00 B)\n"
            ],
            "text/html": [
              "<pre style=\"white-space:pre;overflow-x:auto;line-height:normal;font-family:Menlo,'DejaVu Sans Mono',consolas,'Courier New',monospace\"><span style=\"font-weight: bold\"> Non-trainable params: </span><span style=\"color: #00af00; text-decoration-color: #00af00\">0</span> (0.00 B)\n",
              "</pre>\n"
            ]
          },
          "metadata": {}
        }
      ]
    },
    {
      "cell_type": "markdown",
      "metadata": {
        "id": "yh_gui1wZCH2"
      },
      "source": [
        "### <a name='a1'></a>Funkcje aktywacji\n",
        "Istotnym elemenem sieci neuronowych jest dobór odpowiednich funkcji aktywacji. Funkcje aktywacji jak sama nazwa wskazuje są odpowiedzialne za aktywowanie odpowiednich neuronów podczas procesu uczenia.\n",
        "\n",
        "Jeżeli nie określimy podczas dodawania warstwy funkcji aktywacji, domyślnie stosowana jest liniowa funkcja aktywacji, tzn. $a(x)=x$\n",
        "\n",
        "Warstwa z liniową funkcją aktywacji może uczyć się tylko liniowych przekształceń danych wejściowych. Dlatego stosuje się różne funkcje aktywacji aby rozwiazywać problemy nieliniowe.\n",
        "\n",
        "[Keras: Funkcje aktywacji](https://keras.io/activations/)"
      ]
    },
    {
      "cell_type": "code",
      "metadata": {
        "id": "obfM5ho7ZmMy",
        "outputId": "7ba53303-bdc7-4029-9985-9a0f242c5cda",
        "colab": {
          "base_uri": "https://localhost:8080/",
          "height": 206
        }
      },
      "source": [
        "from tensorflow.keras.activations import linear\n",
        "\n",
        "random_data = np.linspace(start=-3, stop=3, num=300)\n",
        "data = pd.DataFrame({'data': random_data, 'linear': linear(random_data)})\n",
        "data.head()"
      ],
      "execution_count": 6,
      "outputs": [
        {
          "output_type": "execute_result",
          "data": {
            "text/plain": [
              "       data    linear\n",
              "0 -3.000000 -3.000000\n",
              "1 -2.979933 -2.979933\n",
              "2 -2.959866 -2.959866\n",
              "3 -2.939799 -2.939799\n",
              "4 -2.919732 -2.919732"
            ],
            "text/html": [
              "\n",
              "  <div id=\"df-adaae9b8-9710-4a98-8874-18dda4917b36\" class=\"colab-df-container\">\n",
              "    <div>\n",
              "<style scoped>\n",
              "    .dataframe tbody tr th:only-of-type {\n",
              "        vertical-align: middle;\n",
              "    }\n",
              "\n",
              "    .dataframe tbody tr th {\n",
              "        vertical-align: top;\n",
              "    }\n",
              "\n",
              "    .dataframe thead th {\n",
              "        text-align: right;\n",
              "    }\n",
              "</style>\n",
              "<table border=\"1\" class=\"dataframe\">\n",
              "  <thead>\n",
              "    <tr style=\"text-align: right;\">\n",
              "      <th></th>\n",
              "      <th>data</th>\n",
              "      <th>linear</th>\n",
              "    </tr>\n",
              "  </thead>\n",
              "  <tbody>\n",
              "    <tr>\n",
              "      <th>0</th>\n",
              "      <td>-3.000000</td>\n",
              "      <td>-3.000000</td>\n",
              "    </tr>\n",
              "    <tr>\n",
              "      <th>1</th>\n",
              "      <td>-2.979933</td>\n",
              "      <td>-2.979933</td>\n",
              "    </tr>\n",
              "    <tr>\n",
              "      <th>2</th>\n",
              "      <td>-2.959866</td>\n",
              "      <td>-2.959866</td>\n",
              "    </tr>\n",
              "    <tr>\n",
              "      <th>3</th>\n",
              "      <td>-2.939799</td>\n",
              "      <td>-2.939799</td>\n",
              "    </tr>\n",
              "    <tr>\n",
              "      <th>4</th>\n",
              "      <td>-2.919732</td>\n",
              "      <td>-2.919732</td>\n",
              "    </tr>\n",
              "  </tbody>\n",
              "</table>\n",
              "</div>\n",
              "    <div class=\"colab-df-buttons\">\n",
              "\n",
              "  <div class=\"colab-df-container\">\n",
              "    <button class=\"colab-df-convert\" onclick=\"convertToInteractive('df-adaae9b8-9710-4a98-8874-18dda4917b36')\"\n",
              "            title=\"Convert this dataframe to an interactive table.\"\n",
              "            style=\"display:none;\">\n",
              "\n",
              "  <svg xmlns=\"http://www.w3.org/2000/svg\" height=\"24px\" viewBox=\"0 -960 960 960\">\n",
              "    <path d=\"M120-120v-720h720v720H120Zm60-500h600v-160H180v160Zm220 220h160v-160H400v160Zm0 220h160v-160H400v160ZM180-400h160v-160H180v160Zm440 0h160v-160H620v160ZM180-180h160v-160H180v160Zm440 0h160v-160H620v160Z\"/>\n",
              "  </svg>\n",
              "    </button>\n",
              "\n",
              "  <style>\n",
              "    .colab-df-container {\n",
              "      display:flex;\n",
              "      gap: 12px;\n",
              "    }\n",
              "\n",
              "    .colab-df-convert {\n",
              "      background-color: #E8F0FE;\n",
              "      border: none;\n",
              "      border-radius: 50%;\n",
              "      cursor: pointer;\n",
              "      display: none;\n",
              "      fill: #1967D2;\n",
              "      height: 32px;\n",
              "      padding: 0 0 0 0;\n",
              "      width: 32px;\n",
              "    }\n",
              "\n",
              "    .colab-df-convert:hover {\n",
              "      background-color: #E2EBFA;\n",
              "      box-shadow: 0px 1px 2px rgba(60, 64, 67, 0.3), 0px 1px 3px 1px rgba(60, 64, 67, 0.15);\n",
              "      fill: #174EA6;\n",
              "    }\n",
              "\n",
              "    .colab-df-buttons div {\n",
              "      margin-bottom: 4px;\n",
              "    }\n",
              "\n",
              "    [theme=dark] .colab-df-convert {\n",
              "      background-color: #3B4455;\n",
              "      fill: #D2E3FC;\n",
              "    }\n",
              "\n",
              "    [theme=dark] .colab-df-convert:hover {\n",
              "      background-color: #434B5C;\n",
              "      box-shadow: 0px 1px 3px 1px rgba(0, 0, 0, 0.15);\n",
              "      filter: drop-shadow(0px 1px 2px rgba(0, 0, 0, 0.3));\n",
              "      fill: #FFFFFF;\n",
              "    }\n",
              "  </style>\n",
              "\n",
              "    <script>\n",
              "      const buttonEl =\n",
              "        document.querySelector('#df-adaae9b8-9710-4a98-8874-18dda4917b36 button.colab-df-convert');\n",
              "      buttonEl.style.display =\n",
              "        google.colab.kernel.accessAllowed ? 'block' : 'none';\n",
              "\n",
              "      async function convertToInteractive(key) {\n",
              "        const element = document.querySelector('#df-adaae9b8-9710-4a98-8874-18dda4917b36');\n",
              "        const dataTable =\n",
              "          await google.colab.kernel.invokeFunction('convertToInteractive',\n",
              "                                                    [key], {});\n",
              "        if (!dataTable) return;\n",
              "\n",
              "        const docLinkHtml = 'Like what you see? Visit the ' +\n",
              "          '<a target=\"_blank\" href=https://colab.research.google.com/notebooks/data_table.ipynb>data table notebook</a>'\n",
              "          + ' to learn more about interactive tables.';\n",
              "        element.innerHTML = '';\n",
              "        dataTable['output_type'] = 'display_data';\n",
              "        await google.colab.output.renderOutput(dataTable, element);\n",
              "        const docLink = document.createElement('div');\n",
              "        docLink.innerHTML = docLinkHtml;\n",
              "        element.appendChild(docLink);\n",
              "      }\n",
              "    </script>\n",
              "  </div>\n",
              "\n",
              "\n",
              "<div id=\"df-f6a17788-6600-4b6e-9b8c-b9f80436ed3f\">\n",
              "  <button class=\"colab-df-quickchart\" onclick=\"quickchart('df-f6a17788-6600-4b6e-9b8c-b9f80436ed3f')\"\n",
              "            title=\"Suggest charts\"\n",
              "            style=\"display:none;\">\n",
              "\n",
              "<svg xmlns=\"http://www.w3.org/2000/svg\" height=\"24px\"viewBox=\"0 0 24 24\"\n",
              "     width=\"24px\">\n",
              "    <g>\n",
              "        <path d=\"M19 3H5c-1.1 0-2 .9-2 2v14c0 1.1.9 2 2 2h14c1.1 0 2-.9 2-2V5c0-1.1-.9-2-2-2zM9 17H7v-7h2v7zm4 0h-2V7h2v10zm4 0h-2v-4h2v4z\"/>\n",
              "    </g>\n",
              "</svg>\n",
              "  </button>\n",
              "\n",
              "<style>\n",
              "  .colab-df-quickchart {\n",
              "      --bg-color: #E8F0FE;\n",
              "      --fill-color: #1967D2;\n",
              "      --hover-bg-color: #E2EBFA;\n",
              "      --hover-fill-color: #174EA6;\n",
              "      --disabled-fill-color: #AAA;\n",
              "      --disabled-bg-color: #DDD;\n",
              "  }\n",
              "\n",
              "  [theme=dark] .colab-df-quickchart {\n",
              "      --bg-color: #3B4455;\n",
              "      --fill-color: #D2E3FC;\n",
              "      --hover-bg-color: #434B5C;\n",
              "      --hover-fill-color: #FFFFFF;\n",
              "      --disabled-bg-color: #3B4455;\n",
              "      --disabled-fill-color: #666;\n",
              "  }\n",
              "\n",
              "  .colab-df-quickchart {\n",
              "    background-color: var(--bg-color);\n",
              "    border: none;\n",
              "    border-radius: 50%;\n",
              "    cursor: pointer;\n",
              "    display: none;\n",
              "    fill: var(--fill-color);\n",
              "    height: 32px;\n",
              "    padding: 0;\n",
              "    width: 32px;\n",
              "  }\n",
              "\n",
              "  .colab-df-quickchart:hover {\n",
              "    background-color: var(--hover-bg-color);\n",
              "    box-shadow: 0 1px 2px rgba(60, 64, 67, 0.3), 0 1px 3px 1px rgba(60, 64, 67, 0.15);\n",
              "    fill: var(--button-hover-fill-color);\n",
              "  }\n",
              "\n",
              "  .colab-df-quickchart-complete:disabled,\n",
              "  .colab-df-quickchart-complete:disabled:hover {\n",
              "    background-color: var(--disabled-bg-color);\n",
              "    fill: var(--disabled-fill-color);\n",
              "    box-shadow: none;\n",
              "  }\n",
              "\n",
              "  .colab-df-spinner {\n",
              "    border: 2px solid var(--fill-color);\n",
              "    border-color: transparent;\n",
              "    border-bottom-color: var(--fill-color);\n",
              "    animation:\n",
              "      spin 1s steps(1) infinite;\n",
              "  }\n",
              "\n",
              "  @keyframes spin {\n",
              "    0% {\n",
              "      border-color: transparent;\n",
              "      border-bottom-color: var(--fill-color);\n",
              "      border-left-color: var(--fill-color);\n",
              "    }\n",
              "    20% {\n",
              "      border-color: transparent;\n",
              "      border-left-color: var(--fill-color);\n",
              "      border-top-color: var(--fill-color);\n",
              "    }\n",
              "    30% {\n",
              "      border-color: transparent;\n",
              "      border-left-color: var(--fill-color);\n",
              "      border-top-color: var(--fill-color);\n",
              "      border-right-color: var(--fill-color);\n",
              "    }\n",
              "    40% {\n",
              "      border-color: transparent;\n",
              "      border-right-color: var(--fill-color);\n",
              "      border-top-color: var(--fill-color);\n",
              "    }\n",
              "    60% {\n",
              "      border-color: transparent;\n",
              "      border-right-color: var(--fill-color);\n",
              "    }\n",
              "    80% {\n",
              "      border-color: transparent;\n",
              "      border-right-color: var(--fill-color);\n",
              "      border-bottom-color: var(--fill-color);\n",
              "    }\n",
              "    90% {\n",
              "      border-color: transparent;\n",
              "      border-bottom-color: var(--fill-color);\n",
              "    }\n",
              "  }\n",
              "</style>\n",
              "\n",
              "  <script>\n",
              "    async function quickchart(key) {\n",
              "      const quickchartButtonEl =\n",
              "        document.querySelector('#' + key + ' button');\n",
              "      quickchartButtonEl.disabled = true;  // To prevent multiple clicks.\n",
              "      quickchartButtonEl.classList.add('colab-df-spinner');\n",
              "      try {\n",
              "        const charts = await google.colab.kernel.invokeFunction(\n",
              "            'suggestCharts', [key], {});\n",
              "      } catch (error) {\n",
              "        console.error('Error during call to suggestCharts:', error);\n",
              "      }\n",
              "      quickchartButtonEl.classList.remove('colab-df-spinner');\n",
              "      quickchartButtonEl.classList.add('colab-df-quickchart-complete');\n",
              "    }\n",
              "    (() => {\n",
              "      let quickchartButtonEl =\n",
              "        document.querySelector('#df-f6a17788-6600-4b6e-9b8c-b9f80436ed3f button');\n",
              "      quickchartButtonEl.style.display =\n",
              "        google.colab.kernel.accessAllowed ? 'block' : 'none';\n",
              "    })();\n",
              "  </script>\n",
              "</div>\n",
              "\n",
              "    </div>\n",
              "  </div>\n"
            ],
            "application/vnd.google.colaboratory.intrinsic+json": {
              "type": "dataframe",
              "variable_name": "data",
              "summary": "{\n  \"name\": \"data\",\n  \"rows\": 300,\n  \"fields\": [\n    {\n      \"column\": \"data\",\n      \"properties\": {\n        \"dtype\": \"number\",\n        \"std\": 1.7407376160097798,\n        \"min\": -3.0,\n        \"max\": 3.0,\n        \"num_unique_values\": 300,\n        \"samples\": [\n          1.0735785953177261,\n          2.3377926421404682,\n          0.05016722408026775\n        ],\n        \"semantic_type\": \"\",\n        \"description\": \"\"\n      }\n    },\n    {\n      \"column\": \"linear\",\n      \"properties\": {\n        \"dtype\": \"number\",\n        \"std\": 1.7407376160097798,\n        \"min\": -3.0,\n        \"max\": 3.0,\n        \"num_unique_values\": 300,\n        \"samples\": [\n          1.0735785953177261,\n          2.3377926421404682,\n          0.05016722408026775\n        ],\n        \"semantic_type\": \"\",\n        \"description\": \"\"\n      }\n    }\n  ]\n}"
            }
          },
          "metadata": {},
          "execution_count": 6
        }
      ]
    },
    {
      "cell_type": "code",
      "metadata": {
        "id": "SsbhlfGgesjV",
        "outputId": "0277834f-ffeb-41d3-9fb3-62c430460b2c",
        "colab": {
          "base_uri": "https://localhost:8080/",
          "height": 417
        }
      },
      "source": [
        "px.line(data, x='data', y='linear', width=500, height=400, range_y=[-3, 3])"
      ],
      "execution_count": 7,
      "outputs": [
        {
          "output_type": "display_data",
          "data": {
            "text/html": [
              "<html>\n",
              "<head><meta charset=\"utf-8\" /></head>\n",
              "<body>\n",
              "    <div>            <script src=\"https://cdnjs.cloudflare.com/ajax/libs/mathjax/2.7.5/MathJax.js?config=TeX-AMS-MML_SVG\"></script><script type=\"text/javascript\">if (window.MathJax && window.MathJax.Hub && window.MathJax.Hub.Config) {window.MathJax.Hub.Config({SVG: {font: \"STIX-Web\"}});}</script>                <script type=\"text/javascript\">window.PlotlyConfig = {MathJaxConfig: 'local'};</script>\n",
              "        <script charset=\"utf-8\" src=\"https://cdn.plot.ly/plotly-2.24.1.min.js\"></script>                <div id=\"a310e0b6-8294-4e7a-a3a3-55a4e3e4b6f4\" class=\"plotly-graph-div\" style=\"height:400px; width:500px;\"></div>            <script type=\"text/javascript\">                                    window.PLOTLYENV=window.PLOTLYENV || {};                                    if (document.getElementById(\"a310e0b6-8294-4e7a-a3a3-55a4e3e4b6f4\")) {                    Plotly.newPlot(                        \"a310e0b6-8294-4e7a-a3a3-55a4e3e4b6f4\",                        [{\"hovertemplate\":\"data=%{x}\\u003cbr\\u003elinear=%{y}\\u003cextra\\u003e\\u003c\\u002fextra\\u003e\",\"legendgroup\":\"\",\"line\":{\"color\":\"#636efa\",\"dash\":\"solid\"},\"marker\":{\"symbol\":\"circle\"},\"mode\":\"lines\",\"name\":\"\",\"orientation\":\"v\",\"showlegend\":false,\"x\":[-3.0,-2.979933110367893,-2.959866220735786,-2.939799331103679,-2.919732441471572,-2.899665551839465,-2.879598662207358,-2.859531772575251,-2.839464882943144,-2.819397993311037,-2.79933110367893,-2.779264214046823,-2.759197324414716,-2.739130434782609,-2.719063545150502,-2.6989966555183944,-2.678929765886288,-2.6588628762541804,-2.638795986622074,-2.6187290969899664,-2.5986622073578594,-2.5785953177257523,-2.5585284280936453,-2.5384615384615383,-2.5183946488294313,-2.4983277591973243,-2.4782608695652173,-2.4581939799331103,-2.4381270903010033,-2.4180602006688963,-2.3979933110367893,-2.3779264214046822,-2.3578595317725752,-2.3377926421404682,-2.317725752508361,-2.297658862876254,-2.277591973244147,-2.25752508361204,-2.237458193979933,-2.217391304347826,-2.197324414715719,-2.177257525083612,-2.157190635451505,-2.137123745819398,-2.1170568561872907,-2.096989966555184,-2.0769230769230766,-2.05685618729097,-2.0367892976588626,-2.016722408026756,-1.9966555183946488,-1.9765886287625418,-1.9565217391304348,-1.9364548494983278,-1.9163879598662208,-1.8963210702341138,-1.8762541806020065,-1.8561872909698995,-1.8361204013377925,-1.8160535117056855,-1.7959866220735785,-1.7759197324414715,-1.7558528428093645,-1.7357859531772575,-1.7157190635451505,-1.6956521739130435,-1.6755852842809364,-1.6555183946488294,-1.6354515050167224,-1.6153846153846154,-1.5953177257525084,-1.5752508361204014,-1.5551839464882944,-1.5351170568561872,-1.5150501672240801,-1.4949832775919731,-1.4749163879598661,-1.4548494983277591,-1.434782608695652,-1.414715719063545,-1.394648829431438,-1.374581939799331,-1.354515050167224,-1.334448160535117,-1.31438127090301,-1.294314381270903,-1.274247491638796,-1.254180602006689,-1.2341137123745818,-1.2140468227424748,-1.1939799331103678,-1.1739130434782608,-1.1538461538461537,-1.1337792642140467,-1.1137123745819397,-1.0936454849498327,-1.0735785953177257,-1.0535117056856187,-1.0334448160535117,-1.0133779264214047,-0.9933110367892977,-0.9732441471571907,-0.9531772575250836,-0.9331103678929766,-0.9130434782608696,-0.8929765886287626,-0.8729096989966556,-0.8528428093645486,-0.8327759197324416,-0.8127090301003346,-0.7926421404682276,-0.7725752508361206,-0.7525083612040131,-0.7324414715719061,-0.7123745819397991,-0.6923076923076921,-0.6722408026755851,-0.652173913043478,-0.632107023411371,-0.612040133779264,-0.591973244147157,-0.57190635451505,-0.551839464882943,-0.531772575250836,-0.511705685618729,-0.49163879598662197,-0.47157190635451496,-0.45150501672240795,-0.43143812709030094,-0.41137123745819393,-0.3913043478260869,-0.3712374581939799,-0.3511705685618729,-0.3311036789297659,-0.3110367892976589,-0.29096989966555187,-0.27090301003344486,-0.25083612040133785,-0.23076923076923084,-0.21070234113712383,-0.19063545150501682,-0.1705685618729098,-0.1505016722408028,-0.1304347826086958,-0.11036789297658878,-0.09030100334448132,-0.07023411371237431,-0.0501672240802673,-0.030100334448160293,-0.010033444816053283,0.010033444816053727,0.030100334448160737,0.05016722408026775,0.07023411371237476,0.09030100334448177,0.11036789297658878,0.1304347826086958,0.1505016722408028,0.1705685618729098,0.19063545150501682,0.21070234113712383,0.23076923076923084,0.25083612040133785,0.27090301003344486,0.29096989966555187,0.3110367892976589,0.3311036789297659,0.3511705685618729,0.3712374581939799,0.3913043478260869,0.41137123745819393,0.43143812709030094,0.45150501672240795,0.47157190635451496,0.49163879598662197,0.511705685618729,0.5317725752508364,0.5518394648829434,0.5719063545150505,0.5919732441471575,0.6120401337792645,0.6321070234113715,0.6521739130434785,0.6722408026755855,0.6923076923076925,0.7123745819397995,0.7324414715719065,0.7525083612040135,0.7725752508361206,0.7926421404682276,0.8127090301003346,0.8327759197324416,0.8528428093645486,0.8729096989966556,0.8929765886287626,0.9130434782608696,0.9331103678929766,0.9531772575250836,0.9732441471571907,0.9933110367892977,1.0133779264214047,1.0334448160535121,1.0535117056856187,1.0735785953177261,1.0936454849498327,1.1137123745819402,1.1337792642140467,1.1538461538461542,1.1739130434782608,1.1939799331103682,1.2140468227424748,1.2341137123745822,1.2541806020066888,1.2742474916387962,1.2943143812709028,1.3143812709030103,1.3344481605351168,1.3545150501672243,1.3745819397993309,1.3946488294314383,1.4147157190635449,1.4347826086956523,1.454849498327759,1.4749163879598663,1.4949832775919738,1.5150501672240804,1.5351170568561878,1.5551839464882944,1.5752508361204018,1.5953177257525084,1.6153846153846159,1.6354515050167224,1.6555183946488299,1.6755852842809364,1.695652173913044,1.7157190635451505,1.735785953177258,1.7558528428093645,1.775919732441472,1.7959866220735785,1.816053511705686,1.8361204013377925,1.8561872909699,1.8762541806020065,1.896321070234114,1.9163879598662206,1.936454849498328,1.9565217391304346,1.976588628762542,1.9966555183946486,2.016722408026756,2.0367892976588626,2.05685618729097,2.0769230769230766,2.096989966555184,2.1170568561872907,2.137123745819398,2.1571906354515056,2.177257525083612,2.1973244147157196,2.217391304347826,2.2374581939799336,2.25752508361204,2.2775919732441476,2.297658862876254,2.3177257525083617,2.3377926421404682,2.3578595317725757,2.3779264214046822,2.3979933110367897,2.4180602006688963,2.4381270903010037,2.4581939799331103,2.4782608695652177,2.4983277591973243,2.5183946488294318,2.5384615384615383,2.558528428093646,2.5785953177257523,2.59866220735786,2.6187290969899664,2.638795986622074,2.6588628762541804,2.678929765886288,2.6989966555183944,2.719063545150502,2.7391304347826084,2.759197324414716,2.7792642140468224,2.79933110367893,2.8193979933110374,2.839464882943144,2.8595317725752514,2.879598662207358,2.8996655518394654,2.919732441471572,2.9397993311036794,2.959866220735786,2.9799331103678934,3.0],\"xaxis\":\"x\",\"y\":[-3.0,-2.979933110367893,-2.959866220735786,-2.939799331103679,-2.919732441471572,-2.899665551839465,-2.879598662207358,-2.859531772575251,-2.839464882943144,-2.819397993311037,-2.79933110367893,-2.779264214046823,-2.759197324414716,-2.739130434782609,-2.719063545150502,-2.6989966555183944,-2.678929765886288,-2.6588628762541804,-2.638795986622074,-2.6187290969899664,-2.5986622073578594,-2.5785953177257523,-2.5585284280936453,-2.5384615384615383,-2.5183946488294313,-2.4983277591973243,-2.4782608695652173,-2.4581939799331103,-2.4381270903010033,-2.4180602006688963,-2.3979933110367893,-2.3779264214046822,-2.3578595317725752,-2.3377926421404682,-2.317725752508361,-2.297658862876254,-2.277591973244147,-2.25752508361204,-2.237458193979933,-2.217391304347826,-2.197324414715719,-2.177257525083612,-2.157190635451505,-2.137123745819398,-2.1170568561872907,-2.096989966555184,-2.0769230769230766,-2.05685618729097,-2.0367892976588626,-2.016722408026756,-1.9966555183946488,-1.9765886287625418,-1.9565217391304348,-1.9364548494983278,-1.9163879598662208,-1.8963210702341138,-1.8762541806020065,-1.8561872909698995,-1.8361204013377925,-1.8160535117056855,-1.7959866220735785,-1.7759197324414715,-1.7558528428093645,-1.7357859531772575,-1.7157190635451505,-1.6956521739130435,-1.6755852842809364,-1.6555183946488294,-1.6354515050167224,-1.6153846153846154,-1.5953177257525084,-1.5752508361204014,-1.5551839464882944,-1.5351170568561872,-1.5150501672240801,-1.4949832775919731,-1.4749163879598661,-1.4548494983277591,-1.434782608695652,-1.414715719063545,-1.394648829431438,-1.374581939799331,-1.354515050167224,-1.334448160535117,-1.31438127090301,-1.294314381270903,-1.274247491638796,-1.254180602006689,-1.2341137123745818,-1.2140468227424748,-1.1939799331103678,-1.1739130434782608,-1.1538461538461537,-1.1337792642140467,-1.1137123745819397,-1.0936454849498327,-1.0735785953177257,-1.0535117056856187,-1.0334448160535117,-1.0133779264214047,-0.9933110367892977,-0.9732441471571907,-0.9531772575250836,-0.9331103678929766,-0.9130434782608696,-0.8929765886287626,-0.8729096989966556,-0.8528428093645486,-0.8327759197324416,-0.8127090301003346,-0.7926421404682276,-0.7725752508361206,-0.7525083612040131,-0.7324414715719061,-0.7123745819397991,-0.6923076923076921,-0.6722408026755851,-0.652173913043478,-0.632107023411371,-0.612040133779264,-0.591973244147157,-0.57190635451505,-0.551839464882943,-0.531772575250836,-0.511705685618729,-0.49163879598662197,-0.47157190635451496,-0.45150501672240795,-0.43143812709030094,-0.41137123745819393,-0.3913043478260869,-0.3712374581939799,-0.3511705685618729,-0.3311036789297659,-0.3110367892976589,-0.29096989966555187,-0.27090301003344486,-0.25083612040133785,-0.23076923076923084,-0.21070234113712383,-0.19063545150501682,-0.1705685618729098,-0.1505016722408028,-0.1304347826086958,-0.11036789297658878,-0.09030100334448132,-0.07023411371237431,-0.0501672240802673,-0.030100334448160293,-0.010033444816053283,0.010033444816053727,0.030100334448160737,0.05016722408026775,0.07023411371237476,0.09030100334448177,0.11036789297658878,0.1304347826086958,0.1505016722408028,0.1705685618729098,0.19063545150501682,0.21070234113712383,0.23076923076923084,0.25083612040133785,0.27090301003344486,0.29096989966555187,0.3110367892976589,0.3311036789297659,0.3511705685618729,0.3712374581939799,0.3913043478260869,0.41137123745819393,0.43143812709030094,0.45150501672240795,0.47157190635451496,0.49163879598662197,0.511705685618729,0.5317725752508364,0.5518394648829434,0.5719063545150505,0.5919732441471575,0.6120401337792645,0.6321070234113715,0.6521739130434785,0.6722408026755855,0.6923076923076925,0.7123745819397995,0.7324414715719065,0.7525083612040135,0.7725752508361206,0.7926421404682276,0.8127090301003346,0.8327759197324416,0.8528428093645486,0.8729096989966556,0.8929765886287626,0.9130434782608696,0.9331103678929766,0.9531772575250836,0.9732441471571907,0.9933110367892977,1.0133779264214047,1.0334448160535121,1.0535117056856187,1.0735785953177261,1.0936454849498327,1.1137123745819402,1.1337792642140467,1.1538461538461542,1.1739130434782608,1.1939799331103682,1.2140468227424748,1.2341137123745822,1.2541806020066888,1.2742474916387962,1.2943143812709028,1.3143812709030103,1.3344481605351168,1.3545150501672243,1.3745819397993309,1.3946488294314383,1.4147157190635449,1.4347826086956523,1.454849498327759,1.4749163879598663,1.4949832775919738,1.5150501672240804,1.5351170568561878,1.5551839464882944,1.5752508361204018,1.5953177257525084,1.6153846153846159,1.6354515050167224,1.6555183946488299,1.6755852842809364,1.695652173913044,1.7157190635451505,1.735785953177258,1.7558528428093645,1.775919732441472,1.7959866220735785,1.816053511705686,1.8361204013377925,1.8561872909699,1.8762541806020065,1.896321070234114,1.9163879598662206,1.936454849498328,1.9565217391304346,1.976588628762542,1.9966555183946486,2.016722408026756,2.0367892976588626,2.05685618729097,2.0769230769230766,2.096989966555184,2.1170568561872907,2.137123745819398,2.1571906354515056,2.177257525083612,2.1973244147157196,2.217391304347826,2.2374581939799336,2.25752508361204,2.2775919732441476,2.297658862876254,2.3177257525083617,2.3377926421404682,2.3578595317725757,2.3779264214046822,2.3979933110367897,2.4180602006688963,2.4381270903010037,2.4581939799331103,2.4782608695652177,2.4983277591973243,2.5183946488294318,2.5384615384615383,2.558528428093646,2.5785953177257523,2.59866220735786,2.6187290969899664,2.638795986622074,2.6588628762541804,2.678929765886288,2.6989966555183944,2.719063545150502,2.7391304347826084,2.759197324414716,2.7792642140468224,2.79933110367893,2.8193979933110374,2.839464882943144,2.8595317725752514,2.879598662207358,2.8996655518394654,2.919732441471572,2.9397993311036794,2.959866220735786,2.9799331103678934,3.0],\"yaxis\":\"y\",\"type\":\"scatter\"}],                        {\"template\":{\"data\":{\"histogram2dcontour\":[{\"type\":\"histogram2dcontour\",\"colorbar\":{\"outlinewidth\":0,\"ticks\":\"\"},\"colorscale\":[[0.0,\"#0d0887\"],[0.1111111111111111,\"#46039f\"],[0.2222222222222222,\"#7201a8\"],[0.3333333333333333,\"#9c179e\"],[0.4444444444444444,\"#bd3786\"],[0.5555555555555556,\"#d8576b\"],[0.6666666666666666,\"#ed7953\"],[0.7777777777777778,\"#fb9f3a\"],[0.8888888888888888,\"#fdca26\"],[1.0,\"#f0f921\"]]}],\"choropleth\":[{\"type\":\"choropleth\",\"colorbar\":{\"outlinewidth\":0,\"ticks\":\"\"}}],\"histogram2d\":[{\"type\":\"histogram2d\",\"colorbar\":{\"outlinewidth\":0,\"ticks\":\"\"},\"colorscale\":[[0.0,\"#0d0887\"],[0.1111111111111111,\"#46039f\"],[0.2222222222222222,\"#7201a8\"],[0.3333333333333333,\"#9c179e\"],[0.4444444444444444,\"#bd3786\"],[0.5555555555555556,\"#d8576b\"],[0.6666666666666666,\"#ed7953\"],[0.7777777777777778,\"#fb9f3a\"],[0.8888888888888888,\"#fdca26\"],[1.0,\"#f0f921\"]]}],\"heatmap\":[{\"type\":\"heatmap\",\"colorbar\":{\"outlinewidth\":0,\"ticks\":\"\"},\"colorscale\":[[0.0,\"#0d0887\"],[0.1111111111111111,\"#46039f\"],[0.2222222222222222,\"#7201a8\"],[0.3333333333333333,\"#9c179e\"],[0.4444444444444444,\"#bd3786\"],[0.5555555555555556,\"#d8576b\"],[0.6666666666666666,\"#ed7953\"],[0.7777777777777778,\"#fb9f3a\"],[0.8888888888888888,\"#fdca26\"],[1.0,\"#f0f921\"]]}],\"heatmapgl\":[{\"type\":\"heatmapgl\",\"colorbar\":{\"outlinewidth\":0,\"ticks\":\"\"},\"colorscale\":[[0.0,\"#0d0887\"],[0.1111111111111111,\"#46039f\"],[0.2222222222222222,\"#7201a8\"],[0.3333333333333333,\"#9c179e\"],[0.4444444444444444,\"#bd3786\"],[0.5555555555555556,\"#d8576b\"],[0.6666666666666666,\"#ed7953\"],[0.7777777777777778,\"#fb9f3a\"],[0.8888888888888888,\"#fdca26\"],[1.0,\"#f0f921\"]]}],\"contourcarpet\":[{\"type\":\"contourcarpet\",\"colorbar\":{\"outlinewidth\":0,\"ticks\":\"\"}}],\"contour\":[{\"type\":\"contour\",\"colorbar\":{\"outlinewidth\":0,\"ticks\":\"\"},\"colorscale\":[[0.0,\"#0d0887\"],[0.1111111111111111,\"#46039f\"],[0.2222222222222222,\"#7201a8\"],[0.3333333333333333,\"#9c179e\"],[0.4444444444444444,\"#bd3786\"],[0.5555555555555556,\"#d8576b\"],[0.6666666666666666,\"#ed7953\"],[0.7777777777777778,\"#fb9f3a\"],[0.8888888888888888,\"#fdca26\"],[1.0,\"#f0f921\"]]}],\"surface\":[{\"type\":\"surface\",\"colorbar\":{\"outlinewidth\":0,\"ticks\":\"\"},\"colorscale\":[[0.0,\"#0d0887\"],[0.1111111111111111,\"#46039f\"],[0.2222222222222222,\"#7201a8\"],[0.3333333333333333,\"#9c179e\"],[0.4444444444444444,\"#bd3786\"],[0.5555555555555556,\"#d8576b\"],[0.6666666666666666,\"#ed7953\"],[0.7777777777777778,\"#fb9f3a\"],[0.8888888888888888,\"#fdca26\"],[1.0,\"#f0f921\"]]}],\"mesh3d\":[{\"type\":\"mesh3d\",\"colorbar\":{\"outlinewidth\":0,\"ticks\":\"\"}}],\"scatter\":[{\"fillpattern\":{\"fillmode\":\"overlay\",\"size\":10,\"solidity\":0.2},\"type\":\"scatter\"}],\"parcoords\":[{\"type\":\"parcoords\",\"line\":{\"colorbar\":{\"outlinewidth\":0,\"ticks\":\"\"}}}],\"scatterpolargl\":[{\"type\":\"scatterpolargl\",\"marker\":{\"colorbar\":{\"outlinewidth\":0,\"ticks\":\"\"}}}],\"bar\":[{\"error_x\":{\"color\":\"#2a3f5f\"},\"error_y\":{\"color\":\"#2a3f5f\"},\"marker\":{\"line\":{\"color\":\"#E5ECF6\",\"width\":0.5},\"pattern\":{\"fillmode\":\"overlay\",\"size\":10,\"solidity\":0.2}},\"type\":\"bar\"}],\"scattergeo\":[{\"type\":\"scattergeo\",\"marker\":{\"colorbar\":{\"outlinewidth\":0,\"ticks\":\"\"}}}],\"scatterpolar\":[{\"type\":\"scatterpolar\",\"marker\":{\"colorbar\":{\"outlinewidth\":0,\"ticks\":\"\"}}}],\"histogram\":[{\"marker\":{\"pattern\":{\"fillmode\":\"overlay\",\"size\":10,\"solidity\":0.2}},\"type\":\"histogram\"}],\"scattergl\":[{\"type\":\"scattergl\",\"marker\":{\"colorbar\":{\"outlinewidth\":0,\"ticks\":\"\"}}}],\"scatter3d\":[{\"type\":\"scatter3d\",\"line\":{\"colorbar\":{\"outlinewidth\":0,\"ticks\":\"\"}},\"marker\":{\"colorbar\":{\"outlinewidth\":0,\"ticks\":\"\"}}}],\"scattermapbox\":[{\"type\":\"scattermapbox\",\"marker\":{\"colorbar\":{\"outlinewidth\":0,\"ticks\":\"\"}}}],\"scatterternary\":[{\"type\":\"scatterternary\",\"marker\":{\"colorbar\":{\"outlinewidth\":0,\"ticks\":\"\"}}}],\"scattercarpet\":[{\"type\":\"scattercarpet\",\"marker\":{\"colorbar\":{\"outlinewidth\":0,\"ticks\":\"\"}}}],\"carpet\":[{\"aaxis\":{\"endlinecolor\":\"#2a3f5f\",\"gridcolor\":\"white\",\"linecolor\":\"white\",\"minorgridcolor\":\"white\",\"startlinecolor\":\"#2a3f5f\"},\"baxis\":{\"endlinecolor\":\"#2a3f5f\",\"gridcolor\":\"white\",\"linecolor\":\"white\",\"minorgridcolor\":\"white\",\"startlinecolor\":\"#2a3f5f\"},\"type\":\"carpet\"}],\"table\":[{\"cells\":{\"fill\":{\"color\":\"#EBF0F8\"},\"line\":{\"color\":\"white\"}},\"header\":{\"fill\":{\"color\":\"#C8D4E3\"},\"line\":{\"color\":\"white\"}},\"type\":\"table\"}],\"barpolar\":[{\"marker\":{\"line\":{\"color\":\"#E5ECF6\",\"width\":0.5},\"pattern\":{\"fillmode\":\"overlay\",\"size\":10,\"solidity\":0.2}},\"type\":\"barpolar\"}],\"pie\":[{\"automargin\":true,\"type\":\"pie\"}]},\"layout\":{\"autotypenumbers\":\"strict\",\"colorway\":[\"#636efa\",\"#EF553B\",\"#00cc96\",\"#ab63fa\",\"#FFA15A\",\"#19d3f3\",\"#FF6692\",\"#B6E880\",\"#FF97FF\",\"#FECB52\"],\"font\":{\"color\":\"#2a3f5f\"},\"hovermode\":\"closest\",\"hoverlabel\":{\"align\":\"left\"},\"paper_bgcolor\":\"white\",\"plot_bgcolor\":\"#E5ECF6\",\"polar\":{\"bgcolor\":\"#E5ECF6\",\"angularaxis\":{\"gridcolor\":\"white\",\"linecolor\":\"white\",\"ticks\":\"\"},\"radialaxis\":{\"gridcolor\":\"white\",\"linecolor\":\"white\",\"ticks\":\"\"}},\"ternary\":{\"bgcolor\":\"#E5ECF6\",\"aaxis\":{\"gridcolor\":\"white\",\"linecolor\":\"white\",\"ticks\":\"\"},\"baxis\":{\"gridcolor\":\"white\",\"linecolor\":\"white\",\"ticks\":\"\"},\"caxis\":{\"gridcolor\":\"white\",\"linecolor\":\"white\",\"ticks\":\"\"}},\"coloraxis\":{\"colorbar\":{\"outlinewidth\":0,\"ticks\":\"\"}},\"colorscale\":{\"sequential\":[[0.0,\"#0d0887\"],[0.1111111111111111,\"#46039f\"],[0.2222222222222222,\"#7201a8\"],[0.3333333333333333,\"#9c179e\"],[0.4444444444444444,\"#bd3786\"],[0.5555555555555556,\"#d8576b\"],[0.6666666666666666,\"#ed7953\"],[0.7777777777777778,\"#fb9f3a\"],[0.8888888888888888,\"#fdca26\"],[1.0,\"#f0f921\"]],\"sequentialminus\":[[0.0,\"#0d0887\"],[0.1111111111111111,\"#46039f\"],[0.2222222222222222,\"#7201a8\"],[0.3333333333333333,\"#9c179e\"],[0.4444444444444444,\"#bd3786\"],[0.5555555555555556,\"#d8576b\"],[0.6666666666666666,\"#ed7953\"],[0.7777777777777778,\"#fb9f3a\"],[0.8888888888888888,\"#fdca26\"],[1.0,\"#f0f921\"]],\"diverging\":[[0,\"#8e0152\"],[0.1,\"#c51b7d\"],[0.2,\"#de77ae\"],[0.3,\"#f1b6da\"],[0.4,\"#fde0ef\"],[0.5,\"#f7f7f7\"],[0.6,\"#e6f5d0\"],[0.7,\"#b8e186\"],[0.8,\"#7fbc41\"],[0.9,\"#4d9221\"],[1,\"#276419\"]]},\"xaxis\":{\"gridcolor\":\"white\",\"linecolor\":\"white\",\"ticks\":\"\",\"title\":{\"standoff\":15},\"zerolinecolor\":\"white\",\"automargin\":true,\"zerolinewidth\":2},\"yaxis\":{\"gridcolor\":\"white\",\"linecolor\":\"white\",\"ticks\":\"\",\"title\":{\"standoff\":15},\"zerolinecolor\":\"white\",\"automargin\":true,\"zerolinewidth\":2},\"scene\":{\"xaxis\":{\"backgroundcolor\":\"#E5ECF6\",\"gridcolor\":\"white\",\"linecolor\":\"white\",\"showbackground\":true,\"ticks\":\"\",\"zerolinecolor\":\"white\",\"gridwidth\":2},\"yaxis\":{\"backgroundcolor\":\"#E5ECF6\",\"gridcolor\":\"white\",\"linecolor\":\"white\",\"showbackground\":true,\"ticks\":\"\",\"zerolinecolor\":\"white\",\"gridwidth\":2},\"zaxis\":{\"backgroundcolor\":\"#E5ECF6\",\"gridcolor\":\"white\",\"linecolor\":\"white\",\"showbackground\":true,\"ticks\":\"\",\"zerolinecolor\":\"white\",\"gridwidth\":2}},\"shapedefaults\":{\"line\":{\"color\":\"#2a3f5f\"}},\"annotationdefaults\":{\"arrowcolor\":\"#2a3f5f\",\"arrowhead\":0,\"arrowwidth\":1},\"geo\":{\"bgcolor\":\"white\",\"landcolor\":\"#E5ECF6\",\"subunitcolor\":\"white\",\"showland\":true,\"showlakes\":true,\"lakecolor\":\"white\"},\"title\":{\"x\":0.05},\"mapbox\":{\"style\":\"light\"}}},\"xaxis\":{\"anchor\":\"y\",\"domain\":[0.0,1.0],\"title\":{\"text\":\"data\"}},\"yaxis\":{\"anchor\":\"x\",\"domain\":[0.0,1.0],\"title\":{\"text\":\"linear\"},\"range\":[-3,3]},\"legend\":{\"tracegroupgap\":0},\"margin\":{\"t\":60},\"height\":400,\"width\":500},                        {\"responsive\": true}                    ).then(function(){\n",
              "                            \n",
              "var gd = document.getElementById('a310e0b6-8294-4e7a-a3a3-55a4e3e4b6f4');\n",
              "var x = new MutationObserver(function (mutations, observer) {{\n",
              "        var display = window.getComputedStyle(gd).display;\n",
              "        if (!display || display === 'none') {{\n",
              "            console.log([gd, 'removed!']);\n",
              "            Plotly.purge(gd);\n",
              "            observer.disconnect();\n",
              "        }}\n",
              "}});\n",
              "\n",
              "// Listen for the removal of the full notebook cells\n",
              "var notebookContainer = gd.closest('#notebook-container');\n",
              "if (notebookContainer) {{\n",
              "    x.observe(notebookContainer, {childList: true});\n",
              "}}\n",
              "\n",
              "// Listen for the clearing of the current output cell\n",
              "var outputEl = gd.closest('.output');\n",
              "if (outputEl) {{\n",
              "    x.observe(outputEl, {childList: true});\n",
              "}}\n",
              "\n",
              "                        })                };                            </script>        </div>\n",
              "</body>\n",
              "</html>"
            ]
          },
          "metadata": {}
        }
      ]
    },
    {
      "cell_type": "code",
      "metadata": {
        "id": "xGsRlPQde7Qc",
        "outputId": "dd19552e-4fe8-4b85-a5d9-a95b608bf86b",
        "colab": {
          "base_uri": "https://localhost:8080/",
          "height": 206
        }
      },
      "source": [
        "from tensorflow.keras.activations import sigmoid\n",
        "\n",
        "data = pd.DataFrame({'data': random_data, 'sigmoid': sigmoid(random_data)})\n",
        "data.head()"
      ],
      "execution_count": 8,
      "outputs": [
        {
          "output_type": "execute_result",
          "data": {
            "text/plain": [
              "       data   sigmoid\n",
              "0 -3.000000  0.047426\n",
              "1 -2.979933  0.048341\n",
              "2 -2.959866  0.049272\n",
              "3 -2.939799  0.050221\n",
              "4 -2.919732  0.051187"
            ],
            "text/html": [
              "\n",
              "  <div id=\"df-17c9c86c-380c-4c69-9e00-f7ee4bc2af86\" class=\"colab-df-container\">\n",
              "    <div>\n",
              "<style scoped>\n",
              "    .dataframe tbody tr th:only-of-type {\n",
              "        vertical-align: middle;\n",
              "    }\n",
              "\n",
              "    .dataframe tbody tr th {\n",
              "        vertical-align: top;\n",
              "    }\n",
              "\n",
              "    .dataframe thead th {\n",
              "        text-align: right;\n",
              "    }\n",
              "</style>\n",
              "<table border=\"1\" class=\"dataframe\">\n",
              "  <thead>\n",
              "    <tr style=\"text-align: right;\">\n",
              "      <th></th>\n",
              "      <th>data</th>\n",
              "      <th>sigmoid</th>\n",
              "    </tr>\n",
              "  </thead>\n",
              "  <tbody>\n",
              "    <tr>\n",
              "      <th>0</th>\n",
              "      <td>-3.000000</td>\n",
              "      <td>0.047426</td>\n",
              "    </tr>\n",
              "    <tr>\n",
              "      <th>1</th>\n",
              "      <td>-2.979933</td>\n",
              "      <td>0.048341</td>\n",
              "    </tr>\n",
              "    <tr>\n",
              "      <th>2</th>\n",
              "      <td>-2.959866</td>\n",
              "      <td>0.049272</td>\n",
              "    </tr>\n",
              "    <tr>\n",
              "      <th>3</th>\n",
              "      <td>-2.939799</td>\n",
              "      <td>0.050221</td>\n",
              "    </tr>\n",
              "    <tr>\n",
              "      <th>4</th>\n",
              "      <td>-2.919732</td>\n",
              "      <td>0.051187</td>\n",
              "    </tr>\n",
              "  </tbody>\n",
              "</table>\n",
              "</div>\n",
              "    <div class=\"colab-df-buttons\">\n",
              "\n",
              "  <div class=\"colab-df-container\">\n",
              "    <button class=\"colab-df-convert\" onclick=\"convertToInteractive('df-17c9c86c-380c-4c69-9e00-f7ee4bc2af86')\"\n",
              "            title=\"Convert this dataframe to an interactive table.\"\n",
              "            style=\"display:none;\">\n",
              "\n",
              "  <svg xmlns=\"http://www.w3.org/2000/svg\" height=\"24px\" viewBox=\"0 -960 960 960\">\n",
              "    <path d=\"M120-120v-720h720v720H120Zm60-500h600v-160H180v160Zm220 220h160v-160H400v160Zm0 220h160v-160H400v160ZM180-400h160v-160H180v160Zm440 0h160v-160H620v160ZM180-180h160v-160H180v160Zm440 0h160v-160H620v160Z\"/>\n",
              "  </svg>\n",
              "    </button>\n",
              "\n",
              "  <style>\n",
              "    .colab-df-container {\n",
              "      display:flex;\n",
              "      gap: 12px;\n",
              "    }\n",
              "\n",
              "    .colab-df-convert {\n",
              "      background-color: #E8F0FE;\n",
              "      border: none;\n",
              "      border-radius: 50%;\n",
              "      cursor: pointer;\n",
              "      display: none;\n",
              "      fill: #1967D2;\n",
              "      height: 32px;\n",
              "      padding: 0 0 0 0;\n",
              "      width: 32px;\n",
              "    }\n",
              "\n",
              "    .colab-df-convert:hover {\n",
              "      background-color: #E2EBFA;\n",
              "      box-shadow: 0px 1px 2px rgba(60, 64, 67, 0.3), 0px 1px 3px 1px rgba(60, 64, 67, 0.15);\n",
              "      fill: #174EA6;\n",
              "    }\n",
              "\n",
              "    .colab-df-buttons div {\n",
              "      margin-bottom: 4px;\n",
              "    }\n",
              "\n",
              "    [theme=dark] .colab-df-convert {\n",
              "      background-color: #3B4455;\n",
              "      fill: #D2E3FC;\n",
              "    }\n",
              "\n",
              "    [theme=dark] .colab-df-convert:hover {\n",
              "      background-color: #434B5C;\n",
              "      box-shadow: 0px 1px 3px 1px rgba(0, 0, 0, 0.15);\n",
              "      filter: drop-shadow(0px 1px 2px rgba(0, 0, 0, 0.3));\n",
              "      fill: #FFFFFF;\n",
              "    }\n",
              "  </style>\n",
              "\n",
              "    <script>\n",
              "      const buttonEl =\n",
              "        document.querySelector('#df-17c9c86c-380c-4c69-9e00-f7ee4bc2af86 button.colab-df-convert');\n",
              "      buttonEl.style.display =\n",
              "        google.colab.kernel.accessAllowed ? 'block' : 'none';\n",
              "\n",
              "      async function convertToInteractive(key) {\n",
              "        const element = document.querySelector('#df-17c9c86c-380c-4c69-9e00-f7ee4bc2af86');\n",
              "        const dataTable =\n",
              "          await google.colab.kernel.invokeFunction('convertToInteractive',\n",
              "                                                    [key], {});\n",
              "        if (!dataTable) return;\n",
              "\n",
              "        const docLinkHtml = 'Like what you see? Visit the ' +\n",
              "          '<a target=\"_blank\" href=https://colab.research.google.com/notebooks/data_table.ipynb>data table notebook</a>'\n",
              "          + ' to learn more about interactive tables.';\n",
              "        element.innerHTML = '';\n",
              "        dataTable['output_type'] = 'display_data';\n",
              "        await google.colab.output.renderOutput(dataTable, element);\n",
              "        const docLink = document.createElement('div');\n",
              "        docLink.innerHTML = docLinkHtml;\n",
              "        element.appendChild(docLink);\n",
              "      }\n",
              "    </script>\n",
              "  </div>\n",
              "\n",
              "\n",
              "<div id=\"df-b56aac5f-652b-4b08-b77c-0bcb7a1747f3\">\n",
              "  <button class=\"colab-df-quickchart\" onclick=\"quickchart('df-b56aac5f-652b-4b08-b77c-0bcb7a1747f3')\"\n",
              "            title=\"Suggest charts\"\n",
              "            style=\"display:none;\">\n",
              "\n",
              "<svg xmlns=\"http://www.w3.org/2000/svg\" height=\"24px\"viewBox=\"0 0 24 24\"\n",
              "     width=\"24px\">\n",
              "    <g>\n",
              "        <path d=\"M19 3H5c-1.1 0-2 .9-2 2v14c0 1.1.9 2 2 2h14c1.1 0 2-.9 2-2V5c0-1.1-.9-2-2-2zM9 17H7v-7h2v7zm4 0h-2V7h2v10zm4 0h-2v-4h2v4z\"/>\n",
              "    </g>\n",
              "</svg>\n",
              "  </button>\n",
              "\n",
              "<style>\n",
              "  .colab-df-quickchart {\n",
              "      --bg-color: #E8F0FE;\n",
              "      --fill-color: #1967D2;\n",
              "      --hover-bg-color: #E2EBFA;\n",
              "      --hover-fill-color: #174EA6;\n",
              "      --disabled-fill-color: #AAA;\n",
              "      --disabled-bg-color: #DDD;\n",
              "  }\n",
              "\n",
              "  [theme=dark] .colab-df-quickchart {\n",
              "      --bg-color: #3B4455;\n",
              "      --fill-color: #D2E3FC;\n",
              "      --hover-bg-color: #434B5C;\n",
              "      --hover-fill-color: #FFFFFF;\n",
              "      --disabled-bg-color: #3B4455;\n",
              "      --disabled-fill-color: #666;\n",
              "  }\n",
              "\n",
              "  .colab-df-quickchart {\n",
              "    background-color: var(--bg-color);\n",
              "    border: none;\n",
              "    border-radius: 50%;\n",
              "    cursor: pointer;\n",
              "    display: none;\n",
              "    fill: var(--fill-color);\n",
              "    height: 32px;\n",
              "    padding: 0;\n",
              "    width: 32px;\n",
              "  }\n",
              "\n",
              "  .colab-df-quickchart:hover {\n",
              "    background-color: var(--hover-bg-color);\n",
              "    box-shadow: 0 1px 2px rgba(60, 64, 67, 0.3), 0 1px 3px 1px rgba(60, 64, 67, 0.15);\n",
              "    fill: var(--button-hover-fill-color);\n",
              "  }\n",
              "\n",
              "  .colab-df-quickchart-complete:disabled,\n",
              "  .colab-df-quickchart-complete:disabled:hover {\n",
              "    background-color: var(--disabled-bg-color);\n",
              "    fill: var(--disabled-fill-color);\n",
              "    box-shadow: none;\n",
              "  }\n",
              "\n",
              "  .colab-df-spinner {\n",
              "    border: 2px solid var(--fill-color);\n",
              "    border-color: transparent;\n",
              "    border-bottom-color: var(--fill-color);\n",
              "    animation:\n",
              "      spin 1s steps(1) infinite;\n",
              "  }\n",
              "\n",
              "  @keyframes spin {\n",
              "    0% {\n",
              "      border-color: transparent;\n",
              "      border-bottom-color: var(--fill-color);\n",
              "      border-left-color: var(--fill-color);\n",
              "    }\n",
              "    20% {\n",
              "      border-color: transparent;\n",
              "      border-left-color: var(--fill-color);\n",
              "      border-top-color: var(--fill-color);\n",
              "    }\n",
              "    30% {\n",
              "      border-color: transparent;\n",
              "      border-left-color: var(--fill-color);\n",
              "      border-top-color: var(--fill-color);\n",
              "      border-right-color: var(--fill-color);\n",
              "    }\n",
              "    40% {\n",
              "      border-color: transparent;\n",
              "      border-right-color: var(--fill-color);\n",
              "      border-top-color: var(--fill-color);\n",
              "    }\n",
              "    60% {\n",
              "      border-color: transparent;\n",
              "      border-right-color: var(--fill-color);\n",
              "    }\n",
              "    80% {\n",
              "      border-color: transparent;\n",
              "      border-right-color: var(--fill-color);\n",
              "      border-bottom-color: var(--fill-color);\n",
              "    }\n",
              "    90% {\n",
              "      border-color: transparent;\n",
              "      border-bottom-color: var(--fill-color);\n",
              "    }\n",
              "  }\n",
              "</style>\n",
              "\n",
              "  <script>\n",
              "    async function quickchart(key) {\n",
              "      const quickchartButtonEl =\n",
              "        document.querySelector('#' + key + ' button');\n",
              "      quickchartButtonEl.disabled = true;  // To prevent multiple clicks.\n",
              "      quickchartButtonEl.classList.add('colab-df-spinner');\n",
              "      try {\n",
              "        const charts = await google.colab.kernel.invokeFunction(\n",
              "            'suggestCharts', [key], {});\n",
              "      } catch (error) {\n",
              "        console.error('Error during call to suggestCharts:', error);\n",
              "      }\n",
              "      quickchartButtonEl.classList.remove('colab-df-spinner');\n",
              "      quickchartButtonEl.classList.add('colab-df-quickchart-complete');\n",
              "    }\n",
              "    (() => {\n",
              "      let quickchartButtonEl =\n",
              "        document.querySelector('#df-b56aac5f-652b-4b08-b77c-0bcb7a1747f3 button');\n",
              "      quickchartButtonEl.style.display =\n",
              "        google.colab.kernel.accessAllowed ? 'block' : 'none';\n",
              "    })();\n",
              "  </script>\n",
              "</div>\n",
              "\n",
              "    </div>\n",
              "  </div>\n"
            ],
            "application/vnd.google.colaboratory.intrinsic+json": {
              "type": "dataframe",
              "variable_name": "data",
              "summary": "{\n  \"name\": \"data\",\n  \"rows\": 300,\n  \"fields\": [\n    {\n      \"column\": \"data\",\n      \"properties\": {\n        \"dtype\": \"number\",\n        \"std\": 1.7407376160097798,\n        \"min\": -3.0,\n        \"max\": 3.0,\n        \"num_unique_values\": 300,\n        \"samples\": [\n          1.0735785953177261,\n          2.3377926421404682,\n          0.05016722408026775\n        ],\n        \"semantic_type\": \"\",\n        \"description\": \"\"\n      }\n    },\n    {\n      \"column\": \"sigmoid\",\n      \"properties\": {\n        \"dtype\": \"number\",\n        \"std\": 0.31595481166358946,\n        \"min\": 0.04742587317756679,\n        \"max\": 0.9525741268224333,\n        \"num_unique_values\": 300,\n        \"samples\": [\n          0.7452768698058798,\n          0.9119590180077296,\n          0.5125391762989863\n        ],\n        \"semantic_type\": \"\",\n        \"description\": \"\"\n      }\n    }\n  ]\n}"
            }
          },
          "metadata": {},
          "execution_count": 8
        }
      ]
    },
    {
      "cell_type": "code",
      "metadata": {
        "id": "DbWCwhXifvXx",
        "outputId": "ac8e4836-bc86-4eb2-f6e6-22a64b5aace9",
        "colab": {
          "base_uri": "https://localhost:8080/",
          "height": 417
        }
      },
      "source": [
        "px.line(data, x='data', y='sigmoid', width=500, height=400, range_y=[-0.5, 1.5])"
      ],
      "execution_count": 9,
      "outputs": [
        {
          "output_type": "display_data",
          "data": {
            "text/html": [
              "<html>\n",
              "<head><meta charset=\"utf-8\" /></head>\n",
              "<body>\n",
              "    <div>            <script src=\"https://cdnjs.cloudflare.com/ajax/libs/mathjax/2.7.5/MathJax.js?config=TeX-AMS-MML_SVG\"></script><script type=\"text/javascript\">if (window.MathJax && window.MathJax.Hub && window.MathJax.Hub.Config) {window.MathJax.Hub.Config({SVG: {font: \"STIX-Web\"}});}</script>                <script type=\"text/javascript\">window.PlotlyConfig = {MathJaxConfig: 'local'};</script>\n",
              "        <script charset=\"utf-8\" src=\"https://cdn.plot.ly/plotly-2.24.1.min.js\"></script>                <div id=\"5f11baa5-a56d-45d5-88de-7cabb3a4518d\" class=\"plotly-graph-div\" style=\"height:400px; width:500px;\"></div>            <script type=\"text/javascript\">                                    window.PLOTLYENV=window.PLOTLYENV || {};                                    if (document.getElementById(\"5f11baa5-a56d-45d5-88de-7cabb3a4518d\")) {                    Plotly.newPlot(                        \"5f11baa5-a56d-45d5-88de-7cabb3a4518d\",                        [{\"hovertemplate\":\"data=%{x}\\u003cbr\\u003esigmoid=%{y}\\u003cextra\\u003e\\u003c\\u002fextra\\u003e\",\"legendgroup\":\"\",\"line\":{\"color\":\"#636efa\",\"dash\":\"solid\"},\"marker\":{\"symbol\":\"circle\"},\"mode\":\"lines\",\"name\":\"\",\"orientation\":\"v\",\"showlegend\":false,\"x\":[-3.0,-2.979933110367893,-2.959866220735786,-2.939799331103679,-2.919732441471572,-2.899665551839465,-2.879598662207358,-2.859531772575251,-2.839464882943144,-2.819397993311037,-2.79933110367893,-2.779264214046823,-2.759197324414716,-2.739130434782609,-2.719063545150502,-2.6989966555183944,-2.678929765886288,-2.6588628762541804,-2.638795986622074,-2.6187290969899664,-2.5986622073578594,-2.5785953177257523,-2.5585284280936453,-2.5384615384615383,-2.5183946488294313,-2.4983277591973243,-2.4782608695652173,-2.4581939799331103,-2.4381270903010033,-2.4180602006688963,-2.3979933110367893,-2.3779264214046822,-2.3578595317725752,-2.3377926421404682,-2.317725752508361,-2.297658862876254,-2.277591973244147,-2.25752508361204,-2.237458193979933,-2.217391304347826,-2.197324414715719,-2.177257525083612,-2.157190635451505,-2.137123745819398,-2.1170568561872907,-2.096989966555184,-2.0769230769230766,-2.05685618729097,-2.0367892976588626,-2.016722408026756,-1.9966555183946488,-1.9765886287625418,-1.9565217391304348,-1.9364548494983278,-1.9163879598662208,-1.8963210702341138,-1.8762541806020065,-1.8561872909698995,-1.8361204013377925,-1.8160535117056855,-1.7959866220735785,-1.7759197324414715,-1.7558528428093645,-1.7357859531772575,-1.7157190635451505,-1.6956521739130435,-1.6755852842809364,-1.6555183946488294,-1.6354515050167224,-1.6153846153846154,-1.5953177257525084,-1.5752508361204014,-1.5551839464882944,-1.5351170568561872,-1.5150501672240801,-1.4949832775919731,-1.4749163879598661,-1.4548494983277591,-1.434782608695652,-1.414715719063545,-1.394648829431438,-1.374581939799331,-1.354515050167224,-1.334448160535117,-1.31438127090301,-1.294314381270903,-1.274247491638796,-1.254180602006689,-1.2341137123745818,-1.2140468227424748,-1.1939799331103678,-1.1739130434782608,-1.1538461538461537,-1.1337792642140467,-1.1137123745819397,-1.0936454849498327,-1.0735785953177257,-1.0535117056856187,-1.0334448160535117,-1.0133779264214047,-0.9933110367892977,-0.9732441471571907,-0.9531772575250836,-0.9331103678929766,-0.9130434782608696,-0.8929765886287626,-0.8729096989966556,-0.8528428093645486,-0.8327759197324416,-0.8127090301003346,-0.7926421404682276,-0.7725752508361206,-0.7525083612040131,-0.7324414715719061,-0.7123745819397991,-0.6923076923076921,-0.6722408026755851,-0.652173913043478,-0.632107023411371,-0.612040133779264,-0.591973244147157,-0.57190635451505,-0.551839464882943,-0.531772575250836,-0.511705685618729,-0.49163879598662197,-0.47157190635451496,-0.45150501672240795,-0.43143812709030094,-0.41137123745819393,-0.3913043478260869,-0.3712374581939799,-0.3511705685618729,-0.3311036789297659,-0.3110367892976589,-0.29096989966555187,-0.27090301003344486,-0.25083612040133785,-0.23076923076923084,-0.21070234113712383,-0.19063545150501682,-0.1705685618729098,-0.1505016722408028,-0.1304347826086958,-0.11036789297658878,-0.09030100334448132,-0.07023411371237431,-0.0501672240802673,-0.030100334448160293,-0.010033444816053283,0.010033444816053727,0.030100334448160737,0.05016722408026775,0.07023411371237476,0.09030100334448177,0.11036789297658878,0.1304347826086958,0.1505016722408028,0.1705685618729098,0.19063545150501682,0.21070234113712383,0.23076923076923084,0.25083612040133785,0.27090301003344486,0.29096989966555187,0.3110367892976589,0.3311036789297659,0.3511705685618729,0.3712374581939799,0.3913043478260869,0.41137123745819393,0.43143812709030094,0.45150501672240795,0.47157190635451496,0.49163879598662197,0.511705685618729,0.5317725752508364,0.5518394648829434,0.5719063545150505,0.5919732441471575,0.6120401337792645,0.6321070234113715,0.6521739130434785,0.6722408026755855,0.6923076923076925,0.7123745819397995,0.7324414715719065,0.7525083612040135,0.7725752508361206,0.7926421404682276,0.8127090301003346,0.8327759197324416,0.8528428093645486,0.8729096989966556,0.8929765886287626,0.9130434782608696,0.9331103678929766,0.9531772575250836,0.9732441471571907,0.9933110367892977,1.0133779264214047,1.0334448160535121,1.0535117056856187,1.0735785953177261,1.0936454849498327,1.1137123745819402,1.1337792642140467,1.1538461538461542,1.1739130434782608,1.1939799331103682,1.2140468227424748,1.2341137123745822,1.2541806020066888,1.2742474916387962,1.2943143812709028,1.3143812709030103,1.3344481605351168,1.3545150501672243,1.3745819397993309,1.3946488294314383,1.4147157190635449,1.4347826086956523,1.454849498327759,1.4749163879598663,1.4949832775919738,1.5150501672240804,1.5351170568561878,1.5551839464882944,1.5752508361204018,1.5953177257525084,1.6153846153846159,1.6354515050167224,1.6555183946488299,1.6755852842809364,1.695652173913044,1.7157190635451505,1.735785953177258,1.7558528428093645,1.775919732441472,1.7959866220735785,1.816053511705686,1.8361204013377925,1.8561872909699,1.8762541806020065,1.896321070234114,1.9163879598662206,1.936454849498328,1.9565217391304346,1.976588628762542,1.9966555183946486,2.016722408026756,2.0367892976588626,2.05685618729097,2.0769230769230766,2.096989966555184,2.1170568561872907,2.137123745819398,2.1571906354515056,2.177257525083612,2.1973244147157196,2.217391304347826,2.2374581939799336,2.25752508361204,2.2775919732441476,2.297658862876254,2.3177257525083617,2.3377926421404682,2.3578595317725757,2.3779264214046822,2.3979933110367897,2.4180602006688963,2.4381270903010037,2.4581939799331103,2.4782608695652177,2.4983277591973243,2.5183946488294318,2.5384615384615383,2.558528428093646,2.5785953177257523,2.59866220735786,2.6187290969899664,2.638795986622074,2.6588628762541804,2.678929765886288,2.6989966555183944,2.719063545150502,2.7391304347826084,2.759197324414716,2.7792642140468224,2.79933110367893,2.8193979933110374,2.839464882943144,2.8595317725752514,2.879598662207358,2.8996655518394654,2.919732441471572,2.9397993311036794,2.959866220735786,2.9799331103678934,3.0],\"xaxis\":\"x\",\"y\":[0.04742587317756679,0.048340705809681674,0.04927227253100449,0.05022084397406027,0.05118669376913059,0.05217009852116519,0.05317133778377139,0.05419069403017183,0.05522845262101941,0.05628490176895615,0.057360332499801235,0.0584550386102517,0.059569316621977564,0.06070346573199204,0.06185778775917564,0.0630325870868323,0.06422817060115395,0.06544484762546998,0.06668292985015552,0.06794273125807446,0.06922456804542951,0.07052875853789459,0.07185562310190226,0.07320548405096042,0.0745786655468728,0.07597549349573797,0.07739629543860309,0.07884140043664953,0.08031113895078917,0.08180584271555183,0.08332584460714686,0.08487147850558377,0.08644307915074052,0.08804098199227044,0.08966552303324322,0.09131703866741864,0.09299586551005688,0.094702340222174,0.09643679932815588,0.09819957902665112,0.09999101499466823,0.10181144218481032,0.10366119461558734,0.1055406051547542,0.10745000529563078,0.10938972492636984,0.11136009209214778,0.11336143275026259,0.11539407051813644,0.11745832641422789,0.11955451859187528,0.12168296206610014,0.12384396843341766,0.12603784558471107,0.1282648974112431,0.1305254235038923,0.13281971884571703,0.1351480734979668,0.13751077227967676,0.13990809444099878,0.14234031333043995,0.14480769605619864,0.14731050314180635,0.14984898817630302,0.15242339745919414,0.1550339696404574,0.15768093535588806,0.16036451685809297,0.16308492764346447,0.16584237207548816,0.16863704500475898,0.1714691313861033,0.1743388058932271,0.1772462325313315,0.18019156424816118,0.1831749425439719,0.18619649708092617,0.18925634529244867,0.19235459199309404,0.19549132898950097,0.19866663469302867,0.20188057373469068,0.2051331965830219,0.20842453916553327,0.2117546224944275,0.21512345229726554,0.21853101865329141,0.22197729563613694,0.22546224096364312,0.2289857956555469,0.23254788369979437,0.23614841172825077,0.23978726870258607,0.24346432561112225,0.24717943517743174,0.25093243158148215,0.25472313019412024,0.25855132732568903,0.26241679998956935,0.2663193056814292,0.27025858217495907,0.27423434733486024,0.2782462989478413,0.282294114572361,0.2863774514078418,0.2904959461840557,0.29464921507136166,0.2988368536124498,0.30305843667622046,0.3073135184343916,0.3116016323614029,0.31592229125814075,0.320274987299977,0.3246591921095709,0.3290743568548415,0.3335199123724729,0.3379952693172676,0.3424998183376125,0.34703293027727333,0.3515939564036772,0.35618222866278915,0.36079705996063294,0.36543774447144606,0.3701035579724016,0.37479375820476785,0.379507585261317,0.38424426199972905,0.38900299448167935,0.39378297243723015,0.39858336975408887,0.403403344991229,0.40824204191631036,0.4130985900662718,0.417972105330411,0.4228616905552035,0.4277664361700588,0.4326854208331506,0.43761771209640726,0.4425623670886926,0.4475184332161591,0.45248494887870644,0.4574609442014324,0.4624454417799226,0.46743745743818327,0.47243600099798777,0.4774400770583734,0.4824486857839941,0.4874608237010138,0.4924754844991968,0.4974916598388382,0.502508340161162,0.5075245155008034,0.5125391762989863,0.517551314216006,0.5225599229416268,0.5275639990020122,0.5325625425618168,0.5375545582200774,0.5425390557985675,0.5475150511212936,0.552481566783841,0.5574376329113074,0.5623822879035927,0.5673145791668494,0.5722335638299413,0.5771383094447964,0.5820278946695889,0.5869014099337281,0.5917579580836896,0.596596655008771,0.6014166302459112,0.6062170275627699,0.6109970055183207,0.615755738000271,0.620492414738683,0.6252062417952321,0.6298964420275985,0.634562255528554,0.6392029400393672,0.643817771337211,0.6484060435963229,0.6529670697227268,0.6575001816623876,0.6620047306827325,0.6664800876275272,0.6709256431451586,0.6753408078904292,0.6797250127000231,0.6840777087418592,0.6883983676385971,0.6926864815656084,0.6969415633237795,0.7011631463875502,0.7053507849286383,0.7095040538159443,0.7136225485921582,0.717705885427639,0.7217537010521586,0.7257656526651397,0.729741417825041,0.7336806943185707,0.7375832000104307,0.7414486726743109,0.7452768698058798,0.7490675684185178,0.7528205648225684,0.7565356743888778,0.760212731297414,0.7638515882717493,0.7674521163002057,0.7710142043444531,0.7745377590363569,0.778022704363863,0.7814689813467086,0.7848765477027345,0.7882453775055726,0.7915754608344666,0.7948668034169782,0.7981194262653093,0.8013333653069714,0.8045086710104989,0.807645408006906,0.8107436547075513,0.8138035029190739,0.8168250574560282,0.8198084357518388,0.8227537674686686,0.825661194106773,0.8285308686138968,0.831362954995241,0.8341576279245119,0.8369150723565355,0.8396354831419071,0.8423190646441119,0.8449660303595427,0.8475766025408059,0.850151011823697,0.8526894968581936,0.8551923039438014,0.85765968666956,0.8600919055590013,0.8624892277203232,0.8648519265020332,0.867180281154283,0.8694745764961077,0.8717351025887569,0.8739621544152889,0.8761560315665822,0.8783170379339,0.8804454814081247,0.8825416735857722,0.8846059294818635,0.8866385672497374,0.8886399079078521,0.8906102750736302,0.8925499947043692,0.8944593948452458,0.8963388053844127,0.8981885578151897,0.9000089850053318,0.9018004209733489,0.9035632006718441,0.905297659777826,0.9070041344899431,0.9086829613325814,0.9103344769667568,0.9119590180077296,0.9135569208492595,0.9151285214944163,0.9166741553928531,0.9181941572844482,0.9196888610492109,0.9211585995633504,0.922603704561397,0.924024506504262,0.9254213344531272,0.9267945159490396,0.9281443768980978,0.9294712414621055,0.9307754319545706,0.9320572687419255,0.9333170701498444,0.93455515237453,0.9357718293988461,0.9369674129131677,0.9381422122408245,0.9392965342680079,0.9404306833780224,0.9415449613897483,0.9426396675001988,0.9437150982310438,0.9447715473789806,0.9458093059698282,0.9468286622162286,0.9478299014788348,0.9488133062308695,0.9497791560259398,0.9507277274689955,0.9516592941903184,0.9525741268224333],\"yaxis\":\"y\",\"type\":\"scatter\"}],                        {\"template\":{\"data\":{\"histogram2dcontour\":[{\"type\":\"histogram2dcontour\",\"colorbar\":{\"outlinewidth\":0,\"ticks\":\"\"},\"colorscale\":[[0.0,\"#0d0887\"],[0.1111111111111111,\"#46039f\"],[0.2222222222222222,\"#7201a8\"],[0.3333333333333333,\"#9c179e\"],[0.4444444444444444,\"#bd3786\"],[0.5555555555555556,\"#d8576b\"],[0.6666666666666666,\"#ed7953\"],[0.7777777777777778,\"#fb9f3a\"],[0.8888888888888888,\"#fdca26\"],[1.0,\"#f0f921\"]]}],\"choropleth\":[{\"type\":\"choropleth\",\"colorbar\":{\"outlinewidth\":0,\"ticks\":\"\"}}],\"histogram2d\":[{\"type\":\"histogram2d\",\"colorbar\":{\"outlinewidth\":0,\"ticks\":\"\"},\"colorscale\":[[0.0,\"#0d0887\"],[0.1111111111111111,\"#46039f\"],[0.2222222222222222,\"#7201a8\"],[0.3333333333333333,\"#9c179e\"],[0.4444444444444444,\"#bd3786\"],[0.5555555555555556,\"#d8576b\"],[0.6666666666666666,\"#ed7953\"],[0.7777777777777778,\"#fb9f3a\"],[0.8888888888888888,\"#fdca26\"],[1.0,\"#f0f921\"]]}],\"heatmap\":[{\"type\":\"heatmap\",\"colorbar\":{\"outlinewidth\":0,\"ticks\":\"\"},\"colorscale\":[[0.0,\"#0d0887\"],[0.1111111111111111,\"#46039f\"],[0.2222222222222222,\"#7201a8\"],[0.3333333333333333,\"#9c179e\"],[0.4444444444444444,\"#bd3786\"],[0.5555555555555556,\"#d8576b\"],[0.6666666666666666,\"#ed7953\"],[0.7777777777777778,\"#fb9f3a\"],[0.8888888888888888,\"#fdca26\"],[1.0,\"#f0f921\"]]}],\"heatmapgl\":[{\"type\":\"heatmapgl\",\"colorbar\":{\"outlinewidth\":0,\"ticks\":\"\"},\"colorscale\":[[0.0,\"#0d0887\"],[0.1111111111111111,\"#46039f\"],[0.2222222222222222,\"#7201a8\"],[0.3333333333333333,\"#9c179e\"],[0.4444444444444444,\"#bd3786\"],[0.5555555555555556,\"#d8576b\"],[0.6666666666666666,\"#ed7953\"],[0.7777777777777778,\"#fb9f3a\"],[0.8888888888888888,\"#fdca26\"],[1.0,\"#f0f921\"]]}],\"contourcarpet\":[{\"type\":\"contourcarpet\",\"colorbar\":{\"outlinewidth\":0,\"ticks\":\"\"}}],\"contour\":[{\"type\":\"contour\",\"colorbar\":{\"outlinewidth\":0,\"ticks\":\"\"},\"colorscale\":[[0.0,\"#0d0887\"],[0.1111111111111111,\"#46039f\"],[0.2222222222222222,\"#7201a8\"],[0.3333333333333333,\"#9c179e\"],[0.4444444444444444,\"#bd3786\"],[0.5555555555555556,\"#d8576b\"],[0.6666666666666666,\"#ed7953\"],[0.7777777777777778,\"#fb9f3a\"],[0.8888888888888888,\"#fdca26\"],[1.0,\"#f0f921\"]]}],\"surface\":[{\"type\":\"surface\",\"colorbar\":{\"outlinewidth\":0,\"ticks\":\"\"},\"colorscale\":[[0.0,\"#0d0887\"],[0.1111111111111111,\"#46039f\"],[0.2222222222222222,\"#7201a8\"],[0.3333333333333333,\"#9c179e\"],[0.4444444444444444,\"#bd3786\"],[0.5555555555555556,\"#d8576b\"],[0.6666666666666666,\"#ed7953\"],[0.7777777777777778,\"#fb9f3a\"],[0.8888888888888888,\"#fdca26\"],[1.0,\"#f0f921\"]]}],\"mesh3d\":[{\"type\":\"mesh3d\",\"colorbar\":{\"outlinewidth\":0,\"ticks\":\"\"}}],\"scatter\":[{\"fillpattern\":{\"fillmode\":\"overlay\",\"size\":10,\"solidity\":0.2},\"type\":\"scatter\"}],\"parcoords\":[{\"type\":\"parcoords\",\"line\":{\"colorbar\":{\"outlinewidth\":0,\"ticks\":\"\"}}}],\"scatterpolargl\":[{\"type\":\"scatterpolargl\",\"marker\":{\"colorbar\":{\"outlinewidth\":0,\"ticks\":\"\"}}}],\"bar\":[{\"error_x\":{\"color\":\"#2a3f5f\"},\"error_y\":{\"color\":\"#2a3f5f\"},\"marker\":{\"line\":{\"color\":\"#E5ECF6\",\"width\":0.5},\"pattern\":{\"fillmode\":\"overlay\",\"size\":10,\"solidity\":0.2}},\"type\":\"bar\"}],\"scattergeo\":[{\"type\":\"scattergeo\",\"marker\":{\"colorbar\":{\"outlinewidth\":0,\"ticks\":\"\"}}}],\"scatterpolar\":[{\"type\":\"scatterpolar\",\"marker\":{\"colorbar\":{\"outlinewidth\":0,\"ticks\":\"\"}}}],\"histogram\":[{\"marker\":{\"pattern\":{\"fillmode\":\"overlay\",\"size\":10,\"solidity\":0.2}},\"type\":\"histogram\"}],\"scattergl\":[{\"type\":\"scattergl\",\"marker\":{\"colorbar\":{\"outlinewidth\":0,\"ticks\":\"\"}}}],\"scatter3d\":[{\"type\":\"scatter3d\",\"line\":{\"colorbar\":{\"outlinewidth\":0,\"ticks\":\"\"}},\"marker\":{\"colorbar\":{\"outlinewidth\":0,\"ticks\":\"\"}}}],\"scattermapbox\":[{\"type\":\"scattermapbox\",\"marker\":{\"colorbar\":{\"outlinewidth\":0,\"ticks\":\"\"}}}],\"scatterternary\":[{\"type\":\"scatterternary\",\"marker\":{\"colorbar\":{\"outlinewidth\":0,\"ticks\":\"\"}}}],\"scattercarpet\":[{\"type\":\"scattercarpet\",\"marker\":{\"colorbar\":{\"outlinewidth\":0,\"ticks\":\"\"}}}],\"carpet\":[{\"aaxis\":{\"endlinecolor\":\"#2a3f5f\",\"gridcolor\":\"white\",\"linecolor\":\"white\",\"minorgridcolor\":\"white\",\"startlinecolor\":\"#2a3f5f\"},\"baxis\":{\"endlinecolor\":\"#2a3f5f\",\"gridcolor\":\"white\",\"linecolor\":\"white\",\"minorgridcolor\":\"white\",\"startlinecolor\":\"#2a3f5f\"},\"type\":\"carpet\"}],\"table\":[{\"cells\":{\"fill\":{\"color\":\"#EBF0F8\"},\"line\":{\"color\":\"white\"}},\"header\":{\"fill\":{\"color\":\"#C8D4E3\"},\"line\":{\"color\":\"white\"}},\"type\":\"table\"}],\"barpolar\":[{\"marker\":{\"line\":{\"color\":\"#E5ECF6\",\"width\":0.5},\"pattern\":{\"fillmode\":\"overlay\",\"size\":10,\"solidity\":0.2}},\"type\":\"barpolar\"}],\"pie\":[{\"automargin\":true,\"type\":\"pie\"}]},\"layout\":{\"autotypenumbers\":\"strict\",\"colorway\":[\"#636efa\",\"#EF553B\",\"#00cc96\",\"#ab63fa\",\"#FFA15A\",\"#19d3f3\",\"#FF6692\",\"#B6E880\",\"#FF97FF\",\"#FECB52\"],\"font\":{\"color\":\"#2a3f5f\"},\"hovermode\":\"closest\",\"hoverlabel\":{\"align\":\"left\"},\"paper_bgcolor\":\"white\",\"plot_bgcolor\":\"#E5ECF6\",\"polar\":{\"bgcolor\":\"#E5ECF6\",\"angularaxis\":{\"gridcolor\":\"white\",\"linecolor\":\"white\",\"ticks\":\"\"},\"radialaxis\":{\"gridcolor\":\"white\",\"linecolor\":\"white\",\"ticks\":\"\"}},\"ternary\":{\"bgcolor\":\"#E5ECF6\",\"aaxis\":{\"gridcolor\":\"white\",\"linecolor\":\"white\",\"ticks\":\"\"},\"baxis\":{\"gridcolor\":\"white\",\"linecolor\":\"white\",\"ticks\":\"\"},\"caxis\":{\"gridcolor\":\"white\",\"linecolor\":\"white\",\"ticks\":\"\"}},\"coloraxis\":{\"colorbar\":{\"outlinewidth\":0,\"ticks\":\"\"}},\"colorscale\":{\"sequential\":[[0.0,\"#0d0887\"],[0.1111111111111111,\"#46039f\"],[0.2222222222222222,\"#7201a8\"],[0.3333333333333333,\"#9c179e\"],[0.4444444444444444,\"#bd3786\"],[0.5555555555555556,\"#d8576b\"],[0.6666666666666666,\"#ed7953\"],[0.7777777777777778,\"#fb9f3a\"],[0.8888888888888888,\"#fdca26\"],[1.0,\"#f0f921\"]],\"sequentialminus\":[[0.0,\"#0d0887\"],[0.1111111111111111,\"#46039f\"],[0.2222222222222222,\"#7201a8\"],[0.3333333333333333,\"#9c179e\"],[0.4444444444444444,\"#bd3786\"],[0.5555555555555556,\"#d8576b\"],[0.6666666666666666,\"#ed7953\"],[0.7777777777777778,\"#fb9f3a\"],[0.8888888888888888,\"#fdca26\"],[1.0,\"#f0f921\"]],\"diverging\":[[0,\"#8e0152\"],[0.1,\"#c51b7d\"],[0.2,\"#de77ae\"],[0.3,\"#f1b6da\"],[0.4,\"#fde0ef\"],[0.5,\"#f7f7f7\"],[0.6,\"#e6f5d0\"],[0.7,\"#b8e186\"],[0.8,\"#7fbc41\"],[0.9,\"#4d9221\"],[1,\"#276419\"]]},\"xaxis\":{\"gridcolor\":\"white\",\"linecolor\":\"white\",\"ticks\":\"\",\"title\":{\"standoff\":15},\"zerolinecolor\":\"white\",\"automargin\":true,\"zerolinewidth\":2},\"yaxis\":{\"gridcolor\":\"white\",\"linecolor\":\"white\",\"ticks\":\"\",\"title\":{\"standoff\":15},\"zerolinecolor\":\"white\",\"automargin\":true,\"zerolinewidth\":2},\"scene\":{\"xaxis\":{\"backgroundcolor\":\"#E5ECF6\",\"gridcolor\":\"white\",\"linecolor\":\"white\",\"showbackground\":true,\"ticks\":\"\",\"zerolinecolor\":\"white\",\"gridwidth\":2},\"yaxis\":{\"backgroundcolor\":\"#E5ECF6\",\"gridcolor\":\"white\",\"linecolor\":\"white\",\"showbackground\":true,\"ticks\":\"\",\"zerolinecolor\":\"white\",\"gridwidth\":2},\"zaxis\":{\"backgroundcolor\":\"#E5ECF6\",\"gridcolor\":\"white\",\"linecolor\":\"white\",\"showbackground\":true,\"ticks\":\"\",\"zerolinecolor\":\"white\",\"gridwidth\":2}},\"shapedefaults\":{\"line\":{\"color\":\"#2a3f5f\"}},\"annotationdefaults\":{\"arrowcolor\":\"#2a3f5f\",\"arrowhead\":0,\"arrowwidth\":1},\"geo\":{\"bgcolor\":\"white\",\"landcolor\":\"#E5ECF6\",\"subunitcolor\":\"white\",\"showland\":true,\"showlakes\":true,\"lakecolor\":\"white\"},\"title\":{\"x\":0.05},\"mapbox\":{\"style\":\"light\"}}},\"xaxis\":{\"anchor\":\"y\",\"domain\":[0.0,1.0],\"title\":{\"text\":\"data\"}},\"yaxis\":{\"anchor\":\"x\",\"domain\":[0.0,1.0],\"title\":{\"text\":\"sigmoid\"},\"range\":[-0.5,1.5]},\"legend\":{\"tracegroupgap\":0},\"margin\":{\"t\":60},\"height\":400,\"width\":500},                        {\"responsive\": true}                    ).then(function(){\n",
              "                            \n",
              "var gd = document.getElementById('5f11baa5-a56d-45d5-88de-7cabb3a4518d');\n",
              "var x = new MutationObserver(function (mutations, observer) {{\n",
              "        var display = window.getComputedStyle(gd).display;\n",
              "        if (!display || display === 'none') {{\n",
              "            console.log([gd, 'removed!']);\n",
              "            Plotly.purge(gd);\n",
              "            observer.disconnect();\n",
              "        }}\n",
              "}});\n",
              "\n",
              "// Listen for the removal of the full notebook cells\n",
              "var notebookContainer = gd.closest('#notebook-container');\n",
              "if (notebookContainer) {{\n",
              "    x.observe(notebookContainer, {childList: true});\n",
              "}}\n",
              "\n",
              "// Listen for the clearing of the current output cell\n",
              "var outputEl = gd.closest('.output');\n",
              "if (outputEl) {{\n",
              "    x.observe(outputEl, {childList: true});\n",
              "}}\n",
              "\n",
              "                        })                };                            </script>        </div>\n",
              "</body>\n",
              "</html>"
            ]
          },
          "metadata": {}
        }
      ]
    },
    {
      "cell_type": "code",
      "metadata": {
        "id": "bX8_Bg2OfyLi",
        "outputId": "9625ad19-405b-46cf-a16f-c7fff3359eb4",
        "colab": {
          "base_uri": "https://localhost:8080/",
          "height": 206
        }
      },
      "source": [
        "from tensorflow.keras.activations import relu\n",
        "\n",
        "data = pd.DataFrame({'data': random_data, 'relu': relu(random_data)})\n",
        "data.head()"
      ],
      "execution_count": 10,
      "outputs": [
        {
          "output_type": "execute_result",
          "data": {
            "text/plain": [
              "       data  relu\n",
              "0 -3.000000   0.0\n",
              "1 -2.979933   0.0\n",
              "2 -2.959866   0.0\n",
              "3 -2.939799   0.0\n",
              "4 -2.919732   0.0"
            ],
            "text/html": [
              "\n",
              "  <div id=\"df-9db6cb1e-4aa6-41d9-9fc8-3e8593b63bcc\" class=\"colab-df-container\">\n",
              "    <div>\n",
              "<style scoped>\n",
              "    .dataframe tbody tr th:only-of-type {\n",
              "        vertical-align: middle;\n",
              "    }\n",
              "\n",
              "    .dataframe tbody tr th {\n",
              "        vertical-align: top;\n",
              "    }\n",
              "\n",
              "    .dataframe thead th {\n",
              "        text-align: right;\n",
              "    }\n",
              "</style>\n",
              "<table border=\"1\" class=\"dataframe\">\n",
              "  <thead>\n",
              "    <tr style=\"text-align: right;\">\n",
              "      <th></th>\n",
              "      <th>data</th>\n",
              "      <th>relu</th>\n",
              "    </tr>\n",
              "  </thead>\n",
              "  <tbody>\n",
              "    <tr>\n",
              "      <th>0</th>\n",
              "      <td>-3.000000</td>\n",
              "      <td>0.0</td>\n",
              "    </tr>\n",
              "    <tr>\n",
              "      <th>1</th>\n",
              "      <td>-2.979933</td>\n",
              "      <td>0.0</td>\n",
              "    </tr>\n",
              "    <tr>\n",
              "      <th>2</th>\n",
              "      <td>-2.959866</td>\n",
              "      <td>0.0</td>\n",
              "    </tr>\n",
              "    <tr>\n",
              "      <th>3</th>\n",
              "      <td>-2.939799</td>\n",
              "      <td>0.0</td>\n",
              "    </tr>\n",
              "    <tr>\n",
              "      <th>4</th>\n",
              "      <td>-2.919732</td>\n",
              "      <td>0.0</td>\n",
              "    </tr>\n",
              "  </tbody>\n",
              "</table>\n",
              "</div>\n",
              "    <div class=\"colab-df-buttons\">\n",
              "\n",
              "  <div class=\"colab-df-container\">\n",
              "    <button class=\"colab-df-convert\" onclick=\"convertToInteractive('df-9db6cb1e-4aa6-41d9-9fc8-3e8593b63bcc')\"\n",
              "            title=\"Convert this dataframe to an interactive table.\"\n",
              "            style=\"display:none;\">\n",
              "\n",
              "  <svg xmlns=\"http://www.w3.org/2000/svg\" height=\"24px\" viewBox=\"0 -960 960 960\">\n",
              "    <path d=\"M120-120v-720h720v720H120Zm60-500h600v-160H180v160Zm220 220h160v-160H400v160Zm0 220h160v-160H400v160ZM180-400h160v-160H180v160Zm440 0h160v-160H620v160ZM180-180h160v-160H180v160Zm440 0h160v-160H620v160Z\"/>\n",
              "  </svg>\n",
              "    </button>\n",
              "\n",
              "  <style>\n",
              "    .colab-df-container {\n",
              "      display:flex;\n",
              "      gap: 12px;\n",
              "    }\n",
              "\n",
              "    .colab-df-convert {\n",
              "      background-color: #E8F0FE;\n",
              "      border: none;\n",
              "      border-radius: 50%;\n",
              "      cursor: pointer;\n",
              "      display: none;\n",
              "      fill: #1967D2;\n",
              "      height: 32px;\n",
              "      padding: 0 0 0 0;\n",
              "      width: 32px;\n",
              "    }\n",
              "\n",
              "    .colab-df-convert:hover {\n",
              "      background-color: #E2EBFA;\n",
              "      box-shadow: 0px 1px 2px rgba(60, 64, 67, 0.3), 0px 1px 3px 1px rgba(60, 64, 67, 0.15);\n",
              "      fill: #174EA6;\n",
              "    }\n",
              "\n",
              "    .colab-df-buttons div {\n",
              "      margin-bottom: 4px;\n",
              "    }\n",
              "\n",
              "    [theme=dark] .colab-df-convert {\n",
              "      background-color: #3B4455;\n",
              "      fill: #D2E3FC;\n",
              "    }\n",
              "\n",
              "    [theme=dark] .colab-df-convert:hover {\n",
              "      background-color: #434B5C;\n",
              "      box-shadow: 0px 1px 3px 1px rgba(0, 0, 0, 0.15);\n",
              "      filter: drop-shadow(0px 1px 2px rgba(0, 0, 0, 0.3));\n",
              "      fill: #FFFFFF;\n",
              "    }\n",
              "  </style>\n",
              "\n",
              "    <script>\n",
              "      const buttonEl =\n",
              "        document.querySelector('#df-9db6cb1e-4aa6-41d9-9fc8-3e8593b63bcc button.colab-df-convert');\n",
              "      buttonEl.style.display =\n",
              "        google.colab.kernel.accessAllowed ? 'block' : 'none';\n",
              "\n",
              "      async function convertToInteractive(key) {\n",
              "        const element = document.querySelector('#df-9db6cb1e-4aa6-41d9-9fc8-3e8593b63bcc');\n",
              "        const dataTable =\n",
              "          await google.colab.kernel.invokeFunction('convertToInteractive',\n",
              "                                                    [key], {});\n",
              "        if (!dataTable) return;\n",
              "\n",
              "        const docLinkHtml = 'Like what you see? Visit the ' +\n",
              "          '<a target=\"_blank\" href=https://colab.research.google.com/notebooks/data_table.ipynb>data table notebook</a>'\n",
              "          + ' to learn more about interactive tables.';\n",
              "        element.innerHTML = '';\n",
              "        dataTable['output_type'] = 'display_data';\n",
              "        await google.colab.output.renderOutput(dataTable, element);\n",
              "        const docLink = document.createElement('div');\n",
              "        docLink.innerHTML = docLinkHtml;\n",
              "        element.appendChild(docLink);\n",
              "      }\n",
              "    </script>\n",
              "  </div>\n",
              "\n",
              "\n",
              "<div id=\"df-6264ae35-6169-46b2-beff-f8bcf28620bd\">\n",
              "  <button class=\"colab-df-quickchart\" onclick=\"quickchart('df-6264ae35-6169-46b2-beff-f8bcf28620bd')\"\n",
              "            title=\"Suggest charts\"\n",
              "            style=\"display:none;\">\n",
              "\n",
              "<svg xmlns=\"http://www.w3.org/2000/svg\" height=\"24px\"viewBox=\"0 0 24 24\"\n",
              "     width=\"24px\">\n",
              "    <g>\n",
              "        <path d=\"M19 3H5c-1.1 0-2 .9-2 2v14c0 1.1.9 2 2 2h14c1.1 0 2-.9 2-2V5c0-1.1-.9-2-2-2zM9 17H7v-7h2v7zm4 0h-2V7h2v10zm4 0h-2v-4h2v4z\"/>\n",
              "    </g>\n",
              "</svg>\n",
              "  </button>\n",
              "\n",
              "<style>\n",
              "  .colab-df-quickchart {\n",
              "      --bg-color: #E8F0FE;\n",
              "      --fill-color: #1967D2;\n",
              "      --hover-bg-color: #E2EBFA;\n",
              "      --hover-fill-color: #174EA6;\n",
              "      --disabled-fill-color: #AAA;\n",
              "      --disabled-bg-color: #DDD;\n",
              "  }\n",
              "\n",
              "  [theme=dark] .colab-df-quickchart {\n",
              "      --bg-color: #3B4455;\n",
              "      --fill-color: #D2E3FC;\n",
              "      --hover-bg-color: #434B5C;\n",
              "      --hover-fill-color: #FFFFFF;\n",
              "      --disabled-bg-color: #3B4455;\n",
              "      --disabled-fill-color: #666;\n",
              "  }\n",
              "\n",
              "  .colab-df-quickchart {\n",
              "    background-color: var(--bg-color);\n",
              "    border: none;\n",
              "    border-radius: 50%;\n",
              "    cursor: pointer;\n",
              "    display: none;\n",
              "    fill: var(--fill-color);\n",
              "    height: 32px;\n",
              "    padding: 0;\n",
              "    width: 32px;\n",
              "  }\n",
              "\n",
              "  .colab-df-quickchart:hover {\n",
              "    background-color: var(--hover-bg-color);\n",
              "    box-shadow: 0 1px 2px rgba(60, 64, 67, 0.3), 0 1px 3px 1px rgba(60, 64, 67, 0.15);\n",
              "    fill: var(--button-hover-fill-color);\n",
              "  }\n",
              "\n",
              "  .colab-df-quickchart-complete:disabled,\n",
              "  .colab-df-quickchart-complete:disabled:hover {\n",
              "    background-color: var(--disabled-bg-color);\n",
              "    fill: var(--disabled-fill-color);\n",
              "    box-shadow: none;\n",
              "  }\n",
              "\n",
              "  .colab-df-spinner {\n",
              "    border: 2px solid var(--fill-color);\n",
              "    border-color: transparent;\n",
              "    border-bottom-color: var(--fill-color);\n",
              "    animation:\n",
              "      spin 1s steps(1) infinite;\n",
              "  }\n",
              "\n",
              "  @keyframes spin {\n",
              "    0% {\n",
              "      border-color: transparent;\n",
              "      border-bottom-color: var(--fill-color);\n",
              "      border-left-color: var(--fill-color);\n",
              "    }\n",
              "    20% {\n",
              "      border-color: transparent;\n",
              "      border-left-color: var(--fill-color);\n",
              "      border-top-color: var(--fill-color);\n",
              "    }\n",
              "    30% {\n",
              "      border-color: transparent;\n",
              "      border-left-color: var(--fill-color);\n",
              "      border-top-color: var(--fill-color);\n",
              "      border-right-color: var(--fill-color);\n",
              "    }\n",
              "    40% {\n",
              "      border-color: transparent;\n",
              "      border-right-color: var(--fill-color);\n",
              "      border-top-color: var(--fill-color);\n",
              "    }\n",
              "    60% {\n",
              "      border-color: transparent;\n",
              "      border-right-color: var(--fill-color);\n",
              "    }\n",
              "    80% {\n",
              "      border-color: transparent;\n",
              "      border-right-color: var(--fill-color);\n",
              "      border-bottom-color: var(--fill-color);\n",
              "    }\n",
              "    90% {\n",
              "      border-color: transparent;\n",
              "      border-bottom-color: var(--fill-color);\n",
              "    }\n",
              "  }\n",
              "</style>\n",
              "\n",
              "  <script>\n",
              "    async function quickchart(key) {\n",
              "      const quickchartButtonEl =\n",
              "        document.querySelector('#' + key + ' button');\n",
              "      quickchartButtonEl.disabled = true;  // To prevent multiple clicks.\n",
              "      quickchartButtonEl.classList.add('colab-df-spinner');\n",
              "      try {\n",
              "        const charts = await google.colab.kernel.invokeFunction(\n",
              "            'suggestCharts', [key], {});\n",
              "      } catch (error) {\n",
              "        console.error('Error during call to suggestCharts:', error);\n",
              "      }\n",
              "      quickchartButtonEl.classList.remove('colab-df-spinner');\n",
              "      quickchartButtonEl.classList.add('colab-df-quickchart-complete');\n",
              "    }\n",
              "    (() => {\n",
              "      let quickchartButtonEl =\n",
              "        document.querySelector('#df-6264ae35-6169-46b2-beff-f8bcf28620bd button');\n",
              "      quickchartButtonEl.style.display =\n",
              "        google.colab.kernel.accessAllowed ? 'block' : 'none';\n",
              "    })();\n",
              "  </script>\n",
              "</div>\n",
              "\n",
              "    </div>\n",
              "  </div>\n"
            ],
            "application/vnd.google.colaboratory.intrinsic+json": {
              "type": "dataframe",
              "variable_name": "data",
              "summary": "{\n  \"name\": \"data\",\n  \"rows\": 300,\n  \"fields\": [\n    {\n      \"column\": \"data\",\n      \"properties\": {\n        \"dtype\": \"number\",\n        \"std\": 1.7407376160097798,\n        \"min\": -3.0,\n        \"max\": 3.0,\n        \"num_unique_values\": 300,\n        \"samples\": [\n          1.0735785953177261,\n          2.3377926421404682,\n          0.05016722408026775\n        ],\n        \"semantic_type\": \"\",\n        \"description\": \"\"\n      }\n    },\n    {\n      \"column\": \"relu\",\n      \"properties\": {\n        \"dtype\": \"number\",\n        \"std\": 0.9730986663827175,\n        \"min\": 0.0,\n        \"max\": 3.0,\n        \"num_unique_values\": 151,\n        \"samples\": [\n          1.5150501672240804,\n          0.3511705685618729,\n          1.6354515050167224\n        ],\n        \"semantic_type\": \"\",\n        \"description\": \"\"\n      }\n    }\n  ]\n}"
            }
          },
          "metadata": {},
          "execution_count": 10
        }
      ]
    },
    {
      "cell_type": "code",
      "metadata": {
        "id": "vXV-1MECgWyz",
        "outputId": "7b629b02-399c-4468-e482-21133282de31",
        "colab": {
          "base_uri": "https://localhost:8080/",
          "height": 417
        }
      },
      "source": [
        "px.line(data, x='data', y='relu', width=500, height=400, range_y=[-0.5, 1.5])"
      ],
      "execution_count": 11,
      "outputs": [
        {
          "output_type": "display_data",
          "data": {
            "text/html": [
              "<html>\n",
              "<head><meta charset=\"utf-8\" /></head>\n",
              "<body>\n",
              "    <div>            <script src=\"https://cdnjs.cloudflare.com/ajax/libs/mathjax/2.7.5/MathJax.js?config=TeX-AMS-MML_SVG\"></script><script type=\"text/javascript\">if (window.MathJax && window.MathJax.Hub && window.MathJax.Hub.Config) {window.MathJax.Hub.Config({SVG: {font: \"STIX-Web\"}});}</script>                <script type=\"text/javascript\">window.PlotlyConfig = {MathJaxConfig: 'local'};</script>\n",
              "        <script charset=\"utf-8\" src=\"https://cdn.plot.ly/plotly-2.24.1.min.js\"></script>                <div id=\"dd0b3342-c37f-4d9d-b10d-c4410647ee59\" class=\"plotly-graph-div\" style=\"height:400px; width:500px;\"></div>            <script type=\"text/javascript\">                                    window.PLOTLYENV=window.PLOTLYENV || {};                                    if (document.getElementById(\"dd0b3342-c37f-4d9d-b10d-c4410647ee59\")) {                    Plotly.newPlot(                        \"dd0b3342-c37f-4d9d-b10d-c4410647ee59\",                        [{\"hovertemplate\":\"data=%{x}\\u003cbr\\u003erelu=%{y}\\u003cextra\\u003e\\u003c\\u002fextra\\u003e\",\"legendgroup\":\"\",\"line\":{\"color\":\"#636efa\",\"dash\":\"solid\"},\"marker\":{\"symbol\":\"circle\"},\"mode\":\"lines\",\"name\":\"\",\"orientation\":\"v\",\"showlegend\":false,\"x\":[-3.0,-2.979933110367893,-2.959866220735786,-2.939799331103679,-2.919732441471572,-2.899665551839465,-2.879598662207358,-2.859531772575251,-2.839464882943144,-2.819397993311037,-2.79933110367893,-2.779264214046823,-2.759197324414716,-2.739130434782609,-2.719063545150502,-2.6989966555183944,-2.678929765886288,-2.6588628762541804,-2.638795986622074,-2.6187290969899664,-2.5986622073578594,-2.5785953177257523,-2.5585284280936453,-2.5384615384615383,-2.5183946488294313,-2.4983277591973243,-2.4782608695652173,-2.4581939799331103,-2.4381270903010033,-2.4180602006688963,-2.3979933110367893,-2.3779264214046822,-2.3578595317725752,-2.3377926421404682,-2.317725752508361,-2.297658862876254,-2.277591973244147,-2.25752508361204,-2.237458193979933,-2.217391304347826,-2.197324414715719,-2.177257525083612,-2.157190635451505,-2.137123745819398,-2.1170568561872907,-2.096989966555184,-2.0769230769230766,-2.05685618729097,-2.0367892976588626,-2.016722408026756,-1.9966555183946488,-1.9765886287625418,-1.9565217391304348,-1.9364548494983278,-1.9163879598662208,-1.8963210702341138,-1.8762541806020065,-1.8561872909698995,-1.8361204013377925,-1.8160535117056855,-1.7959866220735785,-1.7759197324414715,-1.7558528428093645,-1.7357859531772575,-1.7157190635451505,-1.6956521739130435,-1.6755852842809364,-1.6555183946488294,-1.6354515050167224,-1.6153846153846154,-1.5953177257525084,-1.5752508361204014,-1.5551839464882944,-1.5351170568561872,-1.5150501672240801,-1.4949832775919731,-1.4749163879598661,-1.4548494983277591,-1.434782608695652,-1.414715719063545,-1.394648829431438,-1.374581939799331,-1.354515050167224,-1.334448160535117,-1.31438127090301,-1.294314381270903,-1.274247491638796,-1.254180602006689,-1.2341137123745818,-1.2140468227424748,-1.1939799331103678,-1.1739130434782608,-1.1538461538461537,-1.1337792642140467,-1.1137123745819397,-1.0936454849498327,-1.0735785953177257,-1.0535117056856187,-1.0334448160535117,-1.0133779264214047,-0.9933110367892977,-0.9732441471571907,-0.9531772575250836,-0.9331103678929766,-0.9130434782608696,-0.8929765886287626,-0.8729096989966556,-0.8528428093645486,-0.8327759197324416,-0.8127090301003346,-0.7926421404682276,-0.7725752508361206,-0.7525083612040131,-0.7324414715719061,-0.7123745819397991,-0.6923076923076921,-0.6722408026755851,-0.652173913043478,-0.632107023411371,-0.612040133779264,-0.591973244147157,-0.57190635451505,-0.551839464882943,-0.531772575250836,-0.511705685618729,-0.49163879598662197,-0.47157190635451496,-0.45150501672240795,-0.43143812709030094,-0.41137123745819393,-0.3913043478260869,-0.3712374581939799,-0.3511705685618729,-0.3311036789297659,-0.3110367892976589,-0.29096989966555187,-0.27090301003344486,-0.25083612040133785,-0.23076923076923084,-0.21070234113712383,-0.19063545150501682,-0.1705685618729098,-0.1505016722408028,-0.1304347826086958,-0.11036789297658878,-0.09030100334448132,-0.07023411371237431,-0.0501672240802673,-0.030100334448160293,-0.010033444816053283,0.010033444816053727,0.030100334448160737,0.05016722408026775,0.07023411371237476,0.09030100334448177,0.11036789297658878,0.1304347826086958,0.1505016722408028,0.1705685618729098,0.19063545150501682,0.21070234113712383,0.23076923076923084,0.25083612040133785,0.27090301003344486,0.29096989966555187,0.3110367892976589,0.3311036789297659,0.3511705685618729,0.3712374581939799,0.3913043478260869,0.41137123745819393,0.43143812709030094,0.45150501672240795,0.47157190635451496,0.49163879598662197,0.511705685618729,0.5317725752508364,0.5518394648829434,0.5719063545150505,0.5919732441471575,0.6120401337792645,0.6321070234113715,0.6521739130434785,0.6722408026755855,0.6923076923076925,0.7123745819397995,0.7324414715719065,0.7525083612040135,0.7725752508361206,0.7926421404682276,0.8127090301003346,0.8327759197324416,0.8528428093645486,0.8729096989966556,0.8929765886287626,0.9130434782608696,0.9331103678929766,0.9531772575250836,0.9732441471571907,0.9933110367892977,1.0133779264214047,1.0334448160535121,1.0535117056856187,1.0735785953177261,1.0936454849498327,1.1137123745819402,1.1337792642140467,1.1538461538461542,1.1739130434782608,1.1939799331103682,1.2140468227424748,1.2341137123745822,1.2541806020066888,1.2742474916387962,1.2943143812709028,1.3143812709030103,1.3344481605351168,1.3545150501672243,1.3745819397993309,1.3946488294314383,1.4147157190635449,1.4347826086956523,1.454849498327759,1.4749163879598663,1.4949832775919738,1.5150501672240804,1.5351170568561878,1.5551839464882944,1.5752508361204018,1.5953177257525084,1.6153846153846159,1.6354515050167224,1.6555183946488299,1.6755852842809364,1.695652173913044,1.7157190635451505,1.735785953177258,1.7558528428093645,1.775919732441472,1.7959866220735785,1.816053511705686,1.8361204013377925,1.8561872909699,1.8762541806020065,1.896321070234114,1.9163879598662206,1.936454849498328,1.9565217391304346,1.976588628762542,1.9966555183946486,2.016722408026756,2.0367892976588626,2.05685618729097,2.0769230769230766,2.096989966555184,2.1170568561872907,2.137123745819398,2.1571906354515056,2.177257525083612,2.1973244147157196,2.217391304347826,2.2374581939799336,2.25752508361204,2.2775919732441476,2.297658862876254,2.3177257525083617,2.3377926421404682,2.3578595317725757,2.3779264214046822,2.3979933110367897,2.4180602006688963,2.4381270903010037,2.4581939799331103,2.4782608695652177,2.4983277591973243,2.5183946488294318,2.5384615384615383,2.558528428093646,2.5785953177257523,2.59866220735786,2.6187290969899664,2.638795986622074,2.6588628762541804,2.678929765886288,2.6989966555183944,2.719063545150502,2.7391304347826084,2.759197324414716,2.7792642140468224,2.79933110367893,2.8193979933110374,2.839464882943144,2.8595317725752514,2.879598662207358,2.8996655518394654,2.919732441471572,2.9397993311036794,2.959866220735786,2.9799331103678934,3.0],\"xaxis\":\"x\",\"y\":[0.0,0.0,0.0,0.0,0.0,0.0,0.0,0.0,0.0,0.0,0.0,0.0,0.0,0.0,0.0,0.0,0.0,0.0,0.0,0.0,0.0,0.0,0.0,0.0,0.0,0.0,0.0,0.0,0.0,0.0,0.0,0.0,0.0,0.0,0.0,0.0,0.0,0.0,0.0,0.0,0.0,0.0,0.0,0.0,0.0,0.0,0.0,0.0,0.0,0.0,0.0,0.0,0.0,0.0,0.0,0.0,0.0,0.0,0.0,0.0,0.0,0.0,0.0,0.0,0.0,0.0,0.0,0.0,0.0,0.0,0.0,0.0,0.0,0.0,0.0,0.0,0.0,0.0,0.0,0.0,0.0,0.0,0.0,0.0,0.0,0.0,0.0,0.0,0.0,0.0,0.0,0.0,0.0,0.0,0.0,0.0,0.0,0.0,0.0,0.0,0.0,0.0,0.0,0.0,0.0,0.0,0.0,0.0,0.0,0.0,0.0,0.0,0.0,0.0,0.0,0.0,0.0,0.0,0.0,0.0,0.0,0.0,0.0,0.0,0.0,0.0,0.0,0.0,0.0,0.0,0.0,0.0,0.0,0.0,0.0,0.0,0.0,0.0,0.0,0.0,0.0,0.0,0.0,0.0,0.0,0.0,0.0,0.0,0.0,0.0,0.010033444816053727,0.030100334448160737,0.05016722408026775,0.07023411371237476,0.09030100334448177,0.11036789297658878,0.1304347826086958,0.1505016722408028,0.1705685618729098,0.19063545150501682,0.21070234113712383,0.23076923076923084,0.25083612040133785,0.27090301003344486,0.29096989966555187,0.3110367892976589,0.3311036789297659,0.3511705685618729,0.3712374581939799,0.3913043478260869,0.41137123745819393,0.43143812709030094,0.45150501672240795,0.47157190635451496,0.49163879598662197,0.511705685618729,0.5317725752508364,0.5518394648829434,0.5719063545150505,0.5919732441471575,0.6120401337792645,0.6321070234113715,0.6521739130434785,0.6722408026755855,0.6923076923076925,0.7123745819397995,0.7324414715719065,0.7525083612040135,0.7725752508361206,0.7926421404682276,0.8127090301003346,0.8327759197324416,0.8528428093645486,0.8729096989966556,0.8929765886287626,0.9130434782608696,0.9331103678929766,0.9531772575250836,0.9732441471571907,0.9933110367892977,1.0133779264214047,1.0334448160535121,1.0535117056856187,1.0735785953177261,1.0936454849498327,1.1137123745819402,1.1337792642140467,1.1538461538461542,1.1739130434782608,1.1939799331103682,1.2140468227424748,1.2341137123745822,1.2541806020066888,1.2742474916387962,1.2943143812709028,1.3143812709030103,1.3344481605351168,1.3545150501672243,1.3745819397993309,1.3946488294314383,1.4147157190635449,1.4347826086956523,1.454849498327759,1.4749163879598663,1.4949832775919738,1.5150501672240804,1.5351170568561878,1.5551839464882944,1.5752508361204018,1.5953177257525084,1.6153846153846159,1.6354515050167224,1.6555183946488299,1.6755852842809364,1.695652173913044,1.7157190635451505,1.735785953177258,1.7558528428093645,1.775919732441472,1.7959866220735785,1.816053511705686,1.8361204013377925,1.8561872909699,1.8762541806020065,1.896321070234114,1.9163879598662206,1.936454849498328,1.9565217391304346,1.976588628762542,1.9966555183946486,2.016722408026756,2.0367892976588626,2.05685618729097,2.0769230769230766,2.096989966555184,2.1170568561872907,2.137123745819398,2.1571906354515056,2.177257525083612,2.1973244147157196,2.217391304347826,2.2374581939799336,2.25752508361204,2.2775919732441476,2.297658862876254,2.3177257525083617,2.3377926421404682,2.3578595317725757,2.3779264214046822,2.3979933110367897,2.4180602006688963,2.4381270903010037,2.4581939799331103,2.4782608695652177,2.4983277591973243,2.5183946488294318,2.5384615384615383,2.558528428093646,2.5785953177257523,2.59866220735786,2.6187290969899664,2.638795986622074,2.6588628762541804,2.678929765886288,2.6989966555183944,2.719063545150502,2.7391304347826084,2.759197324414716,2.7792642140468224,2.79933110367893,2.8193979933110374,2.839464882943144,2.8595317725752514,2.879598662207358,2.8996655518394654,2.919732441471572,2.9397993311036794,2.959866220735786,2.9799331103678934,3.0],\"yaxis\":\"y\",\"type\":\"scatter\"}],                        {\"template\":{\"data\":{\"histogram2dcontour\":[{\"type\":\"histogram2dcontour\",\"colorbar\":{\"outlinewidth\":0,\"ticks\":\"\"},\"colorscale\":[[0.0,\"#0d0887\"],[0.1111111111111111,\"#46039f\"],[0.2222222222222222,\"#7201a8\"],[0.3333333333333333,\"#9c179e\"],[0.4444444444444444,\"#bd3786\"],[0.5555555555555556,\"#d8576b\"],[0.6666666666666666,\"#ed7953\"],[0.7777777777777778,\"#fb9f3a\"],[0.8888888888888888,\"#fdca26\"],[1.0,\"#f0f921\"]]}],\"choropleth\":[{\"type\":\"choropleth\",\"colorbar\":{\"outlinewidth\":0,\"ticks\":\"\"}}],\"histogram2d\":[{\"type\":\"histogram2d\",\"colorbar\":{\"outlinewidth\":0,\"ticks\":\"\"},\"colorscale\":[[0.0,\"#0d0887\"],[0.1111111111111111,\"#46039f\"],[0.2222222222222222,\"#7201a8\"],[0.3333333333333333,\"#9c179e\"],[0.4444444444444444,\"#bd3786\"],[0.5555555555555556,\"#d8576b\"],[0.6666666666666666,\"#ed7953\"],[0.7777777777777778,\"#fb9f3a\"],[0.8888888888888888,\"#fdca26\"],[1.0,\"#f0f921\"]]}],\"heatmap\":[{\"type\":\"heatmap\",\"colorbar\":{\"outlinewidth\":0,\"ticks\":\"\"},\"colorscale\":[[0.0,\"#0d0887\"],[0.1111111111111111,\"#46039f\"],[0.2222222222222222,\"#7201a8\"],[0.3333333333333333,\"#9c179e\"],[0.4444444444444444,\"#bd3786\"],[0.5555555555555556,\"#d8576b\"],[0.6666666666666666,\"#ed7953\"],[0.7777777777777778,\"#fb9f3a\"],[0.8888888888888888,\"#fdca26\"],[1.0,\"#f0f921\"]]}],\"heatmapgl\":[{\"type\":\"heatmapgl\",\"colorbar\":{\"outlinewidth\":0,\"ticks\":\"\"},\"colorscale\":[[0.0,\"#0d0887\"],[0.1111111111111111,\"#46039f\"],[0.2222222222222222,\"#7201a8\"],[0.3333333333333333,\"#9c179e\"],[0.4444444444444444,\"#bd3786\"],[0.5555555555555556,\"#d8576b\"],[0.6666666666666666,\"#ed7953\"],[0.7777777777777778,\"#fb9f3a\"],[0.8888888888888888,\"#fdca26\"],[1.0,\"#f0f921\"]]}],\"contourcarpet\":[{\"type\":\"contourcarpet\",\"colorbar\":{\"outlinewidth\":0,\"ticks\":\"\"}}],\"contour\":[{\"type\":\"contour\",\"colorbar\":{\"outlinewidth\":0,\"ticks\":\"\"},\"colorscale\":[[0.0,\"#0d0887\"],[0.1111111111111111,\"#46039f\"],[0.2222222222222222,\"#7201a8\"],[0.3333333333333333,\"#9c179e\"],[0.4444444444444444,\"#bd3786\"],[0.5555555555555556,\"#d8576b\"],[0.6666666666666666,\"#ed7953\"],[0.7777777777777778,\"#fb9f3a\"],[0.8888888888888888,\"#fdca26\"],[1.0,\"#f0f921\"]]}],\"surface\":[{\"type\":\"surface\",\"colorbar\":{\"outlinewidth\":0,\"ticks\":\"\"},\"colorscale\":[[0.0,\"#0d0887\"],[0.1111111111111111,\"#46039f\"],[0.2222222222222222,\"#7201a8\"],[0.3333333333333333,\"#9c179e\"],[0.4444444444444444,\"#bd3786\"],[0.5555555555555556,\"#d8576b\"],[0.6666666666666666,\"#ed7953\"],[0.7777777777777778,\"#fb9f3a\"],[0.8888888888888888,\"#fdca26\"],[1.0,\"#f0f921\"]]}],\"mesh3d\":[{\"type\":\"mesh3d\",\"colorbar\":{\"outlinewidth\":0,\"ticks\":\"\"}}],\"scatter\":[{\"fillpattern\":{\"fillmode\":\"overlay\",\"size\":10,\"solidity\":0.2},\"type\":\"scatter\"}],\"parcoords\":[{\"type\":\"parcoords\",\"line\":{\"colorbar\":{\"outlinewidth\":0,\"ticks\":\"\"}}}],\"scatterpolargl\":[{\"type\":\"scatterpolargl\",\"marker\":{\"colorbar\":{\"outlinewidth\":0,\"ticks\":\"\"}}}],\"bar\":[{\"error_x\":{\"color\":\"#2a3f5f\"},\"error_y\":{\"color\":\"#2a3f5f\"},\"marker\":{\"line\":{\"color\":\"#E5ECF6\",\"width\":0.5},\"pattern\":{\"fillmode\":\"overlay\",\"size\":10,\"solidity\":0.2}},\"type\":\"bar\"}],\"scattergeo\":[{\"type\":\"scattergeo\",\"marker\":{\"colorbar\":{\"outlinewidth\":0,\"ticks\":\"\"}}}],\"scatterpolar\":[{\"type\":\"scatterpolar\",\"marker\":{\"colorbar\":{\"outlinewidth\":0,\"ticks\":\"\"}}}],\"histogram\":[{\"marker\":{\"pattern\":{\"fillmode\":\"overlay\",\"size\":10,\"solidity\":0.2}},\"type\":\"histogram\"}],\"scattergl\":[{\"type\":\"scattergl\",\"marker\":{\"colorbar\":{\"outlinewidth\":0,\"ticks\":\"\"}}}],\"scatter3d\":[{\"type\":\"scatter3d\",\"line\":{\"colorbar\":{\"outlinewidth\":0,\"ticks\":\"\"}},\"marker\":{\"colorbar\":{\"outlinewidth\":0,\"ticks\":\"\"}}}],\"scattermapbox\":[{\"type\":\"scattermapbox\",\"marker\":{\"colorbar\":{\"outlinewidth\":0,\"ticks\":\"\"}}}],\"scatterternary\":[{\"type\":\"scatterternary\",\"marker\":{\"colorbar\":{\"outlinewidth\":0,\"ticks\":\"\"}}}],\"scattercarpet\":[{\"type\":\"scattercarpet\",\"marker\":{\"colorbar\":{\"outlinewidth\":0,\"ticks\":\"\"}}}],\"carpet\":[{\"aaxis\":{\"endlinecolor\":\"#2a3f5f\",\"gridcolor\":\"white\",\"linecolor\":\"white\",\"minorgridcolor\":\"white\",\"startlinecolor\":\"#2a3f5f\"},\"baxis\":{\"endlinecolor\":\"#2a3f5f\",\"gridcolor\":\"white\",\"linecolor\":\"white\",\"minorgridcolor\":\"white\",\"startlinecolor\":\"#2a3f5f\"},\"type\":\"carpet\"}],\"table\":[{\"cells\":{\"fill\":{\"color\":\"#EBF0F8\"},\"line\":{\"color\":\"white\"}},\"header\":{\"fill\":{\"color\":\"#C8D4E3\"},\"line\":{\"color\":\"white\"}},\"type\":\"table\"}],\"barpolar\":[{\"marker\":{\"line\":{\"color\":\"#E5ECF6\",\"width\":0.5},\"pattern\":{\"fillmode\":\"overlay\",\"size\":10,\"solidity\":0.2}},\"type\":\"barpolar\"}],\"pie\":[{\"automargin\":true,\"type\":\"pie\"}]},\"layout\":{\"autotypenumbers\":\"strict\",\"colorway\":[\"#636efa\",\"#EF553B\",\"#00cc96\",\"#ab63fa\",\"#FFA15A\",\"#19d3f3\",\"#FF6692\",\"#B6E880\",\"#FF97FF\",\"#FECB52\"],\"font\":{\"color\":\"#2a3f5f\"},\"hovermode\":\"closest\",\"hoverlabel\":{\"align\":\"left\"},\"paper_bgcolor\":\"white\",\"plot_bgcolor\":\"#E5ECF6\",\"polar\":{\"bgcolor\":\"#E5ECF6\",\"angularaxis\":{\"gridcolor\":\"white\",\"linecolor\":\"white\",\"ticks\":\"\"},\"radialaxis\":{\"gridcolor\":\"white\",\"linecolor\":\"white\",\"ticks\":\"\"}},\"ternary\":{\"bgcolor\":\"#E5ECF6\",\"aaxis\":{\"gridcolor\":\"white\",\"linecolor\":\"white\",\"ticks\":\"\"},\"baxis\":{\"gridcolor\":\"white\",\"linecolor\":\"white\",\"ticks\":\"\"},\"caxis\":{\"gridcolor\":\"white\",\"linecolor\":\"white\",\"ticks\":\"\"}},\"coloraxis\":{\"colorbar\":{\"outlinewidth\":0,\"ticks\":\"\"}},\"colorscale\":{\"sequential\":[[0.0,\"#0d0887\"],[0.1111111111111111,\"#46039f\"],[0.2222222222222222,\"#7201a8\"],[0.3333333333333333,\"#9c179e\"],[0.4444444444444444,\"#bd3786\"],[0.5555555555555556,\"#d8576b\"],[0.6666666666666666,\"#ed7953\"],[0.7777777777777778,\"#fb9f3a\"],[0.8888888888888888,\"#fdca26\"],[1.0,\"#f0f921\"]],\"sequentialminus\":[[0.0,\"#0d0887\"],[0.1111111111111111,\"#46039f\"],[0.2222222222222222,\"#7201a8\"],[0.3333333333333333,\"#9c179e\"],[0.4444444444444444,\"#bd3786\"],[0.5555555555555556,\"#d8576b\"],[0.6666666666666666,\"#ed7953\"],[0.7777777777777778,\"#fb9f3a\"],[0.8888888888888888,\"#fdca26\"],[1.0,\"#f0f921\"]],\"diverging\":[[0,\"#8e0152\"],[0.1,\"#c51b7d\"],[0.2,\"#de77ae\"],[0.3,\"#f1b6da\"],[0.4,\"#fde0ef\"],[0.5,\"#f7f7f7\"],[0.6,\"#e6f5d0\"],[0.7,\"#b8e186\"],[0.8,\"#7fbc41\"],[0.9,\"#4d9221\"],[1,\"#276419\"]]},\"xaxis\":{\"gridcolor\":\"white\",\"linecolor\":\"white\",\"ticks\":\"\",\"title\":{\"standoff\":15},\"zerolinecolor\":\"white\",\"automargin\":true,\"zerolinewidth\":2},\"yaxis\":{\"gridcolor\":\"white\",\"linecolor\":\"white\",\"ticks\":\"\",\"title\":{\"standoff\":15},\"zerolinecolor\":\"white\",\"automargin\":true,\"zerolinewidth\":2},\"scene\":{\"xaxis\":{\"backgroundcolor\":\"#E5ECF6\",\"gridcolor\":\"white\",\"linecolor\":\"white\",\"showbackground\":true,\"ticks\":\"\",\"zerolinecolor\":\"white\",\"gridwidth\":2},\"yaxis\":{\"backgroundcolor\":\"#E5ECF6\",\"gridcolor\":\"white\",\"linecolor\":\"white\",\"showbackground\":true,\"ticks\":\"\",\"zerolinecolor\":\"white\",\"gridwidth\":2},\"zaxis\":{\"backgroundcolor\":\"#E5ECF6\",\"gridcolor\":\"white\",\"linecolor\":\"white\",\"showbackground\":true,\"ticks\":\"\",\"zerolinecolor\":\"white\",\"gridwidth\":2}},\"shapedefaults\":{\"line\":{\"color\":\"#2a3f5f\"}},\"annotationdefaults\":{\"arrowcolor\":\"#2a3f5f\",\"arrowhead\":0,\"arrowwidth\":1},\"geo\":{\"bgcolor\":\"white\",\"landcolor\":\"#E5ECF6\",\"subunitcolor\":\"white\",\"showland\":true,\"showlakes\":true,\"lakecolor\":\"white\"},\"title\":{\"x\":0.05},\"mapbox\":{\"style\":\"light\"}}},\"xaxis\":{\"anchor\":\"y\",\"domain\":[0.0,1.0],\"title\":{\"text\":\"data\"}},\"yaxis\":{\"anchor\":\"x\",\"domain\":[0.0,1.0],\"title\":{\"text\":\"relu\"},\"range\":[-0.5,1.5]},\"legend\":{\"tracegroupgap\":0},\"margin\":{\"t\":60},\"height\":400,\"width\":500},                        {\"responsive\": true}                    ).then(function(){\n",
              "                            \n",
              "var gd = document.getElementById('dd0b3342-c37f-4d9d-b10d-c4410647ee59');\n",
              "var x = new MutationObserver(function (mutations, observer) {{\n",
              "        var display = window.getComputedStyle(gd).display;\n",
              "        if (!display || display === 'none') {{\n",
              "            console.log([gd, 'removed!']);\n",
              "            Plotly.purge(gd);\n",
              "            observer.disconnect();\n",
              "        }}\n",
              "}});\n",
              "\n",
              "// Listen for the removal of the full notebook cells\n",
              "var notebookContainer = gd.closest('#notebook-container');\n",
              "if (notebookContainer) {{\n",
              "    x.observe(notebookContainer, {childList: true});\n",
              "}}\n",
              "\n",
              "// Listen for the clearing of the current output cell\n",
              "var outputEl = gd.closest('.output');\n",
              "if (outputEl) {{\n",
              "    x.observe(outputEl, {childList: true});\n",
              "}}\n",
              "\n",
              "                        })                };                            </script>        </div>\n",
              "</body>\n",
              "</html>"
            ]
          },
          "metadata": {}
        }
      ]
    },
    {
      "cell_type": "code",
      "metadata": {
        "id": "5AF9VX1OgZNg",
        "outputId": "b28017d3-ebbd-4904-e3c5-c8028789f9a3",
        "colab": {
          "base_uri": "https://localhost:8080/",
          "height": 206
        }
      },
      "source": [
        "from tensorflow.keras.activations import tanh\n",
        "\n",
        "data = pd.DataFrame({'data': random_data, 'tanh': tanh(random_data)})\n",
        "data.head()"
      ],
      "execution_count": 12,
      "outputs": [
        {
          "output_type": "execute_result",
          "data": {
            "text/plain": [
              "       data      tanh\n",
              "0 -3.000000 -0.995055\n",
              "1 -2.979933 -0.994853\n",
              "2 -2.959866 -0.994643\n",
              "3 -2.939799 -0.994424\n",
              "4 -2.919732 -0.994196"
            ],
            "text/html": [
              "\n",
              "  <div id=\"df-98579d7f-0022-4caf-a766-3ce667a6c25c\" class=\"colab-df-container\">\n",
              "    <div>\n",
              "<style scoped>\n",
              "    .dataframe tbody tr th:only-of-type {\n",
              "        vertical-align: middle;\n",
              "    }\n",
              "\n",
              "    .dataframe tbody tr th {\n",
              "        vertical-align: top;\n",
              "    }\n",
              "\n",
              "    .dataframe thead th {\n",
              "        text-align: right;\n",
              "    }\n",
              "</style>\n",
              "<table border=\"1\" class=\"dataframe\">\n",
              "  <thead>\n",
              "    <tr style=\"text-align: right;\">\n",
              "      <th></th>\n",
              "      <th>data</th>\n",
              "      <th>tanh</th>\n",
              "    </tr>\n",
              "  </thead>\n",
              "  <tbody>\n",
              "    <tr>\n",
              "      <th>0</th>\n",
              "      <td>-3.000000</td>\n",
              "      <td>-0.995055</td>\n",
              "    </tr>\n",
              "    <tr>\n",
              "      <th>1</th>\n",
              "      <td>-2.979933</td>\n",
              "      <td>-0.994853</td>\n",
              "    </tr>\n",
              "    <tr>\n",
              "      <th>2</th>\n",
              "      <td>-2.959866</td>\n",
              "      <td>-0.994643</td>\n",
              "    </tr>\n",
              "    <tr>\n",
              "      <th>3</th>\n",
              "      <td>-2.939799</td>\n",
              "      <td>-0.994424</td>\n",
              "    </tr>\n",
              "    <tr>\n",
              "      <th>4</th>\n",
              "      <td>-2.919732</td>\n",
              "      <td>-0.994196</td>\n",
              "    </tr>\n",
              "  </tbody>\n",
              "</table>\n",
              "</div>\n",
              "    <div class=\"colab-df-buttons\">\n",
              "\n",
              "  <div class=\"colab-df-container\">\n",
              "    <button class=\"colab-df-convert\" onclick=\"convertToInteractive('df-98579d7f-0022-4caf-a766-3ce667a6c25c')\"\n",
              "            title=\"Convert this dataframe to an interactive table.\"\n",
              "            style=\"display:none;\">\n",
              "\n",
              "  <svg xmlns=\"http://www.w3.org/2000/svg\" height=\"24px\" viewBox=\"0 -960 960 960\">\n",
              "    <path d=\"M120-120v-720h720v720H120Zm60-500h600v-160H180v160Zm220 220h160v-160H400v160Zm0 220h160v-160H400v160ZM180-400h160v-160H180v160Zm440 0h160v-160H620v160ZM180-180h160v-160H180v160Zm440 0h160v-160H620v160Z\"/>\n",
              "  </svg>\n",
              "    </button>\n",
              "\n",
              "  <style>\n",
              "    .colab-df-container {\n",
              "      display:flex;\n",
              "      gap: 12px;\n",
              "    }\n",
              "\n",
              "    .colab-df-convert {\n",
              "      background-color: #E8F0FE;\n",
              "      border: none;\n",
              "      border-radius: 50%;\n",
              "      cursor: pointer;\n",
              "      display: none;\n",
              "      fill: #1967D2;\n",
              "      height: 32px;\n",
              "      padding: 0 0 0 0;\n",
              "      width: 32px;\n",
              "    }\n",
              "\n",
              "    .colab-df-convert:hover {\n",
              "      background-color: #E2EBFA;\n",
              "      box-shadow: 0px 1px 2px rgba(60, 64, 67, 0.3), 0px 1px 3px 1px rgba(60, 64, 67, 0.15);\n",
              "      fill: #174EA6;\n",
              "    }\n",
              "\n",
              "    .colab-df-buttons div {\n",
              "      margin-bottom: 4px;\n",
              "    }\n",
              "\n",
              "    [theme=dark] .colab-df-convert {\n",
              "      background-color: #3B4455;\n",
              "      fill: #D2E3FC;\n",
              "    }\n",
              "\n",
              "    [theme=dark] .colab-df-convert:hover {\n",
              "      background-color: #434B5C;\n",
              "      box-shadow: 0px 1px 3px 1px rgba(0, 0, 0, 0.15);\n",
              "      filter: drop-shadow(0px 1px 2px rgba(0, 0, 0, 0.3));\n",
              "      fill: #FFFFFF;\n",
              "    }\n",
              "  </style>\n",
              "\n",
              "    <script>\n",
              "      const buttonEl =\n",
              "        document.querySelector('#df-98579d7f-0022-4caf-a766-3ce667a6c25c button.colab-df-convert');\n",
              "      buttonEl.style.display =\n",
              "        google.colab.kernel.accessAllowed ? 'block' : 'none';\n",
              "\n",
              "      async function convertToInteractive(key) {\n",
              "        const element = document.querySelector('#df-98579d7f-0022-4caf-a766-3ce667a6c25c');\n",
              "        const dataTable =\n",
              "          await google.colab.kernel.invokeFunction('convertToInteractive',\n",
              "                                                    [key], {});\n",
              "        if (!dataTable) return;\n",
              "\n",
              "        const docLinkHtml = 'Like what you see? Visit the ' +\n",
              "          '<a target=\"_blank\" href=https://colab.research.google.com/notebooks/data_table.ipynb>data table notebook</a>'\n",
              "          + ' to learn more about interactive tables.';\n",
              "        element.innerHTML = '';\n",
              "        dataTable['output_type'] = 'display_data';\n",
              "        await google.colab.output.renderOutput(dataTable, element);\n",
              "        const docLink = document.createElement('div');\n",
              "        docLink.innerHTML = docLinkHtml;\n",
              "        element.appendChild(docLink);\n",
              "      }\n",
              "    </script>\n",
              "  </div>\n",
              "\n",
              "\n",
              "<div id=\"df-ebf6b251-6848-4cd2-9290-68963f8234f8\">\n",
              "  <button class=\"colab-df-quickchart\" onclick=\"quickchart('df-ebf6b251-6848-4cd2-9290-68963f8234f8')\"\n",
              "            title=\"Suggest charts\"\n",
              "            style=\"display:none;\">\n",
              "\n",
              "<svg xmlns=\"http://www.w3.org/2000/svg\" height=\"24px\"viewBox=\"0 0 24 24\"\n",
              "     width=\"24px\">\n",
              "    <g>\n",
              "        <path d=\"M19 3H5c-1.1 0-2 .9-2 2v14c0 1.1.9 2 2 2h14c1.1 0 2-.9 2-2V5c0-1.1-.9-2-2-2zM9 17H7v-7h2v7zm4 0h-2V7h2v10zm4 0h-2v-4h2v4z\"/>\n",
              "    </g>\n",
              "</svg>\n",
              "  </button>\n",
              "\n",
              "<style>\n",
              "  .colab-df-quickchart {\n",
              "      --bg-color: #E8F0FE;\n",
              "      --fill-color: #1967D2;\n",
              "      --hover-bg-color: #E2EBFA;\n",
              "      --hover-fill-color: #174EA6;\n",
              "      --disabled-fill-color: #AAA;\n",
              "      --disabled-bg-color: #DDD;\n",
              "  }\n",
              "\n",
              "  [theme=dark] .colab-df-quickchart {\n",
              "      --bg-color: #3B4455;\n",
              "      --fill-color: #D2E3FC;\n",
              "      --hover-bg-color: #434B5C;\n",
              "      --hover-fill-color: #FFFFFF;\n",
              "      --disabled-bg-color: #3B4455;\n",
              "      --disabled-fill-color: #666;\n",
              "  }\n",
              "\n",
              "  .colab-df-quickchart {\n",
              "    background-color: var(--bg-color);\n",
              "    border: none;\n",
              "    border-radius: 50%;\n",
              "    cursor: pointer;\n",
              "    display: none;\n",
              "    fill: var(--fill-color);\n",
              "    height: 32px;\n",
              "    padding: 0;\n",
              "    width: 32px;\n",
              "  }\n",
              "\n",
              "  .colab-df-quickchart:hover {\n",
              "    background-color: var(--hover-bg-color);\n",
              "    box-shadow: 0 1px 2px rgba(60, 64, 67, 0.3), 0 1px 3px 1px rgba(60, 64, 67, 0.15);\n",
              "    fill: var(--button-hover-fill-color);\n",
              "  }\n",
              "\n",
              "  .colab-df-quickchart-complete:disabled,\n",
              "  .colab-df-quickchart-complete:disabled:hover {\n",
              "    background-color: var(--disabled-bg-color);\n",
              "    fill: var(--disabled-fill-color);\n",
              "    box-shadow: none;\n",
              "  }\n",
              "\n",
              "  .colab-df-spinner {\n",
              "    border: 2px solid var(--fill-color);\n",
              "    border-color: transparent;\n",
              "    border-bottom-color: var(--fill-color);\n",
              "    animation:\n",
              "      spin 1s steps(1) infinite;\n",
              "  }\n",
              "\n",
              "  @keyframes spin {\n",
              "    0% {\n",
              "      border-color: transparent;\n",
              "      border-bottom-color: var(--fill-color);\n",
              "      border-left-color: var(--fill-color);\n",
              "    }\n",
              "    20% {\n",
              "      border-color: transparent;\n",
              "      border-left-color: var(--fill-color);\n",
              "      border-top-color: var(--fill-color);\n",
              "    }\n",
              "    30% {\n",
              "      border-color: transparent;\n",
              "      border-left-color: var(--fill-color);\n",
              "      border-top-color: var(--fill-color);\n",
              "      border-right-color: var(--fill-color);\n",
              "    }\n",
              "    40% {\n",
              "      border-color: transparent;\n",
              "      border-right-color: var(--fill-color);\n",
              "      border-top-color: var(--fill-color);\n",
              "    }\n",
              "    60% {\n",
              "      border-color: transparent;\n",
              "      border-right-color: var(--fill-color);\n",
              "    }\n",
              "    80% {\n",
              "      border-color: transparent;\n",
              "      border-right-color: var(--fill-color);\n",
              "      border-bottom-color: var(--fill-color);\n",
              "    }\n",
              "    90% {\n",
              "      border-color: transparent;\n",
              "      border-bottom-color: var(--fill-color);\n",
              "    }\n",
              "  }\n",
              "</style>\n",
              "\n",
              "  <script>\n",
              "    async function quickchart(key) {\n",
              "      const quickchartButtonEl =\n",
              "        document.querySelector('#' + key + ' button');\n",
              "      quickchartButtonEl.disabled = true;  // To prevent multiple clicks.\n",
              "      quickchartButtonEl.classList.add('colab-df-spinner');\n",
              "      try {\n",
              "        const charts = await google.colab.kernel.invokeFunction(\n",
              "            'suggestCharts', [key], {});\n",
              "      } catch (error) {\n",
              "        console.error('Error during call to suggestCharts:', error);\n",
              "      }\n",
              "      quickchartButtonEl.classList.remove('colab-df-spinner');\n",
              "      quickchartButtonEl.classList.add('colab-df-quickchart-complete');\n",
              "    }\n",
              "    (() => {\n",
              "      let quickchartButtonEl =\n",
              "        document.querySelector('#df-ebf6b251-6848-4cd2-9290-68963f8234f8 button');\n",
              "      quickchartButtonEl.style.display =\n",
              "        google.colab.kernel.accessAllowed ? 'block' : 'none';\n",
              "    })();\n",
              "  </script>\n",
              "</div>\n",
              "\n",
              "    </div>\n",
              "  </div>\n"
            ],
            "application/vnd.google.colaboratory.intrinsic+json": {
              "type": "dataframe",
              "variable_name": "data",
              "summary": "{\n  \"name\": \"data\",\n  \"rows\": 300,\n  \"fields\": [\n    {\n      \"column\": \"data\",\n      \"properties\": {\n        \"dtype\": \"number\",\n        \"std\": 1.7407376160097798,\n        \"min\": -3.0,\n        \"max\": 3.0,\n        \"num_unique_values\": 300,\n        \"samples\": [\n          1.0735785953177261,\n          2.3377926421404682,\n          0.05016722408026775\n        ],\n        \"semantic_type\": \"\",\n        \"description\": \"\"\n      }\n    },\n    {\n      \"column\": \"tanh\",\n      \"properties\": {\n        \"dtype\": \"number\",\n        \"std\": 0.8195283927643969,\n        \"min\": -0.9950547536867305,\n        \"max\": 0.9950547536867305,\n        \"num_unique_values\": 300,\n        \"samples\": [\n          0.7908056562631864,\n          0.9815319858568546,\n          0.05012518027864118\n        ],\n        \"semantic_type\": \"\",\n        \"description\": \"\"\n      }\n    }\n  ]\n}"
            }
          },
          "metadata": {},
          "execution_count": 12
        }
      ]
    },
    {
      "cell_type": "code",
      "metadata": {
        "id": "60dxCfJpghZR",
        "outputId": "16bf708e-f86b-4010-e7e9-33fc502f426d",
        "colab": {
          "base_uri": "https://localhost:8080/",
          "height": 417
        }
      },
      "source": [
        "px.line(data, x='data', y='tanh', width=500, height=400, range_y=[-1.5, 1.5])"
      ],
      "execution_count": 13,
      "outputs": [
        {
          "output_type": "display_data",
          "data": {
            "text/html": [
              "<html>\n",
              "<head><meta charset=\"utf-8\" /></head>\n",
              "<body>\n",
              "    <div>            <script src=\"https://cdnjs.cloudflare.com/ajax/libs/mathjax/2.7.5/MathJax.js?config=TeX-AMS-MML_SVG\"></script><script type=\"text/javascript\">if (window.MathJax && window.MathJax.Hub && window.MathJax.Hub.Config) {window.MathJax.Hub.Config({SVG: {font: \"STIX-Web\"}});}</script>                <script type=\"text/javascript\">window.PlotlyConfig = {MathJaxConfig: 'local'};</script>\n",
              "        <script charset=\"utf-8\" src=\"https://cdn.plot.ly/plotly-2.24.1.min.js\"></script>                <div id=\"92375cf0-9467-4501-a58f-add958e091bc\" class=\"plotly-graph-div\" style=\"height:400px; width:500px;\"></div>            <script type=\"text/javascript\">                                    window.PLOTLYENV=window.PLOTLYENV || {};                                    if (document.getElementById(\"92375cf0-9467-4501-a58f-add958e091bc\")) {                    Plotly.newPlot(                        \"92375cf0-9467-4501-a58f-add958e091bc\",                        [{\"hovertemplate\":\"data=%{x}\\u003cbr\\u003etanh=%{y}\\u003cextra\\u003e\\u003c\\u002fextra\\u003e\",\"legendgroup\":\"\",\"line\":{\"color\":\"#636efa\",\"dash\":\"solid\"},\"marker\":{\"symbol\":\"circle\"},\"mode\":\"lines\",\"name\":\"\",\"orientation\":\"v\",\"showlegend\":false,\"x\":[-3.0,-2.979933110367893,-2.959866220735786,-2.939799331103679,-2.919732441471572,-2.899665551839465,-2.879598662207358,-2.859531772575251,-2.839464882943144,-2.819397993311037,-2.79933110367893,-2.779264214046823,-2.759197324414716,-2.739130434782609,-2.719063545150502,-2.6989966555183944,-2.678929765886288,-2.6588628762541804,-2.638795986622074,-2.6187290969899664,-2.5986622073578594,-2.5785953177257523,-2.5585284280936453,-2.5384615384615383,-2.5183946488294313,-2.4983277591973243,-2.4782608695652173,-2.4581939799331103,-2.4381270903010033,-2.4180602006688963,-2.3979933110367893,-2.3779264214046822,-2.3578595317725752,-2.3377926421404682,-2.317725752508361,-2.297658862876254,-2.277591973244147,-2.25752508361204,-2.237458193979933,-2.217391304347826,-2.197324414715719,-2.177257525083612,-2.157190635451505,-2.137123745819398,-2.1170568561872907,-2.096989966555184,-2.0769230769230766,-2.05685618729097,-2.0367892976588626,-2.016722408026756,-1.9966555183946488,-1.9765886287625418,-1.9565217391304348,-1.9364548494983278,-1.9163879598662208,-1.8963210702341138,-1.8762541806020065,-1.8561872909698995,-1.8361204013377925,-1.8160535117056855,-1.7959866220735785,-1.7759197324414715,-1.7558528428093645,-1.7357859531772575,-1.7157190635451505,-1.6956521739130435,-1.6755852842809364,-1.6555183946488294,-1.6354515050167224,-1.6153846153846154,-1.5953177257525084,-1.5752508361204014,-1.5551839464882944,-1.5351170568561872,-1.5150501672240801,-1.4949832775919731,-1.4749163879598661,-1.4548494983277591,-1.434782608695652,-1.414715719063545,-1.394648829431438,-1.374581939799331,-1.354515050167224,-1.334448160535117,-1.31438127090301,-1.294314381270903,-1.274247491638796,-1.254180602006689,-1.2341137123745818,-1.2140468227424748,-1.1939799331103678,-1.1739130434782608,-1.1538461538461537,-1.1337792642140467,-1.1137123745819397,-1.0936454849498327,-1.0735785953177257,-1.0535117056856187,-1.0334448160535117,-1.0133779264214047,-0.9933110367892977,-0.9732441471571907,-0.9531772575250836,-0.9331103678929766,-0.9130434782608696,-0.8929765886287626,-0.8729096989966556,-0.8528428093645486,-0.8327759197324416,-0.8127090301003346,-0.7926421404682276,-0.7725752508361206,-0.7525083612040131,-0.7324414715719061,-0.7123745819397991,-0.6923076923076921,-0.6722408026755851,-0.652173913043478,-0.632107023411371,-0.612040133779264,-0.591973244147157,-0.57190635451505,-0.551839464882943,-0.531772575250836,-0.511705685618729,-0.49163879598662197,-0.47157190635451496,-0.45150501672240795,-0.43143812709030094,-0.41137123745819393,-0.3913043478260869,-0.3712374581939799,-0.3511705685618729,-0.3311036789297659,-0.3110367892976589,-0.29096989966555187,-0.27090301003344486,-0.25083612040133785,-0.23076923076923084,-0.21070234113712383,-0.19063545150501682,-0.1705685618729098,-0.1505016722408028,-0.1304347826086958,-0.11036789297658878,-0.09030100334448132,-0.07023411371237431,-0.0501672240802673,-0.030100334448160293,-0.010033444816053283,0.010033444816053727,0.030100334448160737,0.05016722408026775,0.07023411371237476,0.09030100334448177,0.11036789297658878,0.1304347826086958,0.1505016722408028,0.1705685618729098,0.19063545150501682,0.21070234113712383,0.23076923076923084,0.25083612040133785,0.27090301003344486,0.29096989966555187,0.3110367892976589,0.3311036789297659,0.3511705685618729,0.3712374581939799,0.3913043478260869,0.41137123745819393,0.43143812709030094,0.45150501672240795,0.47157190635451496,0.49163879598662197,0.511705685618729,0.5317725752508364,0.5518394648829434,0.5719063545150505,0.5919732441471575,0.6120401337792645,0.6321070234113715,0.6521739130434785,0.6722408026755855,0.6923076923076925,0.7123745819397995,0.7324414715719065,0.7525083612040135,0.7725752508361206,0.7926421404682276,0.8127090301003346,0.8327759197324416,0.8528428093645486,0.8729096989966556,0.8929765886287626,0.9130434782608696,0.9331103678929766,0.9531772575250836,0.9732441471571907,0.9933110367892977,1.0133779264214047,1.0334448160535121,1.0535117056856187,1.0735785953177261,1.0936454849498327,1.1137123745819402,1.1337792642140467,1.1538461538461542,1.1739130434782608,1.1939799331103682,1.2140468227424748,1.2341137123745822,1.2541806020066888,1.2742474916387962,1.2943143812709028,1.3143812709030103,1.3344481605351168,1.3545150501672243,1.3745819397993309,1.3946488294314383,1.4147157190635449,1.4347826086956523,1.454849498327759,1.4749163879598663,1.4949832775919738,1.5150501672240804,1.5351170568561878,1.5551839464882944,1.5752508361204018,1.5953177257525084,1.6153846153846159,1.6354515050167224,1.6555183946488299,1.6755852842809364,1.695652173913044,1.7157190635451505,1.735785953177258,1.7558528428093645,1.775919732441472,1.7959866220735785,1.816053511705686,1.8361204013377925,1.8561872909699,1.8762541806020065,1.896321070234114,1.9163879598662206,1.936454849498328,1.9565217391304346,1.976588628762542,1.9966555183946486,2.016722408026756,2.0367892976588626,2.05685618729097,2.0769230769230766,2.096989966555184,2.1170568561872907,2.137123745819398,2.1571906354515056,2.177257525083612,2.1973244147157196,2.217391304347826,2.2374581939799336,2.25752508361204,2.2775919732441476,2.297658862876254,2.3177257525083617,2.3377926421404682,2.3578595317725757,2.3779264214046822,2.3979933110367897,2.4180602006688963,2.4381270903010037,2.4581939799331103,2.4782608695652177,2.4983277591973243,2.5183946488294318,2.5384615384615383,2.558528428093646,2.5785953177257523,2.59866220735786,2.6187290969899664,2.638795986622074,2.6588628762541804,2.678929765886288,2.6989966555183944,2.719063545150502,2.7391304347826084,2.759197324414716,2.7792642140468224,2.79933110367893,2.8193979933110374,2.839464882943144,2.8595317725752514,2.879598662207358,2.8996655518394654,2.919732441471572,2.9397993311036794,2.959866220735786,2.9799331103678934,3.0],\"xaxis\":\"x\",\"y\":[-0.9950547536867305,-0.9948527669172019,-0.9946425522267051,-0.994423776297535,-0.9941960924629225,-0.9939591401852469,-0.993712544514928,-0.9934559155293734,-0.9931888477513459,-0.9929109195461022,-0.9926216924966457,-0.9923207107564234,-0.992007500378792,-0.9916815686225645,-0.9913424032329462,-0.9909894716971636,-0.9906222204740811,-0.9902400741971044,-0.9898424348496637,-0.9894286809125766,-0.9889981664825909,-0.9885502203614155,-0.9880841451145616,-0.9875992160993223,-0.9870946804612433,-0.9865697560984518,-0.9860236305932417,-0.9854554601103395,-0.9848643682613105,-0.9842494449346114,-0.9836097450908345,-0.9829442875227499,-0.9822520535798103,-0.9815319858568546,-0.9807829868468221,-0.9800039175573794,-0.9791935960914603,-0.9783507961918256,-0.9774742457498723,-0.9765626252790548,-0.9756145663534286,-0.9746286500119874,-0.9736034051296419,-0.9725373067558863,-0.9714287744224057,-0.970276170421113,-0.9690777980543531,-0.9678318998592871,-0.9665366558087639,-0.9651901814913084,-0.9637905262731981,-0.9623356714459788,-0.9608235283631639,-0.9592519365702975,-0.9576186619330226,-0.9559213947682872,-0.9541577479843528,-0.9523252552358308,-0.950421369100568,-0.9484434592858475,-0.9463888108720336,-0.9442546226025116,-0.9420380052295202,-0.93973597992627,-0.937345476776567,-0.9348633333540388,-0.9322862934039639,-0.9296110056416541,-0.9268340226823264,-0.9239518001184096,-0.9209606957612899,-0.9178569690655645,-0.9146367807549807,-0.91129619267035,-0.9078311678608592,-0.9042375709413338,-0.9005111687391469,-0.8966476312555784,-0.8926425329675369,-0.8884913544966132,-0.8841894846734503,-0.8797322230263696,-0.8751147827240607,-0.8703322940029194,-0.8653798081102724,-0.8602523017952435,-0.8549446823793725,-0.8494517934392571,-0.8437684211334437,-0.8378893012054976,-0.8318091266946153,-0.8255225563842759,-0.8190242240182181,-0.8123087483114577,-0.8053707437820843,-0.7982048324271617,-0.7908056562631862,-0.7831678907481722,-0.7752862590985365,-0.7671555475094944,-0.7587706212826381,-0.7501264418587388,-0.7412180847475635,-0.7320407583396266,-0.7225898235773113,-0.7128608144546854,-0.7028494593066384,-0.6925517028386885,-0.6819637288390039,-0.6710819835038989,-0.6599031992973586,-0.6484244192541062,-0.636643021624451,-0.6245567447477276,-0.6121637120297193,-0.5994624568881576,-0.586451947519378,-0.5731316113286531,-0.5595013588567878,-0.5455616070264638,-0.5313133015237221,-0.5167579381231105,-0.5018975827595883,-0.4867348901464721,-0.47127312073673044,-0.45551615582497623,-0.43946851058973274,-0.42313534488011584,-0.4065224715581034,-0.3896363622171569,-0.372484150110168,-0.3550736301345537,-0.3374132557397956,-0.3195121326427289,-0.3013800092583366,-0.28302726377850707,-0.2644648878579551,-0.2457044668950239,-0.22675815692505183,-0.2076386581750479,-0.18835918536017857,-0.16893343483458756,-0.14937554874089864,-0.1297000763339206,-0.1099219326840967,-0.09005635499465306,-0.0701188567927362,-0.050125180278640734,-0.03009124713814669,-0.01003310814059756,0.010033108140598004,0.030091247138147134,0.05012518027864118,0.07011885679273665,0.09005635499465349,0.1099219326840967,0.1297000763339206,0.14937554874089864,0.16893343483458756,0.18835918536017857,0.2076386581750479,0.22675815692505183,0.2457044668950239,0.2644648878579551,0.28302726377850707,0.3013800092583366,0.3195121326427289,0.3374132557397956,0.3550736301345537,0.372484150110168,0.3896363622171569,0.4065224715581034,0.42313534488011584,0.43946851058973274,0.45551615582497623,0.47127312073673044,0.48673489014647253,0.5018975827595886,0.5167579381231109,0.5313133015237225,0.5455616070264643,0.5595013588567881,0.5731316113286534,0.5864519475193785,0.5994624568881579,0.6121637120297196,0.6245567447477279,0.6366430216244513,0.6484244192541062,0.6599031992973586,0.6710819835038989,0.6819637288390039,0.6925517028386885,0.7028494593066384,0.7128608144546854,0.7225898235773113,0.7320407583396266,0.7412180847475635,0.7501264418587388,0.7587706212826381,0.7671555475094944,0.7752862590985367,0.7831678907481722,0.7908056562631864,0.7982048324271617,0.8053707437820844,0.8123087483114577,0.8190242240182182,0.8255225563842759,0.8318091266946155,0.8378893012054976,0.8437684211334439,0.849451793439257,0.8549446823793726,0.8602523017952435,0.8653798081102724,0.8703322940029194,0.8751147827240607,0.8797322230263696,0.8841894846734503,0.8884913544966131,0.8926425329675369,0.8966476312555783,0.9005111687391469,0.904237570941334,0.9078311678608592,0.9112961926703501,0.9146367807549807,0.9178569690655645,0.9209606957612899,0.9239518001184097,0.9268340226823264,0.9296110056416542,0.9322862934039639,0.9348633333540389,0.937345476776567,0.93973597992627,0.9420380052295202,0.9442546226025116,0.9463888108720336,0.9484434592858476,0.950421369100568,0.9523252552358308,0.9541577479843528,0.9559213947682872,0.9576186619330226,0.9592519365702975,0.9608235283631639,0.9623356714459789,0.9637905262731981,0.9651901814913084,0.9665366558087639,0.9678318998592871,0.9690777980543531,0.970276170421113,0.9714287744224057,0.9725373067558863,0.9736034051296419,0.9746286500119874,0.9756145663534287,0.9765626252790548,0.9774742457498723,0.9783507961918256,0.9791935960914604,0.9800039175573794,0.9807829868468221,0.9815319858568546,0.9822520535798103,0.9829442875227499,0.9836097450908345,0.9842494449346114,0.9848643682613105,0.9854554601103395,0.9860236305932417,0.9865697560984518,0.9870946804612433,0.9875992160993223,0.9880841451145616,0.9885502203614155,0.9889981664825909,0.9894286809125766,0.9898424348496637,0.9902400741971044,0.9906222204740811,0.9909894716971636,0.9913424032329462,0.9916815686225644,0.992007500378792,0.9923207107564234,0.9926216924966457,0.9929109195461022,0.9931888477513459,0.9934559155293734,0.993712544514928,0.9939591401852469,0.9941960924629225,0.994423776297535,0.9946425522267051,0.9948527669172019,0.9950547536867305],\"yaxis\":\"y\",\"type\":\"scatter\"}],                        {\"template\":{\"data\":{\"histogram2dcontour\":[{\"type\":\"histogram2dcontour\",\"colorbar\":{\"outlinewidth\":0,\"ticks\":\"\"},\"colorscale\":[[0.0,\"#0d0887\"],[0.1111111111111111,\"#46039f\"],[0.2222222222222222,\"#7201a8\"],[0.3333333333333333,\"#9c179e\"],[0.4444444444444444,\"#bd3786\"],[0.5555555555555556,\"#d8576b\"],[0.6666666666666666,\"#ed7953\"],[0.7777777777777778,\"#fb9f3a\"],[0.8888888888888888,\"#fdca26\"],[1.0,\"#f0f921\"]]}],\"choropleth\":[{\"type\":\"choropleth\",\"colorbar\":{\"outlinewidth\":0,\"ticks\":\"\"}}],\"histogram2d\":[{\"type\":\"histogram2d\",\"colorbar\":{\"outlinewidth\":0,\"ticks\":\"\"},\"colorscale\":[[0.0,\"#0d0887\"],[0.1111111111111111,\"#46039f\"],[0.2222222222222222,\"#7201a8\"],[0.3333333333333333,\"#9c179e\"],[0.4444444444444444,\"#bd3786\"],[0.5555555555555556,\"#d8576b\"],[0.6666666666666666,\"#ed7953\"],[0.7777777777777778,\"#fb9f3a\"],[0.8888888888888888,\"#fdca26\"],[1.0,\"#f0f921\"]]}],\"heatmap\":[{\"type\":\"heatmap\",\"colorbar\":{\"outlinewidth\":0,\"ticks\":\"\"},\"colorscale\":[[0.0,\"#0d0887\"],[0.1111111111111111,\"#46039f\"],[0.2222222222222222,\"#7201a8\"],[0.3333333333333333,\"#9c179e\"],[0.4444444444444444,\"#bd3786\"],[0.5555555555555556,\"#d8576b\"],[0.6666666666666666,\"#ed7953\"],[0.7777777777777778,\"#fb9f3a\"],[0.8888888888888888,\"#fdca26\"],[1.0,\"#f0f921\"]]}],\"heatmapgl\":[{\"type\":\"heatmapgl\",\"colorbar\":{\"outlinewidth\":0,\"ticks\":\"\"},\"colorscale\":[[0.0,\"#0d0887\"],[0.1111111111111111,\"#46039f\"],[0.2222222222222222,\"#7201a8\"],[0.3333333333333333,\"#9c179e\"],[0.4444444444444444,\"#bd3786\"],[0.5555555555555556,\"#d8576b\"],[0.6666666666666666,\"#ed7953\"],[0.7777777777777778,\"#fb9f3a\"],[0.8888888888888888,\"#fdca26\"],[1.0,\"#f0f921\"]]}],\"contourcarpet\":[{\"type\":\"contourcarpet\",\"colorbar\":{\"outlinewidth\":0,\"ticks\":\"\"}}],\"contour\":[{\"type\":\"contour\",\"colorbar\":{\"outlinewidth\":0,\"ticks\":\"\"},\"colorscale\":[[0.0,\"#0d0887\"],[0.1111111111111111,\"#46039f\"],[0.2222222222222222,\"#7201a8\"],[0.3333333333333333,\"#9c179e\"],[0.4444444444444444,\"#bd3786\"],[0.5555555555555556,\"#d8576b\"],[0.6666666666666666,\"#ed7953\"],[0.7777777777777778,\"#fb9f3a\"],[0.8888888888888888,\"#fdca26\"],[1.0,\"#f0f921\"]]}],\"surface\":[{\"type\":\"surface\",\"colorbar\":{\"outlinewidth\":0,\"ticks\":\"\"},\"colorscale\":[[0.0,\"#0d0887\"],[0.1111111111111111,\"#46039f\"],[0.2222222222222222,\"#7201a8\"],[0.3333333333333333,\"#9c179e\"],[0.4444444444444444,\"#bd3786\"],[0.5555555555555556,\"#d8576b\"],[0.6666666666666666,\"#ed7953\"],[0.7777777777777778,\"#fb9f3a\"],[0.8888888888888888,\"#fdca26\"],[1.0,\"#f0f921\"]]}],\"mesh3d\":[{\"type\":\"mesh3d\",\"colorbar\":{\"outlinewidth\":0,\"ticks\":\"\"}}],\"scatter\":[{\"fillpattern\":{\"fillmode\":\"overlay\",\"size\":10,\"solidity\":0.2},\"type\":\"scatter\"}],\"parcoords\":[{\"type\":\"parcoords\",\"line\":{\"colorbar\":{\"outlinewidth\":0,\"ticks\":\"\"}}}],\"scatterpolargl\":[{\"type\":\"scatterpolargl\",\"marker\":{\"colorbar\":{\"outlinewidth\":0,\"ticks\":\"\"}}}],\"bar\":[{\"error_x\":{\"color\":\"#2a3f5f\"},\"error_y\":{\"color\":\"#2a3f5f\"},\"marker\":{\"line\":{\"color\":\"#E5ECF6\",\"width\":0.5},\"pattern\":{\"fillmode\":\"overlay\",\"size\":10,\"solidity\":0.2}},\"type\":\"bar\"}],\"scattergeo\":[{\"type\":\"scattergeo\",\"marker\":{\"colorbar\":{\"outlinewidth\":0,\"ticks\":\"\"}}}],\"scatterpolar\":[{\"type\":\"scatterpolar\",\"marker\":{\"colorbar\":{\"outlinewidth\":0,\"ticks\":\"\"}}}],\"histogram\":[{\"marker\":{\"pattern\":{\"fillmode\":\"overlay\",\"size\":10,\"solidity\":0.2}},\"type\":\"histogram\"}],\"scattergl\":[{\"type\":\"scattergl\",\"marker\":{\"colorbar\":{\"outlinewidth\":0,\"ticks\":\"\"}}}],\"scatter3d\":[{\"type\":\"scatter3d\",\"line\":{\"colorbar\":{\"outlinewidth\":0,\"ticks\":\"\"}},\"marker\":{\"colorbar\":{\"outlinewidth\":0,\"ticks\":\"\"}}}],\"scattermapbox\":[{\"type\":\"scattermapbox\",\"marker\":{\"colorbar\":{\"outlinewidth\":0,\"ticks\":\"\"}}}],\"scatterternary\":[{\"type\":\"scatterternary\",\"marker\":{\"colorbar\":{\"outlinewidth\":0,\"ticks\":\"\"}}}],\"scattercarpet\":[{\"type\":\"scattercarpet\",\"marker\":{\"colorbar\":{\"outlinewidth\":0,\"ticks\":\"\"}}}],\"carpet\":[{\"aaxis\":{\"endlinecolor\":\"#2a3f5f\",\"gridcolor\":\"white\",\"linecolor\":\"white\",\"minorgridcolor\":\"white\",\"startlinecolor\":\"#2a3f5f\"},\"baxis\":{\"endlinecolor\":\"#2a3f5f\",\"gridcolor\":\"white\",\"linecolor\":\"white\",\"minorgridcolor\":\"white\",\"startlinecolor\":\"#2a3f5f\"},\"type\":\"carpet\"}],\"table\":[{\"cells\":{\"fill\":{\"color\":\"#EBF0F8\"},\"line\":{\"color\":\"white\"}},\"header\":{\"fill\":{\"color\":\"#C8D4E3\"},\"line\":{\"color\":\"white\"}},\"type\":\"table\"}],\"barpolar\":[{\"marker\":{\"line\":{\"color\":\"#E5ECF6\",\"width\":0.5},\"pattern\":{\"fillmode\":\"overlay\",\"size\":10,\"solidity\":0.2}},\"type\":\"barpolar\"}],\"pie\":[{\"automargin\":true,\"type\":\"pie\"}]},\"layout\":{\"autotypenumbers\":\"strict\",\"colorway\":[\"#636efa\",\"#EF553B\",\"#00cc96\",\"#ab63fa\",\"#FFA15A\",\"#19d3f3\",\"#FF6692\",\"#B6E880\",\"#FF97FF\",\"#FECB52\"],\"font\":{\"color\":\"#2a3f5f\"},\"hovermode\":\"closest\",\"hoverlabel\":{\"align\":\"left\"},\"paper_bgcolor\":\"white\",\"plot_bgcolor\":\"#E5ECF6\",\"polar\":{\"bgcolor\":\"#E5ECF6\",\"angularaxis\":{\"gridcolor\":\"white\",\"linecolor\":\"white\",\"ticks\":\"\"},\"radialaxis\":{\"gridcolor\":\"white\",\"linecolor\":\"white\",\"ticks\":\"\"}},\"ternary\":{\"bgcolor\":\"#E5ECF6\",\"aaxis\":{\"gridcolor\":\"white\",\"linecolor\":\"white\",\"ticks\":\"\"},\"baxis\":{\"gridcolor\":\"white\",\"linecolor\":\"white\",\"ticks\":\"\"},\"caxis\":{\"gridcolor\":\"white\",\"linecolor\":\"white\",\"ticks\":\"\"}},\"coloraxis\":{\"colorbar\":{\"outlinewidth\":0,\"ticks\":\"\"}},\"colorscale\":{\"sequential\":[[0.0,\"#0d0887\"],[0.1111111111111111,\"#46039f\"],[0.2222222222222222,\"#7201a8\"],[0.3333333333333333,\"#9c179e\"],[0.4444444444444444,\"#bd3786\"],[0.5555555555555556,\"#d8576b\"],[0.6666666666666666,\"#ed7953\"],[0.7777777777777778,\"#fb9f3a\"],[0.8888888888888888,\"#fdca26\"],[1.0,\"#f0f921\"]],\"sequentialminus\":[[0.0,\"#0d0887\"],[0.1111111111111111,\"#46039f\"],[0.2222222222222222,\"#7201a8\"],[0.3333333333333333,\"#9c179e\"],[0.4444444444444444,\"#bd3786\"],[0.5555555555555556,\"#d8576b\"],[0.6666666666666666,\"#ed7953\"],[0.7777777777777778,\"#fb9f3a\"],[0.8888888888888888,\"#fdca26\"],[1.0,\"#f0f921\"]],\"diverging\":[[0,\"#8e0152\"],[0.1,\"#c51b7d\"],[0.2,\"#de77ae\"],[0.3,\"#f1b6da\"],[0.4,\"#fde0ef\"],[0.5,\"#f7f7f7\"],[0.6,\"#e6f5d0\"],[0.7,\"#b8e186\"],[0.8,\"#7fbc41\"],[0.9,\"#4d9221\"],[1,\"#276419\"]]},\"xaxis\":{\"gridcolor\":\"white\",\"linecolor\":\"white\",\"ticks\":\"\",\"title\":{\"standoff\":15},\"zerolinecolor\":\"white\",\"automargin\":true,\"zerolinewidth\":2},\"yaxis\":{\"gridcolor\":\"white\",\"linecolor\":\"white\",\"ticks\":\"\",\"title\":{\"standoff\":15},\"zerolinecolor\":\"white\",\"automargin\":true,\"zerolinewidth\":2},\"scene\":{\"xaxis\":{\"backgroundcolor\":\"#E5ECF6\",\"gridcolor\":\"white\",\"linecolor\":\"white\",\"showbackground\":true,\"ticks\":\"\",\"zerolinecolor\":\"white\",\"gridwidth\":2},\"yaxis\":{\"backgroundcolor\":\"#E5ECF6\",\"gridcolor\":\"white\",\"linecolor\":\"white\",\"showbackground\":true,\"ticks\":\"\",\"zerolinecolor\":\"white\",\"gridwidth\":2},\"zaxis\":{\"backgroundcolor\":\"#E5ECF6\",\"gridcolor\":\"white\",\"linecolor\":\"white\",\"showbackground\":true,\"ticks\":\"\",\"zerolinecolor\":\"white\",\"gridwidth\":2}},\"shapedefaults\":{\"line\":{\"color\":\"#2a3f5f\"}},\"annotationdefaults\":{\"arrowcolor\":\"#2a3f5f\",\"arrowhead\":0,\"arrowwidth\":1},\"geo\":{\"bgcolor\":\"white\",\"landcolor\":\"#E5ECF6\",\"subunitcolor\":\"white\",\"showland\":true,\"showlakes\":true,\"lakecolor\":\"white\"},\"title\":{\"x\":0.05},\"mapbox\":{\"style\":\"light\"}}},\"xaxis\":{\"anchor\":\"y\",\"domain\":[0.0,1.0],\"title\":{\"text\":\"data\"}},\"yaxis\":{\"anchor\":\"x\",\"domain\":[0.0,1.0],\"title\":{\"text\":\"tanh\"},\"range\":[-1.5,1.5]},\"legend\":{\"tracegroupgap\":0},\"margin\":{\"t\":60},\"height\":400,\"width\":500},                        {\"responsive\": true}                    ).then(function(){\n",
              "                            \n",
              "var gd = document.getElementById('92375cf0-9467-4501-a58f-add958e091bc');\n",
              "var x = new MutationObserver(function (mutations, observer) {{\n",
              "        var display = window.getComputedStyle(gd).display;\n",
              "        if (!display || display === 'none') {{\n",
              "            console.log([gd, 'removed!']);\n",
              "            Plotly.purge(gd);\n",
              "            observer.disconnect();\n",
              "        }}\n",
              "}});\n",
              "\n",
              "// Listen for the removal of the full notebook cells\n",
              "var notebookContainer = gd.closest('#notebook-container');\n",
              "if (notebookContainer) {{\n",
              "    x.observe(notebookContainer, {childList: true});\n",
              "}}\n",
              "\n",
              "// Listen for the clearing of the current output cell\n",
              "var outputEl = gd.closest('.output');\n",
              "if (outputEl) {{\n",
              "    x.observe(outputEl, {childList: true});\n",
              "}}\n",
              "\n",
              "                        })                };                            </script>        </div>\n",
              "</body>\n",
              "</html>"
            ]
          },
          "metadata": {}
        }
      ]
    },
    {
      "cell_type": "code",
      "metadata": {
        "id": "hUCtW1HMgjkV",
        "outputId": "064c8cbd-a693-4a71-a876-8bf3cd9ac4c0",
        "colab": {
          "base_uri": "https://localhost:8080/",
          "height": 274
        }
      },
      "source": [
        "model = Sequential()\n",
        "model.add(Dense(units=8, activation='relu', input_shape=(10,)))\n",
        "model.add(Dense(units=1, activation='sigmoid'))\n",
        "model.summary()"
      ],
      "execution_count": 14,
      "outputs": [
        {
          "output_type": "stream",
          "name": "stderr",
          "text": [
            "/usr/local/lib/python3.10/dist-packages/keras/src/layers/core/dense.py:87: UserWarning:\n",
            "\n",
            "Do not pass an `input_shape`/`input_dim` argument to a layer. When using Sequential models, prefer using an `Input(shape)` object as the first layer in the model instead.\n",
            "\n"
          ]
        },
        {
          "output_type": "display_data",
          "data": {
            "text/plain": [
              "\u001b[1mModel: \"sequential_1\"\u001b[0m\n"
            ],
            "text/html": [
              "<pre style=\"white-space:pre;overflow-x:auto;line-height:normal;font-family:Menlo,'DejaVu Sans Mono',consolas,'Courier New',monospace\"><span style=\"font-weight: bold\">Model: \"sequential_1\"</span>\n",
              "</pre>\n"
            ]
          },
          "metadata": {}
        },
        {
          "output_type": "display_data",
          "data": {
            "text/plain": [
              "┏━━━━━━━━━━━━━━━━━━━━━━━━━━━━━━━━━━━━━━┳━━━━━━━━━━━━━━━━━━━━━━━━━━━━━┳━━━━━━━━━━━━━━━━━┓\n",
              "┃\u001b[1m \u001b[0m\u001b[1mLayer (type)                        \u001b[0m\u001b[1m \u001b[0m┃\u001b[1m \u001b[0m\u001b[1mOutput Shape               \u001b[0m\u001b[1m \u001b[0m┃\u001b[1m \u001b[0m\u001b[1m        Param #\u001b[0m\u001b[1m \u001b[0m┃\n",
              "┡━━━━━━━━━━━━━━━━━━━━━━━━━━━━━━━━━━━━━━╇━━━━━━━━━━━━━━━━━━━━━━━━━━━━━╇━━━━━━━━━━━━━━━━━┩\n",
              "│ dense_2 (\u001b[38;5;33mDense\u001b[0m)                      │ (\u001b[38;5;45mNone\u001b[0m, \u001b[38;5;34m8\u001b[0m)                   │              \u001b[38;5;34m88\u001b[0m │\n",
              "├──────────────────────────────────────┼─────────────────────────────┼─────────────────┤\n",
              "│ dense_3 (\u001b[38;5;33mDense\u001b[0m)                      │ (\u001b[38;5;45mNone\u001b[0m, \u001b[38;5;34m1\u001b[0m)                   │               \u001b[38;5;34m9\u001b[0m │\n",
              "└──────────────────────────────────────┴─────────────────────────────┴─────────────────┘\n"
            ],
            "text/html": [
              "<pre style=\"white-space:pre;overflow-x:auto;line-height:normal;font-family:Menlo,'DejaVu Sans Mono',consolas,'Courier New',monospace\">┏━━━━━━━━━━━━━━━━━━━━━━━━━━━━━━━━━━━━━━┳━━━━━━━━━━━━━━━━━━━━━━━━━━━━━┳━━━━━━━━━━━━━━━━━┓\n",
              "┃<span style=\"font-weight: bold\"> Layer (type)                         </span>┃<span style=\"font-weight: bold\"> Output Shape                </span>┃<span style=\"font-weight: bold\">         Param # </span>┃\n",
              "┡━━━━━━━━━━━━━━━━━━━━━━━━━━━━━━━━━━━━━━╇━━━━━━━━━━━━━━━━━━━━━━━━━━━━━╇━━━━━━━━━━━━━━━━━┩\n",
              "│ dense_2 (<span style=\"color: #0087ff; text-decoration-color: #0087ff\">Dense</span>)                      │ (<span style=\"color: #00d7ff; text-decoration-color: #00d7ff\">None</span>, <span style=\"color: #00af00; text-decoration-color: #00af00\">8</span>)                   │              <span style=\"color: #00af00; text-decoration-color: #00af00\">88</span> │\n",
              "├──────────────────────────────────────┼─────────────────────────────┼─────────────────┤\n",
              "│ dense_3 (<span style=\"color: #0087ff; text-decoration-color: #0087ff\">Dense</span>)                      │ (<span style=\"color: #00d7ff; text-decoration-color: #00d7ff\">None</span>, <span style=\"color: #00af00; text-decoration-color: #00af00\">1</span>)                   │               <span style=\"color: #00af00; text-decoration-color: #00af00\">9</span> │\n",
              "└──────────────────────────────────────┴─────────────────────────────┴─────────────────┘\n",
              "</pre>\n"
            ]
          },
          "metadata": {}
        },
        {
          "output_type": "display_data",
          "data": {
            "text/plain": [
              "\u001b[1m Total params: \u001b[0m\u001b[38;5;34m97\u001b[0m (388.00 B)\n"
            ],
            "text/html": [
              "<pre style=\"white-space:pre;overflow-x:auto;line-height:normal;font-family:Menlo,'DejaVu Sans Mono',consolas,'Courier New',monospace\"><span style=\"font-weight: bold\"> Total params: </span><span style=\"color: #00af00; text-decoration-color: #00af00\">97</span> (388.00 B)\n",
              "</pre>\n"
            ]
          },
          "metadata": {}
        },
        {
          "output_type": "display_data",
          "data": {
            "text/plain": [
              "\u001b[1m Trainable params: \u001b[0m\u001b[38;5;34m97\u001b[0m (388.00 B)\n"
            ],
            "text/html": [
              "<pre style=\"white-space:pre;overflow-x:auto;line-height:normal;font-family:Menlo,'DejaVu Sans Mono',consolas,'Courier New',monospace\"><span style=\"font-weight: bold\"> Trainable params: </span><span style=\"color: #00af00; text-decoration-color: #00af00\">97</span> (388.00 B)\n",
              "</pre>\n"
            ]
          },
          "metadata": {}
        },
        {
          "output_type": "display_data",
          "data": {
            "text/plain": [
              "\u001b[1m Non-trainable params: \u001b[0m\u001b[38;5;34m0\u001b[0m (0.00 B)\n"
            ],
            "text/html": [
              "<pre style=\"white-space:pre;overflow-x:auto;line-height:normal;font-family:Menlo,'DejaVu Sans Mono',consolas,'Courier New',monospace\"><span style=\"font-weight: bold\"> Non-trainable params: </span><span style=\"color: #00af00; text-decoration-color: #00af00\">0</span> (0.00 B)\n",
              "</pre>\n"
            ]
          },
          "metadata": {}
        }
      ]
    },
    {
      "cell_type": "markdown",
      "metadata": {
        "id": "NNWU1zbwimbx"
      },
      "source": [
        "### <a name='a2'></a>Kompilacja modelu\n",
        "Przed rozpoczęciem trenowania sieci należy odpowiednio skonfigurować proces uczenia. W tym kroku określamy:\n",
        "* rodzaj optymalizatora ([Keras - Optymalizatory](https://keras.io/optimizers/))\n",
        "* funkcję straty ([Keras - Funkcje Straty](https://keras.io/losses/))\n",
        "* metryki, które będziemy obserwować podczas trenowania sieci ([Keras - Metryki](https://keras.io/metrics/))"
      ]
    },
    {
      "cell_type": "code",
      "metadata": {
        "id": "oBRtQd7diI0e"
      },
      "source": [
        "# klasyfikacja binarna\n",
        "model.compile(optimizer='rmsprop',\n",
        "              loss='binary_crossentropy',\n",
        "              metrics=['accuracy'])\n",
        "\n",
        "# klasyfikacja wieloklasowa\n",
        "model.compile(optimizer='rmsprop',\n",
        "              loss='categorical_crossentropy',\n",
        "              metrics=['accuracy'])\n",
        "\n",
        "# regresja\n",
        "model.compile(optimizer='rmsprop',\n",
        "              loss='mse')"
      ],
      "execution_count": 15,
      "outputs": []
    },
    {
      "cell_type": "markdown",
      "metadata": {
        "id": "TqsJw4K-knNP"
      },
      "source": [
        "### <a name='a3'></a>Trenowanie modelu\n",
        "Za dane wejściowe do modelu należy przekazać Numpy arrays:\n",
        "* **epochs** - krotność przejścia danych przez sieć w procesie uczenia\n",
        "* **batch_size** - rozmiar wsadu po którym następuje aktualizacja wag\n",
        "* **validation_split** - część danych treningowych, które zostaną wykorzystane jako zbiór walidacyjny\n",
        "* **validation_data** - (x_val, y_val) - dane wykorzystane do walidacji modelu"
      ]
    },
    {
      "cell_type": "code",
      "metadata": {
        "id": "HBn1AzzGkS2h"
      },
      "source": [
        "# model.fit(data, labels, epochs=10, batch_size=32)\n",
        "# model.fit(data, labels, epochs=10, batch_size=32, validation_split=0.2)\n",
        "# model.fit(data, labels, epochs=10, batch_size=32, validation_data=(x_val, y_val))"
      ],
      "execution_count": 16,
      "outputs": []
    },
    {
      "cell_type": "markdown",
      "metadata": {
        "id": "8fmOZzNywvx6"
      },
      "source": [
        "### <a name='a4'></a> Przykład - klasyfikacja binarna"
      ]
    },
    {
      "cell_type": "code",
      "metadata": {
        "id": "gELP58XdwKSj",
        "outputId": "d4b22bfe-329b-4d2e-b201-6046c26a1ccc",
        "colab": {
          "base_uri": "https://localhost:8080/"
        }
      },
      "source": [
        "data = np.random.randn(10000, 150)\n",
        "labels = np.random.randint(2, size=(10000, 1))\n",
        "\n",
        "print(data.shape)\n",
        "print(labels.shape)"
      ],
      "execution_count": 17,
      "outputs": [
        {
          "output_type": "stream",
          "name": "stdout",
          "text": [
            "(10000, 150)\n",
            "(10000, 1)\n"
          ]
        }
      ]
    },
    {
      "cell_type": "code",
      "metadata": {
        "id": "B_ItRZ5EwcdR",
        "colab": {
          "base_uri": "https://localhost:8080/"
        },
        "outputId": "a3470377-950a-47e5-8a85-b2469e9b9702"
      },
      "source": [
        "data[:3]"
      ],
      "execution_count": 18,
      "outputs": [
        {
          "output_type": "execute_result",
          "data": {
            "text/plain": [
              "array([[-9.11110984e-01,  6.98180193e-01, -3.81620624e-02,\n",
              "         9.81152472e-01,  1.17028387e+00, -1.62652669e+00,\n",
              "         9.15410516e-01, -1.58368293e+00,  5.37445484e-03,\n",
              "        -8.44121772e-01,  2.87252225e-01,  1.52603701e+00,\n",
              "        -2.41808221e-01,  1.87954009e+00, -1.33972976e+00,\n",
              "         1.47645224e+00,  1.33776644e+00,  5.94377076e-01,\n",
              "         8.28375815e-01, -3.00086878e-01,  8.04820407e-01,\n",
              "        -9.19740560e-01, -7.93555306e-01,  4.52648958e-02,\n",
              "         1.19806036e+00, -5.76843819e-01,  1.03221269e+00,\n",
              "         1.94344632e+00,  2.90464103e-01,  4.16930147e-01,\n",
              "        -1.12424721e+00,  6.26159559e-01,  3.03506365e-01,\n",
              "        -1.12454622e-01, -5.08279109e-01,  2.32327005e+00,\n",
              "        -9.22909283e-01,  3.80738188e-01,  1.73428563e-01,\n",
              "        -1.83397418e+00, -1.26502266e-01,  1.33141623e-01,\n",
              "        -8.34027869e-01,  7.56618034e-02,  1.04857800e+00,\n",
              "        -9.57210991e-01,  1.41865616e+00, -5.84471035e-01,\n",
              "        -2.68080284e-01, -4.13445801e-02,  1.15350171e+00,\n",
              "         1.80399505e-01,  1.21292544e+00, -9.93428330e-01,\n",
              "         9.48046641e-01, -5.30798202e-02, -1.14900399e+00,\n",
              "         5.66625060e-01,  5.57754733e-01,  1.90890346e+00,\n",
              "        -9.93432931e-01,  7.70940350e-01,  2.17072700e-02,\n",
              "        -2.40827845e+00,  3.09111378e-02, -6.46135843e-01,\n",
              "        -8.48975826e-01,  4.25291209e-01, -8.44924885e-01,\n",
              "         5.31238631e-01,  1.04851183e+00, -1.07707840e+00,\n",
              "         8.80267918e-01, -9.58807336e-01,  9.08806872e-01,\n",
              "         8.27808835e-01, -1.31131896e-01, -2.19925105e-01,\n",
              "        -8.68754419e-01,  8.18455438e-02,  3.43274159e-01,\n",
              "        -2.94087647e-01, -8.13458784e-01, -6.57795411e-01,\n",
              "         3.58093842e-01,  8.52206210e-01, -1.23805144e+00,\n",
              "        -6.64880695e-01, -2.89855644e-01,  4.14565919e-02,\n",
              "         5.19672952e-01,  1.61375865e-01,  1.20220587e+00,\n",
              "         9.04345118e-01, -1.94342013e+00, -2.24356373e-01,\n",
              "        -1.87479972e+00,  4.09983856e-01, -1.16361151e+00,\n",
              "         4.27425529e-01,  1.29051945e+00,  1.16680618e+00,\n",
              "        -6.80996659e-02, -1.08553458e+00,  2.93431054e+00,\n",
              "         9.98734986e-01, -7.12034932e-01, -2.31730444e-01,\n",
              "         8.03653754e-01, -8.26649827e-01, -2.67075289e-01,\n",
              "         4.61930927e-02, -3.30789506e-01,  1.54235464e-01,\n",
              "         1.07993438e+00, -1.31726286e-01, -1.29181442e+00,\n",
              "         7.40100572e-01,  7.08558656e-01,  1.97434324e+00,\n",
              "         1.07299245e+00, -6.84823057e-01,  7.00832379e-01,\n",
              "        -6.05410575e-01, -9.65193772e-02, -8.19684870e-01,\n",
              "        -8.03445721e-01, -1.00355718e+00, -8.29287998e-02,\n",
              "         4.43048806e-01, -1.63512235e-01,  1.34016253e+00,\n",
              "        -1.16347542e+00, -6.79721077e-01, -4.51250460e-01,\n",
              "         1.50563551e+00,  6.73051762e-01,  1.26786150e+00,\n",
              "        -9.03225357e-01, -2.37355976e+00, -1.15728661e+00,\n",
              "         1.21488030e+00,  1.86958252e+00,  1.27576544e+00,\n",
              "         5.65660372e-02, -2.63720919e+00,  4.21273468e-01,\n",
              "         7.12637404e-01,  4.60241460e-01, -1.86379292e+00],\n",
              "       [-1.42476914e+00,  1.27735907e+00,  1.12670072e+00,\n",
              "         9.48175113e-01, -1.49403224e-02, -1.30341252e+00,\n",
              "        -6.65100356e-01,  1.97176391e-01, -6.78526477e-01,\n",
              "         8.48243002e-01,  3.99958847e-01,  2.48369324e-01,\n",
              "         2.44403234e-01, -4.14941270e-01,  8.37180935e-02,\n",
              "        -1.04006166e+00,  6.25733164e-01, -5.87850363e-01,\n",
              "         9.63986954e-01, -1.88168737e-03, -1.35795122e-01,\n",
              "        -9.15924781e-01, -6.24997517e-01,  3.60088137e-02,\n",
              "         1.33491872e-01,  6.04387921e-01, -5.46362776e-02,\n",
              "         1.03520988e+00,  7.37354592e-01,  1.07173130e+00,\n",
              "        -2.74963528e-02,  9.09812647e-02,  9.59204088e-01,\n",
              "        -1.10837213e+00, -2.95594731e-01, -1.38111244e-01,\n",
              "         1.88573554e+00, -1.02080304e+00, -2.15472013e+00,\n",
              "        -5.49895893e-01,  6.17591452e-01, -5.03759215e-01,\n",
              "        -1.11796527e+00,  5.01583663e-02, -6.54114589e-01,\n",
              "        -1.63612167e+00,  1.04820720e+00,  8.90348719e-01,\n",
              "         1.00108953e+00,  1.39201354e-01, -1.50577566e-01,\n",
              "        -3.23032542e-01,  1.39920529e+00, -7.17131190e-01,\n",
              "        -1.75644880e+00,  1.02612601e+00, -1.34773669e+00,\n",
              "         1.48995535e+00,  4.91521803e-01,  4.34725672e-01,\n",
              "        -8.91521253e-01, -9.43877385e-01, -5.67518691e-01,\n",
              "         1.47972770e+00, -7.94979986e-01, -1.67044787e+00,\n",
              "         6.75996156e-01, -4.04580674e-01, -1.57211177e+00,\n",
              "        -2.01082791e-01, -2.75780427e-01, -3.86113850e-02,\n",
              "         7.07243503e-01,  2.18856126e+00, -7.08220139e-01,\n",
              "         3.53029259e-01, -4.63991497e-01, -3.31108878e-02,\n",
              "        -1.39430243e-01, -2.18157263e-01, -7.74794959e-01,\n",
              "        -8.29654220e-01,  1.60496972e+00, -5.91200026e-01,\n",
              "         2.22987088e-01, -5.10332746e-01, -9.95178791e-01,\n",
              "         1.83326062e-01,  3.08287514e-01,  1.40732148e+00,\n",
              "        -1.71793370e+00, -5.34007600e-02,  5.08215455e-01,\n",
              "         1.33799229e+00,  1.76689295e+00,  8.07795544e-01,\n",
              "        -2.01652560e-01, -1.17496631e+00,  2.61055440e-01,\n",
              "         1.62658371e-01,  7.65383450e-01, -4.45368184e-01,\n",
              "        -1.10023492e+00,  2.96058197e-01,  9.56729610e-01,\n",
              "         9.70594622e-01, -7.26817388e-02, -1.91463931e+00,\n",
              "         1.36834258e+00, -1.60488608e+00, -6.40979743e-01,\n",
              "        -1.28969363e+00, -6.75474667e-01, -1.08593737e+00,\n",
              "        -8.26544699e-01, -9.35407973e-01,  1.64119651e+00,\n",
              "         5.79554260e-01,  7.67445058e-02, -7.90552456e-01,\n",
              "        -5.21475010e-01, -5.26950154e-01, -5.94111924e-01,\n",
              "        -3.27356018e-01, -1.39961460e-01,  8.82259785e-01,\n",
              "        -2.53525159e+00, -9.73418290e-01,  1.70287548e+00,\n",
              "        -2.26610489e+00, -5.08994622e-01, -6.74244252e-01,\n",
              "         6.26055547e-01,  4.59021433e-01,  7.63011611e-01,\n",
              "        -1.03258304e+00, -1.35037178e+00, -8.00753860e-01,\n",
              "         6.31815041e-01, -1.30938617e-01,  5.37945813e-01,\n",
              "        -1.54783235e+00, -9.28289789e-01,  5.70934990e-01,\n",
              "        -6.71947369e-01, -3.59952039e-01, -2.02942433e+00,\n",
              "         1.25515711e+00,  8.99504907e-01,  2.32825960e+00],\n",
              "       [-1.26113164e-01, -1.03883730e+00, -1.07295895e+00,\n",
              "         5.36970866e-01, -1.86600625e+00, -2.35252682e-01,\n",
              "        -2.59593566e+00, -9.04182933e-01, -3.92510917e-01,\n",
              "         6.23033332e-01,  5.89672269e-02, -5.33518440e-02,\n",
              "        -4.05757225e-01, -8.92555193e-01, -8.87028933e-01,\n",
              "        -1.24318744e+00,  1.23324098e+00, -3.12165781e-01,\n",
              "        -7.78768185e-01, -3.13445104e-01,  2.33253024e-01,\n",
              "         7.46802758e-01,  4.88217795e-01,  9.29288120e-01,\n",
              "        -1.71164907e+00,  1.17076148e+00,  1.28106788e-01,\n",
              "         1.33993265e+00, -5.98840498e-01,  2.03579801e+00,\n",
              "        -1.22015727e+00, -2.83883210e-01,  5.78189403e-01,\n",
              "        -3.30483846e-01, -3.09438842e-01, -8.19736664e-01,\n",
              "        -1.05760363e+00,  1.56985501e+00, -1.75911654e-01,\n",
              "        -6.77133809e-01, -1.50957361e-01, -1.13021003e+00,\n",
              "         3.88215120e-01, -3.57611907e-01,  1.32206059e+00,\n",
              "        -7.48486247e-01, -1.31945995e+00,  3.17629283e-01,\n",
              "         5.89569536e-01, -3.14499605e-01, -5.80996883e-01,\n",
              "         7.78073611e-01,  6.92258646e-01,  2.93877592e+00,\n",
              "        -2.31356132e-01,  6.15889798e-01,  9.37115145e-01,\n",
              "         2.04853782e+00,  1.75040693e+00,  2.39579219e+00,\n",
              "         9.83835174e-01,  9.13495769e-01, -8.28564752e-01,\n",
              "         1.17411271e-02, -7.27990486e-01,  7.32835714e-01,\n",
              "         4.77803635e-01, -9.88726620e-01,  3.06999059e-01,\n",
              "        -1.35183979e+00, -4.94655058e-01, -1.68395928e+00,\n",
              "         8.55314220e-01, -6.80036574e-01, -8.30073378e-01,\n",
              "         6.35577485e-01,  2.30042495e+00, -1.44962246e+00,\n",
              "         7.85522615e-01,  1.51554193e+00, -7.12819191e-01,\n",
              "         1.69852269e-01, -5.45012649e-01,  3.81755367e-01,\n",
              "         1.05866540e+00, -2.99676799e-01, -9.78043526e-01,\n",
              "         1.33711257e+00,  8.73453462e-01,  6.35055244e-01,\n",
              "        -4.84750625e-01, -8.70576907e-01,  8.70628428e-01,\n",
              "        -1.32286597e+00, -8.49950147e-01, -9.37256906e-01,\n",
              "        -9.12536986e-02, -2.32880041e-01, -7.67675384e-01,\n",
              "        -1.55789474e+00,  3.27254176e-02,  2.29908917e-01,\n",
              "        -4.59846342e-01,  2.02035006e+00,  4.56418386e-01,\n",
              "        -5.07209549e-01,  1.28168865e+00, -1.19940918e+00,\n",
              "         1.59416303e+00, -1.51310692e-01,  7.74735345e-01,\n",
              "         1.59412823e+00, -1.66202744e-01,  5.00060959e-01,\n",
              "        -1.35832126e-01,  2.76206643e-01, -1.49237934e+00,\n",
              "         2.89611067e-02, -2.14691522e+00,  1.03638596e+00,\n",
              "        -7.94925419e-01,  3.42121607e-01, -3.15155795e-01,\n",
              "        -1.99190681e+00, -8.24976148e-02,  8.96129806e-01,\n",
              "        -1.87637839e+00, -1.50592172e-01,  1.24681509e+00,\n",
              "         2.61819436e-01,  4.04211480e-01,  5.99300673e-01,\n",
              "         8.62234320e-01,  4.01564438e-02, -6.38599463e-01,\n",
              "        -4.99650311e-01,  1.07164867e+00,  4.60551421e-01,\n",
              "        -4.46111246e-01,  1.24147899e+00, -1.73248246e+00,\n",
              "        -2.60859633e-01, -3.16031139e-01,  1.77878683e+00,\n",
              "         5.33338393e-01, -3.55857747e-01,  7.18540789e-01,\n",
              "        -1.66982052e-01, -6.26052155e-01,  3.06641765e-02]])"
            ]
          },
          "metadata": {},
          "execution_count": 18
        }
      ]
    },
    {
      "cell_type": "code",
      "metadata": {
        "id": "2AKkBXaZwmNq",
        "outputId": "5adf8e3e-cb49-4151-81e4-9bb71bb2b25b",
        "colab": {
          "base_uri": "https://localhost:8080/"
        }
      },
      "source": [
        "labels[:10]"
      ],
      "execution_count": 19,
      "outputs": [
        {
          "output_type": "execute_result",
          "data": {
            "text/plain": [
              "array([[1],\n",
              "       [1],\n",
              "       [0],\n",
              "       [0],\n",
              "       [1],\n",
              "       [1],\n",
              "       [0],\n",
              "       [0],\n",
              "       [1],\n",
              "       [0]])"
            ]
          },
          "metadata": {},
          "execution_count": 19
        }
      ]
    },
    {
      "cell_type": "code",
      "metadata": {
        "id": "3YmwwLjZwpvE",
        "outputId": "f5d33a28-1772-4488-913e-997c62b5c1fd",
        "colab": {
          "base_uri": "https://localhost:8080/"
        }
      },
      "source": [
        "model = Sequential()\n",
        "model.add(Dense(units=32, activation='relu', input_shape=(150,)))\n",
        "model.add(Dense(1, activation='sigmoid'))\n",
        "\n",
        "model.compile(optimizer='rmsprop',\n",
        "              loss='binary_crossentropy',\n",
        "              metrics=['accuracy'])\n",
        "\n",
        "model.fit(data, labels, epochs=20)"
      ],
      "execution_count": 20,
      "outputs": [
        {
          "output_type": "stream",
          "name": "stdout",
          "text": [
            "Epoch 1/20\n",
            "\u001b[1m313/313\u001b[0m \u001b[32m━━━━━━━━━━━━━━━━━━━━\u001b[0m\u001b[37m\u001b[0m \u001b[1m2s\u001b[0m 2ms/step - accuracy: 0.5059 - loss: 0.7966\n",
            "Epoch 2/20\n",
            "\u001b[1m313/313\u001b[0m \u001b[32m━━━━━━━━━━━━━━━━━━━━\u001b[0m\u001b[37m\u001b[0m \u001b[1m1s\u001b[0m 2ms/step - accuracy: 0.5497 - loss: 0.6957\n",
            "Epoch 3/20\n",
            "\u001b[1m313/313\u001b[0m \u001b[32m━━━━━━━━━━━━━━━━━━━━\u001b[0m\u001b[37m\u001b[0m \u001b[1m1s\u001b[0m 2ms/step - accuracy: 0.5865 - loss: 0.6720\n",
            "Epoch 4/20\n",
            "\u001b[1m313/313\u001b[0m \u001b[32m━━━━━━━━━━━━━━━━━━━━\u001b[0m\u001b[37m\u001b[0m \u001b[1m1s\u001b[0m 2ms/step - accuracy: 0.6133 - loss: 0.6594\n",
            "Epoch 5/20\n",
            "\u001b[1m313/313\u001b[0m \u001b[32m━━━━━━━━━━━━━━━━━━━━\u001b[0m\u001b[37m\u001b[0m \u001b[1m1s\u001b[0m 2ms/step - accuracy: 0.6259 - loss: 0.6469\n",
            "Epoch 6/20\n",
            "\u001b[1m313/313\u001b[0m \u001b[32m━━━━━━━━━━━━━━━━━━━━\u001b[0m\u001b[37m\u001b[0m \u001b[1m1s\u001b[0m 2ms/step - accuracy: 0.6489 - loss: 0.6328\n",
            "Epoch 7/20\n",
            "\u001b[1m313/313\u001b[0m \u001b[32m━━━━━━━━━━━━━━━━━━━━\u001b[0m\u001b[37m\u001b[0m \u001b[1m1s\u001b[0m 2ms/step - accuracy: 0.6693 - loss: 0.6173\n",
            "Epoch 8/20\n",
            "\u001b[1m313/313\u001b[0m \u001b[32m━━━━━━━━━━━━━━━━━━━━\u001b[0m\u001b[37m\u001b[0m \u001b[1m1s\u001b[0m 2ms/step - accuracy: 0.6813 - loss: 0.6042\n",
            "Epoch 9/20\n",
            "\u001b[1m313/313\u001b[0m \u001b[32m━━━━━━━━━━━━━━━━━━━━\u001b[0m\u001b[37m\u001b[0m \u001b[1m1s\u001b[0m 2ms/step - accuracy: 0.6921 - loss: 0.5915\n",
            "Epoch 10/20\n",
            "\u001b[1m313/313\u001b[0m \u001b[32m━━━━━━━━━━━━━━━━━━━━\u001b[0m\u001b[37m\u001b[0m \u001b[1m1s\u001b[0m 3ms/step - accuracy: 0.7148 - loss: 0.5743\n",
            "Epoch 11/20\n",
            "\u001b[1m313/313\u001b[0m \u001b[32m━━━━━━━━━━━━━━━━━━━━\u001b[0m\u001b[37m\u001b[0m \u001b[1m1s\u001b[0m 2ms/step - accuracy: 0.7172 - loss: 0.5611\n",
            "Epoch 12/20\n",
            "\u001b[1m313/313\u001b[0m \u001b[32m━━━━━━━━━━━━━━━━━━━━\u001b[0m\u001b[37m\u001b[0m \u001b[1m1s\u001b[0m 1ms/step - accuracy: 0.7237 - loss: 0.5547\n",
            "Epoch 13/20\n",
            "\u001b[1m313/313\u001b[0m \u001b[32m━━━━━━━━━━━━━━━━━━━━\u001b[0m\u001b[37m\u001b[0m \u001b[1m0s\u001b[0m 1ms/step - accuracy: 0.7415 - loss: 0.5385\n",
            "Epoch 14/20\n",
            "\u001b[1m313/313\u001b[0m \u001b[32m━━━━━━━━━━━━━━━━━━━━\u001b[0m\u001b[37m\u001b[0m \u001b[1m1s\u001b[0m 1ms/step - accuracy: 0.7428 - loss: 0.5303\n",
            "Epoch 15/20\n",
            "\u001b[1m313/313\u001b[0m \u001b[32m━━━━━━━━━━━━━━━━━━━━\u001b[0m\u001b[37m\u001b[0m \u001b[1m1s\u001b[0m 1ms/step - accuracy: 0.7625 - loss: 0.5077\n",
            "Epoch 16/20\n",
            "\u001b[1m313/313\u001b[0m \u001b[32m━━━━━━━━━━━━━━━━━━━━\u001b[0m\u001b[37m\u001b[0m \u001b[1m0s\u001b[0m 1ms/step - accuracy: 0.7627 - loss: 0.5051\n",
            "Epoch 17/20\n",
            "\u001b[1m313/313\u001b[0m \u001b[32m━━━━━━━━━━━━━━━━━━━━\u001b[0m\u001b[37m\u001b[0m \u001b[1m1s\u001b[0m 1ms/step - accuracy: 0.7723 - loss: 0.4961\n",
            "Epoch 18/20\n",
            "\u001b[1m313/313\u001b[0m \u001b[32m━━━━━━━━━━━━━━━━━━━━\u001b[0m\u001b[37m\u001b[0m \u001b[1m1s\u001b[0m 1ms/step - accuracy: 0.7659 - loss: 0.4932\n",
            "Epoch 19/20\n",
            "\u001b[1m313/313\u001b[0m \u001b[32m━━━━━━━━━━━━━━━━━━━━\u001b[0m\u001b[37m\u001b[0m \u001b[1m1s\u001b[0m 1ms/step - accuracy: 0.7783 - loss: 0.4813\n",
            "Epoch 20/20\n",
            "\u001b[1m313/313\u001b[0m \u001b[32m━━━━━━━━━━━━━━━━━━━━\u001b[0m\u001b[37m\u001b[0m \u001b[1m0s\u001b[0m 1ms/step - accuracy: 0.7915 - loss: 0.4647\n"
          ]
        },
        {
          "output_type": "execute_result",
          "data": {
            "text/plain": [
              "<keras.src.callbacks.history.History at 0x7cfd16620a90>"
            ]
          },
          "metadata": {},
          "execution_count": 20
        }
      ]
    },
    {
      "cell_type": "code",
      "metadata": {
        "id": "5X_mtwLfy2d9",
        "outputId": "92a53d8b-6c2c-46a5-8a08-6baa3f726466",
        "colab": {
          "base_uri": "https://localhost:8080/"
        }
      },
      "source": [
        "model = Sequential()\n",
        "model.add(Dense(units=32, activation='relu', input_shape=(150,)))\n",
        "model.add(Dense(1, activation='sigmoid'))\n",
        "\n",
        "model.compile(optimizer='rmsprop',\n",
        "              loss='binary_crossentropy',\n",
        "              metrics=['accuracy'])\n",
        "\n",
        "model.fit(data, labels, epochs=20, batch_size=64)"
      ],
      "execution_count": 21,
      "outputs": [
        {
          "output_type": "stream",
          "name": "stdout",
          "text": [
            "Epoch 1/20\n",
            "\u001b[1m157/157\u001b[0m \u001b[32m━━━━━━━━━━━━━━━━━━━━\u001b[0m\u001b[37m\u001b[0m \u001b[1m1s\u001b[0m 2ms/step - accuracy: 0.5027 - loss: 0.7571\n",
            "Epoch 2/20\n",
            "\u001b[1m157/157\u001b[0m \u001b[32m━━━━━━━━━━━━━━━━━━━━\u001b[0m\u001b[37m\u001b[0m \u001b[1m0s\u001b[0m 1ms/step - accuracy: 0.5407 - loss: 0.6961\n",
            "Epoch 3/20\n",
            "\u001b[1m157/157\u001b[0m \u001b[32m━━━━━━━━━━━━━━━━━━━━\u001b[0m\u001b[37m\u001b[0m \u001b[1m0s\u001b[0m 1ms/step - accuracy: 0.5771 - loss: 0.6777\n",
            "Epoch 4/20\n",
            "\u001b[1m157/157\u001b[0m \u001b[32m━━━━━━━━━━━━━━━━━━━━\u001b[0m\u001b[37m\u001b[0m \u001b[1m0s\u001b[0m 1ms/step - accuracy: 0.5948 - loss: 0.6647\n",
            "Epoch 5/20\n",
            "\u001b[1m157/157\u001b[0m \u001b[32m━━━━━━━━━━━━━━━━━━━━\u001b[0m\u001b[37m\u001b[0m \u001b[1m0s\u001b[0m 2ms/step - accuracy: 0.6052 - loss: 0.6595\n",
            "Epoch 6/20\n",
            "\u001b[1m157/157\u001b[0m \u001b[32m━━━━━━━━━━━━━━━━━━━━\u001b[0m\u001b[37m\u001b[0m \u001b[1m0s\u001b[0m 1ms/step - accuracy: 0.6287 - loss: 0.6515\n",
            "Epoch 7/20\n",
            "\u001b[1m157/157\u001b[0m \u001b[32m━━━━━━━━━━━━━━━━━━━━\u001b[0m\u001b[37m\u001b[0m \u001b[1m0s\u001b[0m 1ms/step - accuracy: 0.6499 - loss: 0.6379\n",
            "Epoch 8/20\n",
            "\u001b[1m157/157\u001b[0m \u001b[32m━━━━━━━━━━━━━━━━━━━━\u001b[0m\u001b[37m\u001b[0m \u001b[1m0s\u001b[0m 2ms/step - accuracy: 0.6600 - loss: 0.6300\n",
            "Epoch 9/20\n",
            "\u001b[1m157/157\u001b[0m \u001b[32m━━━━━━━━━━━━━━━━━━━━\u001b[0m\u001b[37m\u001b[0m \u001b[1m0s\u001b[0m 1ms/step - accuracy: 0.6753 - loss: 0.6178\n",
            "Epoch 10/20\n",
            "\u001b[1m157/157\u001b[0m \u001b[32m━━━━━━━━━━━━━━━━━━━━\u001b[0m\u001b[37m\u001b[0m \u001b[1m0s\u001b[0m 1ms/step - accuracy: 0.6837 - loss: 0.6083\n",
            "Epoch 11/20\n",
            "\u001b[1m157/157\u001b[0m \u001b[32m━━━━━━━━━━━━━━━━━━━━\u001b[0m\u001b[37m\u001b[0m \u001b[1m0s\u001b[0m 1ms/step - accuracy: 0.6969 - loss: 0.5955\n",
            "Epoch 12/20\n",
            "\u001b[1m157/157\u001b[0m \u001b[32m━━━━━━━━━━━━━━━━━━━━\u001b[0m\u001b[37m\u001b[0m \u001b[1m0s\u001b[0m 1ms/step - accuracy: 0.7060 - loss: 0.5817\n",
            "Epoch 13/20\n",
            "\u001b[1m157/157\u001b[0m \u001b[32m━━━━━━━━━━━━━━━━━━━━\u001b[0m\u001b[37m\u001b[0m \u001b[1m0s\u001b[0m 2ms/step - accuracy: 0.7183 - loss: 0.5724\n",
            "Epoch 14/20\n",
            "\u001b[1m157/157\u001b[0m \u001b[32m━━━━━━━━━━━━━━━━━━━━\u001b[0m\u001b[37m\u001b[0m \u001b[1m0s\u001b[0m 2ms/step - accuracy: 0.7305 - loss: 0.5587\n",
            "Epoch 15/20\n",
            "\u001b[1m157/157\u001b[0m \u001b[32m━━━━━━━━━━━━━━━━━━━━\u001b[0m\u001b[37m\u001b[0m \u001b[1m1s\u001b[0m 3ms/step - accuracy: 0.7278 - loss: 0.5513\n",
            "Epoch 16/20\n",
            "\u001b[1m157/157\u001b[0m \u001b[32m━━━━━━━━━━━━━━━━━━━━\u001b[0m\u001b[37m\u001b[0m \u001b[1m0s\u001b[0m 3ms/step - accuracy: 0.7335 - loss: 0.5463\n",
            "Epoch 17/20\n",
            "\u001b[1m157/157\u001b[0m \u001b[32m━━━━━━━━━━━━━━━━━━━━\u001b[0m\u001b[37m\u001b[0m \u001b[1m1s\u001b[0m 3ms/step - accuracy: 0.7421 - loss: 0.5356\n",
            "Epoch 18/20\n",
            "\u001b[1m157/157\u001b[0m \u001b[32m━━━━━━━━━━━━━━━━━━━━\u001b[0m\u001b[37m\u001b[0m \u001b[1m1s\u001b[0m 3ms/step - accuracy: 0.7510 - loss: 0.5239\n",
            "Epoch 19/20\n",
            "\u001b[1m157/157\u001b[0m \u001b[32m━━━━━━━━━━━━━━━━━━━━\u001b[0m\u001b[37m\u001b[0m \u001b[1m0s\u001b[0m 3ms/step - accuracy: 0.7639 - loss: 0.5085\n",
            "Epoch 20/20\n",
            "\u001b[1m157/157\u001b[0m \u001b[32m━━━━━━━━━━━━━━━━━━━━\u001b[0m\u001b[37m\u001b[0m \u001b[1m1s\u001b[0m 3ms/step - accuracy: 0.7616 - loss: 0.5096\n"
          ]
        },
        {
          "output_type": "execute_result",
          "data": {
            "text/plain": [
              "<keras.src.callbacks.history.History at 0x7cfd0c439000>"
            ]
          },
          "metadata": {},
          "execution_count": 21
        }
      ]
    },
    {
      "cell_type": "code",
      "metadata": {
        "id": "xj5leE1dxK0-",
        "outputId": "7cbea2d1-cc65-4912-fc62-035176bb31b4",
        "colab": {
          "base_uri": "https://localhost:8080/"
        }
      },
      "source": [
        "model = Sequential()\n",
        "model.add(Dense(units=32, activation='relu', input_shape=(150,)))\n",
        "model.add(Dense(1, activation='sigmoid'))\n",
        "\n",
        "model.compile(optimizer='rmsprop',\n",
        "              loss='binary_crossentropy',\n",
        "              metrics=['accuracy'])\n",
        "\n",
        "model.fit(data, labels, epochs=20, batch_size=32, validation_split=0.2)"
      ],
      "execution_count": 22,
      "outputs": [
        {
          "output_type": "stream",
          "name": "stdout",
          "text": [
            "Epoch 1/20\n",
            "\u001b[1m250/250\u001b[0m \u001b[32m━━━━━━━━━━━━━━━━━━━━\u001b[0m\u001b[37m\u001b[0m \u001b[1m2s\u001b[0m 4ms/step - accuracy: 0.5040 - loss: 0.7883 - val_accuracy: 0.5145 - val_loss: 0.7217\n",
            "Epoch 2/20\n",
            "\u001b[1m250/250\u001b[0m \u001b[32m━━━━━━━━━━━━━━━━━━━━\u001b[0m\u001b[37m\u001b[0m \u001b[1m1s\u001b[0m 4ms/step - accuracy: 0.5495 - loss: 0.6930 - val_accuracy: 0.5100 - val_loss: 0.7184\n",
            "Epoch 3/20\n",
            "\u001b[1m250/250\u001b[0m \u001b[32m━━━━━━━━━━━━━━━━━━━━\u001b[0m\u001b[37m\u001b[0m \u001b[1m1s\u001b[0m 3ms/step - accuracy: 0.5952 - loss: 0.6649 - val_accuracy: 0.5005 - val_loss: 0.7198\n",
            "Epoch 4/20\n",
            "\u001b[1m250/250\u001b[0m \u001b[32m━━━━━━━━━━━━━━━━━━━━\u001b[0m\u001b[37m\u001b[0m \u001b[1m1s\u001b[0m 3ms/step - accuracy: 0.6092 - loss: 0.6590 - val_accuracy: 0.5065 - val_loss: 0.7241\n",
            "Epoch 5/20\n",
            "\u001b[1m250/250\u001b[0m \u001b[32m━━━━━━━━━━━━━━━━━━━━\u001b[0m\u001b[37m\u001b[0m \u001b[1m1s\u001b[0m 3ms/step - accuracy: 0.6506 - loss: 0.6352 - val_accuracy: 0.5125 - val_loss: 0.7276\n",
            "Epoch 6/20\n",
            "\u001b[1m250/250\u001b[0m \u001b[32m━━━━━━━━━━━━━━━━━━━━\u001b[0m\u001b[37m\u001b[0m \u001b[1m1s\u001b[0m 3ms/step - accuracy: 0.6660 - loss: 0.6210 - val_accuracy: 0.5065 - val_loss: 0.7313\n",
            "Epoch 7/20\n",
            "\u001b[1m250/250\u001b[0m \u001b[32m━━━━━━━━━━━━━━━━━━━━\u001b[0m\u001b[37m\u001b[0m \u001b[1m1s\u001b[0m 2ms/step - accuracy: 0.6902 - loss: 0.6049 - val_accuracy: 0.5080 - val_loss: 0.7372\n",
            "Epoch 8/20\n",
            "\u001b[1m250/250\u001b[0m \u001b[32m━━━━━━━━━━━━━━━━━━━━\u001b[0m\u001b[37m\u001b[0m \u001b[1m1s\u001b[0m 3ms/step - accuracy: 0.7005 - loss: 0.5893 - val_accuracy: 0.5075 - val_loss: 0.7468\n",
            "Epoch 9/20\n",
            "\u001b[1m250/250\u001b[0m \u001b[32m━━━━━━━━━━━━━━━━━━━━\u001b[0m\u001b[37m\u001b[0m \u001b[1m1s\u001b[0m 3ms/step - accuracy: 0.7172 - loss: 0.5713 - val_accuracy: 0.5145 - val_loss: 0.7551\n",
            "Epoch 10/20\n",
            "\u001b[1m250/250\u001b[0m \u001b[32m━━━━━━━━━━━━━━━━━━━━\u001b[0m\u001b[37m\u001b[0m \u001b[1m1s\u001b[0m 3ms/step - accuracy: 0.7269 - loss: 0.5595 - val_accuracy: 0.5175 - val_loss: 0.7676\n",
            "Epoch 11/20\n",
            "\u001b[1m250/250\u001b[0m \u001b[32m━━━━━━━━━━━━━━━━━━━━\u001b[0m\u001b[37m\u001b[0m \u001b[1m1s\u001b[0m 3ms/step - accuracy: 0.7389 - loss: 0.5458 - val_accuracy: 0.5100 - val_loss: 0.7807\n",
            "Epoch 12/20\n",
            "\u001b[1m250/250\u001b[0m \u001b[32m━━━━━━━━━━━━━━━━━━━━\u001b[0m\u001b[37m\u001b[0m \u001b[1m1s\u001b[0m 3ms/step - accuracy: 0.7535 - loss: 0.5284 - val_accuracy: 0.5040 - val_loss: 0.7974\n",
            "Epoch 13/20\n",
            "\u001b[1m250/250\u001b[0m \u001b[32m━━━━━━━━━━━━━━━━━━━━\u001b[0m\u001b[37m\u001b[0m \u001b[1m1s\u001b[0m 3ms/step - accuracy: 0.7621 - loss: 0.5133 - val_accuracy: 0.5140 - val_loss: 0.8125\n",
            "Epoch 14/20\n",
            "\u001b[1m250/250\u001b[0m \u001b[32m━━━━━━━━━━━━━━━━━━━━\u001b[0m\u001b[37m\u001b[0m \u001b[1m1s\u001b[0m 2ms/step - accuracy: 0.7781 - loss: 0.4952 - val_accuracy: 0.5105 - val_loss: 0.8275\n",
            "Epoch 15/20\n",
            "\u001b[1m250/250\u001b[0m \u001b[32m━━━━━━━━━━━━━━━━━━━━\u001b[0m\u001b[37m\u001b[0m \u001b[1m1s\u001b[0m 2ms/step - accuracy: 0.7813 - loss: 0.4870 - val_accuracy: 0.4965 - val_loss: 0.8439\n",
            "Epoch 16/20\n",
            "\u001b[1m250/250\u001b[0m \u001b[32m━━━━━━━━━━━━━━━━━━━━\u001b[0m\u001b[37m\u001b[0m \u001b[1m1s\u001b[0m 2ms/step - accuracy: 0.7855 - loss: 0.4732 - val_accuracy: 0.5030 - val_loss: 0.8635\n",
            "Epoch 17/20\n",
            "\u001b[1m250/250\u001b[0m \u001b[32m━━━━━━━━━━━━━━━━━━━━\u001b[0m\u001b[37m\u001b[0m \u001b[1m1s\u001b[0m 2ms/step - accuracy: 0.7948 - loss: 0.4678 - val_accuracy: 0.5110 - val_loss: 0.8734\n",
            "Epoch 18/20\n",
            "\u001b[1m250/250\u001b[0m \u001b[32m━━━━━━━━━━━━━━━━━━━━\u001b[0m\u001b[37m\u001b[0m \u001b[1m1s\u001b[0m 2ms/step - accuracy: 0.8032 - loss: 0.4529 - val_accuracy: 0.5070 - val_loss: 0.8959\n",
            "Epoch 19/20\n",
            "\u001b[1m250/250\u001b[0m \u001b[32m━━━━━━━━━━━━━━━━━━━━\u001b[0m\u001b[37m\u001b[0m \u001b[1m1s\u001b[0m 2ms/step - accuracy: 0.8078 - loss: 0.4470 - val_accuracy: 0.5055 - val_loss: 0.9066\n",
            "Epoch 20/20\n",
            "\u001b[1m250/250\u001b[0m \u001b[32m━━━━━━━━━━━━━━━━━━━━\u001b[0m\u001b[37m\u001b[0m \u001b[1m1s\u001b[0m 2ms/step - accuracy: 0.8211 - loss: 0.4211 - val_accuracy: 0.5055 - val_loss: 0.9233\n"
          ]
        },
        {
          "output_type": "execute_result",
          "data": {
            "text/plain": [
              "<keras.src.callbacks.history.History at 0x7cfd15a07a60>"
            ]
          },
          "metadata": {},
          "execution_count": 22
        }
      ]
    },
    {
      "cell_type": "code",
      "metadata": {
        "id": "suJlatlYzQOD"
      },
      "source": [
        "model = Sequential()\n",
        "model.add(Dense(units=32, activation='relu', input_shape=(150,)))\n",
        "model.add(Dense(1, activation='sigmoid'))\n",
        "\n",
        "model.compile(optimizer='rmsprop',\n",
        "              loss='binary_crossentropy',\n",
        "              metrics=['accuracy'])\n",
        "\n",
        "history = model.fit(data, labels, epochs=20, batch_size=32, validation_split=0.2, verbose=0)"
      ],
      "execution_count": 23,
      "outputs": []
    },
    {
      "cell_type": "code",
      "metadata": {
        "id": "InFcS0sgzkf6",
        "outputId": "dab59164-a488-4a30-ee0d-30b46702ec67",
        "colab": {
          "base_uri": "https://localhost:8080/"
        }
      },
      "source": [
        "metrics = history.history\n",
        "metrics.keys()"
      ],
      "execution_count": 24,
      "outputs": [
        {
          "output_type": "execute_result",
          "data": {
            "text/plain": [
              "dict_keys(['accuracy', 'loss', 'val_accuracy', 'val_loss'])"
            ]
          },
          "metadata": {},
          "execution_count": 24
        }
      ]
    },
    {
      "cell_type": "code",
      "metadata": {
        "id": "d9bUtGmXzzoY",
        "outputId": "326532f5-9c2d-4250-f9b4-93fc38ad614d",
        "colab": {
          "base_uri": "https://localhost:8080/"
        }
      },
      "source": [
        "model = Sequential()\n",
        "model.add(Dense(units=32, activation='relu', input_shape=(150,)))\n",
        "model.add(Dense(1, activation='sigmoid'))\n",
        "\n",
        "model.compile(optimizer='rmsprop',\n",
        "              loss='binary_crossentropy',\n",
        "              metrics=['accuracy'])\n",
        "\n",
        "history = model.fit(data, labels, epochs=20, batch_size=32, validation_split=0.2, verbose=1)"
      ],
      "execution_count": 25,
      "outputs": [
        {
          "output_type": "stream",
          "name": "stdout",
          "text": [
            "Epoch 1/20\n",
            "\u001b[1m250/250\u001b[0m \u001b[32m━━━━━━━━━━━━━━━━━━━━\u001b[0m\u001b[37m\u001b[0m \u001b[1m1s\u001b[0m 3ms/step - accuracy: 0.5024 - loss: 0.7665 - val_accuracy: 0.4735 - val_loss: 0.7405\n",
            "Epoch 2/20\n",
            "\u001b[1m250/250\u001b[0m \u001b[32m━━━━━━━━━━━━━━━━━━━━\u001b[0m\u001b[37m\u001b[0m \u001b[1m1s\u001b[0m 3ms/step - accuracy: 0.5432 - loss: 0.6933 - val_accuracy: 0.4775 - val_loss: 0.7383\n",
            "Epoch 3/20\n",
            "\u001b[1m250/250\u001b[0m \u001b[32m━━━━━━━━━━━━━━━━━━━━\u001b[0m\u001b[37m\u001b[0m \u001b[1m1s\u001b[0m 3ms/step - accuracy: 0.5940 - loss: 0.6680 - val_accuracy: 0.4815 - val_loss: 0.7357\n",
            "Epoch 4/20\n",
            "\u001b[1m250/250\u001b[0m \u001b[32m━━━━━━━━━━━━━━━━━━━━\u001b[0m\u001b[37m\u001b[0m \u001b[1m1s\u001b[0m 2ms/step - accuracy: 0.6158 - loss: 0.6574 - val_accuracy: 0.4735 - val_loss: 0.7400\n",
            "Epoch 5/20\n",
            "\u001b[1m250/250\u001b[0m \u001b[32m━━━━━━━━━━━━━━━━━━━━\u001b[0m\u001b[37m\u001b[0m \u001b[1m1s\u001b[0m 2ms/step - accuracy: 0.6350 - loss: 0.6389 - val_accuracy: 0.4745 - val_loss: 0.7455\n",
            "Epoch 6/20\n",
            "\u001b[1m250/250\u001b[0m \u001b[32m━━━━━━━━━━━━━━━━━━━━\u001b[0m\u001b[37m\u001b[0m \u001b[1m1s\u001b[0m 2ms/step - accuracy: 0.6580 - loss: 0.6251 - val_accuracy: 0.4740 - val_loss: 0.7527\n",
            "Epoch 7/20\n",
            "\u001b[1m250/250\u001b[0m \u001b[32m━━━━━━━━━━━━━━━━━━━━\u001b[0m\u001b[37m\u001b[0m \u001b[1m1s\u001b[0m 2ms/step - accuracy: 0.6810 - loss: 0.6110 - val_accuracy: 0.4825 - val_loss: 0.7579\n",
            "Epoch 8/20\n",
            "\u001b[1m250/250\u001b[0m \u001b[32m━━━━━━━━━━━━━━━━━━━━\u001b[0m\u001b[37m\u001b[0m \u001b[1m1s\u001b[0m 2ms/step - accuracy: 0.7090 - loss: 0.5942 - val_accuracy: 0.4865 - val_loss: 0.7671\n",
            "Epoch 9/20\n",
            "\u001b[1m250/250\u001b[0m \u001b[32m━━━━━━━━━━━━━━━━━━━━\u001b[0m\u001b[37m\u001b[0m \u001b[1m1s\u001b[0m 2ms/step - accuracy: 0.6965 - loss: 0.5864 - val_accuracy: 0.4920 - val_loss: 0.7816\n",
            "Epoch 10/20\n",
            "\u001b[1m250/250\u001b[0m \u001b[32m━━━━━━━━━━━━━━━━━━━━\u001b[0m\u001b[37m\u001b[0m \u001b[1m1s\u001b[0m 2ms/step - accuracy: 0.7238 - loss: 0.5666 - val_accuracy: 0.4880 - val_loss: 0.7900\n",
            "Epoch 11/20\n",
            "\u001b[1m250/250\u001b[0m \u001b[32m━━━━━━━━━━━━━━━━━━━━\u001b[0m\u001b[37m\u001b[0m \u001b[1m0s\u001b[0m 2ms/step - accuracy: 0.7396 - loss: 0.5480 - val_accuracy: 0.4800 - val_loss: 0.8014\n",
            "Epoch 12/20\n",
            "\u001b[1m250/250\u001b[0m \u001b[32m━━━━━━━━━━━━━━━━━━━━\u001b[0m\u001b[37m\u001b[0m \u001b[1m1s\u001b[0m 2ms/step - accuracy: 0.7499 - loss: 0.5346 - val_accuracy: 0.4845 - val_loss: 0.8191\n",
            "Epoch 13/20\n",
            "\u001b[1m250/250\u001b[0m \u001b[32m━━━━━━━━━━━━━━━━━━━━\u001b[0m\u001b[37m\u001b[0m \u001b[1m1s\u001b[0m 2ms/step - accuracy: 0.7556 - loss: 0.5166 - val_accuracy: 0.4990 - val_loss: 0.8283\n",
            "Epoch 14/20\n",
            "\u001b[1m250/250\u001b[0m \u001b[32m━━━━━━━━━━━━━━━━━━━━\u001b[0m\u001b[37m\u001b[0m \u001b[1m1s\u001b[0m 2ms/step - accuracy: 0.7711 - loss: 0.5024 - val_accuracy: 0.4905 - val_loss: 0.8470\n",
            "Epoch 15/20\n",
            "\u001b[1m250/250\u001b[0m \u001b[32m━━━━━━━━━━━━━━━━━━━━\u001b[0m\u001b[37m\u001b[0m \u001b[1m1s\u001b[0m 2ms/step - accuracy: 0.7762 - loss: 0.4861 - val_accuracy: 0.4895 - val_loss: 0.8625\n",
            "Epoch 16/20\n",
            "\u001b[1m250/250\u001b[0m \u001b[32m━━━━━━━━━━━━━━━━━━━━\u001b[0m\u001b[37m\u001b[0m \u001b[1m1s\u001b[0m 2ms/step - accuracy: 0.7929 - loss: 0.4741 - val_accuracy: 0.4945 - val_loss: 0.8710\n",
            "Epoch 17/20\n",
            "\u001b[1m250/250\u001b[0m \u001b[32m━━━━━━━━━━━━━━━━━━━━\u001b[0m\u001b[37m\u001b[0m \u001b[1m1s\u001b[0m 2ms/step - accuracy: 0.7985 - loss: 0.4606 - val_accuracy: 0.4995 - val_loss: 0.8944\n",
            "Epoch 18/20\n",
            "\u001b[1m250/250\u001b[0m \u001b[32m━━━━━━━━━━━━━━━━━━━━\u001b[0m\u001b[37m\u001b[0m \u001b[1m1s\u001b[0m 2ms/step - accuracy: 0.8015 - loss: 0.4461 - val_accuracy: 0.4995 - val_loss: 0.9146\n",
            "Epoch 19/20\n",
            "\u001b[1m250/250\u001b[0m \u001b[32m━━━━━━━━━━━━━━━━━━━━\u001b[0m\u001b[37m\u001b[0m \u001b[1m1s\u001b[0m 2ms/step - accuracy: 0.8092 - loss: 0.4375 - val_accuracy: 0.5025 - val_loss: 0.9274\n",
            "Epoch 20/20\n",
            "\u001b[1m250/250\u001b[0m \u001b[32m━━━━━━━━━━━━━━━━━━━━\u001b[0m\u001b[37m\u001b[0m \u001b[1m1s\u001b[0m 2ms/step - accuracy: 0.8163 - loss: 0.4334 - val_accuracy: 0.5025 - val_loss: 0.9451\n"
          ]
        }
      ]
    },
    {
      "cell_type": "code",
      "metadata": {
        "id": "b1xtUueg0Tr9"
      },
      "source": [
        "test_data = np.random.randn(5, 150)\n",
        "test_labels = np.random.randint(2, size=(5, 1))"
      ],
      "execution_count": 26,
      "outputs": []
    },
    {
      "cell_type": "code",
      "metadata": {
        "id": "MIODWVx90nDf",
        "outputId": "197c4d26-2c6d-43de-b605-33ebfa3306af",
        "colab": {
          "base_uri": "https://localhost:8080/"
        }
      },
      "source": [
        "model.predict(test_data)"
      ],
      "execution_count": 27,
      "outputs": [
        {
          "output_type": "stream",
          "name": "stdout",
          "text": [
            "\u001b[1m1/1\u001b[0m \u001b[32m━━━━━━━━━━━━━━━━━━━━\u001b[0m\u001b[37m\u001b[0m \u001b[1m0s\u001b[0m 65ms/step\n"
          ]
        },
        {
          "output_type": "execute_result",
          "data": {
            "text/plain": [
              "array([[0.4055538 ],\n",
              "       [0.06778184],\n",
              "       [0.8344356 ],\n",
              "       [0.12414495],\n",
              "       [0.9850675 ]], dtype=float32)"
            ]
          },
          "metadata": {},
          "execution_count": 27
        }
      ]
    },
    {
      "cell_type": "code",
      "metadata": {
        "id": "Pkv50Web0usG",
        "outputId": "070d2bcb-9c2e-4406-84c5-6e06c161e574",
        "colab": {
          "base_uri": "https://localhost:8080/"
        }
      },
      "source": [
        "predictions = model.predict(test_data)\n",
        "predictions"
      ],
      "execution_count": 29,
      "outputs": [
        {
          "output_type": "stream",
          "name": "stdout",
          "text": [
            "\u001b[1m1/1\u001b[0m \u001b[32m━━━━━━━━━━━━━━━━━━━━\u001b[0m\u001b[37m\u001b[0m \u001b[1m0s\u001b[0m 19ms/step\n"
          ]
        },
        {
          "output_type": "execute_result",
          "data": {
            "text/plain": [
              "array([[0.4055538 ],\n",
              "       [0.06778184],\n",
              "       [0.8344356 ],\n",
              "       [0.12414495],\n",
              "       [0.9850675 ]], dtype=float32)"
            ]
          },
          "metadata": {},
          "execution_count": 29
        }
      ]
    },
    {
      "cell_type": "code",
      "metadata": {
        "id": "c142k6Ev14k5",
        "outputId": "2d1f8835-1057-433b-decd-820f59418eeb",
        "colab": {
          "base_uri": "https://localhost:8080/"
        }
      },
      "source": [
        "predictions = model.predict(test_data)\n",
        "# Get the class with highest probability\n",
        "predicted_classes = np.argmax(predictions, axis=1)\n",
        "predicted_classes"
      ],
      "execution_count": 31,
      "outputs": [
        {
          "output_type": "stream",
          "name": "stdout",
          "text": [
            "\u001b[1m1/1\u001b[0m \u001b[32m━━━━━━━━━━━━━━━━━━━━\u001b[0m\u001b[37m\u001b[0m \u001b[1m0s\u001b[0m 21ms/step\n"
          ]
        },
        {
          "output_type": "execute_result",
          "data": {
            "text/plain": [
              "array([0, 0, 0, 0, 0])"
            ]
          },
          "metadata": {},
          "execution_count": 31
        }
      ]
    },
    {
      "cell_type": "markdown",
      "metadata": {
        "id": "AZymszuI28k-"
      },
      "source": [
        "### <a name='a5'></a> Przykład - klasyfikacja wieloklasowa"
      ]
    },
    {
      "cell_type": "code",
      "metadata": {
        "id": "tWIc_gVG2-_L"
      },
      "source": [
        "data = np.random.random((10000, 150))\n",
        "labels = np.random.randint(10, size=(10000, 1))"
      ],
      "execution_count": 32,
      "outputs": []
    },
    {
      "cell_type": "code",
      "metadata": {
        "id": "fnKrv8Mk3HSs",
        "outputId": "82165362-a2d1-459b-b194-2135da9e9551",
        "colab": {
          "base_uri": "https://localhost:8080/"
        }
      },
      "source": [
        "print(data.shape)\n",
        "print(labels.shape)"
      ],
      "execution_count": 33,
      "outputs": [
        {
          "output_type": "stream",
          "name": "stdout",
          "text": [
            "(10000, 150)\n",
            "(10000, 1)\n"
          ]
        }
      ]
    },
    {
      "cell_type": "code",
      "metadata": {
        "id": "q92xaMuj5Ncx",
        "outputId": "e2bfa5bd-2175-41ff-f5b5-7e258c739f79",
        "colab": {
          "base_uri": "https://localhost:8080/"
        }
      },
      "source": [
        "labels[:10]"
      ],
      "execution_count": 34,
      "outputs": [
        {
          "output_type": "execute_result",
          "data": {
            "text/plain": [
              "array([[1],\n",
              "       [7],\n",
              "       [1],\n",
              "       [6],\n",
              "       [4],\n",
              "       [9],\n",
              "       [1],\n",
              "       [0],\n",
              "       [8],\n",
              "       [3]])"
            ]
          },
          "metadata": {},
          "execution_count": 34
        }
      ]
    },
    {
      "cell_type": "code",
      "metadata": {
        "id": "llauNV3D3OFK",
        "outputId": "c9b42756-206e-4af6-c239-d6d698f37629",
        "colab": {
          "base_uri": "https://localhost:8080/"
        }
      },
      "source": [
        "from tensorflow.keras.utils import to_categorical\n",
        "labels = to_categorical(labels, num_classes=10)\n",
        "labels"
      ],
      "execution_count": 35,
      "outputs": [
        {
          "output_type": "execute_result",
          "data": {
            "text/plain": [
              "array([[0., 1., 0., ..., 0., 0., 0.],\n",
              "       [0., 0., 0., ..., 1., 0., 0.],\n",
              "       [0., 1., 0., ..., 0., 0., 0.],\n",
              "       ...,\n",
              "       [0., 0., 0., ..., 0., 0., 0.],\n",
              "       [1., 0., 0., ..., 0., 0., 0.],\n",
              "       [0., 0., 0., ..., 0., 1., 0.]])"
            ]
          },
          "metadata": {},
          "execution_count": 35
        }
      ]
    },
    {
      "cell_type": "code",
      "metadata": {
        "id": "vORrZXRz7HUp",
        "outputId": "cd4f0bef-fc3f-433d-d96d-3b94c40ddbe1",
        "colab": {
          "base_uri": "https://localhost:8080/"
        }
      },
      "source": [
        "labels[1]"
      ],
      "execution_count": 36,
      "outputs": [
        {
          "output_type": "execute_result",
          "data": {
            "text/plain": [
              "array([0., 0., 0., 0., 0., 0., 0., 1., 0., 0.])"
            ]
          },
          "metadata": {},
          "execution_count": 36
        }
      ]
    },
    {
      "cell_type": "code",
      "metadata": {
        "id": "k03Mdkup5yZ1",
        "outputId": "b3eabd79-d602-4062-aaf5-5d4f08e7fb23",
        "colab": {
          "base_uri": "https://localhost:8080/"
        }
      },
      "source": [
        "model = Sequential()\n",
        "model.add(Dense(units=32, activation='relu', input_shape=(150,)))\n",
        "model.add(Dense(units=10, activation='softmax'))\n",
        "\n",
        "model.compile(optimizer='rmsprop',\n",
        "              loss='categorical_crossentropy',\n",
        "              metrics=['accuracy'])\n",
        "\n",
        "model.fit(data, labels, batch_size=32, epochs=30, validation_split=0.2)"
      ],
      "execution_count": 37,
      "outputs": [
        {
          "output_type": "stream",
          "name": "stdout",
          "text": [
            "Epoch 1/30\n"
          ]
        },
        {
          "output_type": "stream",
          "name": "stderr",
          "text": [
            "/usr/local/lib/python3.10/dist-packages/keras/src/layers/core/dense.py:87: UserWarning:\n",
            "\n",
            "Do not pass an `input_shape`/`input_dim` argument to a layer. When using Sequential models, prefer using an `Input(shape)` object as the first layer in the model instead.\n",
            "\n"
          ]
        },
        {
          "output_type": "stream",
          "name": "stdout",
          "text": [
            "\u001b[1m250/250\u001b[0m \u001b[32m━━━━━━━━━━━━━━━━━━━━\u001b[0m\u001b[37m\u001b[0m \u001b[1m1s\u001b[0m 2ms/step - accuracy: 0.1002 - loss: 2.3742 - val_accuracy: 0.0965 - val_loss: 2.3280\n",
            "Epoch 2/30\n",
            "\u001b[1m250/250\u001b[0m \u001b[32m━━━━━━━━━━━━━━━━━━━━\u001b[0m\u001b[37m\u001b[0m \u001b[1m0s\u001b[0m 2ms/step - accuracy: 0.1109 - loss: 2.3157 - val_accuracy: 0.0970 - val_loss: 2.3185\n",
            "Epoch 3/30\n",
            "\u001b[1m250/250\u001b[0m \u001b[32m━━━━━━━━━━━━━━━━━━━━\u001b[0m\u001b[37m\u001b[0m \u001b[1m1s\u001b[0m 2ms/step - accuracy: 0.1124 - loss: 2.3021 - val_accuracy: 0.0965 - val_loss: 2.3117\n",
            "Epoch 4/30\n",
            "\u001b[1m250/250\u001b[0m \u001b[32m━━━━━━━━━━━━━━━━━━━━\u001b[0m\u001b[37m\u001b[0m \u001b[1m1s\u001b[0m 2ms/step - accuracy: 0.1108 - loss: 2.2976 - val_accuracy: 0.0965 - val_loss: 2.3174\n",
            "Epoch 5/30\n",
            "\u001b[1m250/250\u001b[0m \u001b[32m━━━━━━━━━━━━━━━━━━━━\u001b[0m\u001b[37m\u001b[0m \u001b[1m1s\u001b[0m 2ms/step - accuracy: 0.1335 - loss: 2.2890 - val_accuracy: 0.0965 - val_loss: 2.3259\n",
            "Epoch 6/30\n",
            "\u001b[1m250/250\u001b[0m \u001b[32m━━━━━━━━━━━━━━━━━━━━\u001b[0m\u001b[37m\u001b[0m \u001b[1m1s\u001b[0m 2ms/step - accuracy: 0.1268 - loss: 2.2887 - val_accuracy: 0.0985 - val_loss: 2.3197\n",
            "Epoch 7/30\n",
            "\u001b[1m250/250\u001b[0m \u001b[32m━━━━━━━━━━━━━━━━━━━━\u001b[0m\u001b[37m\u001b[0m \u001b[1m1s\u001b[0m 2ms/step - accuracy: 0.1402 - loss: 2.2799 - val_accuracy: 0.1060 - val_loss: 2.3204\n",
            "Epoch 8/30\n",
            "\u001b[1m250/250\u001b[0m \u001b[32m━━━━━━━━━━━━━━━━━━━━\u001b[0m\u001b[37m\u001b[0m \u001b[1m1s\u001b[0m 2ms/step - accuracy: 0.1452 - loss: 2.2713 - val_accuracy: 0.0925 - val_loss: 2.3337\n",
            "Epoch 9/30\n",
            "\u001b[1m250/250\u001b[0m \u001b[32m━━━━━━━━━━━━━━━━━━━━\u001b[0m\u001b[37m\u001b[0m \u001b[1m1s\u001b[0m 2ms/step - accuracy: 0.1440 - loss: 2.2672 - val_accuracy: 0.1015 - val_loss: 2.3328\n",
            "Epoch 10/30\n",
            "\u001b[1m250/250\u001b[0m \u001b[32m━━━━━━━━━━━━━━━━━━━━\u001b[0m\u001b[37m\u001b[0m \u001b[1m1s\u001b[0m 3ms/step - accuracy: 0.1582 - loss: 2.2567 - val_accuracy: 0.0980 - val_loss: 2.3314\n",
            "Epoch 11/30\n",
            "\u001b[1m250/250\u001b[0m \u001b[32m━━━━━━━━━━━━━━━━━━━━\u001b[0m\u001b[37m\u001b[0m \u001b[1m1s\u001b[0m 3ms/step - accuracy: 0.1632 - loss: 2.2549 - val_accuracy: 0.0975 - val_loss: 2.3366\n",
            "Epoch 12/30\n",
            "\u001b[1m250/250\u001b[0m \u001b[32m━━━━━━━━━━━━━━━━━━━━\u001b[0m\u001b[37m\u001b[0m \u001b[1m1s\u001b[0m 2ms/step - accuracy: 0.1640 - loss: 2.2402 - val_accuracy: 0.0990 - val_loss: 2.3436\n",
            "Epoch 13/30\n",
            "\u001b[1m250/250\u001b[0m \u001b[32m━━━━━━━━━━━━━━━━━━━━\u001b[0m\u001b[37m\u001b[0m \u001b[1m1s\u001b[0m 2ms/step - accuracy: 0.1659 - loss: 2.2377 - val_accuracy: 0.0965 - val_loss: 2.3531\n",
            "Epoch 14/30\n",
            "\u001b[1m250/250\u001b[0m \u001b[32m━━━━━━━━━━━━━━━━━━━━\u001b[0m\u001b[37m\u001b[0m \u001b[1m1s\u001b[0m 2ms/step - accuracy: 0.1665 - loss: 2.2359 - val_accuracy: 0.1070 - val_loss: 2.3419\n",
            "Epoch 15/30\n",
            "\u001b[1m250/250\u001b[0m \u001b[32m━━━━━━━━━━━━━━━━━━━━\u001b[0m\u001b[37m\u001b[0m \u001b[1m1s\u001b[0m 2ms/step - accuracy: 0.1745 - loss: 2.2247 - val_accuracy: 0.0935 - val_loss: 2.3569\n",
            "Epoch 16/30\n",
            "\u001b[1m250/250\u001b[0m \u001b[32m━━━━━━━━━━━━━━━━━━━━\u001b[0m\u001b[37m\u001b[0m \u001b[1m0s\u001b[0m 2ms/step - accuracy: 0.1816 - loss: 2.2153 - val_accuracy: 0.1010 - val_loss: 2.3553\n",
            "Epoch 17/30\n",
            "\u001b[1m250/250\u001b[0m \u001b[32m━━━━━━━━━━━━━━━━━━━━\u001b[0m\u001b[37m\u001b[0m \u001b[1m1s\u001b[0m 2ms/step - accuracy: 0.1779 - loss: 2.2094 - val_accuracy: 0.0975 - val_loss: 2.3704\n",
            "Epoch 18/30\n",
            "\u001b[1m250/250\u001b[0m \u001b[32m━━━━━━━━━━━━━━━━━━━━\u001b[0m\u001b[37m\u001b[0m \u001b[1m0s\u001b[0m 2ms/step - accuracy: 0.1840 - loss: 2.2027 - val_accuracy: 0.0975 - val_loss: 2.3695\n",
            "Epoch 19/30\n",
            "\u001b[1m250/250\u001b[0m \u001b[32m━━━━━━━━━━━━━━━━━━━━\u001b[0m\u001b[37m\u001b[0m \u001b[1m1s\u001b[0m 2ms/step - accuracy: 0.1945 - loss: 2.1951 - val_accuracy: 0.1075 - val_loss: 2.3916\n",
            "Epoch 20/30\n",
            "\u001b[1m250/250\u001b[0m \u001b[32m━━━━━━━━━━━━━━━━━━━━\u001b[0m\u001b[37m\u001b[0m \u001b[1m1s\u001b[0m 2ms/step - accuracy: 0.1957 - loss: 2.1950 - val_accuracy: 0.1035 - val_loss: 2.3818\n",
            "Epoch 21/30\n",
            "\u001b[1m250/250\u001b[0m \u001b[32m━━━━━━━━━━━━━━━━━━━━\u001b[0m\u001b[37m\u001b[0m \u001b[1m1s\u001b[0m 2ms/step - accuracy: 0.2021 - loss: 2.1772 - val_accuracy: 0.1025 - val_loss: 2.4049\n",
            "Epoch 22/30\n",
            "\u001b[1m250/250\u001b[0m \u001b[32m━━━━━━━━━━━━━━━━━━━━\u001b[0m\u001b[37m\u001b[0m \u001b[1m1s\u001b[0m 2ms/step - accuracy: 0.2020 - loss: 2.1798 - val_accuracy: 0.0970 - val_loss: 2.4032\n",
            "Epoch 23/30\n",
            "\u001b[1m250/250\u001b[0m \u001b[32m━━━━━━━━━━━━━━━━━━━━\u001b[0m\u001b[37m\u001b[0m \u001b[1m1s\u001b[0m 2ms/step - accuracy: 0.2062 - loss: 2.1667 - val_accuracy: 0.1070 - val_loss: 2.3810\n",
            "Epoch 24/30\n",
            "\u001b[1m250/250\u001b[0m \u001b[32m━━━━━━━━━━━━━━━━━━━━\u001b[0m\u001b[37m\u001b[0m \u001b[1m1s\u001b[0m 2ms/step - accuracy: 0.2048 - loss: 2.1702 - val_accuracy: 0.1005 - val_loss: 2.4078\n",
            "Epoch 25/30\n",
            "\u001b[1m250/250\u001b[0m \u001b[32m━━━━━━━━━━━━━━━━━━━━\u001b[0m\u001b[37m\u001b[0m \u001b[1m1s\u001b[0m 2ms/step - accuracy: 0.2266 - loss: 2.1433 - val_accuracy: 0.0990 - val_loss: 2.4095\n",
            "Epoch 26/30\n",
            "\u001b[1m250/250\u001b[0m \u001b[32m━━━━━━━━━━━━━━━━━━━━\u001b[0m\u001b[37m\u001b[0m \u001b[1m1s\u001b[0m 2ms/step - accuracy: 0.2127 - loss: 2.1467 - val_accuracy: 0.1040 - val_loss: 2.4134\n",
            "Epoch 27/30\n",
            "\u001b[1m250/250\u001b[0m \u001b[32m━━━━━━━━━━━━━━━━━━━━\u001b[0m\u001b[37m\u001b[0m \u001b[1m0s\u001b[0m 2ms/step - accuracy: 0.2308 - loss: 2.1326 - val_accuracy: 0.0985 - val_loss: 2.4191\n",
            "Epoch 28/30\n",
            "\u001b[1m250/250\u001b[0m \u001b[32m━━━━━━━━━━━━━━━━━━━━\u001b[0m\u001b[37m\u001b[0m \u001b[1m1s\u001b[0m 3ms/step - accuracy: 0.2192 - loss: 2.1405 - val_accuracy: 0.0965 - val_loss: 2.4185\n",
            "Epoch 29/30\n",
            "\u001b[1m250/250\u001b[0m \u001b[32m━━━━━━━━━━━━━━━━━━━━\u001b[0m\u001b[37m\u001b[0m \u001b[1m1s\u001b[0m 3ms/step - accuracy: 0.2293 - loss: 2.1247 - val_accuracy: 0.1000 - val_loss: 2.4336\n",
            "Epoch 30/30\n",
            "\u001b[1m250/250\u001b[0m \u001b[32m━━━━━━━━━━━━━━━━━━━━\u001b[0m\u001b[37m\u001b[0m \u001b[1m1s\u001b[0m 2ms/step - accuracy: 0.2393 - loss: 2.1171 - val_accuracy: 0.1015 - val_loss: 2.4357\n"
          ]
        },
        {
          "output_type": "execute_result",
          "data": {
            "text/plain": [
              "<keras.src.callbacks.history.History at 0x7cfd155931f0>"
            ]
          },
          "metadata": {},
          "execution_count": 37
        }
      ]
    },
    {
      "cell_type": "code",
      "metadata": {
        "id": "apTq9u_O63vu",
        "outputId": "157cbf03-1f40-4cce-bf3d-db9aa66ca252",
        "colab": {
          "base_uri": "https://localhost:8080/"
        }
      },
      "source": [
        "test_data = np.random.random((10, 150))\n",
        "\n",
        "model.predict(test_data)"
      ],
      "execution_count": 38,
      "outputs": [
        {
          "output_type": "stream",
          "name": "stdout",
          "text": [
            "\u001b[1m1/1\u001b[0m \u001b[32m━━━━━━━━━━━━━━━━━━━━\u001b[0m\u001b[37m\u001b[0m \u001b[1m0s\u001b[0m 46ms/step\n"
          ]
        },
        {
          "output_type": "execute_result",
          "data": {
            "text/plain": [
              "array([[0.26317406, 0.08696342, 0.05076974, 0.05463706, 0.069559  ,\n",
              "        0.07870337, 0.10300528, 0.19108458, 0.0519364 , 0.0501671 ],\n",
              "       [0.18292232, 0.05917875, 0.06405074, 0.0769892 , 0.05391793,\n",
              "        0.07659908, 0.12229311, 0.17420182, 0.06838091, 0.12146606],\n",
              "       [0.09441307, 0.14037237, 0.10867451, 0.07210854, 0.08970406,\n",
              "        0.06357634, 0.07302638, 0.12171955, 0.17265604, 0.06374896],\n",
              "       [0.05077248, 0.06557231, 0.14140852, 0.09684365, 0.05698577,\n",
              "        0.23597842, 0.06022223, 0.10617262, 0.05437526, 0.13166873],\n",
              "       [0.21265791, 0.04301274, 0.04819909, 0.10615715, 0.08316907,\n",
              "        0.12053899, 0.10204582, 0.13245653, 0.06841436, 0.08334825],\n",
              "       [0.04404933, 0.12845933, 0.08293352, 0.12466598, 0.13213523,\n",
              "        0.0493122 , 0.1469223 , 0.09065386, 0.10005893, 0.10080934],\n",
              "       [0.0712046 , 0.15520708, 0.13167961, 0.17257337, 0.05602098,\n",
              "        0.06709709, 0.11090787, 0.12053691, 0.052929  , 0.06184347],\n",
              "       [0.06679771, 0.04291428, 0.10319338, 0.0852032 , 0.05759303,\n",
              "        0.06805565, 0.05816239, 0.11868642, 0.15795742, 0.24143648],\n",
              "       [0.06857118, 0.03508427, 0.16732112, 0.12546434, 0.05202563,\n",
              "        0.16038267, 0.03234012, 0.12089495, 0.1063941 , 0.13152163],\n",
              "       [0.10736571, 0.08016916, 0.06345268, 0.21404803, 0.10835461,\n",
              "        0.04921817, 0.14903077, 0.04018131, 0.11195693, 0.07622268]],\n",
              "      dtype=float32)"
            ]
          },
          "metadata": {},
          "execution_count": 38
        }
      ]
    },
    {
      "cell_type": "code",
      "metadata": {
        "id": "Pd6vGftg8SHk",
        "outputId": "22ca64d7-aadf-4524-d8fd-b9442f557062",
        "colab": {
          "base_uri": "https://localhost:8080/"
        }
      },
      "source": [
        "predictions = model.predict(test_data)\n",
        "predicted_classes = tf.math.argmax(predictions, axis=1) # get the class with the highest probability\n",
        "predicted_classes"
      ],
      "execution_count": 40,
      "outputs": [
        {
          "output_type": "stream",
          "name": "stdout",
          "text": [
            "\u001b[1m1/1\u001b[0m \u001b[32m━━━━━━━━━━━━━━━━━━━━\u001b[0m\u001b[37m\u001b[0m \u001b[1m0s\u001b[0m 19ms/step\n"
          ]
        },
        {
          "output_type": "execute_result",
          "data": {
            "text/plain": [
              "<tf.Tensor: shape=(10,), dtype=int64, numpy=array([0, 0, 8, 5, 0, 6, 3, 9, 2, 3])>"
            ]
          },
          "metadata": {},
          "execution_count": 40
        }
      ]
    },
    {
      "cell_type": "markdown",
      "metadata": {
        "id": "FZuyR0UW8fP2"
      },
      "source": [
        "### <a name='a6'></a> Przykład - regresja"
      ]
    },
    {
      "cell_type": "code",
      "metadata": {
        "id": "Uj04-RVU8WNh"
      },
      "source": [
        "data = np.random.random((10000, 150))\n",
        "labels = 50 * np.random.random(10000)"
      ],
      "execution_count": 41,
      "outputs": []
    },
    {
      "cell_type": "code",
      "metadata": {
        "id": "G9T_X5kr8qht",
        "outputId": "e3c09456-4d8d-43ab-a982-df30926360c2",
        "colab": {
          "base_uri": "https://localhost:8080/"
        }
      },
      "source": [
        "labels[:10]"
      ],
      "execution_count": 42,
      "outputs": [
        {
          "output_type": "execute_result",
          "data": {
            "text/plain": [
              "array([30.16936637,  0.74901471, 34.42160153, 40.3541746 , 31.70572309,\n",
              "       41.24898532, 46.7035708 , 33.39060032, 45.45657655, 33.58221169])"
            ]
          },
          "metadata": {},
          "execution_count": 42
        }
      ]
    },
    {
      "cell_type": "code",
      "metadata": {
        "id": "M3MEGPvy8rqz",
        "outputId": "9c73eeb6-5953-45bb-b252-9380efbf1a87",
        "colab": {
          "base_uri": "https://localhost:8080/"
        }
      },
      "source": [
        "model = Sequential()\n",
        "model.add(Dense(units=32, activation='relu', input_shape=(150,)))\n",
        "model.add(Dense(units=1))\n",
        "\n",
        "model.compile(optimizer='rmsprop',\n",
        "              loss='mse')\n",
        "\n",
        "model.fit(data, labels, epochs=30, batch_size=32, validation_split=0.2)"
      ],
      "execution_count": 43,
      "outputs": [
        {
          "output_type": "stream",
          "name": "stdout",
          "text": [
            "Epoch 1/30\n"
          ]
        },
        {
          "output_type": "stream",
          "name": "stderr",
          "text": [
            "/usr/local/lib/python3.10/dist-packages/keras/src/layers/core/dense.py:87: UserWarning:\n",
            "\n",
            "Do not pass an `input_shape`/`input_dim` argument to a layer. When using Sequential models, prefer using an `Input(shape)` object as the first layer in the model instead.\n",
            "\n"
          ]
        },
        {
          "output_type": "stream",
          "name": "stdout",
          "text": [
            "\u001b[1m250/250\u001b[0m \u001b[32m━━━━━━━━━━━━━━━━━━━━\u001b[0m\u001b[37m\u001b[0m \u001b[1m1s\u001b[0m 3ms/step - loss: 360.3884 - val_loss: 219.2666\n",
            "Epoch 2/30\n",
            "\u001b[1m250/250\u001b[0m \u001b[32m━━━━━━━━━━━━━━━━━━━━\u001b[0m\u001b[37m\u001b[0m \u001b[1m0s\u001b[0m 2ms/step - loss: 211.3503 - val_loss: 218.9970\n",
            "Epoch 3/30\n",
            "\u001b[1m250/250\u001b[0m \u001b[32m━━━━━━━━━━━━━━━━━━━━\u001b[0m\u001b[37m\u001b[0m \u001b[1m1s\u001b[0m 2ms/step - loss: 210.7175 - val_loss: 219.0192\n",
            "Epoch 4/30\n",
            "\u001b[1m250/250\u001b[0m \u001b[32m━━━━━━━━━━━━━━━━━━━━\u001b[0m\u001b[37m\u001b[0m \u001b[1m1s\u001b[0m 2ms/step - loss: 210.4219 - val_loss: 219.3595\n",
            "Epoch 5/30\n",
            "\u001b[1m250/250\u001b[0m \u001b[32m━━━━━━━━━━━━━━━━━━━━\u001b[0m\u001b[37m\u001b[0m \u001b[1m1s\u001b[0m 2ms/step - loss: 214.8972 - val_loss: 219.5851\n",
            "Epoch 6/30\n",
            "\u001b[1m250/250\u001b[0m \u001b[32m━━━━━━━━━━━━━━━━━━━━\u001b[0m\u001b[37m\u001b[0m \u001b[1m1s\u001b[0m 2ms/step - loss: 213.3678 - val_loss: 221.0899\n",
            "Epoch 7/30\n",
            "\u001b[1m250/250\u001b[0m \u001b[32m━━━━━━━━━━━━━━━━━━━━\u001b[0m\u001b[37m\u001b[0m \u001b[1m1s\u001b[0m 2ms/step - loss: 212.9596 - val_loss: 219.1703\n",
            "Epoch 8/30\n",
            "\u001b[1m250/250\u001b[0m \u001b[32m━━━━━━━━━━━━━━━━━━━━\u001b[0m\u001b[37m\u001b[0m \u001b[1m1s\u001b[0m 2ms/step - loss: 207.1036 - val_loss: 221.4497\n",
            "Epoch 9/30\n",
            "\u001b[1m250/250\u001b[0m \u001b[32m━━━━━━━━━━━━━━━━━━━━\u001b[0m\u001b[37m\u001b[0m \u001b[1m0s\u001b[0m 2ms/step - loss: 207.5657 - val_loss: 219.4803\n",
            "Epoch 10/30\n",
            "\u001b[1m250/250\u001b[0m \u001b[32m━━━━━━━━━━━━━━━━━━━━\u001b[0m\u001b[37m\u001b[0m \u001b[1m1s\u001b[0m 2ms/step - loss: 207.2884 - val_loss: 219.5208\n",
            "Epoch 11/30\n",
            "\u001b[1m250/250\u001b[0m \u001b[32m━━━━━━━━━━━━━━━━━━━━\u001b[0m\u001b[37m\u001b[0m \u001b[1m1s\u001b[0m 2ms/step - loss: 209.1069 - val_loss: 219.9147\n",
            "Epoch 12/30\n",
            "\u001b[1m250/250\u001b[0m \u001b[32m━━━━━━━━━━━━━━━━━━━━\u001b[0m\u001b[37m\u001b[0m \u001b[1m1s\u001b[0m 2ms/step - loss: 209.0223 - val_loss: 219.9110\n",
            "Epoch 13/30\n",
            "\u001b[1m250/250\u001b[0m \u001b[32m━━━━━━━━━━━━━━━━━━━━\u001b[0m\u001b[37m\u001b[0m \u001b[1m1s\u001b[0m 2ms/step - loss: 207.9981 - val_loss: 219.7622\n",
            "Epoch 14/30\n",
            "\u001b[1m250/250\u001b[0m \u001b[32m━━━━━━━━━━━━━━━━━━━━\u001b[0m\u001b[37m\u001b[0m \u001b[1m1s\u001b[0m 2ms/step - loss: 206.4262 - val_loss: 219.8972\n",
            "Epoch 15/30\n",
            "\u001b[1m250/250\u001b[0m \u001b[32m━━━━━━━━━━━━━━━━━━━━\u001b[0m\u001b[37m\u001b[0m \u001b[1m1s\u001b[0m 2ms/step - loss: 206.4484 - val_loss: 220.5684\n",
            "Epoch 16/30\n",
            "\u001b[1m250/250\u001b[0m \u001b[32m━━━━━━━━━━━━━━━━━━━━\u001b[0m\u001b[37m\u001b[0m \u001b[1m0s\u001b[0m 2ms/step - loss: 208.9526 - val_loss: 220.1804\n",
            "Epoch 17/30\n",
            "\u001b[1m250/250\u001b[0m \u001b[32m━━━━━━━━━━━━━━━━━━━━\u001b[0m\u001b[37m\u001b[0m \u001b[1m1s\u001b[0m 2ms/step - loss: 207.9801 - val_loss: 220.3711\n",
            "Epoch 18/30\n",
            "\u001b[1m250/250\u001b[0m \u001b[32m━━━━━━━━━━━━━━━━━━━━\u001b[0m\u001b[37m\u001b[0m \u001b[1m1s\u001b[0m 2ms/step - loss: 206.3500 - val_loss: 220.3884\n",
            "Epoch 19/30\n",
            "\u001b[1m250/250\u001b[0m \u001b[32m━━━━━━━━━━━━━━━━━━━━\u001b[0m\u001b[37m\u001b[0m \u001b[1m1s\u001b[0m 3ms/step - loss: 199.9977 - val_loss: 221.5903\n",
            "Epoch 20/30\n",
            "\u001b[1m250/250\u001b[0m \u001b[32m━━━━━━━━━━━━━━━━━━━━\u001b[0m\u001b[37m\u001b[0m \u001b[1m1s\u001b[0m 2ms/step - loss: 205.1045 - val_loss: 221.2445\n",
            "Epoch 21/30\n",
            "\u001b[1m250/250\u001b[0m \u001b[32m━━━━━━━━━━━━━━━━━━━━\u001b[0m\u001b[37m\u001b[0m \u001b[1m1s\u001b[0m 2ms/step - loss: 206.1894 - val_loss: 221.0769\n",
            "Epoch 22/30\n",
            "\u001b[1m250/250\u001b[0m \u001b[32m━━━━━━━━━━━━━━━━━━━━\u001b[0m\u001b[37m\u001b[0m \u001b[1m1s\u001b[0m 2ms/step - loss: 210.4155 - val_loss: 221.0341\n",
            "Epoch 23/30\n",
            "\u001b[1m250/250\u001b[0m \u001b[32m━━━━━━━━━━━━━━━━━━━━\u001b[0m\u001b[37m\u001b[0m \u001b[1m1s\u001b[0m 2ms/step - loss: 206.2667 - val_loss: 222.3691\n",
            "Epoch 24/30\n",
            "\u001b[1m250/250\u001b[0m \u001b[32m━━━━━━━━━━━━━━━━━━━━\u001b[0m\u001b[37m\u001b[0m \u001b[1m1s\u001b[0m 2ms/step - loss: 208.7729 - val_loss: 221.4939\n",
            "Epoch 25/30\n",
            "\u001b[1m250/250\u001b[0m \u001b[32m━━━━━━━━━━━━━━━━━━━━\u001b[0m\u001b[37m\u001b[0m \u001b[1m1s\u001b[0m 2ms/step - loss: 202.4407 - val_loss: 222.3334\n",
            "Epoch 26/30\n",
            "\u001b[1m250/250\u001b[0m \u001b[32m━━━━━━━━━━━━━━━━━━━━\u001b[0m\u001b[37m\u001b[0m \u001b[1m1s\u001b[0m 2ms/step - loss: 206.0298 - val_loss: 221.6266\n",
            "Epoch 27/30\n",
            "\u001b[1m250/250\u001b[0m \u001b[32m━━━━━━━━━━━━━━━━━━━━\u001b[0m\u001b[37m\u001b[0m \u001b[1m0s\u001b[0m 2ms/step - loss: 207.7254 - val_loss: 222.9706\n",
            "Epoch 28/30\n",
            "\u001b[1m250/250\u001b[0m \u001b[32m━━━━━━━━━━━━━━━━━━━━\u001b[0m\u001b[37m\u001b[0m \u001b[1m1s\u001b[0m 2ms/step - loss: 201.8753 - val_loss: 221.9564\n",
            "Epoch 29/30\n",
            "\u001b[1m250/250\u001b[0m \u001b[32m━━━━━━━━━━━━━━━━━━━━\u001b[0m\u001b[37m\u001b[0m \u001b[1m1s\u001b[0m 2ms/step - loss: 207.6653 - val_loss: 221.7789\n",
            "Epoch 30/30\n",
            "\u001b[1m250/250\u001b[0m \u001b[32m━━━━━━━━━━━━━━━━━━━━\u001b[0m\u001b[37m\u001b[0m \u001b[1m1s\u001b[0m 2ms/step - loss: 204.5390 - val_loss: 222.2955\n"
          ]
        },
        {
          "output_type": "execute_result",
          "data": {
            "text/plain": [
              "<keras.src.callbacks.history.History at 0x7cfd1531fdc0>"
            ]
          },
          "metadata": {},
          "execution_count": 43
        }
      ]
    },
    {
      "cell_type": "code",
      "metadata": {
        "id": "jLUGCiun-ePp",
        "outputId": "9616263e-8072-4670-bbfc-32f89c8fde58",
        "colab": {
          "base_uri": "https://localhost:8080/"
        }
      },
      "source": [
        "model = Sequential()\n",
        "model.add(Dense(units=32, activation='relu', input_shape=(150,)))\n",
        "model.add(Dense(units=1))\n",
        "\n",
        "model.compile(optimizer='rmsprop',\n",
        "              loss='mae',\n",
        "              metrics=['mse'])\n",
        "\n",
        "model.fit(data, labels, epochs=10, batch_size=32, validation_split=0.2)"
      ],
      "execution_count": 44,
      "outputs": [
        {
          "output_type": "stream",
          "name": "stdout",
          "text": [
            "Epoch 1/10\n",
            "\u001b[1m250/250\u001b[0m \u001b[32m━━━━━━━━━━━━━━━━━━━━\u001b[0m\u001b[37m\u001b[0m \u001b[1m1s\u001b[0m 3ms/step - loss: 15.5875 - mse: 364.8698 - val_loss: 12.8720 - val_mse: 219.5342\n",
            "Epoch 2/10\n",
            "\u001b[1m250/250\u001b[0m \u001b[32m━━━━━━━━━━━━━━━━━━━━\u001b[0m\u001b[37m\u001b[0m \u001b[1m0s\u001b[0m 2ms/step - loss: 12.6000 - mse: 213.8142 - val_loss: 12.9117 - val_mse: 220.1907\n",
            "Epoch 3/10\n",
            "\u001b[1m250/250\u001b[0m \u001b[32m━━━━━━━━━━━━━━━━━━━━\u001b[0m\u001b[37m\u001b[0m \u001b[1m1s\u001b[0m 2ms/step - loss: 12.6692 - mse: 215.0042 - val_loss: 12.8895 - val_mse: 221.3722\n",
            "Epoch 4/10\n",
            "\u001b[1m250/250\u001b[0m \u001b[32m━━━━━━━━━━━━━━━━━━━━\u001b[0m\u001b[37m\u001b[0m \u001b[1m1s\u001b[0m 2ms/step - loss: 12.4638 - mse: 210.6124 - val_loss: 12.8888 - val_mse: 219.5294\n",
            "Epoch 5/10\n",
            "\u001b[1m250/250\u001b[0m \u001b[32m━━━━━━━━━━━━━━━━━━━━\u001b[0m\u001b[37m\u001b[0m \u001b[1m1s\u001b[0m 2ms/step - loss: 12.4456 - mse: 210.2560 - val_loss: 12.8797 - val_mse: 220.4814\n",
            "Epoch 6/10\n",
            "\u001b[1m250/250\u001b[0m \u001b[32m━━━━━━━━━━━━━━━━━━━━\u001b[0m\u001b[37m\u001b[0m \u001b[1m0s\u001b[0m 2ms/step - loss: 12.4618 - mse: 209.4899 - val_loss: 12.9176 - val_mse: 220.5130\n",
            "Epoch 7/10\n",
            "\u001b[1m250/250\u001b[0m \u001b[32m━━━━━━━━━━━━━━━━━━━━\u001b[0m\u001b[37m\u001b[0m \u001b[1m1s\u001b[0m 2ms/step - loss: 12.5257 - mse: 211.5533 - val_loss: 12.8847 - val_mse: 221.1479\n",
            "Epoch 8/10\n",
            "\u001b[1m250/250\u001b[0m \u001b[32m━━━━━━━━━━━━━━━━━━━━\u001b[0m\u001b[37m\u001b[0m \u001b[1m1s\u001b[0m 3ms/step - loss: 12.4393 - mse: 209.7676 - val_loss: 12.8931 - val_mse: 220.1151\n",
            "Epoch 9/10\n",
            "\u001b[1m250/250\u001b[0m \u001b[32m━━━━━━━━━━━━━━━━━━━━\u001b[0m\u001b[37m\u001b[0m \u001b[1m1s\u001b[0m 3ms/step - loss: 12.3551 - mse: 207.5190 - val_loss: 12.9138 - val_mse: 220.7610\n",
            "Epoch 10/10\n",
            "\u001b[1m250/250\u001b[0m \u001b[32m━━━━━━━━━━━━━━━━━━━━\u001b[0m\u001b[37m\u001b[0m \u001b[1m1s\u001b[0m 2ms/step - loss: 12.4385 - mse: 209.9525 - val_loss: 12.8943 - val_mse: 220.9816\n"
          ]
        },
        {
          "output_type": "execute_result",
          "data": {
            "text/plain": [
              "<keras.src.callbacks.history.History at 0x7cfd14ed2e00>"
            ]
          },
          "metadata": {},
          "execution_count": 44
        }
      ]
    },
    {
      "cell_type": "code",
      "metadata": {
        "id": "0T9od2mo9KAF",
        "outputId": "2bccefda-7d58-4912-9378-64928ee847ef",
        "colab": {
          "base_uri": "https://localhost:8080/"
        }
      },
      "source": [
        "test_data = np.random.random((10, 150))\n",
        "\n",
        "model.predict(test_data)"
      ],
      "execution_count": 45,
      "outputs": [
        {
          "output_type": "stream",
          "name": "stdout",
          "text": [
            "\u001b[1m1/1\u001b[0m \u001b[32m━━━━━━━━━━━━━━━━━━━━\u001b[0m\u001b[37m\u001b[0m \u001b[1m0s\u001b[0m 58ms/step\n"
          ]
        },
        {
          "output_type": "execute_result",
          "data": {
            "text/plain": [
              "array([[20.68503 ],\n",
              "       [23.008188],\n",
              "       [22.359682],\n",
              "       [24.40325 ],\n",
              "       [23.615396],\n",
              "       [21.53362 ],\n",
              "       [26.22062 ],\n",
              "       [26.513018],\n",
              "       [27.62301 ],\n",
              "       [23.714174]], dtype=float32)"
            ]
          },
          "metadata": {},
          "execution_count": 45
        }
      ]
    },
    {
      "cell_type": "code",
      "metadata": {
        "id": "L_wsrqrb5goJ"
      },
      "source": [],
      "execution_count": null,
      "outputs": []
    }
  ]
}