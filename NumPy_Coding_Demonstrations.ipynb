{
  "nbformat": 4,
  "nbformat_minor": 0,
  "metadata": {
    "colab": {
      "provenance": [],
      "authorship_tag": "ABX9TyPLYDmFB/ROhJoFtNw/89Mr",
      "include_colab_link": true
    },
    "kernelspec": {
      "name": "python3",
      "display_name": "Python 3"
    },
    "language_info": {
      "name": "python"
    }
  },
  "cells": [
    {
      "cell_type": "markdown",
      "metadata": {
        "id": "view-in-github",
        "colab_type": "text"
      },
      "source": [
        "<a href=\"https://colab.research.google.com/github/JarekMaleszyk/data-science-project-sandbox/blob/main/NumPy_Coding_Demonstrations.ipynb\" target=\"_parent\"><img src=\"https://colab.research.google.com/assets/colab-badge.svg\" alt=\"Open In Colab\"/></a>"
      ]
    },
    {
      "cell_type": "code",
      "execution_count": 292,
      "metadata": {
        "id": "YkmxuN2LgBws"
      },
      "outputs": [],
      "source": [
        "import numpy as np\n",
        "import pandas as pd\n",
        "import matplotlib.pyplot as plt"
      ]
    },
    {
      "cell_type": "code",
      "source": [
        "def sigmoid(array: np.ndarray) -> float:\n",
        "  \"\"\"\n",
        "  Sigmoid function\n",
        "  :param array: np.ndarray\n",
        "  :return: float\n",
        "  \"\"\"\n",
        "  return 1 / (1 + np.exp(-(array)))\n",
        "\n",
        "a = np.arange(100)\n",
        "sigmoid(a)"
      ],
      "metadata": {
        "colab": {
          "base_uri": "https://localhost:8080/"
        },
        "id": "-AG8F_LIgHG1",
        "outputId": "af16398e-a928-4400-a85b-51ebc0c11af5"
      },
      "execution_count": 293,
      "outputs": [
        {
          "output_type": "execute_result",
          "data": {
            "text/plain": [
              "array([0.5       , 0.73105858, 0.88079708, 0.95257413, 0.98201379,\n",
              "       0.99330715, 0.99752738, 0.99908895, 0.99966465, 0.99987661,\n",
              "       0.9999546 , 0.9999833 , 0.99999386, 0.99999774, 0.99999917,\n",
              "       0.99999969, 0.99999989, 0.99999996, 0.99999998, 0.99999999,\n",
              "       1.        , 1.        , 1.        , 1.        , 1.        ,\n",
              "       1.        , 1.        , 1.        , 1.        , 1.        ,\n",
              "       1.        , 1.        , 1.        , 1.        , 1.        ,\n",
              "       1.        , 1.        , 1.        , 1.        , 1.        ,\n",
              "       1.        , 1.        , 1.        , 1.        , 1.        ,\n",
              "       1.        , 1.        , 1.        , 1.        , 1.        ,\n",
              "       1.        , 1.        , 1.        , 1.        , 1.        ,\n",
              "       1.        , 1.        , 1.        , 1.        , 1.        ,\n",
              "       1.        , 1.        , 1.        , 1.        , 1.        ,\n",
              "       1.        , 1.        , 1.        , 1.        , 1.        ,\n",
              "       1.        , 1.        , 1.        , 1.        , 1.        ,\n",
              "       1.        , 1.        , 1.        , 1.        , 1.        ,\n",
              "       1.        , 1.        , 1.        , 1.        , 1.        ,\n",
              "       1.        , 1.        , 1.        , 1.        , 1.        ,\n",
              "       1.        , 1.        , 1.        , 1.        , 1.        ,\n",
              "       1.        , 1.        , 1.        , 1.        , 1.        ])"
            ]
          },
          "metadata": {},
          "execution_count": 293
        }
      ]
    },
    {
      "cell_type": "code",
      "source": [
        "def mse(actual: np.ndarray, predict: np.ndarray) -> float:\n",
        "  \"\"\"\n",
        "  Mean Squared Error\n",
        "  :param actual: np.ndarray\n",
        "  :param predict: np.ndarray\n",
        "  :return: float\n",
        "  \"\"\"\n",
        "  return np.mean((actual - predict) ** 2)\n",
        "\n",
        "actual = np.random.randint(1,50,25)\n",
        "predicted = np.random.randint(1,50,25)\n",
        "\n",
        "mse(actual,predicted)"
      ],
      "metadata": {
        "colab": {
          "base_uri": "https://localhost:8080/"
        },
        "id": "1b7uXicwm9UY",
        "outputId": "bb7953dd-a63b-48c2-aab0-c8a2016969a1"
      },
      "execution_count": 294,
      "outputs": [
        {
          "output_type": "execute_result",
          "data": {
            "text/plain": [
              "316.24"
            ]
          },
          "metadata": {},
          "execution_count": 294
        }
      ]
    },
    {
      "cell_type": "code",
      "source": [
        "print(mse.__doc__)"
      ],
      "metadata": {
        "colab": {
          "base_uri": "https://localhost:8080/"
        },
        "id": "fhdBiR5e_Wio",
        "outputId": "d76c60fa-afdd-46d2-f86e-134d6bce8adc"
      },
      "execution_count": 295,
      "outputs": [
        {
          "output_type": "stream",
          "name": "stdout",
          "text": [
            "\n",
            "  Mean Squared Error\n",
            "  :param actual: np.ndarray\n",
            "  :param predict: np.ndarray\n",
            "  :return: float\n",
            "  \n"
          ]
        }
      ]
    },
    {
      "cell_type": "code",
      "source": [
        "arr = np.array([1,2,3,4,5,6,7,8,9,0])\n",
        "srr = pd.Series([1,2,3,4,5,6,7,8,9,0])"
      ],
      "metadata": {
        "id": "dV0xtZ-d2qol"
      },
      "execution_count": 296,
      "outputs": []
    },
    {
      "cell_type": "code",
      "source": [
        "print(type(arr))\n",
        "print(type(srr))\n",
        "print(arr.shape)\n",
        "print(srr.shape)"
      ],
      "metadata": {
        "colab": {
          "base_uri": "https://localhost:8080/"
        },
        "id": "28U8ifZ626DM",
        "outputId": "a3dce0e5-d223-4c03-ff89-9c12ddf7f33f"
      },
      "execution_count": 297,
      "outputs": [
        {
          "output_type": "stream",
          "name": "stdout",
          "text": [
            "<class 'numpy.ndarray'>\n",
            "<class 'pandas.core.series.Series'>\n",
            "(10,)\n",
            "(10,)\n"
          ]
        }
      ]
    },
    {
      "cell_type": "code",
      "source": [
        "print(arr)\n",
        "print(srr)"
      ],
      "metadata": {
        "colab": {
          "base_uri": "https://localhost:8080/"
        },
        "id": "m70y589u26gA",
        "outputId": "4b6628dc-bbfb-47f0-e2bb-0163b9f96aef"
      },
      "execution_count": 298,
      "outputs": [
        {
          "output_type": "stream",
          "name": "stdout",
          "text": [
            "[1 2 3 4 5 6 7 8 9 0]\n",
            "0    1\n",
            "1    2\n",
            "2    3\n",
            "3    4\n",
            "4    5\n",
            "5    6\n",
            "6    7\n",
            "7    8\n",
            "8    9\n",
            "9    0\n",
            "dtype: int64\n"
          ]
        }
      ]
    },
    {
      "cell_type": "code",
      "source": [
        "for i, v in srr.items():\n",
        "  print(f\"index: {i} with value: {v}\")"
      ],
      "metadata": {
        "colab": {
          "base_uri": "https://localhost:8080/"
        },
        "id": "cN2sgouB3Sea",
        "outputId": "9c1c20d7-a116-462e-f551-f4d4013fde6b"
      },
      "execution_count": 299,
      "outputs": [
        {
          "output_type": "stream",
          "name": "stdout",
          "text": [
            "index: 0 with value: 1\n",
            "index: 1 with value: 2\n",
            "index: 2 with value: 3\n",
            "index: 3 with value: 4\n",
            "index: 4 with value: 5\n",
            "index: 5 with value: 6\n",
            "index: 6 with value: 7\n",
            "index: 7 with value: 8\n",
            "index: 8 with value: 9\n",
            "index: 9 with value: 0\n"
          ]
        }
      ]
    },
    {
      "cell_type": "code",
      "source": [
        "for i, v in enumerate(arr):\n",
        "  print(f\"index: {i} with value: {v}\")"
      ],
      "metadata": {
        "colab": {
          "base_uri": "https://localhost:8080/"
        },
        "id": "xBIZ2x193umY",
        "outputId": "2d4ddf80-5496-4612-f5ae-37f231c34d7d"
      },
      "execution_count": 300,
      "outputs": [
        {
          "output_type": "stream",
          "name": "stdout",
          "text": [
            "index: 0 with value: 1\n",
            "index: 1 with value: 2\n",
            "index: 2 with value: 3\n",
            "index: 3 with value: 4\n",
            "index: 4 with value: 5\n",
            "index: 5 with value: 6\n",
            "index: 6 with value: 7\n",
            "index: 7 with value: 8\n",
            "index: 8 with value: 9\n",
            "index: 9 with value: 0\n"
          ]
        }
      ]
    },
    {
      "cell_type": "code",
      "source": [
        "def log_softmax(x) -> float:\n",
        "  return x - x.exp().sum(axis=-1).unsqueeze(-1)"
      ],
      "metadata": {
        "id": "xka9ck2K30p0"
      },
      "execution_count": 301,
      "outputs": []
    },
    {
      "cell_type": "code",
      "source": [
        "import torch\n",
        "from torch import nn\n",
        "\n",
        "input = torch.randn(2,3)"
      ],
      "metadata": {
        "id": "KQrEGWDV7Pm-"
      },
      "execution_count": 302,
      "outputs": []
    },
    {
      "cell_type": "code",
      "source": [
        "softmax_fn = nn.Softmax(dim=1)\n",
        "output = softmax_fn(input)\n",
        "print(output)"
      ],
      "metadata": {
        "colab": {
          "base_uri": "https://localhost:8080/"
        },
        "id": "KXJEAEEk7TY8",
        "outputId": "eba4faf8-1b0f-4e19-f6ea-7ec8249e0ef2"
      },
      "execution_count": 303,
      "outputs": [
        {
          "output_type": "stream",
          "name": "stdout",
          "text": [
            "tensor([[0.1300, 0.8015, 0.0685],\n",
            "        [0.3180, 0.1837, 0.4983]])\n"
          ]
        }
      ]
    },
    {
      "cell_type": "code",
      "source": [
        "log_softmax = nn.LogSoftmax(dim=1)\n",
        "log_output = log_softmax(input)\n",
        "print(log_output)"
      ],
      "metadata": {
        "colab": {
          "base_uri": "https://localhost:8080/"
        },
        "id": "c2yXxxgE7pl8",
        "outputId": "921c236c-c0bc-48ac-a295-55524505b2e2"
      },
      "execution_count": 304,
      "outputs": [
        {
          "output_type": "stream",
          "name": "stdout",
          "text": [
            "tensor([[-2.0403, -0.2212, -2.6814],\n",
            "        [-1.1456, -1.6947, -0.6965]])\n"
          ]
        }
      ]
    },
    {
      "cell_type": "code",
      "source": [
        "outp = torch.exp(log_output)\n",
        "print(outp)"
      ],
      "metadata": {
        "colab": {
          "base_uri": "https://localhost:8080/"
        },
        "id": "o6MeGYlw7yaL",
        "outputId": "b907e0a2-eb91-4d80-e116-9ca943044792"
      },
      "execution_count": 305,
      "outputs": [
        {
          "output_type": "stream",
          "name": "stdout",
          "text": [
            "tensor([[0.1300, 0.8015, 0.0685],\n",
            "        [0.3180, 0.1837, 0.4983]])\n"
          ]
        }
      ]
    },
    {
      "cell_type": "code",
      "source": [
        "single_variable: str = 'Hello world!'\n",
        "for i, v in enumerate(single_variable):\n",
        "  print(f\"{i}: {v}\")"
      ],
      "metadata": {
        "colab": {
          "base_uri": "https://localhost:8080/"
        },
        "id": "1iDZObo6DK38",
        "outputId": "57eb736f-a2d8-41a2-d366-876a85cc54cc"
      },
      "execution_count": 306,
      "outputs": [
        {
          "output_type": "stream",
          "name": "stdout",
          "text": [
            "0: H\n",
            "1: e\n",
            "2: l\n",
            "3: l\n",
            "4: o\n",
            "5:  \n",
            "6: w\n",
            "7: o\n",
            "8: r\n",
            "9: l\n",
            "10: d\n",
            "11: !\n"
          ]
        }
      ]
    },
    {
      "cell_type": "code",
      "source": [
        "x = np.array([1,2,3,4,np.inf,np.nan])\n",
        "print(np.isnan(x))\n",
        "print(np.isinf(x))"
      ],
      "metadata": {
        "id": "5EwB3akEDO1h",
        "colab": {
          "base_uri": "https://localhost:8080/"
        },
        "outputId": "4f976cc9-19e7-4fd0-9eef-92121dbf6e61"
      },
      "execution_count": 307,
      "outputs": [
        {
          "output_type": "stream",
          "name": "stdout",
          "text": [
            "[False False False False False  True]\n",
            "[False False False False  True False]\n"
          ]
        }
      ]
    },
    {
      "cell_type": "code",
      "source": [
        "y = np.arange(0, 100, 1, dtype='i')\n",
        "y"
      ],
      "metadata": {
        "colab": {
          "base_uri": "https://localhost:8080/"
        },
        "id": "TUl2Ma6Pu0_N",
        "outputId": "36ade47b-eae4-445b-cab6-c0268a1be639"
      },
      "execution_count": 308,
      "outputs": [
        {
          "output_type": "execute_result",
          "data": {
            "text/plain": [
              "array([ 0,  1,  2,  3,  4,  5,  6,  7,  8,  9, 10, 11, 12, 13, 14, 15, 16,\n",
              "       17, 18, 19, 20, 21, 22, 23, 24, 25, 26, 27, 28, 29, 30, 31, 32, 33,\n",
              "       34, 35, 36, 37, 38, 39, 40, 41, 42, 43, 44, 45, 46, 47, 48, 49, 50,\n",
              "       51, 52, 53, 54, 55, 56, 57, 58, 59, 60, 61, 62, 63, 64, 65, 66, 67,\n",
              "       68, 69, 70, 71, 72, 73, 74, 75, 76, 77, 78, 79, 80, 81, 82, 83, 84,\n",
              "       85, 86, 87, 88, 89, 90, 91, 92, 93, 94, 95, 96, 97, 98, 99],\n",
              "      dtype=int32)"
            ]
          },
          "metadata": {},
          "execution_count": 308
        }
      ]
    },
    {
      "cell_type": "code",
      "source": [
        "y = np.concatenate((y, -y), axis=0, dtype='i')\n",
        "y"
      ],
      "metadata": {
        "colab": {
          "base_uri": "https://localhost:8080/"
        },
        "id": "HYyWqCg7vk-n",
        "outputId": "28a37be2-18ad-41fe-87c7-8a6789e257d6"
      },
      "execution_count": 309,
      "outputs": [
        {
          "output_type": "execute_result",
          "data": {
            "text/plain": [
              "array([  0,   1,   2,   3,   4,   5,   6,   7,   8,   9,  10,  11,  12,\n",
              "        13,  14,  15,  16,  17,  18,  19,  20,  21,  22,  23,  24,  25,\n",
              "        26,  27,  28,  29,  30,  31,  32,  33,  34,  35,  36,  37,  38,\n",
              "        39,  40,  41,  42,  43,  44,  45,  46,  47,  48,  49,  50,  51,\n",
              "        52,  53,  54,  55,  56,  57,  58,  59,  60,  61,  62,  63,  64,\n",
              "        65,  66,  67,  68,  69,  70,  71,  72,  73,  74,  75,  76,  77,\n",
              "        78,  79,  80,  81,  82,  83,  84,  85,  86,  87,  88,  89,  90,\n",
              "        91,  92,  93,  94,  95,  96,  97,  98,  99,   0,  -1,  -2,  -3,\n",
              "        -4,  -5,  -6,  -7,  -8,  -9, -10, -11, -12, -13, -14, -15, -16,\n",
              "       -17, -18, -19, -20, -21, -22, -23, -24, -25, -26, -27, -28, -29,\n",
              "       -30, -31, -32, -33, -34, -35, -36, -37, -38, -39, -40, -41, -42,\n",
              "       -43, -44, -45, -46, -47, -48, -49, -50, -51, -52, -53, -54, -55,\n",
              "       -56, -57, -58, -59, -60, -61, -62, -63, -64, -65, -66, -67, -68,\n",
              "       -69, -70, -71, -72, -73, -74, -75, -76, -77, -78, -79, -80, -81,\n",
              "       -82, -83, -84, -85, -86, -87, -88, -89, -90, -91, -92, -93, -94,\n",
              "       -95, -96, -97, -98, -99], dtype=int32)"
            ]
          },
          "metadata": {},
          "execution_count": 309
        }
      ]
    },
    {
      "cell_type": "code",
      "source": [
        "z = np.sort(y)\n",
        "z"
      ],
      "metadata": {
        "colab": {
          "base_uri": "https://localhost:8080/"
        },
        "id": "SjcdM24T5-G9",
        "outputId": "f6fcfbbf-773b-466c-c7d5-3d41aef41930"
      },
      "execution_count": 310,
      "outputs": [
        {
          "output_type": "execute_result",
          "data": {
            "text/plain": [
              "array([-99, -98, -97, -96, -95, -94, -93, -92, -91, -90, -89, -88, -87,\n",
              "       -86, -85, -84, -83, -82, -81, -80, -79, -78, -77, -76, -75, -74,\n",
              "       -73, -72, -71, -70, -69, -68, -67, -66, -65, -64, -63, -62, -61,\n",
              "       -60, -59, -58, -57, -56, -55, -54, -53, -52, -51, -50, -49, -48,\n",
              "       -47, -46, -45, -44, -43, -42, -41, -40, -39, -38, -37, -36, -35,\n",
              "       -34, -33, -32, -31, -30, -29, -28, -27, -26, -25, -24, -23, -22,\n",
              "       -21, -20, -19, -18, -17, -16, -15, -14, -13, -12, -11, -10,  -9,\n",
              "        -8,  -7,  -6,  -5,  -4,  -3,  -2,  -1,   0,   0,   1,   2,   3,\n",
              "         4,   5,   6,   7,   8,   9,  10,  11,  12,  13,  14,  15,  16,\n",
              "        17,  18,  19,  20,  21,  22,  23,  24,  25,  26,  27,  28,  29,\n",
              "        30,  31,  32,  33,  34,  35,  36,  37,  38,  39,  40,  41,  42,\n",
              "        43,  44,  45,  46,  47,  48,  49,  50,  51,  52,  53,  54,  55,\n",
              "        56,  57,  58,  59,  60,  61,  62,  63,  64,  65,  66,  67,  68,\n",
              "        69,  70,  71,  72,  73,  74,  75,  76,  77,  78,  79,  80,  81,\n",
              "        82,  83,  84,  85,  86,  87,  88,  89,  90,  91,  92,  93,  94,\n",
              "        95,  96,  97,  98,  99], dtype=int32)"
            ]
          },
          "metadata": {},
          "execution_count": 310
        }
      ]
    },
    {
      "cell_type": "code",
      "source": [
        "def square_without_changing_direction(x, pow) -> int:\n",
        "  if x >= 0:\n",
        "    return x ** pow\n",
        "  return (-1 * (x ** pow)) if (-1 * (x ** pow)) < 0 else (x ** pow)"
      ],
      "metadata": {
        "id": "NXuslQygPjoJ"
      },
      "execution_count": 311,
      "outputs": []
    },
    {
      "cell_type": "code",
      "source": [
        "vectorized_square_without_changing_direction = np.vectorize(square_without_changing_direction)\n",
        "z = vectorized_square_without_changing_direction(z, 4)\n",
        "z"
      ],
      "metadata": {
        "colab": {
          "base_uri": "https://localhost:8080/"
        },
        "id": "MMzCdRKQ6EQZ",
        "outputId": "5ae30f2e-e20e-44f9-db9c-51fd1f09de8b"
      },
      "execution_count": 312,
      "outputs": [
        {
          "output_type": "execute_result",
          "data": {
            "text/plain": [
              "array([-96059601, -92236816, -88529281, -84934656, -81450625, -78074896,\n",
              "       -74805201, -71639296, -68574961, -65610000, -62742241, -59969536,\n",
              "       -57289761, -54700816, -52200625, -49787136, -47458321, -45212176,\n",
              "       -43046721, -40960000, -38950081, -37015056, -35153041, -33362176,\n",
              "       -31640625, -29986576, -28398241, -26873856, -25411681, -24010000,\n",
              "       -22667121, -21381376, -20151121, -18974736, -17850625, -16777216,\n",
              "       -15752961, -14776336, -13845841, -12960000, -12117361, -11316496,\n",
              "       -10556001,  -9834496,  -9150625,  -8503056,  -7890481,  -7311616,\n",
              "        -6765201,  -6250000,  -5764801,  -5308416,  -4879681,  -4477456,\n",
              "        -4100625,  -3748096,  -3418801,  -3111696,  -2825761,  -2560000,\n",
              "        -2313441,  -2085136,  -1874161,  -1679616,  -1500625,  -1336336,\n",
              "        -1185921,  -1048576,   -923521,   -810000,   -707281,   -614656,\n",
              "         -531441,   -456976,   -390625,   -331776,   -279841,   -234256,\n",
              "         -194481,   -160000,   -130321,   -104976,    -83521,    -65536,\n",
              "          -50625,    -38416,    -28561,    -20736,    -14641,    -10000,\n",
              "           -6561,     -4096,     -2401,     -1296,      -625,      -256,\n",
              "             -81,       -16,        -1,         0,         0,         1,\n",
              "              16,        81,       256,       625,      1296,      2401,\n",
              "            4096,      6561,     10000,     14641,     20736,     28561,\n",
              "           38416,     50625,     65536,     83521,    104976,    130321,\n",
              "          160000,    194481,    234256,    279841,    331776,    390625,\n",
              "          456976,    531441,    614656,    707281,    810000,    923521,\n",
              "         1048576,   1185921,   1336336,   1500625,   1679616,   1874161,\n",
              "         2085136,   2313441,   2560000,   2825761,   3111696,   3418801,\n",
              "         3748096,   4100625,   4477456,   4879681,   5308416,   5764801,\n",
              "         6250000,   6765201,   7311616,   7890481,   8503056,   9150625,\n",
              "         9834496,  10556001,  11316496,  12117361,  12960000,  13845841,\n",
              "        14776336,  15752961,  16777216,  17850625,  18974736,  20151121,\n",
              "        21381376,  22667121,  24010000,  25411681,  26873856,  28398241,\n",
              "        29986576,  31640625,  33362176,  35153041,  37015056,  38950081,\n",
              "        40960000,  43046721,  45212176,  47458321,  49787136,  52200625,\n",
              "        54700816,  57289761,  59969536,  62742241,  65610000,  68574961,\n",
              "        71639296,  74805201,  78074896,  81450625,  84934656,  88529281,\n",
              "        92236816,  96059601])"
            ]
          },
          "metadata": {},
          "execution_count": 312
        }
      ]
    },
    {
      "cell_type": "code",
      "source": [
        "plt.plot(z)\n",
        "plt.show()"
      ],
      "metadata": {
        "colab": {
          "base_uri": "https://localhost:8080/",
          "height": 445
        },
        "id": "J_YSuH7UDbX0",
        "outputId": "5c3c059a-7abe-41cd-e0fc-988ae4e65983"
      },
      "execution_count": 313,
      "outputs": [
        {
          "output_type": "display_data",
          "data": {
            "text/plain": [
              "<Figure size 640x480 with 1 Axes>"
            ],
            "image/png": "[encoded data removed]"
          },
          "metadata": {}
        }
      ]
    },
    {
      "cell_type": "code",
      "source": [],
      "metadata": {
        "id": "oZmNnslaSbjc"
      },
      "execution_count": null,
      "outputs": []
    }
  ]
}