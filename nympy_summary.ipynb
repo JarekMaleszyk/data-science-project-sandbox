{
  "nbformat": 4,
  "nbformat_minor": 0,
  "metadata": {
    "colab": {
      "provenance": [],
      "authorship_tag": "ABX9TyOhVIJRwoTaDKbzufG3etCm",
      "include_colab_link": true
    },
    "kernelspec": {
      "name": "python3",
      "display_name": "Python 3"
    },
    "language_info": {
      "name": "python"
    }
  },
  "cells": [
    {
      "cell_type": "markdown",
      "metadata": {
        "id": "view-in-github",
        "colab_type": "text"
      },
      "source": [
        "<a href=\"https://colab.research.google.com/github/JarekMaleszyk/data-science-project-sandbox/blob/main/nympy_summary.ipynb\" target=\"_parent\"><img src=\"https://colab.research.google.com/assets/colab-badge.svg\" alt=\"Open In Colab\"/></a>"
      ]
    },
    {
      "cell_type": "code",
      "execution_count": 26,
      "metadata": {
        "colab": {
          "base_uri": "https://localhost:8080/"
        },
        "id": "QcqsRuEw1itM",
        "outputId": "d6f259f0-a7eb-4590-c349-3d8a1406633e"
      },
      "outputs": [
        {
          "output_type": "execute_result",
          "data": {
            "text/plain": [
              "6"
            ]
          },
          "metadata": {},
          "execution_count": 26
        }
      ],
      "source": [
        "import numpy as np\n",
        "\n",
        "list_a = [1,2,3,4,5,6]\n",
        "len(list_a)"
      ]
    },
    {
      "cell_type": "code",
      "source": [
        "array_a = np.array([1,2,3,4,5,6])\n",
        "len(list_a)\n",
        "len(array_a)"
      ],
      "metadata": {
        "colab": {
          "base_uri": "https://localhost:8080/"
        },
        "id": "_e5oYjaN2bEc",
        "outputId": "827ab8d0-803e-400a-a7f2-94363ec4655f"
      },
      "execution_count": 27,
      "outputs": [
        {
          "output_type": "execute_result",
          "data": {
            "text/plain": [
              "6"
            ]
          },
          "metadata": {},
          "execution_count": 27
        }
      ]
    },
    {
      "cell_type": "code",
      "source": [
        "array_a = np.array([1,2,3,4,5,6])\n",
        "len(list_a)"
      ],
      "metadata": {
        "colab": {
          "base_uri": "https://localhost:8080/"
        },
        "id": "TjOutNhf2ocZ",
        "outputId": "ede117ba-0322-4d6b-996c-75f6e677c748"
      },
      "execution_count": 28,
      "outputs": [
        {
          "output_type": "execute_result",
          "data": {
            "text/plain": [
              "6"
            ]
          },
          "metadata": {},
          "execution_count": 28
        }
      ]
    },
    {
      "cell_type": "code",
      "source": [
        "array_b = np.array([[1,2,3],[4,5,6]])\n",
        "len(array_b)"
      ],
      "metadata": {
        "colab": {
          "base_uri": "https://localhost:8080/"
        },
        "id": "07ZWP4t121Of",
        "outputId": "a0d70ee6-a823-43e5-d080-ccdd37e2a398"
      },
      "execution_count": 29,
      "outputs": [
        {
          "output_type": "execute_result",
          "data": {
            "text/plain": [
              "2"
            ]
          },
          "metadata": {},
          "execution_count": 29
        }
      ]
    },
    {
      "cell_type": "code",
      "source": [
        "print(type(list_a))\n",
        "print(type(array_a))\n",
        "print(type(array_b))"
      ],
      "metadata": {
        "colab": {
          "base_uri": "https://localhost:8080/"
        },
        "id": "gFvNB4wU2_iP",
        "outputId": "2868f436-bcf7-41d6-ff6b-1a44e7a6d000"
      },
      "execution_count": 30,
      "outputs": [
        {
          "output_type": "stream",
          "name": "stdout",
          "text": [
            "<class 'list'>\n",
            "<class 'numpy.ndarray'>\n",
            "<class 'numpy.ndarray'>\n"
          ]
        }
      ]
    },
    {
      "cell_type": "code",
      "source": [
        "print(array_b)"
      ],
      "metadata": {
        "colab": {
          "base_uri": "https://localhost:8080/"
        },
        "id": "BYZXiXXZ3SUO",
        "outputId": "d28198b4-7d7e-424d-9cda-d6e7f65b3f10"
      },
      "execution_count": 31,
      "outputs": [
        {
          "output_type": "stream",
          "name": "stdout",
          "text": [
            "[[1 2 3]\n",
            " [4 5 6]]\n"
          ]
        }
      ]
    },
    {
      "cell_type": "code",
      "source": [
        "try:\n",
        "  list_a.shape\n",
        "except AttributeError:\n",
        "  print(\"List: list_b has no shape\")"
      ],
      "metadata": {
        "colab": {
          "base_uri": "https://localhost:8080/"
        },
        "id": "sUCr0XaO3cf_",
        "outputId": "244c70af-8e93-4db7-e4ca-dab532505070"
      },
      "execution_count": 32,
      "outputs": [
        {
          "output_type": "stream",
          "name": "stdout",
          "text": [
            "List: list_b has no shape\n"
          ]
        }
      ]
    },
    {
      "cell_type": "code",
      "source": [
        "array_b.shape"
      ],
      "metadata": {
        "colab": {
          "base_uri": "https://localhost:8080/"
        },
        "id": "VLpucPR43ezR",
        "outputId": "18b1ebbf-936b-4ecf-d5c5-da3c31b902f3"
      },
      "execution_count": 33,
      "outputs": [
        {
          "output_type": "execute_result",
          "data": {
            "text/plain": [
              "(2, 3)"
            ]
          },
          "metadata": {},
          "execution_count": 33
        }
      ]
    },
    {
      "cell_type": "code",
      "source": [
        "list_c = list_a[0] + list_a[1]\n",
        "print(list_c)\n",
        "array_c = array_b[0] + array_b[1]\n",
        "print(array_c)"
      ],
      "metadata": {
        "colab": {
          "base_uri": "https://localhost:8080/"
        },
        "id": "9Jxxm2R53hF5",
        "outputId": "8a6f546f-7fc3-4b18-e6d9-5a6c67913c10"
      },
      "execution_count": 34,
      "outputs": [
        {
          "output_type": "stream",
          "name": "stdout",
          "text": [
            "3\n",
            "[5 7 9]\n"
          ]
        }
      ]
    },
    {
      "cell_type": "code",
      "source": [
        "array_b[1:, -1:]"
      ],
      "metadata": {
        "id": "lO56oJsc-c1B",
        "colab": {
          "base_uri": "https://localhost:8080/"
        },
        "outputId": "7efd66f1-a0a0-4fbc-9771-67171ba2a41a"
      },
      "execution_count": 35,
      "outputs": [
        {
          "output_type": "execute_result",
          "data": {
            "text/plain": [
              "array([[6]])"
            ]
          },
          "metadata": {},
          "execution_count": 35
        }
      ]
    },
    {
      "cell_type": "code",
      "source": [
        "rn = np.random.randn(1)\n",
        "\n",
        "rn"
      ],
      "metadata": {
        "id": "pvECN02QLyQn",
        "colab": {
          "base_uri": "https://localhost:8080/"
        },
        "outputId": "fc17c337-991a-4453-b2fb-669aa5c119ea"
      },
      "execution_count": 36,
      "outputs": [
        {
          "output_type": "execute_result",
          "data": {
            "text/plain": [
              "array([1.69016422])"
            ]
          },
          "metadata": {},
          "execution_count": 36
        }
      ]
    },
    {
      "cell_type": "code",
      "source": [
        "d = np.arange('2002-10-27T04:30', 240, 60, dtype='M8[m]')\n",
        "d\n"
      ],
      "metadata": {
        "colab": {
          "base_uri": "https://localhost:8080/"
        },
        "id": "tZIwsjI_OXDQ",
        "outputId": "85780e1c-3063-4b32-a986-6e8b17cc6663"
      },
      "execution_count": 37,
      "outputs": [
        {
          "output_type": "execute_result",
          "data": {
            "text/plain": [
              "array(['2002-10-27T04:30', '2002-10-27T05:30', '2002-10-27T06:30',\n",
              "       '2002-10-27T07:30'], dtype='datetime64[m]')"
            ]
          },
          "metadata": {},
          "execution_count": 37
        }
      ]
    },
    {
      "cell_type": "code",
      "source": [
        "np.datetime_as_string(d, timezone='UTC')"
      ],
      "metadata": {
        "colab": {
          "base_uri": "https://localhost:8080/"
        },
        "id": "ha5der5KO8Vr",
        "outputId": "6b522b88-5247-4bbc-a58a-c0de77656eaa"
      },
      "execution_count": 38,
      "outputs": [
        {
          "output_type": "execute_result",
          "data": {
            "text/plain": [
              "array(['2002-10-27T04:30Z', '2002-10-27T05:30Z', '2002-10-27T06:30Z',\n",
              "       '2002-10-27T07:30Z'], dtype='<U35')"
            ]
          },
          "metadata": {},
          "execution_count": 38
        }
      ]
    },
    {
      "cell_type": "code",
      "source": [
        "import pytz\n",
        "np.datetime_as_string(d, timezone=pytz.timezone('US/Eastern'))"
      ],
      "metadata": {
        "colab": {
          "base_uri": "https://localhost:8080/"
        },
        "id": "x2xhti0uPDRs",
        "outputId": "352c86c6-716b-4be7-d496-f0b7fb3fe290"
      },
      "execution_count": 39,
      "outputs": [
        {
          "output_type": "execute_result",
          "data": {
            "text/plain": [
              "array(['2002-10-27T00:30-0400', '2002-10-27T01:30-0400',\n",
              "       '2002-10-27T01:30-0500', '2002-10-27T02:30-0500'], dtype='<U39')"
            ]
          },
          "metadata": {},
          "execution_count": 39
        }
      ]
    },
    {
      "cell_type": "code",
      "source": [
        "\n",
        "array_a = np.array([1,2,3,4,5,6])\n",
        "array_b = np.array([7,8,9,10,11,12])\n",
        "\n",
        "\n",
        "array_c = np.array([array_a, array_b])\n",
        "print(array_c)\n",
        "\n",
        "array_c[0:1, 3:4] = 100 #górny zakres wycinania się nie liczy\n",
        "print(array_c)"
      ],
      "metadata": {
        "colab": {
          "base_uri": "https://localhost:8080/"
        },
        "id": "RsNUrZUXuUgt",
        "outputId": "003d8153-496d-4079-fea2-5a69b056bfda"
      },
      "execution_count": 45,
      "outputs": [
        {
          "output_type": "stream",
          "name": "stdout",
          "text": [
            "[[ 1  2  3  4  5  6]\n",
            " [ 7  8  9 10 11 12]]\n",
            "[[  1   2   3 100   5   6]\n",
            " [  7   8   9  10  11  12]]\n"
          ]
        }
      ]
    },
    {
      "cell_type": "code",
      "source": [
        "array_c[0:2, 3:5] = 100 #górny zakres wycinania się nie liczy\n",
        "print(array_c)"
      ],
      "metadata": {
        "colab": {
          "base_uri": "https://localhost:8080/"
        },
        "id": "qXinlUi8vEuY",
        "outputId": "72045ad9-8d54-4480-a937-d19b01128d9d"
      },
      "execution_count": 46,
      "outputs": [
        {
          "output_type": "stream",
          "name": "stdout",
          "text": [
            "[[  1   2   3 100 100   6]\n",
            " [  7   8   9 100 100  12]]\n"
          ]
        }
      ]
    },
    {
      "cell_type": "code",
      "source": [
        "a = np.array([1,2,3,4,5,6])\n",
        "b = a * np.array([2,0,2,0,2,0])\n",
        "print(b)"
      ],
      "metadata": {
        "colab": {
          "base_uri": "https://localhost:8080/"
        },
        "id": "APLBZ1e3w07j",
        "outputId": "87db57e1-1a4e-47af-f4df-9ddb573442fb"
      },
      "execution_count": 49,
      "outputs": [
        {
          "output_type": "stream",
          "name": "stdout",
          "text": [
            "[ 2  0  6  0 10  0]\n"
          ]
        }
      ]
    },
    {
      "cell_type": "code",
      "source": [
        "x = np.array([[1,2,3], [4,5,6], [7,8,9], [10,11,12]])\n",
        "y = np.array([1,0,1])\n",
        "\n",
        "c = x + y #broadcasting\n",
        "\n",
        "print(c)"
      ],
      "metadata": {
        "colab": {
          "base_uri": "https://localhost:8080/"
        },
        "id": "Px4TGmhLzBDP",
        "outputId": "afdf045c-6bed-4c32-8d4c-8c68e36f6a26"
      },
      "execution_count": 52,
      "outputs": [
        {
          "output_type": "stream",
          "name": "stdout",
          "text": [
            "[[ 2  2  4]\n",
            " [ 5  5  7]\n",
            " [ 8  8 10]\n",
            " [11 11 13]]\n"
          ]
        }
      ]
    },
    {
      "cell_type": "code",
      "source": [
        "l1 = [1,2,3,4,5,6,4,3,2,0]\n",
        "l2 = [7,8,9,4,11,12,3,5,0,0]\n",
        "print(\"###################################\")\n",
        "print(l1 == l2)\n",
        "print(l1 > l2)\n",
        "print(l1 >= l2)\n",
        "print(l1 < l2)\n",
        "print(l1 != l2)\n",
        "\n",
        "a1 = np.array(l1)\n",
        "a2 = np.array(l2)\n",
        "print(\"###################################\")\n",
        "print(a1 == a2)\n",
        "print(a1 > a2)\n",
        "print(a1 >= a2)\n",
        "print(a1 < a2)\n",
        "print(a1 != a2)\n",
        "print(\"###################################flatnonzero\")\n",
        "print(np.flatnonzero(a1 == a2))\n",
        "print(np.flatnonzero(a1 != a2))\n",
        "print(\"###################################where\")\n",
        "print(np.where(a1 == a2))\n",
        "print(np.where(a1 != a2))\n",
        "print(\"###################################nonzero\")\n",
        "print(np.nonzero(a1 == a2))\n",
        "print(np.nonzero(a1 != a2))"
      ],
      "metadata": {
        "colab": {
          "base_uri": "https://localhost:8080/"
        },
        "id": "CpCiGBI81JUD",
        "outputId": "384bcadf-0165-4c9d-9025-8c5e2d021116"
      },
      "execution_count": 62,
      "outputs": [
        {
          "output_type": "stream",
          "name": "stdout",
          "text": [
            "###################################\n",
            "False\n",
            "False\n",
            "False\n",
            "True\n",
            "True\n",
            "###################################\n",
            "[False False False  True False False False False False  True]\n",
            "[False False False False False False  True False  True False]\n",
            "[False False False  True False False  True False  True  True]\n",
            "[ True  True  True False  True  True False  True False False]\n",
            "[ True  True  True False  True  True  True  True  True False]\n",
            "###################################flatnonzero\n",
            "[3 9]\n",
            "[0 1 2 4 5 6 7 8]\n",
            "###################################where\n",
            "(array([3, 9]),)\n",
            "(array([0, 1, 2, 4, 5, 6, 7, 8]),)\n",
            "###################################nonzero\n",
            "(array([3, 9]),)\n",
            "(array([0, 1, 2, 4, 5, 6, 7, 8]),)\n"
          ]
        }
      ]
    },
    {
      "cell_type": "code",
      "source": [
        "b = np.array([[1,2,3],[4,5,6],[4,3,2]])\n",
        "bool_inx = b > 2\n",
        "print(bool_inx)\n",
        "print(b[bool_inx])\n",
        "print(b[b > 2])"
      ],
      "metadata": {
        "colab": {
          "base_uri": "https://localhost:8080/"
        },
        "id": "bZlxj0XC4hXo",
        "outputId": "173e2b9e-15dc-4a4e-d550-6fac6908d0c0"
      },
      "execution_count": 57,
      "outputs": [
        {
          "output_type": "stream",
          "name": "stdout",
          "text": [
            "[[False False  True]\n",
            " [ True  True  True]\n",
            " [ True  True False]]\n",
            "[3 4 5 6 4 3]\n",
            "[3 4 5 6 4 3]\n"
          ]
        }
      ]
    },
    {
      "cell_type": "code",
      "source": [
        "t = np.array([[1,2,3],[4,5,6],[4,3,2]])\n",
        "bool_inx = ~(t > 2)\n",
        "print(bool_inx)\n",
        "print(t[bool_inx])\n",
        "print(t[~(t > 2)])"
      ],
      "metadata": {
        "colab": {
          "base_uri": "https://localhost:8080/"
        },
        "id": "ya_0NjFZ5gOy",
        "outputId": "497db065-83c5-4829-fc64-66c0e45e9c6f"
      },
      "execution_count": 60,
      "outputs": [
        {
          "output_type": "stream",
          "name": "stdout",
          "text": [
            "[[ True  True False]\n",
            " [False False False]\n",
            " [False False  True]]\n",
            "[1 2 2]\n",
            "[1 2 2]\n"
          ]
        }
      ]
    },
    {
      "cell_type": "code",
      "source": [
        "f = np.array([10,20,30,40,50,60])\n",
        "i = f[[3,4,5]]\n",
        "print(i)"
      ],
      "metadata": {
        "colab": {
          "base_uri": "https://localhost:8080/"
        },
        "id": "i-yeJ_QG55DL",
        "outputId": "ba421fa4-2f40-40f0-e0f1-c17a60b9dad5"
      },
      "execution_count": 61,
      "outputs": [
        {
          "output_type": "stream",
          "name": "stdout",
          "text": [
            "[40 50 60]\n"
          ]
        }
      ]
    },
    {
      "cell_type": "code",
      "source": [
        "numbers = np.array([1,2,3,4,5,6,7,8,9,10])\n",
        "print(\"###################################flatnonzero\")\n",
        "even_inxs1 = np.flatnonzero(numbers % 2 == 0)\n",
        "\n",
        "print(even_inxs1)\n",
        "even_numbers1 = numbers[even_inxs1]\n",
        "\n",
        "print(even_numbers1)\n",
        "print(\"###################################flatten\")\n",
        "even_inxs2 = np.argwhere(numbers % 2 == 0).flatten()\n",
        "\n",
        "print(even_inxs2)\n",
        "even_numbers2 = numbers[even_inxs2]\n",
        "\n",
        "print(even_numbers2)"
      ],
      "metadata": {
        "colab": {
          "base_uri": "https://localhost:8080/"
        },
        "id": "uTZFsc3u6pou",
        "outputId": "65b14199-8150-4fb4-8c49-ad2fbbe23d38"
      },
      "execution_count": 65,
      "outputs": [
        {
          "output_type": "stream",
          "name": "stdout",
          "text": [
            "###################################flatnonzero\n",
            "[1 3 5 7 9]\n",
            "[ 2  4  6  8 10]\n",
            "###################################flatten\n",
            "[1 3 5 7 9]\n",
            "[ 2  4  6  8 10]\n"
          ]
        }
      ]
    },
    {
      "cell_type": "code",
      "source": [
        "scores = np.array([70, 40, 30, 20, 90, 110])\n",
        "names = np.array([\"Bob\", \"Liz\", \"Pat\", \"Robin\", \"George\", \"Jessie\"])\n",
        "\n",
        "inxs = np.argsort(scores) #sortowanie\n",
        "print(inxs)\n",
        "print(scores[inxs])\n",
        "print(names[inxs])\n",
        "inxs = inxs[::-1]\n",
        "print(scores[inxs])\n",
        "print(names[inxs])"
      ],
      "metadata": {
        "colab": {
          "base_uri": "https://localhost:8080/"
        },
        "id": "s6hXFFjs_-ep",
        "outputId": "23d4ad31-c1ae-4e58-b64e-5e6d5a984670"
      },
      "execution_count": 71,
      "outputs": [
        {
          "output_type": "stream",
          "name": "stdout",
          "text": [
            "[3 2 1 0 4 5]\n",
            "[ 20  30  40  70  90 110]\n",
            "['Robin' 'Pat' 'Liz' 'Bob' 'George' 'Jessie']\n",
            "[110  90  70  40  30  20]\n",
            "['Jessie' 'George' 'Bob' 'Liz' 'Pat' 'Robin']\n"
          ]
        }
      ]
    }
  ]
}