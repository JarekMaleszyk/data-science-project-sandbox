{
  "nbformat": 4,
  "nbformat_minor": 0,
  "metadata": {
    "colab": {
      "provenance": [],
      "authorship_tag": "ABX9TyPWHX3k2l7B8jKetMcClGSf",
      "include_colab_link": true
    },
    "kernelspec": {
      "name": "python3",
      "display_name": "Python 3"
    },
    "language_info": {
      "name": "python"
    }
  },
  "cells": [
    {
      "cell_type": "markdown",
      "metadata": {
        "id": "view-in-github",
        "colab_type": "text"
      },
      "source": [
        "<a href=\"https://colab.research.google.com/github/JarekMaleszyk/data-science-project-sandbox/blob/main/numpy_basics.ipynb\" target=\"_parent\"><img src=\"https://colab.research.google.com/assets/colab-badge.svg\" alt=\"Open In Colab\"/></a>"
      ]
    },
    {
      "cell_type": "code",
      "execution_count": 1,
      "metadata": {
        "id": "uCIMu1Y2XxcC"
      },
      "outputs": [],
      "source": [
        "import numpy as np"
      ]
    },
    {
      "cell_type": "code",
      "source": [
        "zeros = np.zeros((10,10))\n",
        "print(zeros)"
      ],
      "metadata": {
        "colab": {
          "base_uri": "https://localhost:8080/"
        },
        "id": "qQWYH6S4X3Z4",
        "outputId": "7c6ecf39-6893-4424-a901-02972fbd02a6"
      },
      "execution_count": 3,
      "outputs": [
        {
          "output_type": "stream",
          "name": "stdout",
          "text": [
            "[[0. 0. 0. 0. 0. 0. 0. 0. 0. 0.]\n",
            " [0. 0. 0. 0. 0. 0. 0. 0. 0. 0.]\n",
            " [0. 0. 0. 0. 0. 0. 0. 0. 0. 0.]\n",
            " [0. 0. 0. 0. 0. 0. 0. 0. 0. 0.]\n",
            " [0. 0. 0. 0. 0. 0. 0. 0. 0. 0.]\n",
            " [0. 0. 0. 0. 0. 0. 0. 0. 0. 0.]\n",
            " [0. 0. 0. 0. 0. 0. 0. 0. 0. 0.]\n",
            " [0. 0. 0. 0. 0. 0. 0. 0. 0. 0.]\n",
            " [0. 0. 0. 0. 0. 0. 0. 0. 0. 0.]\n",
            " [0. 0. 0. 0. 0. 0. 0. 0. 0. 0.]]\n"
          ]
        }
      ]
    },
    {
      "cell_type": "code",
      "source": [
        "zeros.shape"
      ],
      "metadata": {
        "colab": {
          "base_uri": "https://localhost:8080/"
        },
        "id": "kwZgXxWyX9Tx",
        "outputId": "5f859cc6-1794-470f-cace-c48a1f180770"
      },
      "execution_count": 4,
      "outputs": [
        {
          "output_type": "execute_result",
          "data": {
            "text/plain": [
              "(10, 10)"
            ]
          },
          "metadata": {},
          "execution_count": 4
        }
      ]
    },
    {
      "cell_type": "code",
      "source": [
        "inx = [0,0]\n",
        "inx[0] = np.random.randint(0,10)\n",
        "inx[1] = np.random.randint(0,10)\n",
        "zeros[inx[0],inx[1]] = 1\n",
        "print(zeros)"
      ],
      "metadata": {
        "colab": {
          "base_uri": "https://localhost:8080/"
        },
        "id": "OUV7Kr5WYKYJ",
        "outputId": "5e66c9b5-40ce-47c9-b1a5-cc2c0af26db5"
      },
      "execution_count": 9,
      "outputs": [
        {
          "output_type": "stream",
          "name": "stdout",
          "text": [
            "[[0. 0. 0. 0. 0. 0. 0. 0. 0. 0.]\n",
            " [0. 0. 0. 0. 0. 0. 0. 0. 0. 0.]\n",
            " [0. 0. 0. 0. 0. 1. 0. 0. 0. 0.]\n",
            " [0. 0. 0. 0. 0. 0. 0. 0. 0. 1.]\n",
            " [0. 0. 0. 0. 0. 0. 0. 0. 0. 0.]\n",
            " [0. 0. 0. 0. 0. 0. 0. 0. 0. 0.]\n",
            " [0. 0. 0. 0. 0. 0. 0. 0. 0. 0.]\n",
            " [0. 0. 1. 0. 1. 0. 0. 0. 0. 0.]\n",
            " [0. 0. 1. 0. 0. 0. 0. 0. 0. 0.]\n",
            " [0. 0. 0. 0. 0. 0. 0. 0. 0. 0.]]\n"
          ]
        }
      ]
    },
    {
      "cell_type": "code",
      "source": [
        "ones = np.ones((10,10))\n",
        "print(ones)"
      ],
      "metadata": {
        "colab": {
          "base_uri": "https://localhost:8080/"
        },
        "id": "uWyNRDoQZd-G",
        "outputId": "df6561da-e5a2-48e6-b492-6ad464117a87"
      },
      "execution_count": 21,
      "outputs": [
        {
          "output_type": "stream",
          "name": "stdout",
          "text": [
            "[[1. 1. 1. 1. 1. 1. 1. 1. 1. 1.]\n",
            " [1. 1. 1. 1. 1. 1. 1. 1. 1. 1.]\n",
            " [1. 1. 1. 1. 1. 1. 1. 1. 1. 1.]\n",
            " [1. 1. 1. 1. 1. 1. 1. 1. 1. 1.]\n",
            " [1. 1. 1. 1. 1. 1. 1. 1. 1. 1.]\n",
            " [1. 1. 1. 1. 1. 1. 1. 1. 1. 1.]\n",
            " [1. 1. 1. 1. 1. 1. 1. 1. 1. 1.]\n",
            " [1. 1. 1. 1. 1. 1. 1. 1. 1. 1.]\n",
            " [1. 1. 1. 1. 1. 1. 1. 1. 1. 1.]\n",
            " [1. 1. 1. 1. 1. 1. 1. 1. 1. 1.]]\n"
          ]
        }
      ]
    },
    {
      "cell_type": "code",
      "source": [
        "# ones[0,:] = 0\n",
        "# ones[-1,:] = 0\n",
        "# ones[:,0] = 0\n",
        "# ones[:,-1] = 0\n",
        "print(ones.flatten().reshape(20,5))"
      ],
      "metadata": {
        "colab": {
          "base_uri": "https://localhost:8080/"
        },
        "id": "HL445EjCZlSC",
        "outputId": "3f426074-c28d-437c-94b5-c86d2027437d"
      },
      "execution_count": 36,
      "outputs": [
        {
          "output_type": "stream",
          "name": "stdout",
          "text": [
            "[[1. 1. 1. 1. 1.]\n",
            " [1. 1. 1. 1. 1.]\n",
            " [1. 1. 1. 1. 1.]\n",
            " [1. 1. 1. 1. 1.]\n",
            " [1. 1. 1. 1. 1.]\n",
            " [1. 1. 1. 1. 1.]\n",
            " [1. 1. 1. 1. 1.]\n",
            " [1. 1. 1. 1. 1.]\n",
            " [1. 1. 1. 1. 1.]\n",
            " [1. 1. 1. 1. 1.]\n",
            " [1. 1. 1. 1. 1.]\n",
            " [1. 1. 1. 1. 1.]\n",
            " [1. 1. 1. 1. 1.]\n",
            " [1. 1. 1. 1. 1.]\n",
            " [1. 1. 1. 1. 1.]\n",
            " [1. 1. 1. 1. 1.]\n",
            " [1. 1. 1. 1. 1.]\n",
            " [1. 1. 1. 1. 1.]\n",
            " [1. 1. 1. 1. 1.]\n",
            " [1. 1. 1. 1. 1.]]\n"
          ]
        }
      ]
    },
    {
      "cell_type": "code",
      "source": [
        "arr = np.arange(10, 300, 5.2, dtype=float)\n",
        "print(arr)"
      ],
      "metadata": {
        "colab": {
          "base_uri": "https://localhost:8080/"
        },
        "id": "P_aHa-KEcDJb",
        "outputId": "8b41949d-0f4e-4277-d0c8-4091ed9eb3be"
      },
      "execution_count": 48,
      "outputs": [
        {
          "output_type": "stream",
          "name": "stdout",
          "text": [
            "[ 10.   15.2  20.4  25.6  30.8  36.   41.2  46.4  51.6  56.8  62.   67.2\n",
            "  72.4  77.6  82.8  88.   93.2  98.4 103.6 108.8 114.  119.2 124.4 129.6\n",
            " 134.8 140.  145.2 150.4 155.6 160.8 166.  171.2 176.4 181.6 186.8 192.\n",
            " 197.2 202.4 207.6 212.8 218.  223.2 228.4 233.6 238.8 244.  249.2 254.4\n",
            " 259.6 264.8 270.  275.2 280.4 285.6 290.8 296. ]\n"
          ]
        }
      ]
    },
    {
      "cell_type": "code",
      "source": [
        "lin = np.linspace(0, 1, 100, endpoint=False, retstep=False, dtype=float, axis=0)\n",
        "print(lin)"
      ],
      "metadata": {
        "colab": {
          "base_uri": "https://localhost:8080/"
        },
        "id": "ijg6BgEedFMf",
        "outputId": "f7fef848-1ac5-4215-c400-f01c493f67b5"
      },
      "execution_count": 55,
      "outputs": [
        {
          "output_type": "stream",
          "name": "stdout",
          "text": [
            "[0.   0.01 0.02 0.03 0.04 0.05 0.06 0.07 0.08 0.09 0.1  0.11 0.12 0.13\n",
            " 0.14 0.15 0.16 0.17 0.18 0.19 0.2  0.21 0.22 0.23 0.24 0.25 0.26 0.27\n",
            " 0.28 0.29 0.3  0.31 0.32 0.33 0.34 0.35 0.36 0.37 0.38 0.39 0.4  0.41\n",
            " 0.42 0.43 0.44 0.45 0.46 0.47 0.48 0.49 0.5  0.51 0.52 0.53 0.54 0.55\n",
            " 0.56 0.57 0.58 0.59 0.6  0.61 0.62 0.63 0.64 0.65 0.66 0.67 0.68 0.69\n",
            " 0.7  0.71 0.72 0.73 0.74 0.75 0.76 0.77 0.78 0.79 0.8  0.81 0.82 0.83\n",
            " 0.84 0.85 0.86 0.87 0.88 0.89 0.9  0.91 0.92 0.93 0.94 0.95 0.96 0.97\n",
            " 0.98 0.99]\n"
          ]
        }
      ]
    },
    {
      "cell_type": "code",
      "source": [
        "char = np.full((15,10), '^', dtype=str)\n",
        "print(char)"
      ],
      "metadata": {
        "colab": {
          "base_uri": "https://localhost:8080/"
        },
        "id": "b7Cjv8VBfn9a",
        "outputId": "95281894-dbe6-48e0-a817-a692b5e9f44c"
      },
      "execution_count": 62,
      "outputs": [
        {
          "output_type": "stream",
          "name": "stdout",
          "text": [
            "[['^' '^' '^' '^' '^' '^' '^' '^' '^' '^']\n",
            " ['^' '^' '^' '^' '^' '^' '^' '^' '^' '^']\n",
            " ['^' '^' '^' '^' '^' '^' '^' '^' '^' '^']\n",
            " ['^' '^' '^' '^' '^' '^' '^' '^' '^' '^']\n",
            " ['^' '^' '^' '^' '^' '^' '^' '^' '^' '^']\n",
            " ['^' '^' '^' '^' '^' '^' '^' '^' '^' '^']\n",
            " ['^' '^' '^' '^' '^' '^' '^' '^' '^' '^']\n",
            " ['^' '^' '^' '^' '^' '^' '^' '^' '^' '^']\n",
            " ['^' '^' '^' '^' '^' '^' '^' '^' '^' '^']\n",
            " ['^' '^' '^' '^' '^' '^' '^' '^' '^' '^']\n",
            " ['^' '^' '^' '^' '^' '^' '^' '^' '^' '^']\n",
            " ['^' '^' '^' '^' '^' '^' '^' '^' '^' '^']\n",
            " ['^' '^' '^' '^' '^' '^' '^' '^' '^' '^']\n",
            " ['^' '^' '^' '^' '^' '^' '^' '^' '^' '^']\n",
            " ['^' '^' '^' '^' '^' '^' '^' '^' '^' '^']]\n"
          ]
        }
      ]
    },
    {
      "cell_type": "code",
      "source": [
        "char2 = np.full_like(char, 'v')\n",
        "print(char2)"
      ],
      "metadata": {
        "colab": {
          "base_uri": "https://localhost:8080/"
        },
        "id": "UBRBYaCBgBEW",
        "outputId": "413860b0-7668-4db5-ecd5-c0f8d191a218"
      },
      "execution_count": 63,
      "outputs": [
        {
          "output_type": "stream",
          "name": "stdout",
          "text": [
            "[['v' 'v' 'v' 'v' 'v' 'v' 'v' 'v' 'v' 'v']\n",
            " ['v' 'v' 'v' 'v' 'v' 'v' 'v' 'v' 'v' 'v']\n",
            " ['v' 'v' 'v' 'v' 'v' 'v' 'v' 'v' 'v' 'v']\n",
            " ['v' 'v' 'v' 'v' 'v' 'v' 'v' 'v' 'v' 'v']\n",
            " ['v' 'v' 'v' 'v' 'v' 'v' 'v' 'v' 'v' 'v']\n",
            " ['v' 'v' 'v' 'v' 'v' 'v' 'v' 'v' 'v' 'v']\n",
            " ['v' 'v' 'v' 'v' 'v' 'v' 'v' 'v' 'v' 'v']\n",
            " ['v' 'v' 'v' 'v' 'v' 'v' 'v' 'v' 'v' 'v']\n",
            " ['v' 'v' 'v' 'v' 'v' 'v' 'v' 'v' 'v' 'v']\n",
            " ['v' 'v' 'v' 'v' 'v' 'v' 'v' 'v' 'v' 'v']\n",
            " ['v' 'v' 'v' 'v' 'v' 'v' 'v' 'v' 'v' 'v']\n",
            " ['v' 'v' 'v' 'v' 'v' 'v' 'v' 'v' 'v' 'v']\n",
            " ['v' 'v' 'v' 'v' 'v' 'v' 'v' 'v' 'v' 'v']\n",
            " ['v' 'v' 'v' 'v' 'v' 'v' 'v' 'v' 'v' 'v']\n",
            " ['v' 'v' 'v' 'v' 'v' 'v' 'v' 'v' 'v' 'v']]\n"
          ]
        }
      ]
    },
    {
      "cell_type": "code",
      "source": [
        "eye = np.eye(10, 13, 3, dtype=int, order='C')\n",
        "print(eye)"
      ],
      "metadata": {
        "colab": {
          "base_uri": "https://localhost:8080/"
        },
        "id": "wcTYoazagfQx",
        "outputId": "00349eee-7fc6-48f7-848d-f8f6abae74d1"
      },
      "execution_count": 82,
      "outputs": [
        {
          "output_type": "stream",
          "name": "stdout",
          "text": [
            "[[0 0 0 1 0 0 0 0 0 0 0 0 0]\n",
            " [0 0 0 0 1 0 0 0 0 0 0 0 0]\n",
            " [0 0 0 0 0 1 0 0 0 0 0 0 0]\n",
            " [0 0 0 0 0 0 1 0 0 0 0 0 0]\n",
            " [0 0 0 0 0 0 0 1 0 0 0 0 0]\n",
            " [0 0 0 0 0 0 0 0 1 0 0 0 0]\n",
            " [0 0 0 0 0 0 0 0 0 1 0 0 0]\n",
            " [0 0 0 0 0 0 0 0 0 0 1 0 0]\n",
            " [0 0 0 0 0 0 0 0 0 0 0 1 0]\n",
            " [0 0 0 0 0 0 0 0 0 0 0 0 1]]\n"
          ]
        }
      ]
    },
    {
      "cell_type": "code",
      "source": [
        "empty = np.empty((4,4))\n",
        "print(empty)"
      ],
      "metadata": {
        "colab": {
          "base_uri": "https://localhost:8080/"
        },
        "id": "feo8C8OBheIs",
        "outputId": "e429af82-2a90-4ca7-9f14-0c137a563eec"
      },
      "execution_count": 84,
      "outputs": [
        {
          "output_type": "stream",
          "name": "stdout",
          "text": [
            "[[4.68858532e-310 0.00000000e+000 6.86425401e-310 6.86425393e-310]\n",
            " [6.86425393e-310 6.86425393e-310 5.09233928e+246 4.00193173e-322]\n",
            " [4.68755366e-310 6.86425467e-310 1.23971686e+224 1.05162885e-153]\n",
            " [9.03292329e+271 9.08366793e+223 1.06244660e-153 3.44981369e+175]]\n"
          ]
        }
      ]
    },
    {
      "cell_type": "code",
      "source": [
        "i = np.int64\n",
        "f = np.float32\n",
        "c = np.complex64\n",
        "b = np.bool_\n",
        "o = np.object_\n",
        "s = np.string_\n",
        "u = np.unicode_\n",
        "v = np.void\n",
        "print(i, f, c, b, o, s, u, v)\n",
        "print(np.array([1, 2, 3, 4, 5, 6, 7, 8, 9, 0], dtype='int64'))\n",
        "print(np.array([1, 2, 3, 4, 5, 6, 7, 8, 9, 0], dtype='float32'))\n",
        "print(np.array([1, 2, 3, 4, 5, 6, 7, 8, 9, 0], dtype='complex64'))\n",
        "print(np.array([1, 2, 3, 4, 5, 6, 7, 8, 9, 0], dtype='bool_'))\n",
        "print(np.array([1, 2, 3, 4, 5, 6, 7, 8, 9, 0], dtype='object_'))\n",
        "print(np.array([1, 2, 3, 4, 5, 6, 7, 8, 9, 0], dtype='string_'))\n",
        "print(np.array([1, 2, 3, 4, 5, 6, 7, 8, 9, 0], dtype='unicode_'))"
      ],
      "metadata": {
        "colab": {
          "base_uri": "https://localhost:8080/"
        },
        "id": "WHz1wNjnp6Ai",
        "outputId": "e82dde92-31c5-4c90-fc08-6e82101eb3d2"
      },
      "execution_count": 97,
      "outputs": [
        {
          "output_type": "stream",
          "name": "stdout",
          "text": [
            "<class 'numpy.int64'> <class 'numpy.float32'> <class 'numpy.complex64'> <class 'numpy.bool_'> <class 'numpy.object_'> <class 'numpy.bytes_'> <class 'numpy.str_'> <class 'numpy.void'>\n",
            "[1 2 3 4 5 6 7 8 9 0]\n",
            "[1. 2. 3. 4. 5. 6. 7. 8. 9. 0.]\n",
            "[1.+0.j 2.+0.j 3.+0.j 4.+0.j 5.+0.j 6.+0.j 7.+0.j 8.+0.j 9.+0.j 0.+0.j]\n",
            "[ True  True  True  True  True  True  True  True  True False]\n",
            "[1 2 3 4 5 6 7 8 9 0]\n",
            "[b'1' b'2' b'3' b'4' b'5' b'6' b'7' b'8' b'9' b'0']\n",
            "['1' '2' '3' '4' '5' '6' '7' '8' '9' '0']\n"
          ]
        }
      ]
    },
    {
      "cell_type": "code",
      "source": [
        "uni = u\"Hello word!\"\n",
        "z = [x for x in uni]\n",
        "arrz = np.array(z)\n",
        "arrz.dtype"
      ],
      "metadata": {
        "colab": {
          "base_uri": "https://localhost:8080/"
        },
        "id": "M4EWVitwupoS",
        "outputId": "8ba5563a-5eac-4290-fd6d-f7d33d61d5cb"
      },
      "execution_count": 127,
      "outputs": [
        {
          "output_type": "execute_result",
          "data": {
            "text/plain": [
              "dtype('<U1')"
            ]
          },
          "metadata": {},
          "execution_count": 127
        }
      ]
    },
    {
      "cell_type": "code",
      "source": [
        "i = np.identity(10, dtype=int)\n",
        "i *= 50"
      ],
      "metadata": {
        "id": "0AlV-1EC-PRi"
      },
      "execution_count": 142,
      "outputs": []
    },
    {
      "cell_type": "code",
      "source": [
        "inx = [0,0]\n",
        "inx[0] = np.random.randint(0,10)\n",
        "inx[1] = np.random.randint(0,10)\n",
        "i[inx[0],inx[1]] += 1\n",
        "print(i)"
      ],
      "metadata": {
        "colab": {
          "base_uri": "https://localhost:8080/"
        },
        "id": "304B4kZd-rf7",
        "outputId": "62a95b51-fd55-4c31-e891-e8ca9db0367b"
      },
      "execution_count": 161,
      "outputs": [
        {
          "output_type": "stream",
          "name": "stdout",
          "text": [
            "[[51  1  0  0  0  0  0  0  0  0]\n",
            " [ 0 50  1  0  0  0  0  1  0  0]\n",
            " [ 0  0 51  0  0  1  0  2  1  0]\n",
            " [ 0  0  0 50  0  0  0  1  0  0]\n",
            " [ 0  0  1  0 50  1  0  0  0  0]\n",
            " [ 0  0  1  0  1 50  0  0  0  0]\n",
            " [ 0  0  0  0  0  1 51  0  0  0]\n",
            " [ 0  0  0  0  0  0  0 50  0  0]\n",
            " [ 1  0  0  0  0  1  0  0 50  0]\n",
            " [ 0  0  0  1  0  0  0  0  0 50]]\n"
          ]
        }
      ]
    }
  ]
}