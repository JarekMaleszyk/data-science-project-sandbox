{
  "cells": [
    {
      "cell_type": "markdown",
      "metadata": {
        "id": "view-in-github",
        "colab_type": "text"
      },
      "source": [
        "<a href=\"https://colab.research.google.com/github/JarekMaleszyk/data-science-project-sandbox/blob/main/Apache_Spark_DataFrames_Project_Exercise.ipynb\" target=\"_parent\"><img src=\"https://colab.research.google.com/assets/colab-badge.svg\" alt=\"Open In Colab\"/></a>"
      ]
    },
    {
      "cell_type": "markdown",
      "metadata": {
        "id": "ABBvLaaBBeCB"
      },
      "source": [
        "# Spark DataFrames Project Exercise"
      ]
    },
    {
      "cell_type": "code",
      "source": [
        "try:\n",
        "  import pyspark\n",
        "except:\n",
        "  !pip install pyspark\n",
        "  import pyspark\n",
        "finally:\n",
        "  from pyspark.sql import SparkSession"
      ],
      "metadata": {
        "id": "5MBexUEKBg4P"
      },
      "execution_count": 1,
      "outputs": []
    },
    {
      "cell_type": "code",
      "source": [
        "import os.path\n",
        "FILE_PATH = \"/content/walmart/walmart_stock.csv\"\n",
        "\n",
        "if not os.path.isfile(FILE_PATH):\n",
        "  !rm -rf /content/jsondata\n",
        "  !wget -P \"/content/walmart/\" \"https://raw.githubusercontent.com/JarekMaleszyk/data-science-project-sandbox/refs/heads/main/walmart_stock.csv\""
      ],
      "metadata": {
        "id": "I3Ts_PDxBoz8",
        "colab": {
          "base_uri": "https://localhost:8080/"
        },
        "outputId": "0456fe28-1d8a-4f62-c744-8292658ce48f"
      },
      "execution_count": 2,
      "outputs": [
        {
          "output_type": "stream",
          "name": "stdout",
          "text": [
            "--2024-10-29 08:49:15--  https://raw.githubusercontent.com/JarekMaleszyk/data-science-project-sandbox/refs/heads/main/walmart_stock.csv\n",
            "Resolving raw.githubusercontent.com (raw.githubusercontent.com)... 185.199.110.133, 185.199.109.133, 185.199.111.133, ...\n",
            "Connecting to raw.githubusercontent.com (raw.githubusercontent.com)|185.199.110.133|:443... connected.\n",
            "HTTP request sent, awaiting response... 200 OK\n",
            "Length: 90266 (88K) [text/plain]\n",
            "Saving to: ‘/content/walmart/walmart_stock.csv’\n",
            "\n",
            "walmart_stock.csv   100%[===================>]  88.15K  --.-KB/s    in 0.03s   \n",
            "\n",
            "2024-10-29 08:49:16 (2.96 MB/s) - ‘/content/walmart/walmart_stock.csv’ saved [90266/90266]\n",
            "\n"
          ]
        }
      ]
    },
    {
      "cell_type": "markdown",
      "metadata": {
        "id": "Vknxb6VsBeCC"
      },
      "source": [
        "Let's get some quick practice with your new Spark DataFrame skills, you will be asked some basic questions about some stock market data, in this case Walmart Stock from the years 2012-2017. This exercise will just ask a bunch of questions, unlike the future machine learning exercises, which will be a little looser and be in the form of \"Consulting Projects\", but more on that later!\n",
        "\n",
        "For now, just answer the questions and complete the tasks below."
      ]
    },
    {
      "cell_type": "markdown",
      "metadata": {
        "id": "oyCHCpPJBeCD"
      },
      "source": [
        "#### Use the walmart_stock.csv file to Answer and complete the  tasks below!"
      ]
    },
    {
      "cell_type": "markdown",
      "metadata": {
        "id": "u_xMhOtWBeCD"
      },
      "source": [
        "#### Start a simple Spark Session"
      ]
    },
    {
      "cell_type": "code",
      "execution_count": 3,
      "metadata": {
        "collapsed": true,
        "id": "pvZ8ox4JBeCD"
      },
      "outputs": [],
      "source": [
        "sparkSession = SparkSession.builder.appName('Spark DataFrames Project Exercise').getOrCreate()"
      ]
    },
    {
      "cell_type": "markdown",
      "metadata": {
        "id": "RdFQRJWxBeCE"
      },
      "source": [
        "#### Load the Walmart Stock CSV File, have Spark infer the data types."
      ]
    },
    {
      "cell_type": "code",
      "execution_count": 4,
      "metadata": {
        "collapsed": true,
        "id": "PyRuLqy8BeCE"
      },
      "outputs": [],
      "source": [
        "walmart_data_df = sparkSession.read.csv(FILE_PATH,\n",
        "                                        header=True,\n",
        "                                        inferSchema=True)"
      ]
    },
    {
      "cell_type": "markdown",
      "metadata": {
        "id": "rjxIjHe9BeCE"
      },
      "source": [
        "#### What are the column names?"
      ]
    },
    {
      "cell_type": "code",
      "execution_count": 5,
      "metadata": {
        "colab": {
          "base_uri": "https://localhost:8080/"
        },
        "id": "wQGD4YNtBeCE",
        "outputId": "3df5bf66-7b88-4c0f-91a0-d38b3c802378"
      },
      "outputs": [
        {
          "output_type": "execute_result",
          "data": {
            "text/plain": [
              "['Date', 'Open', 'High', 'Low', 'Close', 'Volume', 'Adj Close']"
            ]
          },
          "metadata": {},
          "execution_count": 5
        }
      ],
      "source": [
        "walmart_data_df.columns"
      ]
    },
    {
      "cell_type": "markdown",
      "metadata": {
        "id": "5_4Lb9QlBeCF"
      },
      "source": [
        "#### What does the Schema look like?"
      ]
    },
    {
      "cell_type": "code",
      "execution_count": 6,
      "metadata": {
        "colab": {
          "base_uri": "https://localhost:8080/"
        },
        "id": "-SYzRfWBBeCF",
        "outputId": "5422e248-d501-4cd8-cb34-31a05ccc5039"
      },
      "outputs": [
        {
          "output_type": "stream",
          "name": "stdout",
          "text": [
            "root\n",
            " |-- Date: date (nullable = true)\n",
            " |-- Open: double (nullable = true)\n",
            " |-- High: double (nullable = true)\n",
            " |-- Low: double (nullable = true)\n",
            " |-- Close: double (nullable = true)\n",
            " |-- Volume: integer (nullable = true)\n",
            " |-- Adj Close: double (nullable = true)\n",
            "\n"
          ]
        }
      ],
      "source": [
        "walmart_data_df.printSchema()"
      ]
    },
    {
      "cell_type": "markdown",
      "metadata": {
        "id": "1Vn6pdcABeCF"
      },
      "source": [
        "#### Print out the first 5 columns."
      ]
    },
    {
      "cell_type": "code",
      "execution_count": 13,
      "metadata": {
        "id": "DLgoGlzvBeCF",
        "outputId": "3523f11b-2241-423e-fef9-36757f2a885b",
        "colab": {
          "base_uri": "https://localhost:8080/"
        }
      },
      "outputs": [
        {
          "output_type": "stream",
          "name": "stdout",
          "text": [
            "Row(Date=datetime.date(2012, 1, 3), Open=59.970001, High=61.060001, Low=59.869999, Close=60.330002, Volume=12668800, Adj Close=52.619234999999996)\n",
            "Row(Date=datetime.date(2012, 1, 4), Open=60.209998999999996, High=60.349998, Low=59.470001, Close=59.709998999999996, Volume=9593300, Adj Close=52.078475)\n",
            "Row(Date=datetime.date(2012, 1, 5), Open=59.349998, High=59.619999, Low=58.369999, Close=59.419998, Volume=12768200, Adj Close=51.825539)\n",
            "Row(Date=datetime.date(2012, 1, 6), Open=59.419998, High=59.450001, Low=58.869999, Close=59.0, Volume=8069400, Adj Close=51.45922)\n",
            "Row(Date=datetime.date(2012, 1, 9), Open=59.029999, High=59.549999, Low=58.919998, Close=59.18, Volume=6679300, Adj Close=51.616215000000004)\n"
          ]
        }
      ],
      "source": [
        "#walmart_data_df.head(5)\n",
        "for row in walmart_data_df.head(5):\n",
        "  print(row)"
      ]
    },
    {
      "cell_type": "markdown",
      "metadata": {
        "id": "PXRkqfmJBeCF"
      },
      "source": [
        "#### Use describe() to learn about the DataFrame."
      ]
    },
    {
      "cell_type": "code",
      "execution_count": 8,
      "metadata": {
        "id": "HxcuRb0QBeCF",
        "outputId": "6187571f-b407-4391-83fb-cd7374847650",
        "colab": {
          "base_uri": "https://localhost:8080/"
        }
      },
      "outputs": [
        {
          "output_type": "stream",
          "name": "stdout",
          "text": [
            "+-------+------------------+-----------------+-----------------+-----------------+-----------------+-----------------+\n",
            "|summary|              Open|             High|              Low|            Close|           Volume|        Adj Close|\n",
            "+-------+------------------+-----------------+-----------------+-----------------+-----------------+-----------------+\n",
            "|  count|              1258|             1258|             1258|             1258|             1258|             1258|\n",
            "|   mean| 72.35785375357709|72.83938807631165| 71.9186009594594|72.38844998012726|8222093.481717011|67.23883848728146|\n",
            "| stddev|  6.76809024470826|6.768186808159218|6.744075756255496|6.756859163732991|  4519780.8431556|6.722609449996857|\n",
            "|    min|56.389998999999996|        57.060001|        56.299999|        56.419998|          2094900|        50.363689|\n",
            "|    max|         90.800003|        90.970001|            89.25|        90.470001|         80898100|84.91421600000001|\n",
            "+-------+------------------+-----------------+-----------------+-----------------+-----------------+-----------------+\n",
            "\n"
          ]
        }
      ],
      "source": [
        "walmart_data_df.describe().show()"
      ]
    },
    {
      "cell_type": "markdown",
      "metadata": {
        "id": "dr9Gyo5oBeCF"
      },
      "source": [
        "## Bonus Question!\n",
        "#### There are too many decimal places for mean and stddev in the describe() dataframe. Format the numbers to just show up to two decimal places. Pay careful attention to the datatypes that .describe() returns, we didn't cover how to do this exact formatting, but we covered something very similar. [Check this link for a hint](http://spark.apache.org/docs/latest/api/python/pyspark.sql.html#pyspark.sql.Column.cast)\n",
        "\n",
        "If you get stuck on this, don't worry, just view the solutions."
      ]
    },
    {
      "cell_type": "code",
      "source": [
        "from pyspark.sql.functions import col\n",
        "from pyspark.sql.types import (StructType, StructField, StringType, IntegerType,\n",
        "                               ArrayType, DoubleType, BooleanType, DecimalType)"
      ],
      "metadata": {
        "id": "ZA9JyVJ8as4F"
      },
      "execution_count": 9,
      "outputs": []
    },
    {
      "cell_type": "code",
      "execution_count": 10,
      "metadata": {
        "collapsed": true,
        "id": "-gUoRYgDBeCG"
      },
      "outputs": [],
      "source": [
        "walmart_data_df_describe = walmart_data_df.describe()"
      ]
    },
    {
      "cell_type": "code",
      "execution_count": 19,
      "metadata": {
        "id": "BaK89egLBeCG",
        "outputId": "7b5438c7-6d26-4ff6-ad01-a827c26390b0",
        "colab": {
          "base_uri": "https://localhost:8080/"
        }
      },
      "outputs": [
        {
          "output_type": "stream",
          "name": "stdout",
          "text": [
            "+-------+-------+-------+-------+-------+-----------+---------+\n",
            "|summary|   Open|   High|    Low|  Close|     Volume|Adj Close|\n",
            "+-------+-------+-------+-------+-------+-----------+---------+\n",
            "|  count|1258.00|1258.00|1258.00|1258.00|    1258.00|  1258.00|\n",
            "|   mean|  72.36|  72.84|  71.92|  72.39| 8222093.48|    67.24|\n",
            "| stddev|   6.77|   6.77|   6.74|   6.76| 4519780.84|     6.72|\n",
            "|    min|  56.39|  57.06|  56.30|  56.42| 2094900.00|    50.36|\n",
            "|    max|  90.80|  90.97|  89.25|  90.47|80898100.00|    84.91|\n",
            "+-------+-------+-------+-------+-------+-----------+---------+\n",
            "\n"
          ]
        }
      ],
      "source": [
        "walmart_data_df_describe.select(\n",
        "    col('summary').cast(StringType()),\n",
        "    col('Open').cast(DecimalType(18,2)), #castujemy na decimal\n",
        "    col('High').cast(DecimalType(18,2)),\n",
        "    col('Low').cast(DecimalType(18,2)),\n",
        "    col('Close').cast(DecimalType(18,2)),\n",
        "    col('Volume').cast(DecimalType(18,2)),\n",
        "    col('Adj Close').cast(DecimalType(18,2))\n",
        "    ).show()"
      ]
    },
    {
      "cell_type": "code",
      "source": [
        "from pyspark.sql.functions import format_number\n",
        "result = walmart_data_df.describe()\n",
        "\n",
        "result.select(\n",
        "    result['summary'],\n",
        "    format_number(result['Open'].cast('float'),2).alias('Open'), #to są dalej stringi\n",
        "    format_number(result['High'].cast('float'),2).alias('High'),\n",
        "    format_number(result['Low'].cast('float'),2).alias('Low'),\n",
        "    format_number(result['Close'].cast('float'),2).alias('Close'),\n",
        "    format_number(result['Volume'].cast('float'),2).alias('Volume'),\n",
        "    format_number(result['Adj Close'].cast('float'),2).alias('Adj Close'),\n",
        ").show()"
      ],
      "metadata": {
        "colab": {
          "base_uri": "https://localhost:8080/"
        },
        "id": "RcxJZjakjimy",
        "outputId": "09771fa3-4da8-466e-f2c8-c40802c33ffe"
      },
      "execution_count": 20,
      "outputs": [
        {
          "output_type": "stream",
          "name": "stdout",
          "text": [
            "+-------+--------+--------+--------+--------+-------------+---------+\n",
            "|summary|    Open|    High|     Low|   Close|       Volume|Adj Close|\n",
            "+-------+--------+--------+--------+--------+-------------+---------+\n",
            "|  count|1,258.00|1,258.00|1,258.00|1,258.00|     1,258.00| 1,258.00|\n",
            "|   mean|   72.36|   72.84|   71.92|   72.39| 8,222,093.50|    67.24|\n",
            "| stddev|    6.77|    6.77|    6.74|    6.76| 4,519,781.00|     6.72|\n",
            "|    min|   56.39|   57.06|   56.30|   56.42| 2,094,900.00|    50.36|\n",
            "|    max|   90.80|   90.97|   89.25|   90.47|80,898,096.00|    84.91|\n",
            "+-------+--------+--------+--------+--------+-------------+---------+\n",
            "\n"
          ]
        }
      ]
    },
    {
      "cell_type": "markdown",
      "metadata": {
        "id": "1wAgXdgIBeCG"
      },
      "source": [
        "#### Create a new dataframe with a column called HV Ratio that is the ratio of the High Price versus volume of stock traded for a day."
      ]
    },
    {
      "cell_type": "code",
      "execution_count": 23,
      "metadata": {
        "id": "k9RdE6o7BeCG",
        "colab": {
          "base_uri": "https://localhost:8080/"
        },
        "outputId": "6bfe18f3-991e-4164-d0f2-b76378c94f34"
      },
      "outputs": [
        {
          "output_type": "stream",
          "name": "stdout",
          "text": [
            "+----------------+\n",
            "|        HV Ratio|\n",
            "+----------------+\n",
            "|0.00000481971465|\n",
            "|0.00000629084861|\n",
            "|0.00000466941299|\n",
            "|0.00000736733846|\n",
            "|0.00000891560478|\n",
            "|0.00000864447744|\n",
            "|0.00000935182842|\n",
            "|0.00000829141562|\n",
            "|0.00000771221210|\n",
            "|0.00000707176482|\n",
            "|0.00001015495466|\n",
            "|0.00000657635415|\n",
            "|0.00000590145296|\n",
            "|0.00000854767946|\n",
            "|0.00000842070951|\n",
            "|0.00001041448342|\n",
            "|0.00000831607541|\n",
            "|0.00000972118381|\n",
            "|0.00000802943603|\n",
            "|0.00000630743226|\n",
            "+----------------+\n",
            "only showing top 20 rows\n",
            "\n"
          ]
        }
      ],
      "source": [
        "walmart_data_df2 = walmart_data_df.withColumn('HV Ratio', walmart_data_df['High']/walmart_data_df['Volume']) #withColumn doda kolumnę\n",
        "walmart_data_df2.select(col('HV Ratio').cast(DecimalType(18,14))).show()"
      ]
    },
    {
      "cell_type": "markdown",
      "metadata": {
        "id": "FuXqU5BhBeCG"
      },
      "source": [
        "#### What day had the Peak High in Price?"
      ]
    },
    {
      "cell_type": "code",
      "execution_count": 24,
      "metadata": {
        "id": "jrhJeC73BeCH",
        "colab": {
          "base_uri": "https://localhost:8080/"
        },
        "outputId": "b6d6c8a8-c479-4d33-d6a7-124ca189aad2"
      },
      "outputs": [
        {
          "output_type": "execute_result",
          "data": {
            "text/plain": [
              "datetime.date(2015, 1, 13)"
            ]
          },
          "metadata": {},
          "execution_count": 24
        }
      ],
      "source": [
        "walmart_data_df.orderBy(walmart_data_df['High'].desc()).head(1)[0][0] # jeden wynik, pierwszy wiersz, pierwsza kolumna"
      ]
    },
    {
      "cell_type": "markdown",
      "metadata": {
        "id": "b03qSchzBeCH"
      },
      "source": [
        "#### What is the mean of the Close column?"
      ]
    },
    {
      "cell_type": "code",
      "execution_count": 26,
      "metadata": {
        "id": "82ccGQ3EBeCH",
        "colab": {
          "base_uri": "https://localhost:8080/"
        },
        "outputId": "5b95418c-dbdd-4d43-b73d-26c6453cafbe"
      },
      "outputs": [
        {
          "output_type": "stream",
          "name": "stdout",
          "text": [
            "+-----------------+\n",
            "|       avg(Close)|\n",
            "+-----------------+\n",
            "|72.38844998012726|\n",
            "+-----------------+\n",
            "\n"
          ]
        }
      ],
      "source": [
        "from pyspark.sql.functions import mean\n",
        "walmart_data_df.select(mean('Close')).show()"
      ]
    },
    {
      "cell_type": "markdown",
      "metadata": {
        "id": "bLJkKBmiBeCH"
      },
      "source": [
        "#### What is the max and min of the Volume column?"
      ]
    },
    {
      "cell_type": "code",
      "execution_count": 28,
      "metadata": {
        "collapsed": true,
        "id": "aMEUiISwBeCH"
      },
      "outputs": [],
      "source": [
        "from pyspark.sql.functions import min, max"
      ]
    },
    {
      "cell_type": "code",
      "execution_count": 30,
      "metadata": {
        "id": "FVldRfm6BeCH",
        "colab": {
          "base_uri": "https://localhost:8080/"
        },
        "outputId": "4546a856-6587-4ba8-e554-7745cc12835c"
      },
      "outputs": [
        {
          "output_type": "stream",
          "name": "stdout",
          "text": [
            "+----------+----------+\n",
            "|Min_Volume|Max_Volume|\n",
            "+----------+----------+\n",
            "|   2094900|  80898100|\n",
            "+----------+----------+\n",
            "\n"
          ]
        }
      ],
      "source": [
        "walmart_data_df.select(min('Volume').alias('Min_Volume'), max('Volume').alias('Max_Volume')).show()"
      ]
    },
    {
      "cell_type": "markdown",
      "metadata": {
        "id": "vXQOcWKaBeCH"
      },
      "source": [
        "#### How many days was the Close lower than 60 dollars?"
      ]
    },
    {
      "cell_type": "code",
      "execution_count": 31,
      "metadata": {
        "id": "aUTY8qHSBeCH",
        "colab": {
          "base_uri": "https://localhost:8080/"
        },
        "outputId": "0d6e47fa-a491-4c6e-ad69-717dd4a3e274"
      },
      "outputs": [
        {
          "output_type": "execute_result",
          "data": {
            "text/plain": [
              "81"
            ]
          },
          "metadata": {},
          "execution_count": 31
        }
      ],
      "source": [
        "walmart_data_df.filter('Close < 60').count()"
      ]
    },
    {
      "cell_type": "code",
      "source": [
        "walmart_data_df.filter(walmart_data_df['Close'] < 60).count()"
      ],
      "metadata": {
        "colab": {
          "base_uri": "https://localhost:8080/"
        },
        "id": "nP_ez-N-mja4",
        "outputId": "4fdaa041-f81a-4df5-c804-7316bd6957b7"
      },
      "execution_count": 32,
      "outputs": [
        {
          "output_type": "execute_result",
          "data": {
            "text/plain": [
              "81"
            ]
          },
          "metadata": {},
          "execution_count": 32
        }
      ]
    },
    {
      "cell_type": "code",
      "source": [
        "from pyspark.sql.functions import count\n",
        "result = walmart_data_df.filter(walmart_data_df['Close'] < 60)\n",
        "result.select(count('Close').alias('Cnt_Close')).show()"
      ],
      "metadata": {
        "colab": {
          "base_uri": "https://localhost:8080/"
        },
        "id": "1Or3PK8UmrUY",
        "outputId": "00cf5dd7-9422-4e17-f2ea-adc74ddb67c6"
      },
      "execution_count": 34,
      "outputs": [
        {
          "output_type": "stream",
          "name": "stdout",
          "text": [
            "+---------+\n",
            "|Cnt_Close|\n",
            "+---------+\n",
            "|       81|\n",
            "+---------+\n",
            "\n"
          ]
        }
      ]
    },
    {
      "cell_type": "markdown",
      "metadata": {
        "id": "zZgzqr1NBeCI"
      },
      "source": [
        "#### What percentage of the time was the High greater than 80 dollars ?\n",
        "#### In other words, (Number of Days High>80)/(Total Days in the dataset)"
      ]
    },
    {
      "cell_type": "code",
      "execution_count": 36,
      "metadata": {
        "id": "1gYp07UABeCI",
        "colab": {
          "base_uri": "https://localhost:8080/"
        },
        "outputId": "b4304f3a-1497-4108-c502-3f58c833239b"
      },
      "outputs": [
        {
          "output_type": "execute_result",
          "data": {
            "text/plain": [
              "9.141494435612083"
            ]
          },
          "metadata": {},
          "execution_count": 36
        }
      ],
      "source": [
        "(walmart_data_df.filter('High > 80').count() / walmart_data_df.count()) * 100"
      ]
    },
    {
      "cell_type": "markdown",
      "metadata": {
        "id": "_vUdILORBeCI"
      },
      "source": [
        "#### What is the Pearson correlation between High and Volume?\n",
        "#### [Hint](http://spark.apache.org/docs/latest/api/python/pyspark.sql.html#pyspark.sql.DataFrameStatFunctions.corr)"
      ]
    },
    {
      "cell_type": "code",
      "execution_count": 11,
      "metadata": {
        "id": "CIHtjqscBeCI"
      },
      "outputs": [],
      "source": []
    },
    {
      "cell_type": "markdown",
      "metadata": {
        "id": "QIbAXiwsBeCI"
      },
      "source": [
        "#### What is the max High per year?"
      ]
    },
    {
      "cell_type": "code",
      "execution_count": 11,
      "metadata": {
        "id": "7L73rX5TBeCI"
      },
      "outputs": [],
      "source": []
    },
    {
      "cell_type": "markdown",
      "metadata": {
        "id": "d2SS8ef_BeCI"
      },
      "source": [
        "#### What is the average Close for each Calendar Month?\n",
        "#### In other words, across all the years, what is the average Close price for Jan,Feb, Mar, etc... Your result will have a value for each of these months."
      ]
    },
    {
      "cell_type": "code",
      "execution_count": 11,
      "metadata": {
        "id": "blsIB0b7BeCI"
      },
      "outputs": [],
      "source": []
    },
    {
      "cell_type": "markdown",
      "metadata": {
        "id": "aCsjP2y5BeCI"
      },
      "source": [
        "# Great Job!"
      ]
    }
  ],
  "metadata": {
    "anaconda-cloud": {},
    "kernelspec": {
      "display_name": "Python [conda root]",
      "language": "python",
      "name": "conda-root-py"
    },
    "language_info": {
      "codemirror_mode": {
        "name": "ipython",
        "version": 3
      },
      "file_extension": ".py",
      "mimetype": "text/x-python",
      "name": "python",
      "nbconvert_exporter": "python",
      "pygments_lexer": "ipython3",
      "version": "3.5.3"
    },
    "colab": {
      "provenance": [],
      "include_colab_link": true
    }
  },
  "nbformat": 4,
  "nbformat_minor": 0
}